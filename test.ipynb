{
 "cells": [
  {
   "cell_type": "code",
   "execution_count": 9,
   "metadata": {},
   "outputs": [
    {
     "name": "stdout",
     "output_type": "stream",
     "text": [
      "The autoreload extension is already loaded. To reload it, use:\n",
      "  %reload_ext autoreload\n"
     ]
    }
   ],
   "source": [
    "%load_ext autoreload\n",
    "%autoreload 2\n",
    "from structures import LamellaState, Lamella, MovementMode, MovementType, AutoLamellaStage, Experiment\n",
    "from copy import deepcopy\n",
    "\n",
    "import fibsem\n",
    "from fibsem import acquire\n",
    "from fibsem.structures import BeamType, Point,FibsemRectangle\n",
    "from fibsem import utils\n",
    "\n"
   ]
  },
  {
   "cell_type": "code",
   "execution_count": 10,
   "metadata": {},
   "outputs": [
    {
     "name": "stdout",
     "output_type": "stream",
     "text": [
      "2023-02-09 16:49:42,422 — root — INFO — setup_session:170 — Finished setup for session: demo_2023-02-09-04-49-42PM\n"
     ]
    }
   ],
   "source": [
    "microscope, settings = utils.setup_session()\n",
    "settings.image.beam_type = BeamType.ION\n",
    "ref_image = acquire.new_image(microscope, settings.image)"
   ]
  },
  {
   "cell_type": "code",
   "execution_count": 11,
   "metadata": {},
   "outputs": [
    {
     "ename": "AttributeError",
     "evalue": "'NoneType' object has no attribute '__to_dict__'",
     "output_type": "error",
     "traceback": [
      "\u001b[1;31m---------------------------------------------------------------------------\u001b[0m",
      "\u001b[1;31mAttributeError\u001b[0m                            Traceback (most recent call last)",
      "Cell \u001b[1;32mIn[11], line 28\u001b[0m\n\u001b[0;32m     14\u001b[0m index \u001b[39m=\u001b[39m \u001b[39m0\u001b[39m\n\u001b[0;32m     15\u001b[0m lamella \u001b[39m=\u001b[39m Lamella(\n\u001b[0;32m     16\u001b[0m     state \u001b[39m=\u001b[39m initial_state,\n\u001b[0;32m     17\u001b[0m     reference_image \u001b[39m=\u001b[39m ref_image, \u001b[39m# Should this include patterns?\u001b[39;00m\n\u001b[1;32m   (...)\u001b[0m\n\u001b[0;32m     24\u001b[0m     history\u001b[39m=\u001b[39m AutoLamellaStage\u001b[39m.\u001b[39mSetup\n\u001b[0;32m     25\u001b[0m )\n\u001b[1;32m---> 28\u001b[0m experiment\u001b[39m.\u001b[39;49msave()\n",
      "File \u001b[1;32mc:\\Users\\lnae0002\\Desktop\\autolamella\\structures.py:126\u001b[0m, in \u001b[0;36mExperiment.save\u001b[1;34m(self)\u001b[0m\n\u001b[0;32m    123\u001b[0m \u001b[39m\"\"\"Save the sample data to yaml file\"\"\"\u001b[39;00m\n\u001b[0;32m    125\u001b[0m \u001b[39mwith\u001b[39;00m \u001b[39mopen\u001b[39m(os\u001b[39m.\u001b[39mpath\u001b[39m.\u001b[39mjoin(\u001b[39mself\u001b[39m\u001b[39m.\u001b[39mpath, \u001b[39mf\u001b[39m\u001b[39m\"\u001b[39m\u001b[39m{\u001b[39;00m\u001b[39mself\u001b[39m\u001b[39m.\u001b[39mname\u001b[39m}\u001b[39;00m\u001b[39m.yaml\u001b[39m\u001b[39m\"\u001b[39m), \u001b[39m\"\u001b[39m\u001b[39mw\u001b[39m\u001b[39m\"\u001b[39m) \u001b[39mas\u001b[39;00m f:\n\u001b[1;32m--> 126\u001b[0m     yaml\u001b[39m.\u001b[39msafe_dump(\u001b[39mself\u001b[39;49m\u001b[39m.\u001b[39;49m__to_dict__(), f, indent\u001b[39m=\u001b[39m\u001b[39m4\u001b[39m)\n\u001b[0;32m    128\u001b[0m \u001b[39mfor\u001b[39;00m lamella \u001b[39min\u001b[39;00m \u001b[39mself\u001b[39m\u001b[39m.\u001b[39mpositions:\n\u001b[0;32m    129\u001b[0m     path_image \u001b[39m=\u001b[39m os\u001b[39m.\u001b[39mpath\u001b[39m.\u001b[39mjoin(\u001b[39mself\u001b[39m\u001b[39m.\u001b[39mpath, \u001b[39mstr\u001b[39m(lamella\u001b[39m.\u001b[39mlamella_number)\u001b[39m.\u001b[39mrjust(\u001b[39m6\u001b[39m, \u001b[39m'\u001b[39m\u001b[39m0\u001b[39m\u001b[39m'\u001b[39m), \u001b[39mf\u001b[39m\u001b[39m\"\u001b[39m\u001b[39mempty_ref\u001b[39m\u001b[39m\"\u001b[39m)\n",
      "File \u001b[1;32mc:\\Users\\lnae0002\\Desktop\\autolamella\\structures.py:117\u001b[0m, in \u001b[0;36mExperiment.__to_dict__\u001b[1;34m(self)\u001b[0m\n\u001b[0;32m    111\u001b[0m \u001b[39mdef\u001b[39;00m \u001b[39m__to_dict__\u001b[39m(\u001b[39mself\u001b[39m) \u001b[39m-\u001b[39m\u001b[39m>\u001b[39m \u001b[39mdict\u001b[39m:\n\u001b[0;32m    113\u001b[0m     state_dict \u001b[39m=\u001b[39m {\n\u001b[0;32m    114\u001b[0m         \u001b[39m\"\u001b[39m\u001b[39mname\u001b[39m\u001b[39m\"\u001b[39m: \u001b[39mself\u001b[39m\u001b[39m.\u001b[39mname,\n\u001b[0;32m    115\u001b[0m         \u001b[39m\"\u001b[39m\u001b[39mpath\u001b[39m\u001b[39m\"\u001b[39m: \u001b[39mself\u001b[39m\u001b[39m.\u001b[39mpath,\n\u001b[0;32m    116\u001b[0m         \u001b[39m\"\u001b[39m\u001b[39mlog_path\u001b[39m\u001b[39m\"\u001b[39m: \u001b[39mself\u001b[39m\u001b[39m.\u001b[39mlog_path,\n\u001b[1;32m--> 117\u001b[0m         \u001b[39m\"\u001b[39m\u001b[39mpositions\u001b[39m\u001b[39m\"\u001b[39m: [lamella\u001b[39m.\u001b[39m__to_dict__() \u001b[39mfor\u001b[39;00m lamella \u001b[39min\u001b[39;00m \u001b[39mself\u001b[39m\u001b[39m.\u001b[39mpositions],\n\u001b[0;32m    118\u001b[0m     }\n\u001b[0;32m    120\u001b[0m     \u001b[39mreturn\u001b[39;00m state_dict\n",
      "File \u001b[1;32mc:\\Users\\lnae0002\\Desktop\\autolamella\\structures.py:117\u001b[0m, in \u001b[0;36m<listcomp>\u001b[1;34m(.0)\u001b[0m\n\u001b[0;32m    111\u001b[0m \u001b[39mdef\u001b[39;00m \u001b[39m__to_dict__\u001b[39m(\u001b[39mself\u001b[39m) \u001b[39m-\u001b[39m\u001b[39m>\u001b[39m \u001b[39mdict\u001b[39m:\n\u001b[0;32m    113\u001b[0m     state_dict \u001b[39m=\u001b[39m {\n\u001b[0;32m    114\u001b[0m         \u001b[39m\"\u001b[39m\u001b[39mname\u001b[39m\u001b[39m\"\u001b[39m: \u001b[39mself\u001b[39m\u001b[39m.\u001b[39mname,\n\u001b[0;32m    115\u001b[0m         \u001b[39m\"\u001b[39m\u001b[39mpath\u001b[39m\u001b[39m\"\u001b[39m: \u001b[39mself\u001b[39m\u001b[39m.\u001b[39mpath,\n\u001b[0;32m    116\u001b[0m         \u001b[39m\"\u001b[39m\u001b[39mlog_path\u001b[39m\u001b[39m\"\u001b[39m: \u001b[39mself\u001b[39m\u001b[39m.\u001b[39mlog_path,\n\u001b[1;32m--> 117\u001b[0m         \u001b[39m\"\u001b[39m\u001b[39mpositions\u001b[39m\u001b[39m\"\u001b[39m: [lamella\u001b[39m.\u001b[39;49m__to_dict__() \u001b[39mfor\u001b[39;00m lamella \u001b[39min\u001b[39;00m \u001b[39mself\u001b[39m\u001b[39m.\u001b[39mpositions],\n\u001b[0;32m    118\u001b[0m     }\n\u001b[0;32m    120\u001b[0m     \u001b[39mreturn\u001b[39;00m state_dict\n",
      "File \u001b[1;32mc:\\Users\\lnae0002\\Desktop\\autolamella\\structures.py:70\u001b[0m, in \u001b[0;36mLamella.__to_dict__\u001b[1;34m(self)\u001b[0m\n\u001b[0;32m     68\u001b[0m \u001b[39mdef\u001b[39;00m \u001b[39m__to_dict__\u001b[39m(\u001b[39mself\u001b[39m):\n\u001b[0;32m     69\u001b[0m     \u001b[39mreturn\u001b[39;00m {\n\u001b[1;32m---> 70\u001b[0m         \u001b[39m\"\u001b[39m\u001b[39mstate\u001b[39m\u001b[39m\"\u001b[39m: \u001b[39mself\u001b[39;49m\u001b[39m.\u001b[39;49mstate\u001b[39m.\u001b[39;49m__to_dict__() \u001b[39mif\u001b[39;00m \u001b[39mself\u001b[39m\u001b[39m.\u001b[39mstate \u001b[39mis\u001b[39;00m \u001b[39mnot\u001b[39;00m \u001b[39mNone\u001b[39;00m \u001b[39melse\u001b[39;00m \u001b[39m\"\u001b[39m\u001b[39mNot defined\u001b[39m\u001b[39m\"\u001b[39m,\n\u001b[0;32m     71\u001b[0m         \u001b[39m\"\u001b[39m\u001b[39mreference_image\u001b[39m\u001b[39m\"\u001b[39m: \u001b[39mself\u001b[39m\u001b[39m.\u001b[39mreference_image\u001b[39m.\u001b[39mmetadata\u001b[39m.\u001b[39mimage_settings\u001b[39m.\u001b[39msave_path,\n\u001b[0;32m     72\u001b[0m         \u001b[39m\"\u001b[39m\u001b[39mpath\u001b[39m\u001b[39m\"\u001b[39m: \u001b[39mself\u001b[39m\u001b[39m.\u001b[39mpath \u001b[39mif\u001b[39;00m \u001b[39mself\u001b[39m\u001b[39m.\u001b[39mpath \u001b[39mis\u001b[39;00m \u001b[39mnot\u001b[39;00m \u001b[39mNone\u001b[39;00m \u001b[39melse\u001b[39;00m \u001b[39m\"\u001b[39m\u001b[39mNot defined\u001b[39m\u001b[39m\"\u001b[39m,\n\u001b[0;32m     73\u001b[0m         \u001b[39m\"\u001b[39m\u001b[39mfiducial_centre\u001b[39m\u001b[39m\"\u001b[39m: \u001b[39mself\u001b[39m\u001b[39m.\u001b[39mfiducial_centre\u001b[39m.\u001b[39m__to_dict__() \u001b[39mif\u001b[39;00m \u001b[39mself\u001b[39m\u001b[39m.\u001b[39mfiducial_centre \u001b[39mis\u001b[39;00m \u001b[39mnot\u001b[39;00m \u001b[39mNone\u001b[39;00m \u001b[39melse\u001b[39;00m \u001b[39m\"\u001b[39m\u001b[39mNot defined\u001b[39m\u001b[39m\"\u001b[39m,\n\u001b[0;32m     74\u001b[0m         \u001b[39m\"\u001b[39m\u001b[39mfiducial_area\u001b[39m\u001b[39m\"\u001b[39m: \u001b[39mself\u001b[39m\u001b[39m.\u001b[39mfiducial_area\u001b[39m.\u001b[39m__to_dict__() \u001b[39mif\u001b[39;00m \u001b[39mself\u001b[39m\u001b[39m.\u001b[39mfiducial_area \u001b[39mis\u001b[39;00m \u001b[39mnot\u001b[39;00m \u001b[39mNone\u001b[39;00m \u001b[39melse\u001b[39;00m \u001b[39m\"\u001b[39m\u001b[39mNot defined\u001b[39m\u001b[39m\"\u001b[39m,\n\u001b[0;32m     75\u001b[0m         \u001b[39m\"\u001b[39m\u001b[39mlamella_centre\u001b[39m\u001b[39m\"\u001b[39m: \u001b[39mself\u001b[39m\u001b[39m.\u001b[39mlamella_centre\u001b[39m.\u001b[39m__to_dict__() \u001b[39mif\u001b[39;00m \u001b[39mself\u001b[39m\u001b[39m.\u001b[39mlamella_centre \u001b[39mis\u001b[39;00m \u001b[39mnot\u001b[39;00m \u001b[39mNone\u001b[39;00m \u001b[39melse\u001b[39;00m \u001b[39m\"\u001b[39m\u001b[39mNot defined\u001b[39m\u001b[39m\"\u001b[39m,\n\u001b[0;32m     76\u001b[0m         \u001b[39m\"\u001b[39m\u001b[39mlamella_area\u001b[39m\u001b[39m\"\u001b[39m: \u001b[39mself\u001b[39m\u001b[39m.\u001b[39mlamella_area\u001b[39m.\u001b[39m__to_dict__() \u001b[39mif\u001b[39;00m \u001b[39mself\u001b[39m\u001b[39m.\u001b[39mlamella_area \u001b[39mis\u001b[39;00m \u001b[39mnot\u001b[39;00m \u001b[39mNone\u001b[39;00m \u001b[39melse\u001b[39;00m \u001b[39m\"\u001b[39m\u001b[39mNot defined\u001b[39m\u001b[39m\"\u001b[39m,\n\u001b[0;32m     77\u001b[0m         \u001b[39m\"\u001b[39m\u001b[39mlamella_number\u001b[39m\u001b[39m\"\u001b[39m: \u001b[39mself\u001b[39m\u001b[39m.\u001b[39mlamella_number \u001b[39mif\u001b[39;00m \u001b[39mself\u001b[39m\u001b[39m.\u001b[39mlamella_number \u001b[39mis\u001b[39;00m \u001b[39mnot\u001b[39;00m \u001b[39mNone\u001b[39;00m \u001b[39melse\u001b[39;00m \u001b[39m\"\u001b[39m\u001b[39mNot defined\u001b[39m\u001b[39m\"\u001b[39m,\n\u001b[0;32m     78\u001b[0m         \u001b[39m\"\u001b[39m\u001b[39mhistory\u001b[39m\u001b[39m\"\u001b[39m: \u001b[39mself\u001b[39m\u001b[39m.\u001b[39mhistory\u001b[39m.\u001b[39mname \u001b[39mif\u001b[39;00m \u001b[39mself\u001b[39m\u001b[39m.\u001b[39mhistory \u001b[39mis\u001b[39;00m \u001b[39mnot\u001b[39;00m \u001b[39mNone\u001b[39;00m \u001b[39melse\u001b[39;00m \u001b[39m\"\u001b[39m\u001b[39mNot defined\u001b[39m\u001b[39m\"\u001b[39m,\n\u001b[0;32m     79\u001b[0m     }\n",
      "File \u001b[1;32mc:\\Users\\lnae0002\\Desktop\\autolamella\\structures.py:38\u001b[0m, in \u001b[0;36mLamellaState.__to_dict__\u001b[1;34m(self)\u001b[0m\n\u001b[0;32m     36\u001b[0m \u001b[39mdef\u001b[39;00m \u001b[39m__to_dict__\u001b[39m(\u001b[39mself\u001b[39m):\n\u001b[0;32m     37\u001b[0m     \u001b[39mreturn\u001b[39;00m {\n\u001b[1;32m---> 38\u001b[0m         \u001b[39m\"\u001b[39m\u001b[39mmicroscope_state\u001b[39m\u001b[39m\"\u001b[39m: \u001b[39mself\u001b[39;49m\u001b[39m.\u001b[39;49mmicroscope_state\u001b[39m.\u001b[39;49m__to_dict__(),\n\u001b[0;32m     39\u001b[0m         \u001b[39m\"\u001b[39m\u001b[39mstage\u001b[39m\u001b[39m\"\u001b[39m: \u001b[39mself\u001b[39m\u001b[39m.\u001b[39mstage\u001b[39m.\u001b[39mname,\n\u001b[0;32m     40\u001b[0m         \u001b[39m\"\u001b[39m\u001b[39mstart_timestamp\u001b[39m\u001b[39m\"\u001b[39m: \u001b[39mself\u001b[39m\u001b[39m.\u001b[39mstart_timestamp,\n\u001b[0;32m     41\u001b[0m         \u001b[39m\"\u001b[39m\u001b[39mend_timestamp\u001b[39m\u001b[39m\"\u001b[39m: \u001b[39mself\u001b[39m\u001b[39m.\u001b[39mend_timestamp,\n\u001b[0;32m     42\u001b[0m     }\n",
      "\u001b[1;31mAttributeError\u001b[0m: 'NoneType' object has no attribute '__to_dict__'"
     ]
    }
   ],
   "source": [
    "index = 0\n",
    "experiment= Experiment()\n",
    "lamella = Lamella(\n",
    "    lamella_number=index +1,\n",
    "    reference_image=ref_image,\n",
    ")\n",
    "\n",
    "\n",
    "pixelsize =settings.image.hfw / settings.image.resolution[0]\n",
    "initial_state = LamellaState(\n",
    "    microscope_state=microscope.get_current_microscope_state(),\n",
    "    stage=AutoLamellaStage.Setup\n",
    ")\n",
    "index = 0\n",
    "lamella = Lamella(\n",
    "    state = initial_state,\n",
    "    reference_image = ref_image, # Should this include patterns?\n",
    "    path = experiment.path, \n",
    "    fiducial_centre = Point((settings.image.resolution[0]/4)*pixelsize, 0),\n",
    "    fiducial_area = FibsemRectangle(0,0,0,0), # TODO\n",
    "    lamella_centre = Point(0,0), # Currently always at centre of image\n",
    "    lamella_area = FibsemRectangle(0,0,0,0), # TODO \n",
    "    lamella_number=index +1,\n",
    "    history= AutoLamellaStage.Setup\n",
    ")\n",
    "\n",
    "experiment.positions.append(deepcopy(lamella))\n",
    "experiment.save()"
   ]
  },
  {
   "cell_type": "code",
   "execution_count": 21,
   "metadata": {},
   "outputs": [
    {
     "name": "stdout",
     "output_type": "stream",
     "text": [
      "None\n",
      "Experiment: \n",
      "        Path: C:\\Users\\lnae0002\\Desktop\\fibsem\\log\\default\n",
      "        Positions: 1\n",
      "        \n"
     ]
    }
   ],
   "source": [
    "print(lamella.path)\n",
    "print(experiment)"
   ]
  },
  {
   "cell_type": "code",
   "execution_count": 22,
   "metadata": {},
   "outputs": [
    {
     "ename": "TypeError",
     "evalue": "string indices must be integers",
     "output_type": "error",
     "traceback": [
      "\u001b[1;31m---------------------------------------------------------------------------\u001b[0m",
      "\u001b[1;31mTypeError\u001b[0m                                 Traceback (most recent call last)",
      "Cell \u001b[1;32mIn[22], line 1\u001b[0m\n\u001b[1;32m----> 1\u001b[0m experiment \u001b[39m=\u001b[39m Experiment\u001b[39m.\u001b[39;49mload(\u001b[39mr\u001b[39;49m\u001b[39m\"\u001b[39;49m\u001b[39mC:\u001b[39;49m\u001b[39m\\\u001b[39;49m\u001b[39mUsers\u001b[39;49m\u001b[39m\\\u001b[39;49m\u001b[39mlnae0002\u001b[39;49m\u001b[39m\\\u001b[39;49m\u001b[39mDesktop\u001b[39;49m\u001b[39m\\\u001b[39;49m\u001b[39mfibsem\u001b[39;49m\u001b[39m\\\u001b[39;49m\u001b[39mlog\u001b[39;49m\u001b[39m\\\u001b[39;49m\u001b[39mdefault\u001b[39;49m\u001b[39m\\\u001b[39;49m\u001b[39mdefault.yaml\u001b[39;49m\u001b[39m\"\u001b[39;49m)\n\u001b[0;32m      2\u001b[0m \u001b[39mprint\u001b[39m(experiment\u001b[39m.\u001b[39mpositions)\n",
      "File \u001b[1;32mc:\\Users\\lnae0002\\Desktop\\autolamella\\structures.py:189\u001b[0m, in \u001b[0;36mExperiment.load\u001b[1;34m(fname)\u001b[0m\n\u001b[0;32m    187\u001b[0m \u001b[39m# load lamella from dict\u001b[39;00m\n\u001b[0;32m    188\u001b[0m \u001b[39mfor\u001b[39;00m lamella_dict \u001b[39min\u001b[39;00m sample_dict[\u001b[39m\"\u001b[39m\u001b[39mpositions\u001b[39m\u001b[39m\"\u001b[39m]:\n\u001b[1;32m--> 189\u001b[0m     lamella \u001b[39m=\u001b[39m Lamella\u001b[39m.\u001b[39;49m__from_dict__(data\u001b[39m=\u001b[39;49mlamella_dict)\n\u001b[0;32m    190\u001b[0m     experiment\u001b[39m.\u001b[39mpositions\u001b[39m.\u001b[39mappend(lamella)\n\u001b[0;32m    192\u001b[0m \u001b[39mreturn\u001b[39;00m experiment\n",
      "File \u001b[1;32mc:\\Users\\lnae0002\\Desktop\\autolamella\\structures.py:83\u001b[0m, in \u001b[0;36mLamella.__from_dict__\u001b[1;34m(cls, data)\u001b[0m\n\u001b[0;32m     81\u001b[0m \u001b[39m@classmethod\u001b[39m\n\u001b[0;32m     82\u001b[0m \u001b[39mdef\u001b[39;00m \u001b[39m__from_dict__\u001b[39m(\u001b[39mcls\u001b[39m, data):\n\u001b[1;32m---> 83\u001b[0m     state \u001b[39m=\u001b[39m LamellaState()\u001b[39m.\u001b[39;49m__from_dict__(data[\u001b[39m\"\u001b[39;49m\u001b[39mstate\u001b[39;49m\u001b[39m\"\u001b[39;49m])\n\u001b[0;32m     84\u001b[0m     fiducial_centre \u001b[39m=\u001b[39m Point\u001b[39m.\u001b[39m__from_dict__(data[\u001b[39m\"\u001b[39m\u001b[39mfiducial_centre\u001b[39m\u001b[39m\"\u001b[39m])\n\u001b[0;32m     85\u001b[0m     fiducial_area \u001b[39m=\u001b[39m FibsemRectangle\u001b[39m.\u001b[39m__from_dict__(data[\u001b[39m\"\u001b[39m\u001b[39mfiducial_area\u001b[39m\u001b[39m\"\u001b[39m])\n",
      "File \u001b[1;32mc:\\Users\\lnae0002\\Desktop\\autolamella\\structures.py:46\u001b[0m, in \u001b[0;36mLamellaState.__from_dict__\u001b[1;34m(cls, data)\u001b[0m\n\u001b[0;32m     44\u001b[0m \u001b[39m@classmethod\u001b[39m\n\u001b[0;32m     45\u001b[0m \u001b[39mdef\u001b[39;00m \u001b[39m__from_dict__\u001b[39m(\u001b[39mcls\u001b[39m, data):\n\u001b[1;32m---> 46\u001b[0m     state \u001b[39m=\u001b[39m MicroscopeState\u001b[39m.\u001b[39m__from_dict__(data[\u001b[39m\"\u001b[39;49m\u001b[39mmicroscope_state\u001b[39;49m\u001b[39m\"\u001b[39;49m])\n\u001b[0;32m     47\u001b[0m     \u001b[39mreturn\u001b[39;00m \u001b[39mcls\u001b[39m(\n\u001b[0;32m     48\u001b[0m         microscope_state\u001b[39m=\u001b[39mstate,\n\u001b[0;32m     49\u001b[0m         stage\u001b[39m=\u001b[39mdata[\u001b[39m\"\u001b[39m\u001b[39mstage\u001b[39m\u001b[39m\"\u001b[39m],\n\u001b[0;32m     50\u001b[0m         start_timestamp\u001b[39m=\u001b[39mdata[\u001b[39m\"\u001b[39m\u001b[39mstart_timestamp\u001b[39m\u001b[39m\"\u001b[39m],\n\u001b[0;32m     51\u001b[0m         end_timestamp\u001b[39m=\u001b[39mdata[\u001b[39m\"\u001b[39m\u001b[39mend_timestamp\u001b[39m\u001b[39m\"\u001b[39m]\n\u001b[0;32m     52\u001b[0m     )\n",
      "\u001b[1;31mTypeError\u001b[0m: string indices must be integers"
     ]
    }
   ],
   "source": [
    "experiment = Experiment.load(r\"C:\\Users\\lnae0002\\Desktop\\fibsem\\log\\default\\default.yaml\")\n",
    "print(experiment.positions)"
   ]
  }
 ],
 "metadata": {
  "kernelspec": {
   "display_name": "fibsem",
   "language": "python",
   "name": "python3"
  },
  "language_info": {
   "codemirror_mode": {
    "name": "ipython",
    "version": 3
   },
   "file_extension": ".py",
   "mimetype": "text/x-python",
   "name": "python",
   "nbconvert_exporter": "python",
   "pygments_lexer": "ipython3",
   "version": "3.9.15"
  },
  "orig_nbformat": 4,
  "vscode": {
   "interpreter": {
    "hash": "1d9ac1935ec374efeb6f5bc205a1d2bf9478f4a0776248bf6d4eb389f65ee0fd"
   }
  }
 },
 "nbformat": 4,
 "nbformat_minor": 2
}
