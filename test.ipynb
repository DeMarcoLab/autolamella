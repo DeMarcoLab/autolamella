{
 "cells": [
  {
   "cell_type": "code",
   "execution_count": 10,
   "metadata": {},
   "outputs": [
    {
     "name": "stdout",
     "output_type": "stream",
     "text": [
      "The autoreload extension is already loaded. To reload it, use:\n",
      "  %reload_ext autoreload\n"
     ]
    }
   ],
   "source": [
    "%load_ext autoreload\n",
    "%autoreload 2\n",
    "from structures import LamellaState, Lamella, MovementMode, MovementType, AutoLamellaStage, Experiment\n",
    "from copy import deepcopy\n",
    "\n",
    "import fibsem\n",
    "from fibsem import acquire\n",
    "from fibsem.structures import BeamType, Point,FibsemRectangle\n",
    "from fibsem import utils\n",
    "import numpy as np\n",
    "import os\n"
   ]
  },
  {
   "cell_type": "code",
   "execution_count": 11,
   "metadata": {},
   "outputs": [
    {
     "name": "stdout",
     "output_type": "stream",
     "text": [
      "2023-02-10 12:13:34,622 — root — INFO — setup_session:170 — Finished setup for session: autolamella_demo_2023-02-10-12-13-34PM\n"
     ]
    }
   ],
   "source": [
    "PROTOCOL_PATH = r\"C:\\Users\\lnae0002\\Desktop\\autolamella\\protocol_autolamella.yaml\"\n",
    "\n",
    "microscope, settings = utils.setup_session(protocol_path = PROTOCOL_PATH)\n",
    "settings.image.beam_type = BeamType.ION\n",
    "ref_image = acquire.new_image(microscope, settings.image)"
   ]
  },
  {
   "cell_type": "code",
   "execution_count": 12,
   "metadata": {},
   "outputs": [],
   "source": [
    "index = 0\n",
    "experiment= Experiment()\n",
    "lamella = Lamella(\n",
    "    lamella_number=index +1,\n",
    "    reference_image=ref_image,\n",
    ")\n",
    "\n",
    "image_settings = settings.image \n",
    "pixelsize = image_settings.hfw / image_settings.resolution[0]\n",
    "fiducial_x = (image_settings.resolution[0]/4)*pixelsize\n",
    "initial_state = LamellaState(\n",
    "    microscope_state=microscope.get_current_microscope_state(),\n",
    "    stage=AutoLamellaStage.Setup\n",
    ")\n",
    "\n",
    "lamella = Lamella(\n",
    "    state = initial_state,\n",
    "    reference_image = ref_image,\n",
    "    path = experiment.path, \n",
    "    fiducial_centre = Point(fiducial_x, 0),\n",
    "    fiducial_area = FibsemRectangle(\n",
    "        left=fiducial_x-(settings.protocol[\"fiducial\"][\"length\"]*np.cos(45))/2,\n",
    "        top=(settings.protocol[\"fiducial\"][\"length\"]*np.sin(45))/2,\n",
    "        width=(settings.protocol[\"fiducial\"][\"length\"]*np.cos(45)),\n",
    "        height=(settings.protocol[\"fiducial\"][\"length\"]*np.sin(45))),\n",
    "    lamella_centre = Point(0,0), # Currently always at centre of image \n",
    "    lamella_number=index +1,\n",
    "    history= []\n",
    "                )\n",
    "experiment.positions.append(deepcopy(lamella))\n",
    "experiment.save()"
   ]
  },
  {
   "cell_type": "code",
   "execution_count": 21,
   "metadata": {},
   "outputs": [
    {
     "name": "stdout",
     "output_type": "stream",
     "text": [
      "None\n",
      "Experiment: \n",
      "        Path: C:\\Users\\lnae0002\\Desktop\\fibsem\\log\\default\n",
      "        Positions: 1\n",
      "        \n"
     ]
    }
   ],
   "source": [
    "print(lamella.path)\n",
    "print(experiment)"
   ]
  },
  {
   "cell_type": "code",
   "execution_count": 22,
   "metadata": {},
   "outputs": [
    {
     "ename": "TypeError",
     "evalue": "string indices must be integers",
     "output_type": "error",
     "traceback": [
      "\u001b[1;31m---------------------------------------------------------------------------\u001b[0m",
      "\u001b[1;31mTypeError\u001b[0m                                 Traceback (most recent call last)",
      "Cell \u001b[1;32mIn[22], line 1\u001b[0m\n\u001b[1;32m----> 1\u001b[0m experiment \u001b[39m=\u001b[39m Experiment\u001b[39m.\u001b[39;49mload(\u001b[39mr\u001b[39;49m\u001b[39m\"\u001b[39;49m\u001b[39mC:\u001b[39;49m\u001b[39m\\\u001b[39;49m\u001b[39mUsers\u001b[39;49m\u001b[39m\\\u001b[39;49m\u001b[39mlnae0002\u001b[39;49m\u001b[39m\\\u001b[39;49m\u001b[39mDesktop\u001b[39;49m\u001b[39m\\\u001b[39;49m\u001b[39mfibsem\u001b[39;49m\u001b[39m\\\u001b[39;49m\u001b[39mlog\u001b[39;49m\u001b[39m\\\u001b[39;49m\u001b[39mdefault\u001b[39;49m\u001b[39m\\\u001b[39;49m\u001b[39mdefault.yaml\u001b[39;49m\u001b[39m\"\u001b[39;49m)\n\u001b[0;32m      2\u001b[0m \u001b[39mprint\u001b[39m(experiment\u001b[39m.\u001b[39mpositions)\n",
      "File \u001b[1;32mc:\\Users\\lnae0002\\Desktop\\autolamella\\structures.py:189\u001b[0m, in \u001b[0;36mExperiment.load\u001b[1;34m(fname)\u001b[0m\n\u001b[0;32m    187\u001b[0m \u001b[39m# load lamella from dict\u001b[39;00m\n\u001b[0;32m    188\u001b[0m \u001b[39mfor\u001b[39;00m lamella_dict \u001b[39min\u001b[39;00m sample_dict[\u001b[39m\"\u001b[39m\u001b[39mpositions\u001b[39m\u001b[39m\"\u001b[39m]:\n\u001b[1;32m--> 189\u001b[0m     lamella \u001b[39m=\u001b[39m Lamella\u001b[39m.\u001b[39;49m__from_dict__(data\u001b[39m=\u001b[39;49mlamella_dict)\n\u001b[0;32m    190\u001b[0m     experiment\u001b[39m.\u001b[39mpositions\u001b[39m.\u001b[39mappend(lamella)\n\u001b[0;32m    192\u001b[0m \u001b[39mreturn\u001b[39;00m experiment\n",
      "File \u001b[1;32mc:\\Users\\lnae0002\\Desktop\\autolamella\\structures.py:83\u001b[0m, in \u001b[0;36mLamella.__from_dict__\u001b[1;34m(cls, data)\u001b[0m\n\u001b[0;32m     81\u001b[0m \u001b[39m@classmethod\u001b[39m\n\u001b[0;32m     82\u001b[0m \u001b[39mdef\u001b[39;00m \u001b[39m__from_dict__\u001b[39m(\u001b[39mcls\u001b[39m, data):\n\u001b[1;32m---> 83\u001b[0m     state \u001b[39m=\u001b[39m LamellaState()\u001b[39m.\u001b[39;49m__from_dict__(data[\u001b[39m\"\u001b[39;49m\u001b[39mstate\u001b[39;49m\u001b[39m\"\u001b[39;49m])\n\u001b[0;32m     84\u001b[0m     fiducial_centre \u001b[39m=\u001b[39m Point\u001b[39m.\u001b[39m__from_dict__(data[\u001b[39m\"\u001b[39m\u001b[39mfiducial_centre\u001b[39m\u001b[39m\"\u001b[39m])\n\u001b[0;32m     85\u001b[0m     fiducial_area \u001b[39m=\u001b[39m FibsemRectangle\u001b[39m.\u001b[39m__from_dict__(data[\u001b[39m\"\u001b[39m\u001b[39mfiducial_area\u001b[39m\u001b[39m\"\u001b[39m])\n",
      "File \u001b[1;32mc:\\Users\\lnae0002\\Desktop\\autolamella\\structures.py:46\u001b[0m, in \u001b[0;36mLamellaState.__from_dict__\u001b[1;34m(cls, data)\u001b[0m\n\u001b[0;32m     44\u001b[0m \u001b[39m@classmethod\u001b[39m\n\u001b[0;32m     45\u001b[0m \u001b[39mdef\u001b[39;00m \u001b[39m__from_dict__\u001b[39m(\u001b[39mcls\u001b[39m, data):\n\u001b[1;32m---> 46\u001b[0m     state \u001b[39m=\u001b[39m MicroscopeState\u001b[39m.\u001b[39m__from_dict__(data[\u001b[39m\"\u001b[39;49m\u001b[39mmicroscope_state\u001b[39;49m\u001b[39m\"\u001b[39;49m])\n\u001b[0;32m     47\u001b[0m     \u001b[39mreturn\u001b[39;00m \u001b[39mcls\u001b[39m(\n\u001b[0;32m     48\u001b[0m         microscope_state\u001b[39m=\u001b[39mstate,\n\u001b[0;32m     49\u001b[0m         stage\u001b[39m=\u001b[39mdata[\u001b[39m\"\u001b[39m\u001b[39mstage\u001b[39m\u001b[39m\"\u001b[39m],\n\u001b[0;32m     50\u001b[0m         start_timestamp\u001b[39m=\u001b[39mdata[\u001b[39m\"\u001b[39m\u001b[39mstart_timestamp\u001b[39m\u001b[39m\"\u001b[39m],\n\u001b[0;32m     51\u001b[0m         end_timestamp\u001b[39m=\u001b[39mdata[\u001b[39m\"\u001b[39m\u001b[39mend_timestamp\u001b[39m\u001b[39m\"\u001b[39m]\n\u001b[0;32m     52\u001b[0m     )\n",
      "\u001b[1;31mTypeError\u001b[0m: string indices must be integers"
     ]
    }
   ],
   "source": [
    "experiment = Experiment.load(r\"C:\\Users\\lnae0002\\Desktop\\fibsem\\log\\default\\default.yaml\")\n",
    "print(experiment.positions)"
   ]
  }
 ],
 "metadata": {
  "kernelspec": {
   "display_name": "fibsem",
   "language": "python",
   "name": "python3"
  },
  "language_info": {
   "codemirror_mode": {
    "name": "ipython",
    "version": 3
   },
   "file_extension": ".py",
   "mimetype": "text/x-python",
   "name": "python",
   "nbconvert_exporter": "python",
   "pygments_lexer": "ipython3",
   "version": "3.9.15"
  },
  "orig_nbformat": 4,
  "vscode": {
   "interpreter": {
    "hash": "1d9ac1935ec374efeb6f5bc205a1d2bf9478f4a0776248bf6d4eb389f65ee0fd"
   }
  }
 },
 "nbformat": 4,
 "nbformat_minor": 2
}
