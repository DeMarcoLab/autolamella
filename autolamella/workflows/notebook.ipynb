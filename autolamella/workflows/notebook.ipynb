{
 "cells": [
  {
   "cell_type": "markdown",
   "metadata": {},
   "source": [
    "## Experimental Workflows\n"
   ]
  },
  {
   "cell_type": "code",
   "execution_count": null,
   "metadata": {},
   "outputs": [],
   "source": [
    "%load_ext autoreload\n",
    "%autoreload 2\n",
    "\n",
    "from fibsem import utils\n",
    "\n",
    "microscope, settings = utils.setup_session()"
   ]
  },
  {
   "cell_type": "markdown",
   "metadata": {},
   "source": [
    "### Automated Quality Control"
   ]
  },
  {
   "cell_type": "code",
   "execution_count": null,
   "metadata": {},
   "outputs": [],
   "source": [
    "\n",
    "# do contrast test polishing\n",
    "protocol = {\n",
    "    \"milling\": {\n",
    "        \"polish\": {\n",
    "            \"stages\": [{\n",
    "        \"application_file\": \"autolamella\",\n",
    "        \"cross_section\": \"CleaningCrossSection\",\n",
    "        \"hfw\": 40e-6,\n",
    "        \"height\": 6.0e-07,\n",
    "        \"width\": 6.0e-06,\n",
    "        \"depth\": 4.0e-07,\n",
    "        \"milling_current\": 6.0e-11,\n",
    "        \"milling_voltage\": 3.0e3,\n",
    "        \"type\": \"Rectangle\",\n",
    "        \"name\": \"AdaptivePolishing\",\n",
    "            }\n",
    "        ],\n",
    "        \"point\": {\n",
    "            \"x\": 0.0,\n",
    "            \"y\": 5e-6,}\n",
    "        }\n",
    "    },\n",
    "    \"options\": {\n",
    "        \"experimental\": {\n",
    "            \"adaptive_polishing\": {\n",
    "                \"threshold\": 100,\n",
    "                \"step_size\": 5e-6,\n",
    "                \"step_limit\": 10,\n",
    "                \"image_resolution\": [3072, 2188],\n",
    "                \"image_line_integration\": 20,\n",
    "                \"image_dwell_time\": 100e-9,\n",
    "            }\n",
    "\n",
    "    }\n",
    "}\n",
    "}\n",
    "\n",
    "from autolamella.workflows.experimental import adaptive_mill_polishing\n",
    "\n",
    "\n",
    "adaptive_mill_polishing(microscope, settings, protocol)"
   ]
  },
  {
   "cell_type": "code",
   "execution_count": null,
   "metadata": {},
   "outputs": [],
   "source": []
  }
 ],
 "metadata": {
  "kernelspec": {
   "display_name": "fibsem",
   "language": "python",
   "name": "python3"
  },
  "language_info": {
   "codemirror_mode": {
    "name": "ipython",
    "version": 3
   },
   "file_extension": ".py",
   "mimetype": "text/x-python",
   "name": "python",
   "nbconvert_exporter": "python",
   "pygments_lexer": "ipython3",
   "version": "3.9.18"
  }
 },
 "nbformat": 4,
 "nbformat_minor": 2
}
