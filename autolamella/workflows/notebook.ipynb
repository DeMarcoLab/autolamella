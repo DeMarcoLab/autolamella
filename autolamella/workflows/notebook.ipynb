{
 "cells": [
  {
   "cell_type": "markdown",
   "metadata": {},
   "source": [
    "## Experimental Workflows\n"
   ]
  },
  {
   "cell_type": "code",
   "execution_count": null,
   "metadata": {},
   "outputs": [],
   "source": [
    "%load_ext autoreload\n",
    "%autoreload 2\n",
    "\n",
    "from fibsem import utils\n",
    "\n",
    "microscope, settings = utils.setup_session()"
   ]
  },
  {
   "cell_type": "markdown",
   "metadata": {},
   "source": [
    "### Automated Quality Control"
   ]
  },
  {
   "cell_type": "code",
   "execution_count": null,
   "metadata": {},
   "outputs": [],
   "source": [
    "\n",
    "# do contrast test polishing\n",
    "protocol = {\n",
    "    \"milling\": {\n",
    "        \"polish\": {\n",
    "            \"stages\": [{\n",
    "        \"application_file\": \"autolamella\",\n",
    "        \"cross_section\": \"CleaningCrossSection\",\n",
    "        \"hfw\": 40e-6,\n",
    "        \"height\": 6.0e-07,\n",
    "        \"width\": 6.0e-06,\n",
    "        \"depth\": 4.0e-07,\n",
    "        \"milling_current\": 6.0e-11,\n",
    "        \"milling_voltage\": 3.0e3,\n",
    "        \"type\": \"Rectangle\",\n",
    "        \"name\": \"AdaptivePolishing\",\n",
    "            }\n",
    "        ],\n",
    "        \"point\": {\n",
    "            \"x\": 0.0,\n",
    "            \"y\": 5e-6,}\n",
    "        }\n",
    "    },\n",
    "    \"options\": {\n",
    "        \"experimental\": {\n",
    "            \"adaptive_polishing\": {\n",
    "                \"threshold\": 100,\n",
    "                \"step_size\": 5e-6,\n",
    "                \"step_limit\": 10,\n",
    "                \"image_resolution\": [3072, 2188],\n",
    "                \"image_line_integration\": 20,\n",
    "                \"image_dwell_time\": 100e-9,\n",
    "            }\n",
    "\n",
    "    }\n",
    "}\n",
    "}\n",
    "\n",
    "from autolamella.workflows.experimental import adaptive_mill_polishing\n",
    "\n",
    "\n",
    "adaptive_mill_polishing(microscope, settings, protocol)"
   ]
  },
  {
   "cell_type": "markdown",
   "metadata": {},
   "source": [
    "## State Management Refactor"
   ]
  },
  {
   "cell_type": "code",
   "execution_count": null,
   "metadata": {},
   "outputs": [],
   "source": [
    "%load_ext autoreload\n",
    "%autoreload 2\n",
    "\n",
    "from autolamella.structures import AutoLamellaStage, Experiment\n",
    "from pprint import pprint\n",
    "\n",
    "PATH = \"/home/patrick/github/autolamella/autolamella/log/AutoLamella-2025-01-09-12-34/experiment.yaml\"\n",
    "\n",
    "exp = Experiment.load(PATH)\n",
    "pos = exp.positions[0]\n",
    "\n",
    "pprint(pos.states)"
   ]
  },
  {
   "cell_type": "code",
   "execution_count": null,
   "metadata": {},
   "outputs": [],
   "source": []
  },
  {
   "cell_type": "markdown",
   "metadata": {},
   "source": [
    "## AutoLamellaProtocol Class\n",
    "\n",
    "protocol:\n",
    "- name\n",
    "- method:\n",
    "- configuration:\n",
    "- options\n",
    "- supervision\n",
    "- milling"
   ]
  },
  {
   "cell_type": "code",
   "execution_count": null,
   "metadata": {},
   "outputs": [],
   "source": [
    "%load_ext autoreload\n",
    "%autoreload 2\n",
    "\n",
    "from autolamella.structures import AutoLamellaStage, Experiment, AutoLamellaProtocol\n",
    "import os\n",
    "import glob\n",
    "from pprint import pprint\n",
    "\n",
    "\n",
    "BASE_PATH = \"/home/patrick/github/autolamella/autolamella/protocol/protocol-*-new.yaml\"\n",
    "\n",
    "# TODO: TRENCH MILLING METHOD\n",
    "\n",
    "filenames = glob.glob(BASE_PATH)\n",
    "pprint(filenames)\n",
    " \n",
    "\n",
    "PROTOCOL_PATH =  \"/home/patrick/github/autolamella/autolamella/protocol/protocol-on-grid-new.yaml\"\n",
    "\n",
    "protocol = AutoLamellaProtocol.load(PROTOCOL_PATH)\n",
    "\n",
    "# pprint(protocol.to_dict()[\"name\"])\n",
    "\n",
    "# pprint()\n",
    "# from fibsem.milling import \n",
    "# protocol.milling\n",
    "\n",
    "pprint(protocol.options)\n",
    "print(protocol.supervision)\n",
    "print(protocol.method.workflow)\n",
    "\n",
    "# from fibsem.structures import FibsemImage\n",
    "# from fibsem.milling.patterning.plotting import draw_milling_patterns\n",
    "\n",
    "# stages = protocol.milling[\"undercut\"]\n",
    "\n",
    "# image = FibsemImage.generate_blank_image(hfw=stages[0].milling.hfw)\n",
    "# draw_milling_patterns(image, stages)\n"
   ]
  },
  {
   "cell_type": "code",
   "execution_count": null,
   "metadata": {},
   "outputs": [],
   "source": [
    "from autolamella.protocol.validation import validate_protocol\n",
    "from fibsem import utils\n",
    "protocol = validate_protocol(utils.load_protocol(protocol_path=PROTOCOL_PATH))\n",
    "\n",
    "protocol2 = AutoLamellaProtocol.from_dict(protocol)\n",
    "pprint(protocol2.to_dict())"
   ]
  },
  {
   "cell_type": "code",
   "execution_count": null,
   "metadata": {},
   "outputs": [],
   "source": []
  }
 ],
 "metadata": {
  "kernelspec": {
   "display_name": "fibsem",
   "language": "python",
   "name": "python3"
  },
  "language_info": {
   "codemirror_mode": {
    "name": "ipython",
    "version": 3
   },
   "file_extension": ".py",
   "mimetype": "text/x-python",
   "name": "python",
   "nbconvert_exporter": "python",
   "pygments_lexer": "ipython3",
   "version": "3.9.18"
  }
 },
 "nbformat": 4,
 "nbformat_minor": 2
}
