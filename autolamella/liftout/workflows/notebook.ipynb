{
 "cells": [
  {
   "cell_type": "code",
   "execution_count": null,
   "metadata": {},
   "outputs": [],
   "source": [
    "%load_ext autoreload\n",
    "%autoreload 2\n",
    "\n",
    "\n",
    "\n",
    "\n",
    "from fibsem import patterning\n",
    "from fibsem import utils\n",
    "\n",
    "from pprint import pprint\n",
    "\n",
    "protocol  = utils.load_protocol(\"../protocol/protocol_serial.yaml\")\n",
    "\n",
    "pprint(protocol[\"horseshoe\"])\n",
    "stages = patterning._get_milling_stages(\"horseshoe\", protocol)\n",
    "ddict = patterning._get_protocol_from_stages(stages)\n",
    "pprint(stages)\n",
    "pprint(ddict)"
   ]
  },
  {
   "cell_type": "markdown",
   "metadata": {},
   "source": [
    "### DETECTION TESTS"
   ]
  },
  {
   "cell_type": "code",
   "execution_count": null,
   "metadata": {},
   "outputs": [],
   "source": [
    "%load_ext autoreload\n",
    "%autoreload 2\n",
    "\n",
    "\n",
    "from fibsem.detection import detection\n",
    "from fibsem import utils\n",
    "import tifffile as tff\n",
    "\n",
    "import numpy as np\n",
    "import matplotlib.pyplot as plt\n",
    "\n",
    "\n",
    "import glob\n",
    "import os\n",
    "\n",
    "from fibsem.segmentation.utils import decode_segmap\n",
    "\n",
    "PATH = \"../../../fibsem/fibsem/detection/test_images/serial\"\n",
    "filenames = sorted(glob.glob(os.path.join(PATH,  \"*.tif\")))\n",
    "\n",
    "print(filenames)\n",
    "\n",
    "# fig , ax = plt.subplots(1, len(filenames), figsize=(40, 15))\n",
    "\n",
    "features = [\n",
    "    [detection.NeedleTipBottom()], # prep0\n",
    "    [detection.NeedleTipBottom(), detection.LandingPost()],\n",
    "    [detection.LamellaTopEdge()],\n",
    "    [detection.NeedleTipBottom(), detection.CopperAdapterBottomEdge(),  detection.LamellaTopEdge(), detection.LamellaBottomEdge()],\n",
    "    [detection.NeedleTipBottom(), detection.LamellaTopEdge(), detection.LamellaBottomEdge()],\n",
    "    [detection.LamellaBottomEdge(), detection.LandingPost()],\n",
    "    [detection.LamellaTopEdge(), detection.LamellaBottomEdge(), detection.LandingPost()],\n",
    "    [ detection.LamellaTopEdge(), detection.LamellaBottomEdge()],\n",
    "\n",
    "]\n",
    "\n",
    "feature = detection.NeedleTipBottom()\n",
    "\n",
    "\n",
    "\n"
   ]
  },
  {
   "cell_type": "code",
   "execution_count": null,
   "metadata": {},
   "outputs": [],
   "source": [
    "\n",
    "from fibsem.structures import Point\n",
    "\n",
    "for i, (fname, flist) in enumerate(zip(filenames, features)):\n",
    "    mask = tff.imread(fname)\n",
    "\n",
    "    for feature in flist:\n",
    "        feature.detect(img=mask, mask=mask, point=Point(mask.shape[1]//2, mask.shape[0]//2))\n",
    "\n",
    "\n",
    "    plt.imshow(mask)\n",
    "    plt.imshow(decode_segmap(mask, nc=4))\n",
    "    plt.title(os.path.basename(fname).removesuffix(\".tif\"))\n",
    "    for feature in flist:\n",
    "        plt.plot(feature.px.x, feature.px.y, color=feature.color,\n",
    "            markeredgecolor=\"w\", \n",
    "            marker=\"o\", markersize=5, label=feature.name)\n",
    "    plt.legend(loc=\"best\")\n",
    "\n",
    "    plt.show()\n"
   ]
  },
  {
   "cell_type": "markdown",
   "metadata": {},
   "source": [
    "### Landing Stage"
   ]
  },
  {
   "cell_type": "code",
   "execution_count": null,
   "metadata": {},
   "outputs": [],
   "source": [
    "%load_ext autoreload\n",
    "%autoreload 2\n",
    "\n",
    "\n",
    "from fibsem import utils, acquire, movement\n",
    "from fibsem.imaging import _tile\n",
    "\n",
    "from fibsem.structures import BeamType, Point, FibsemStagePosition\n",
    "\n",
    "import numpy as np\n",
    "import matplotlib.pyplot as plt\n",
    "\n",
    "from pprint import pprint \n",
    "\n",
    "# connect\n",
    "microscope, settings = utils.setup_session(protocol_path=\"../protocol/protocol_serial.yaml\")\n",
    "\n",
    "# pprint(settings.protocol)\n"
   ]
  },
  {
   "cell_type": "code",
   "execution_count": null,
   "metadata": {},
   "outputs": [],
   "source": [
    "from fibsem import patterning\n",
    "from fibsem.structures import Point\n",
    "\n",
    "\n",
    "\n",
    "\n",
    "stages = patterning._get_milling_stages(\"weld\", settings.protocol)\n",
    "pprint(stages)\n",
    "\n",
    "\n",
    "stages = patterning._get_milling_stages(\"weld\", settings.protocol, [Point(0.5, 0.5), Point(-0.5, -0.5)])\n",
    "\n",
    "pprint(stages)\n",
    "\n",
    "\n",
    "stages = patterning._get_milling_stages(\"liftout_weld\", settings.protocol)\n",
    "\n",
    "pprint(stages)\n",
    "\n",
    "stages = patterning._get_milling_stages(\"liftout_weld\", settings.protocol, Point(0.5, 0.5))\n",
    "\n",
    "pprint(stages)"
   ]
  },
  {
   "cell_type": "code",
   "execution_count": null,
   "metadata": {},
   "outputs": [],
   "source": [
    "\n",
    "from liftout.workflows import serial\n",
    "\n"
   ]
  },
  {
   "cell_type": "code",
   "execution_count": null,
   "metadata": {},
   "outputs": [],
   "source": [
    "settings.image.resolution = [1024, 1024]\n",
    "settings.image.beam_type = BeamType.ION\n",
    "image = _tile._tile_image_collection_stitch(microscope, settings, 2000e-6, 500e-6, )\n"
   ]
  },
  {
   "cell_type": "code",
   "execution_count": null,
   "metadata": {},
   "outputs": [],
   "source": [
    "# plot the positions\n",
    "fig = _tile._plot_positions(image, positions)\n",
    "\n",
    "plt.show()\n",
    "\n",
    "# TODO generate these onto a minimap image\n",
    "\n"
   ]
  },
  {
   "cell_type": "code",
   "execution_count": null,
   "metadata": {},
   "outputs": [],
   "source": [
    "\n",
    "from liftout.structures import Lamella, Experiment, AutoLiftoutState, AutoLiftoutStage\n",
    "\n",
    "import os\n",
    "from pathlib import Path\n",
    "\n",
    "from copy import deepcopy\n",
    "\n",
    "PATH = \"exp/test/\"\n",
    "os.makedirs(PATH, exist_ok=True)\n",
    "\n",
    "# experiment = Experiment(PATH, name=\"DEV-SERIAL-TEST-01\", method=\"serial-liftout\")\n",
    "\n",
    "# if lamella is at Liftout: \n",
    "#   continue\n",
    "# else:\n",
    "#  return\n",
    "\n",
    "# calculate landing positions\n",
    "# get index of lamella (num that have landed)\n",
    "# create lamella\n",
    "\n",
    "\n"
   ]
  },
  {
   "cell_type": "code",
   "execution_count": null,
   "metadata": {},
   "outputs": [],
   "source": [
    "from autolamella.tools.data import create_history_dataframe\n",
    "\n",
    "display(experiment.to_dataframe_v2())\n",
    "\n",
    "df = create_history_dataframe(experiment)\n",
    "display(df)\n",
    "\n",
    "COLOURS = [\"lime\", \"blue\", \"cyan\", \"magenta\", \n",
    "    \"hotpink\", \"yellow\", \"orange\", \"red\"]\n",
    "\n",
    "# plot the positions\n",
    "\n",
    "for i, lamella in enumerate(experiment.positions):\n",
    "    c =COLOURS[i%len(COLOURS)]\n",
    "    pos = lamella.state.microscope_state.absolute_position \n",
    "    plt.plot(pos.x, pos.y, c=c, marker='+', label=lamella._petname)\n",
    "    # text\n",
    "    # plt.text(pos.x-100, pos.y-50, lamella._petname, fontsize=12, color=c, alpha=0.75)\n",
    "    plt.text(pos.x-25e-6, pos.y+50e-6, lamella._petname, fontsize=8, color=c, alpha=0.75)\n",
    "# plt.legend(loc='best')\n",
    "\n",
    "plt.xlabel('x [µm]')\n",
    "plt.ylabel('y [µm]')\n",
    "plt.title('Lamella positions')\n",
    "plt.show()\n",
    "\n",
    "\n"
   ]
  },
  {
   "cell_type": "code",
   "execution_count": null,
   "metadata": {},
   "outputs": [],
   "source": [
    "features = [detection.LamellaBottomEdge(), detection.LandingPost()]\n",
    "\n",
    "det = detection.take_image_and_detect_features(\n",
    "    microscope=microscope,\n",
    "    settings=settings,\n",
    "    features=features,\n",
    ")"
   ]
  },
  {
   "cell_type": "code",
   "execution_count": null,
   "metadata": {},
   "outputs": [],
   "source": [
    "pprint(det)"
   ]
  },
  {
   "cell_type": "code",
   "execution_count": null,
   "metadata": {},
   "outputs": [],
   "source": []
  }
 ],
 "metadata": {
  "kernelspec": {
   "display_name": "fibsem",
   "language": "python",
   "name": "python3"
  },
  "language_info": {
   "codemirror_mode": {
    "name": "ipython",
    "version": 3
   },
   "file_extension": ".py",
   "mimetype": "text/x-python",
   "name": "python",
   "nbconvert_exporter": "python",
   "pygments_lexer": "ipython3",
   "version": "3.9.16"
  },
  "orig_nbformat": 4
 },
 "nbformat": 4,
 "nbformat_minor": 2
}
