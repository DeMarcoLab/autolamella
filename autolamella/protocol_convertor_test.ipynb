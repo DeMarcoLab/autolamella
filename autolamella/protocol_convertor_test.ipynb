{
 "cells": [
  {
   "cell_type": "code",
   "execution_count": 1,
   "metadata": {},
   "outputs": [],
   "source": [
    "from protocol_converter import protocol_converter\n",
    "import os\n",
    "import glob\n",
    "import yaml\n",
    "from yaml.loader import SafeLoader"
   ]
  },
  {
   "cell_type": "code",
   "execution_count": 2,
   "metadata": {},
   "outputs": [],
   "source": [
    "old_protocol_path = r\"C:\\Users\\rkan0039\\Documents\\old_autolamella_protocols\"\n",
    "old_protocols_files =  glob.glob(os.path.join(old_protocol_path,'*.yml'))"
   ]
  },
  {
   "cell_type": "code",
   "execution_count": 3,
   "metadata": {},
   "outputs": [
    {
     "data": {
      "text/plain": [
       "['C:\\\\Users\\\\rkan0039\\\\Documents\\\\old_autolamella_protocols\\\\old1.yml',\n",
       " 'C:\\\\Users\\\\rkan0039\\\\Documents\\\\old_autolamella_protocols\\\\old2.yml']"
      ]
     },
     "execution_count": 3,
     "metadata": {},
     "output_type": "execute_result"
    }
   ],
   "source": [
    "old_protocols_files"
   ]
  },
  {
   "cell_type": "code",
   "execution_count": 4,
   "metadata": {},
   "outputs": [],
   "source": [
    "def load_yaml(path):\n",
    "    with open(path) as f:\n",
    "        old_protocol = yaml.load(f, Loader=SafeLoader)\n",
    "    return old_protocol"
   ]
  },
  {
   "cell_type": "code",
   "execution_count": 5,
   "metadata": {},
   "outputs": [],
   "source": [
    "old1 = load_yaml(old_protocols_files[1])"
   ]
  },
  {
   "cell_type": "code",
   "execution_count": 6,
   "metadata": {},
   "outputs": [
    {
     "name": "stdout",
     "output_type": "stream",
     "text": [
      "{'milling_current': 2e-10, 'milling_depth': 6e-07, 'overtilt_degrees': 0, 'percentage_from_lamella_surface': 0.4, 'percentage_roi_height': 0.7, 'microexpansion_width': 2e-07, 'microexpansion_distance_from_lamella': 1.5e-06, 'microexpansion_percentage_height': 0.5}\n",
      "{'milling_current': 2e-10, 'milling_depth': 5e-07, 'overtilt_degrees': 0, 'percentage_from_lamella_surface': 0.2, 'percentage_roi_height': 0.3}\n",
      "{'milling_current': 6e-11, 'milling_depth': 4e-07, 'autolamel': 5e-07, 'overtilt_degrees': 0, 'percentage_from_lamella_surface': 0.0, 'percentage_roi_height': 0.3}\n"
     ]
    }
   ],
   "source": [
    "old_stage_order = old1[\"lamella\"][\"protocol_stages\"]\n",
    "print(old_stage_order[0])\n",
    "print(old_stage_order[1])\n",
    "print(old_stage_order[2])"
   ]
  },
  {
   "cell_type": "code",
   "execution_count": 7,
   "metadata": {},
   "outputs": [],
   "source": [
    "protocol_converter(old_protocols_files[1], \"new_protocol_2.yml\")\n",
    "new1 = load_yaml(\"new_protocol_2.yml\")"
   ]
  },
  {
   "cell_type": "code",
   "execution_count": 8,
   "metadata": {},
   "outputs": [
    {
     "name": "stdout",
     "output_type": "stream",
     "text": [
      "{'milling_current': 2e-10, 'milling_depth': 6e-07, 'offset': 1.6e-06, 'preset': '30 keV; 20 nA', 'size_ratio': 1.0, 'trench_height': 2.8e-06}\n",
      "{'milling_current': 2e-10, 'milling_depth': 5e-07, 'offset': 8e-07, 'preset': '30 keV; 20 nA', 'size_ratio': 1.0, 'trench_height': 1.2e-06}\n",
      "{'milling_current': 6e-11, 'milling_depth': 4e-07, 'offset': 0.0, 'preset': '30 keV; 20 nA', 'size_ratio': 1.0, 'trench_height': 1.2e-06}\n"
     ]
    }
   ],
   "source": [
    "new1_stage_order = new1[\"lamella\"][\"protocol_stages\"]\n",
    "print(new1_stage_order[0])\n",
    "print(new1_stage_order[1])\n",
    "print(new1_stage_order[2])"
   ]
  },
  {
   "cell_type": "code",
   "execution_count": null,
   "metadata": {},
   "outputs": [],
   "source": []
  }
 ],
 "metadata": {
  "kernelspec": {
   "display_name": "fibsem",
   "language": "python",
   "name": "python3"
  },
  "language_info": {
   "codemirror_mode": {
    "name": "ipython",
    "version": 3
   },
   "file_extension": ".py",
   "mimetype": "text/x-python",
   "name": "python",
   "nbconvert_exporter": "python",
   "pygments_lexer": "ipython3",
   "version": "3.9.15"
  },
  "orig_nbformat": 4
 },
 "nbformat": 4,
 "nbformat_minor": 2
}
