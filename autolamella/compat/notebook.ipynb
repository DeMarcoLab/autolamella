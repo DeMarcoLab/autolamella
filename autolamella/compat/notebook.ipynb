{
 "cells": [
  {
   "cell_type": "markdown",
   "metadata": {},
   "source": [
    "## AutoLamella Headless - Odemis"
   ]
  },
  {
   "cell_type": "code",
   "execution_count": null,
   "metadata": {},
   "outputs": [],
   "source": [
    "# requirements\n",
    "# stage_position: FibsemStagePosition (stage-bare)                  -> acquire once position selected (can transform from fm-position)\n",
    "# microcope_state: dict microscope state                            -> acquire once position selected\n",
    "# reference_image: FibsemImage / OdemisImage (saved to disk)        -> acquire once position selected\n",
    "# protocol: dict milling protocol for each lamella                  -> load from file, allow user to edit\n",
    "# config: workflow configuration (supervision, alignment, etc)      -> load from file, allow user to edit\n",
    "\n",
    "# supported options\n",
    "# use_microexpansion:\n",
    "\n",
    "# not supported (for now)\n",
    "# use_fiducial: # only support non-fiducial milling for now\n",
    "\n",
    "# odemis: save_milling_position:\n",
    "# - stage_position:     cryo feature position, defined at milling position: posture_positions[MILLING]\n",
    "# - microscope_state:   can be extracted from odemis image\n",
    "# - reference_image:    path to reference image\n",
    "# - milling_protocol:   dict with milling parameters\n",
    "#   - patterns:         dict with milling pattern protocol\n",
    "#   - point:            point in odemis image representing the milling position (generated from correlation)\n",
    "\n",
    "# req milling parameters\n",
    "# center -> from correlation / selection\n",
    "# width  (width of trench)\n",
    "# height (distance between trenches)\n",
    "# trench_height (height of trench)\n",
    "# depth (depth of trench)\n",
    "# cross_section (cross section of trench Rectangle or CleaningCrossSection)\n",
    "# milling_current, hfw (all)\n",
    "# To simplify initially, only use Rough Mill / Polishing\n",
    "\n",
    "# simplification: \n",
    "# all centers are the same\n",
    "# all hfw are the same\n",
    "\n",
    "# rough_mill:\n",
    "# - center: point in odemis image\n",
    "# - width: \n",
    "# - height:\n",
    "# - trench_height:\n",
    "# - depth:\n",
    "# - cross_section: Rectangle\n",
    "\n",
    "# polishing:\n",
    "# - center: point in odemis image\n",
    "# - width:\n",
    "# - height:\n",
    "# - trench_height:\n",
    "# - depth:\n",
    "# - cross_section: CleaningCrossSection\n",
    "\n",
    "# microexpansion:\n",
    "# - center: point in odemis image\n",
    "# - width:\n",
    "# - height:\n",
    "# - distance: distance between expansion trenches\n",
    "# - depth:\n",
    "\n",
    "# lamella are created at the ReadyLamella State (after setup in autolamella)\n",
    "# then the workflow can be run without any user input\n"
   ]
  },
  {
   "cell_type": "code",
   "execution_count": null,
   "metadata": {},
   "outputs": [],
   "source": [
    "%load_ext autoreload\n",
    "%autoreload 2\n",
    "%matplotlib inline\n",
    "\n",
    "import os\n",
    "\n",
    "import logging\n",
    "import matplotlib.pyplot as plt\n",
    "from pprint import pprint\n",
    "from fibsem import utils\n",
    "from autolamella.protocol.validation import validate_protocol\n",
    "from autolamella.workflows.runners import run_autolamella\n",
    "from autolamella.compat.odemis import add_odemis_path, add_features_to_experiment, create_experiment_from_odemis\n",
    "from fibsem.patterning import get_milling_stages\n",
    "from fibsem.patterns.ui import draw_milling_patterns\n",
    "from fibsem.structures import FibsemImage\n",
    "\n",
    "add_odemis_path() # only required when using separate env for openfibsem\n",
    "from odemis import model\n",
    "from odemis.acq.feature import CryoFeature, model, read_features, get_feature_position_at_posture\n",
    "from odemis.acq.move import MicroscopePostureManager, POSITION_NAMES, SEM_IMAGING, MILLING, FM_IMAGING\n",
    "from odemis.util.filename import make_unique_name\n",
    "from odemis.acq.milling.tasks import load_milling_tasks\n",
    "\n",
    "logging.basicConfig(level=logging.INFO)\n",
    "\n",
    "# load milling tasks\n",
    "# MILLING_TASKS_PATH = \"/home/patrick/development/odemis/scripts/automated-milling-projects/milling_tasks.yaml\"\n",
    "# milling_tasks = load_milling_tasks(MILLING_TASKS_PATH)\n"
   ]
  },
  {
   "cell_type": "code",
   "execution_count": null,
   "metadata": {},
   "outputs": [],
   "source": [
    "features = read_features(\"/home/patrick/Pictures/my-project-11\")\n",
    "pm = MicroscopePostureManager(model.getMicroscope())\n",
    "\n",
    "for f in features:\n",
    "    # set the required posture positions\n",
    "    for posture in [SEM_IMAGING, FM_IMAGING, MILLING]:\n",
    "        get_feature_position_at_posture(pm=pm, feature=f, posture=posture) # also updates the posture position\n",
    "\n",
    "    # assign the milling tasks\n",
    "    f.milling_tasks = milling_tasks\n"
   ]
  },
  {
   "cell_type": "code",
   "execution_count": null,
   "metadata": {},
   "outputs": [],
   "source": [
    "pprint(features[0].posture_positions)"
   ]
  },
  {
   "cell_type": "code",
   "execution_count": null,
   "metadata": {},
   "outputs": [],
   "source": [
    "# # dummy feature creation from odemis\n",
    "# stage_positions = [\n",
    "#     {\"x\": 0, \"y\": 0, \"z\": 0, \"rx\": 0.31, \"rz\": 0},\n",
    "#     {\"x\": 50e-6, \"y\": 50e-6, \"z\": 0, \"rx\": 0.31, \"rz\": 0}\n",
    "# ]\n",
    "\n",
    "# features = []\n",
    "# for stage_position in stage_positions:\n",
    "#     name = make_unique_name(f\"Feature-1\", [f.name.value for f in features])\n",
    "#     feature = CryoFeature(name=name, stage_position=stage_position, fm_focus_position={\"z\": 0.169}, posture=MILLING)\n",
    "#     feature.posture_positions[MILLING] = stage_position\n",
    "#     features.append(feature)\n",
    "\n",
    "# logging.info(f\"Created {len(features)} features\")"
   ]
  },
  {
   "cell_type": "code",
   "execution_count": null,
   "metadata": {},
   "outputs": [],
   "source": [
    "# configuration files\n",
    "CONFIGURATION_PATH = \"/home/patrick/development/openfibsem/fibsem/fibsem/config/odemis-configuration.yaml\"\n",
    "PROTOCOL_PATH = \"/home/patrick/development/openfibsem/autolamella/autolamella/protocol/protocol-odemis-on-grid.yaml\"\n",
    "ODEMIS_PROJECT_PATH = \"/home/patrick/Pictures/odemis-auto-milling-01\"\n",
    "\n",
    "# connect to microscope\n",
    "microscope, settings = utils.setup_session(config_path=CONFIGURATION_PATH, \n",
    "                                           protocol_path=PROTOCOL_PATH)\n",
    "\n",
    "# create experiment from odemis project\n",
    "protocol = validate_protocol(settings.protocol)\n",
    "experiment = create_experiment_from_odemis(ODEMIS_PROJECT_PATH, protocol=protocol)\n",
    "\n",
    "# add features to experiment\n",
    "experiment = add_features_to_experiment(\n",
    "                                        experiment=experiment, \n",
    "                                        features=features,\n",
    "                                        )\n",
    "\n",
    "logging.info(f\"Updated Experiment: {experiment.name}, total: {len(experiment.positions)}\")"
   ]
  },
  {
   "cell_type": "code",
   "execution_count": null,
   "metadata": {},
   "outputs": [],
   "source": [
    "%matplotlib inline\n",
    "# draw milling tasks / protocol\n",
    "for pos in experiment.positions:\n",
    "    REFERENCE_IMAGE_PATH = os.path.join(pos.path, \"ref_alignment_ib.tif\")\n",
    "    image = FibsemImage.load(REFERENCE_IMAGE_PATH)\n",
    "    stages = []\n",
    "    for key in [\"mill_rough\", \"mill_polishing\", \"microexpansion\"]:\n",
    "        stages.extend(get_milling_stages(key, pos.protocol))\n",
    "    fig = draw_milling_patterns(image, stages)\n",
    "    plt.title(f\"Position: {pos.name}\")\n",
    "    plt.show()"
   ]
  },
  {
   "cell_type": "code",
   "execution_count": null,
   "metadata": {},
   "outputs": [],
   "source": [
    "from autolamella.structures import AutoLamellaStage\n",
    "stages_to_complete = [AutoLamellaStage.MillRoughCut]\n",
    "\n",
    "# run autolamella\n",
    "experiment = run_autolamella(microscope=microscope, \n",
    "                settings=settings, \n",
    "                experiment=experiment,\n",
    "                parent_ui=None, \n",
    "                stages_to_complete=stages_to_complete)\n",
    "\n",
    "# TODO: \n",
    "# update features after milling -> status update"
   ]
  },
  {
   "cell_type": "code",
   "execution_count": null,
   "metadata": {},
   "outputs": [],
   "source": [
    "from fibsem.util.filename import get_unique_filename\n",
    "filenames = [ \"test-image.ome.tiff\", \"test-image.tiff\", \"test-image.tif\"]\n",
    "\n",
    "# only support two extensions for now (ome.tiff, tiff)\n",
    "for filename in filenames:\n",
    "    \n",
    "    filename = get_unique_filename(filename)\n",
    "    print(filename)"
   ]
  },
  {
   "cell_type": "markdown",
   "metadata": {},
   "source": [
    "## Milling Task Conversion\n"
   ]
  },
  {
   "cell_type": "markdown",
   "metadata": {},
   "source": [
    "## Display Milling Tasks and Milling Stages on Image"
   ]
  },
  {
   "cell_type": "code",
   "execution_count": null,
   "metadata": {},
   "outputs": [],
   "source": [
    "import os\n",
    "import matplotlib.pyplot as plt\n",
    "\n",
    "from fibsem.patterning import get_milling_stages\n",
    "from fibsem.patterns.ui import generate_blank_image, draw_milling_patterns\n",
    "from fibsem.structures import FibsemImage\n",
    "from autolamella.compat.odemis import convert_milling_tasks_to_milling_protocol\n",
    "\n",
    "from odemis.util.dataio import open_acquisition\n",
    "from odemis.acq.milling.tasks import load_milling_tasks\n",
    "from odemis.acq.milling.plotting import draw_milling_tasks\n",
    "from odemis.acq.feature import MILLING_TASKS_PATH\n",
    "%matplotlib inline\n",
    "\n",
    "# load milling tasks\n",
    "# MILLING_TASKS_PATH = \"/home/patrick/development/odemis/scripts/automated-milling-projects/milling_tasks.yaml\"\n",
    "milling_tasks = load_milling_tasks(MILLING_TASKS_PATH)\n",
    "protocol = convert_milling_tasks_to_milling_protocol(milling_tasks)\n",
    "\n",
    "PATH = \"/home/patrick/Pictures/odemis-auto-milling-01\"\n",
    "ODEMIS_PATH = os.path.join(PATH, \"test-image-FIBSEM-001.ome.tiff\")\n",
    "AUTOLAMELLA_PATH = os.path.join(PATH, \"AutoLamella-odemis-auto-milling-01/Feature-1\", \"ref_alignment_ib.tif\")\n",
    "\n",
    "image = FibsemImage.load(AUTOLAMELLA_PATH)\n",
    "stages = []\n",
    "for key in protocol:\n",
    "    stages.extend(get_milling_stages(key, protocol))\n",
    "fig = draw_milling_patterns(image, stages)\n",
    "plt.show()\n",
    "\n",
    "ref_image = open_acquisition(ODEMIS_PATH)[0].getData()\n",
    "fig = draw_milling_tasks(ref_image, milling_tasks)\n",
    "plt.show()"
   ]
  },
  {
   "cell_type": "code",
   "execution_count": null,
   "metadata": {},
   "outputs": [],
   "source": []
  }
 ],
 "metadata": {
  "kernelspec": {
   "display_name": "fibsem-headless",
   "language": "python",
   "name": "python3"
  },
  "language_info": {
   "codemirror_mode": {
    "name": "ipython",
    "version": 3
   },
   "file_extension": ".py",
   "mimetype": "text/x-python",
   "name": "python",
   "nbconvert_exporter": "python",
   "pygments_lexer": "ipython3",
   "version": "3.9.19"
  }
 },
 "nbformat": 4,
 "nbformat_minor": 2
}
