{
 "cells": [
  {
   "cell_type": "markdown",
   "metadata": {},
   "source": [
    "## AutoLamella Headless - Odemis"
   ]
  },
  {
   "cell_type": "code",
   "execution_count": 1,
   "metadata": {},
   "outputs": [],
   "source": [
    "# requirements\n",
    "# stage_position: FibsemStagePosition (stage-bare)                  -> acquire once position selected (can transform from fm-position)\n",
    "# microcope_state: dict microscope state                            -> acquire once position selected\n",
    "# reference_image: FibsemImage / OdemisImage (saved to disk)        -> acquire once position selected\n",
    "# protocol: dict milling protocol for each lamella                  -> load from file, allow user to edit\n",
    "# config: workflow configuration (supervision, alignment, etc)      -> load from file, allow user to edit\n",
    "\n",
    "# supported options\n",
    "# use_microexpansion:\n",
    "\n",
    "# not supported (for now)\n",
    "# use_fiducial: # only support non-fiducial milling for now\n",
    "\n",
    "# odemis: save_milling_position:\n",
    "# - stage_position:     cryo feature position, defined at milling position: posture_positions[MILLING]\n",
    "# - microscope_state:   can be extracted from odemis image\n",
    "# - reference_image:    path to reference image\n",
    "# - milling_protocol:   dict with milling parameters\n",
    "#   - patterns:         dict with milling pattern protocol\n",
    "#   - point:            point in odemis image representing the milling position (generated from correlation)\n",
    "\n",
    "# req milling parameters\n",
    "# center -> from correlation / selection\n",
    "# width  (width of trench)\n",
    "# height (distance between trenches)\n",
    "# trench_height (height of trench)\n",
    "# depth (depth of trench)\n",
    "# cross_section (cross section of trench Rectangle or CleaningCrossSection)\n",
    "# milling_current, hfw (all)\n",
    "# To simplify initially, only use Rough Mill / Polishing\n",
    "\n",
    "# simplification: \n",
    "# all centers are the same\n",
    "# all hfw are the same\n",
    "\n",
    "# rough_mill:\n",
    "# - center: point in odemis image\n",
    "# - width: \n",
    "# - height:\n",
    "# - trench_height:\n",
    "# - depth:\n",
    "# - cross_section: Rectangle\n",
    "\n",
    "# polishing:\n",
    "# - center: point in odemis image\n",
    "# - width:\n",
    "# - height:\n",
    "# - trench_height:\n",
    "# - depth:\n",
    "# - cross_section: CleaningCrossSection\n",
    "\n",
    "# microexpansion:\n",
    "# - center: point in odemis image\n",
    "# - width:\n",
    "# - height:\n",
    "# - distance: distance between expansion trenches\n",
    "# - depth:\n",
    "\n",
    "# lamella are created at the ReadyLamella State (after setup in autolamella)\n",
    "# then the workflow can be run without any user input\n"
   ]
  },
  {
   "cell_type": "code",
   "execution_count": null,
   "metadata": {},
   "outputs": [],
   "source": [
    "%load_ext autoreload\n",
    "%autoreload 2\n",
    "\n",
    "import logging\n",
    "from pprint import pprint\n",
    "from fibsem import utils\n",
    "from autolamella.protocol.validation import validate_protocol\n",
    "from autolamella.workflows.runners import run_autolamella\n",
    "from autolamella.compat.odemis import add_odemis_path, add_features_to_experiment, create_experiment_from_odemis\n",
    "\n",
    "add_odemis_path() # only required when using separate env for openfibsem\n",
    "from odemis import model\n",
    "from odemis.acq.feature import CryoFeature, model, read_features\n",
    "from odemis.acq.move import MicroscopePostureManager, POSITION_NAMES, SEM_IMAGING, MILLING, FM_IMAGING\n",
    "from odemis.util.filename import make_unique_name\n",
    "\n",
    "logging.basicConfig(level=logging.INFO)"
   ]
  },
  {
   "cell_type": "code",
   "execution_count": null,
   "metadata": {},
   "outputs": [],
   "source": [
    "features = read_features(\"/home/patrick/Pictures/my-project-11\")\n",
    "pm = MicroscopePostureManager(model.getMicroscope())\n",
    "\n",
    "for f in features:\n",
    "    posture = pm.getCurrentPostureLabel(f.stage_position.value)\n",
    "    \n",
    "    sem_pos = pm.to_posture(f.stage_position.value, posture=SEM_IMAGING)\n",
    "    \n",
    "    mill_pos  = sem_pos.copy()\n",
    "    mill_pos.update(pm.stage.getMetadata()[model.MD_FAV_MILL_POS_ACTIVE])\n",
    "    \n",
    "    f.posture_positions[FM_IMAGING] = f.stage_position.value\n",
    "    f.posture_positions[SEM_IMAGING] = sem_pos\n",
    "    f.posture_positions[MILLING] = mill_pos\n"
   ]
  },
  {
   "cell_type": "code",
   "execution_count": 3,
   "metadata": {},
   "outputs": [],
   "source": [
    "# dummy feature creation from odemis\n",
    "stage_positions = [\n",
    "    {\"x\": 0, \"y\": 0, \"z\": 0, \"rx\": 0.31, \"rz\": 0},\n",
    "    {\"x\": 50e-6, \"y\": 50e-6, \"z\": 0, \"rx\": 0.31, \"rz\": 0}\n",
    "]\n",
    "\n",
    "features = []\n",
    "for stage_position in stage_positions:\n",
    "    name = make_unique_name(f\"Feature-1\", [f.name.value for f in features])\n",
    "    feature = CryoFeature(name=name, stage_position=stage_position, fm_focus_position={\"z\": 0.169}, posture=MILLING)\n",
    "    feature.posture_positions[MILLING] = stage_position\n",
    "    features.append(feature)\n",
    "\n",
    "logging.info(f\"Created {len(features)} features\")"
   ]
  },
  {
   "cell_type": "code",
   "execution_count": null,
   "metadata": {},
   "outputs": [],
   "source": [
    "# configuration files\n",
    "CONFIGURATION_PATH = \"/home/patrick/development/openfibsem/fibsem/fibsem/config/odemis-configuration.yaml\"\n",
    "PROTOCOL_PATH = \"/home/patrick/development/openfibsem/autolamella/autolamella/protocol/protocol-odemis-on-grid.yaml\"\n",
    "ODEMIS_PROJECT_PATH = \"/home/patrick/Pictures/odemis-auto-milling-01\"\n",
    "\n",
    "# connect to microscope\n",
    "microscope, settings = utils.setup_session(config_path=CONFIGURATION_PATH, \n",
    "                                           protocol_path=PROTOCOL_PATH)\n",
    "\n",
    "# create experiment from odemis project\n",
    "protocol = validate_protocol(settings.protocol)\n",
    "experiment = create_experiment_from_odemis(ODEMIS_PROJECT_PATH, protocol=protocol)\n",
    "\n",
    "# add features to experiment\n",
    "experiment = add_features_to_experiment(\n",
    "                                        experiment=experiment, \n",
    "                                        features=features,\n",
    "                                        protocol=settings.protocol\n",
    "                                        )\n",
    "\n",
    "logging.info(f\"Updated Experiment: {experiment.name}, total: {len(experiment.positions)}\")"
   ]
  },
  {
   "cell_type": "code",
   "execution_count": null,
   "metadata": {},
   "outputs": [],
   "source": []
  },
  {
   "cell_type": "code",
   "execution_count": null,
   "metadata": {},
   "outputs": [],
   "source": [
    "from autolamella.structures import AutoLamellaStage\n",
    "stages_to_complete = [AutoLamellaStage.MillRoughCut]\n",
    "\n",
    "# run autolamella\n",
    "experiment = run_autolamella(microscope=microscope, \n",
    "                settings=settings, \n",
    "                experiment=experiment,\n",
    "                parent_ui=None, \n",
    "                stages_to_complete=stages_to_complete)\n",
    "\n",
    "# TODO: \n",
    "# update features after milling -> status update"
   ]
  },
  {
   "cell_type": "code",
   "execution_count": null,
   "metadata": {},
   "outputs": [],
   "source": [
    "from fibsem.util.filename import get_unique_filename\n",
    "filenames = [ \"test-image.ome.tiff\", \"test-image.tiff\", \"test-image.tif\"]\n",
    "\n",
    "# only support two extensions for now (ome.tiff, tiff)\n",
    "for filename in filenames:\n",
    "    \n",
    "    filename = get_unique_filename(filename)\n",
    "    print(filename)"
   ]
  },
  {
   "cell_type": "code",
   "execution_count": null,
   "metadata": {},
   "outputs": [],
   "source": []
  }
 ],
 "metadata": {
  "kernelspec": {
   "display_name": "fibsem-headless",
   "language": "python",
   "name": "python3"
  },
  "language_info": {
   "codemirror_mode": {
    "name": "ipython",
    "version": 3
   },
   "file_extension": ".py",
   "mimetype": "text/x-python",
   "name": "python",
   "nbconvert_exporter": "python",
   "pygments_lexer": "ipython3",
   "version": "3.9.19"
  }
 },
 "nbformat": 4,
 "nbformat_minor": 2
}
