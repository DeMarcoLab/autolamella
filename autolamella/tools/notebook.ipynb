{
 "cells": [
  {
   "cell_type": "code",
   "execution_count": 10,
   "metadata": {},
   "outputs": [
    {
     "name": "stdout",
     "output_type": "stream",
     "text": [
      "The autoreload extension is already loaded. To reload it, use:\n",
      "  %reload_ext autoreload\n"
     ]
    }
   ],
   "source": [
    "%load_ext autoreload\n",
    "%autoreload 2\n",
    "\n",
    "import os\n",
    "import sys\n",
    "import data\n",
    "import plotly.express as px\n",
    "import pandas   as pd\n"
   ]
  },
  {
   "cell_type": "code",
   "execution_count": 17,
   "metadata": {},
   "outputs": [
    {
     "name": "stdout",
     "output_type": "stream",
     "text": [
      "--------------------------------------------------------------------------------\n",
      "STATUS | 01-sought-pug | Setup | LAMELLA_ADDED\n",
      "{'lamella': '01-sought-pug', 'stage': 'Setup', 'step': 'LAMELLA_ADDED', 'timestamp': 1684193648.0, 'step_n': 0}\n",
      "STATUS | 01-sought-pug | Setup | MILLING_FIDUCIAL\n",
      "{'lamella': '01-sought-pug', 'stage': 'Setup', 'step': 'MILLING_FIDUCIAL', 'timestamp': 1684193651.0, 'step_n': 1}\n",
      "STATUS | 01-sought-pug | FiducialMilled | FIDUCIAL_MILLED_SUCCESSFULLY\n",
      "{'lamella': '01-sought-pug', 'stage': 'FiducialMilled', 'step': 'FIDUCIAL_MILLED_SUCCESSFULLY', 'timestamp': 1684193655.0, 'step_n': 2}\n",
      "STATUS | 02-loved-tapir | Setup | LAMELLA_ADDED\n",
      "{'lamella': '02-loved-tapir', 'stage': 'Setup', 'step': 'LAMELLA_ADDED', 'timestamp': 1684193667.0, 'step_n': 3}\n",
      "STATUS | 02-loved-tapir | Setup | MILLING_FIDUCIAL\n",
      "{'lamella': '02-loved-tapir', 'stage': 'Setup', 'step': 'MILLING_FIDUCIAL', 'timestamp': 1684193676.0, 'step_n': 4}\n",
      "STATUS | 02-loved-tapir | FiducialMilled | FIDUCIAL_MILLED_SUCCESSFULLY\n",
      "{'lamella': '02-loved-tapir', 'stage': 'FiducialMilled', 'step': 'FIDUCIAL_MILLED_SUCCESSFULLY', 'timestamp': 1684193680.0, 'step_n': 5}\n",
      "STATUS | 03-valued-ocelot | Setup | LAMELLA_ADDED\n",
      "{'lamella': '03-valued-ocelot', 'stage': 'Setup', 'step': 'LAMELLA_ADDED', 'timestamp': 1684193724.0, 'step_n': 6}\n",
      "STATUS | 03-valued-ocelot | Setup | MILLING_FIDUCIAL\n",
      "{'lamella': '03-valued-ocelot', 'stage': 'Setup', 'step': 'MILLING_FIDUCIAL', 'timestamp': 1684193728.0, 'step_n': 7}\n",
      "STATUS | 03-valued-ocelot | FiducialMilled | FIDUCIAL_MILLED_SUCCESSFULLY\n",
      "{'lamella': '03-valued-ocelot', 'stage': 'FiducialMilled', 'step': 'FIDUCIAL_MILLED_SUCCESSFULLY', 'timestamp': 1684193732.0, 'step_n': 8}\n",
      "STATUS | 03-valued-ocelot | FiducialMilled | REMILLING_FIDUCIAL\n",
      "{'lamella': '03-valued-ocelot', 'stage': 'FiducialMilled', 'step': 'REMILLING_FIDUCIAL', 'timestamp': 1684193776.0, 'step_n': 9}\n",
      "STATUS | 03-valued-ocelot | Setup | MILLING_FIDUCIAL\n",
      "{'lamella': '03-valued-ocelot', 'stage': 'Setup', 'step': 'MILLING_FIDUCIAL', 'timestamp': 1684193776.0, 'step_n': 10}\n",
      "STATUS | 03-valued-ocelot | FiducialMilled | FIDUCIAL_MILLED_SUCCESSFULLY\n",
      "{'lamella': '03-valued-ocelot', 'stage': 'FiducialMilled', 'step': 'FIDUCIAL_MILLED_SUCCESSFULLY', 'timestamp': 1684193780.0, 'step_n': 11}\n",
      "STATUS | 01-sought-pug | FiducialMilled | MOVING_TO_POSITION\n",
      "{'lamella': '01-sought-pug', 'stage': 'FiducialMilled', 'step': 'MOVING_TO_POSITION', 'timestamp': 1684193835.0, 'step_n': 12}\n",
      "STATUS | 01-sought-pug | FiducialMilled | MOVE_TO_POSITION_SUCCESSFUL\n",
      "{'lamella': '01-sought-pug', 'stage': 'FiducialMilled', 'step': 'MOVE_TO_POSITION_SUCCESSFUL', 'timestamp': 1684193835.0, 'step_n': 13}\n",
      "STATUS | 01-sought-pug | FiducialMilled | BEAM_ALIGNMENT\n",
      "{'lamella': '01-sought-pug', 'stage': 'FiducialMilled', 'step': 'BEAM_ALIGNMENT', 'timestamp': 1684193840.0, 'step_n': 14}\n",
      "STATUS | 01-sought-pug | FiducialMilled | BEAM_ALIGNMENT\n",
      "{'lamella': '01-sought-pug', 'stage': 'FiducialMilled', 'step': 'BEAM_ALIGNMENT', 'timestamp': 1684193841.0, 'step_n': 15}\n",
      "STATUS | 01-sought-pug | FiducialMilled | BEAM_ALIGNMENT\n",
      "{'lamella': '01-sought-pug', 'stage': 'FiducialMilled', 'step': 'BEAM_ALIGNMENT', 'timestamp': 1684193843.0, 'step_n': 16}\n",
      "STATUS | 01-sought-pug | FiducialMilled | MILLING_TRENCH\n",
      "{'lamella': '01-sought-pug', 'stage': 'FiducialMilled', 'step': 'MILLING_TRENCH', 'timestamp': 1684193844.0, 'step_n': 17}\n",
      "STATUS | 01-sought-pug | FiducialMilled | MILLING_COMPLETED_SUCCESSFULLY\n",
      "{'lamella': '01-sought-pug', 'stage': 'FiducialMilled', 'step': 'MILLING_COMPLETED_SUCCESSFULLY', 'timestamp': 1684193848.0, 'step_n': 18}\n",
      "STATUS | 01-sought-pug | RoughCut | STAGE_COMPLETE\n",
      "{'lamella': '01-sought-pug', 'stage': 'RoughCut', 'step': 'STAGE_COMPLETE', 'timestamp': 1684193854.0, 'step_n': 19}\n",
      "STATUS | 02-loved-tapir | FiducialMilled | MOVING_TO_POSITION\n",
      "{'lamella': '02-loved-tapir', 'stage': 'FiducialMilled', 'step': 'MOVING_TO_POSITION', 'timestamp': 1684193854.0, 'step_n': 20}\n",
      "STATUS | 02-loved-tapir | FiducialMilled | MOVE_TO_POSITION_SUCCESSFUL\n",
      "{'lamella': '02-loved-tapir', 'stage': 'FiducialMilled', 'step': 'MOVE_TO_POSITION_SUCCESSFUL', 'timestamp': 1684193854.0, 'step_n': 21}\n",
      "STATUS | 02-loved-tapir | FiducialMilled | BEAM_ALIGNMENT\n",
      "{'lamella': '02-loved-tapir', 'stage': 'FiducialMilled', 'step': 'BEAM_ALIGNMENT', 'timestamp': 1684193860.0, 'step_n': 22}\n",
      "STATUS | 02-loved-tapir | FiducialMilled | BEAM_ALIGNMENT\n",
      "{'lamella': '02-loved-tapir', 'stage': 'FiducialMilled', 'step': 'BEAM_ALIGNMENT', 'timestamp': 1684193861.0, 'step_n': 23}\n",
      "STATUS | 02-loved-tapir | FiducialMilled | BEAM_ALIGNMENT\n",
      "{'lamella': '02-loved-tapir', 'stage': 'FiducialMilled', 'step': 'BEAM_ALIGNMENT', 'timestamp': 1684193862.0, 'step_n': 24}\n",
      "STATUS | 02-loved-tapir | FiducialMilled | MILLING_TRENCH\n",
      "{'lamella': '02-loved-tapir', 'stage': 'FiducialMilled', 'step': 'MILLING_TRENCH', 'timestamp': 1684193863.0, 'step_n': 25}\n",
      "STATUS | 02-loved-tapir | FiducialMilled | MILLING_COMPLETED_SUCCESSFULLY\n",
      "{'lamella': '02-loved-tapir', 'stage': 'FiducialMilled', 'step': 'MILLING_COMPLETED_SUCCESSFULLY', 'timestamp': 1684193868.0, 'step_n': 26}\n",
      "STATUS | 02-loved-tapir | RoughCut | STAGE_COMPLETE\n",
      "{'lamella': '02-loved-tapir', 'stage': 'RoughCut', 'step': 'STAGE_COMPLETE', 'timestamp': 1684193873.0, 'step_n': 27}\n",
      "STATUS | 03-valued-ocelot | FiducialMilled | MOVING_TO_POSITION\n",
      "{'lamella': '03-valued-ocelot', 'stage': 'FiducialMilled', 'step': 'MOVING_TO_POSITION', 'timestamp': 1684193874.0, 'step_n': 28}\n",
      "STATUS | 03-valued-ocelot | FiducialMilled | MOVE_TO_POSITION_SUCCESSFUL\n",
      "{'lamella': '03-valued-ocelot', 'stage': 'FiducialMilled', 'step': 'MOVE_TO_POSITION_SUCCESSFUL', 'timestamp': 1684193874.0, 'step_n': 29}\n",
      "STATUS | 03-valued-ocelot | FiducialMilled | BEAM_ALIGNMENT\n",
      "{'lamella': '03-valued-ocelot', 'stage': 'FiducialMilled', 'step': 'BEAM_ALIGNMENT', 'timestamp': 1684193879.0, 'step_n': 30}\n",
      "STATUS | 03-valued-ocelot | FiducialMilled | BEAM_ALIGNMENT\n",
      "{'lamella': '03-valued-ocelot', 'stage': 'FiducialMilled', 'step': 'BEAM_ALIGNMENT', 'timestamp': 1684193880.0, 'step_n': 31}\n",
      "STATUS | 03-valued-ocelot | FiducialMilled | BEAM_ALIGNMENT\n",
      "{'lamella': '03-valued-ocelot', 'stage': 'FiducialMilled', 'step': 'BEAM_ALIGNMENT', 'timestamp': 1684193882.0, 'step_n': 32}\n",
      "STATUS | 03-valued-ocelot | FiducialMilled | MILLING_TRENCH\n",
      "{'lamella': '03-valued-ocelot', 'stage': 'FiducialMilled', 'step': 'MILLING_TRENCH', 'timestamp': 1684193883.0, 'step_n': 33}\n",
      "STATUS | 03-valued-ocelot | FiducialMilled | MILLING_COMPLETED_SUCCESSFULLY\n",
      "{'lamella': '03-valued-ocelot', 'stage': 'FiducialMilled', 'step': 'MILLING_COMPLETED_SUCCESSFULLY', 'timestamp': 1684193887.0, 'step_n': 34}\n",
      "STATUS | 03-valued-ocelot | RoughCut | STAGE_COMPLETE\n",
      "{'lamella': '03-valued-ocelot', 'stage': 'RoughCut', 'step': 'STAGE_COMPLETE', 'timestamp': 1684193893.0, 'step_n': 35}\n",
      "STATUS | 01-sought-pug | RoughCut | MOVING_TO_POSITION\n",
      "{'lamella': '01-sought-pug', 'stage': 'RoughCut', 'step': 'MOVING_TO_POSITION', 'timestamp': 1684193893.0, 'step_n': 36}\n",
      "STATUS | 01-sought-pug | RoughCut | MOVE_TO_POSITION_SUCCESSFUL\n",
      "{'lamella': '01-sought-pug', 'stage': 'RoughCut', 'step': 'MOVE_TO_POSITION_SUCCESSFUL', 'timestamp': 1684193893.0, 'step_n': 37}\n",
      "STATUS | 01-sought-pug | RoughCut | BEAM_ALIGNMENT\n",
      "{'lamella': '01-sought-pug', 'stage': 'RoughCut', 'step': 'BEAM_ALIGNMENT', 'timestamp': 1684193899.0, 'step_n': 38}\n",
      "STATUS | 01-sought-pug | RoughCut | BEAM_ALIGNMENT\n",
      "{'lamella': '01-sought-pug', 'stage': 'RoughCut', 'step': 'BEAM_ALIGNMENT', 'timestamp': 1684193900.0, 'step_n': 39}\n",
      "STATUS | 01-sought-pug | RoughCut | BEAM_ALIGNMENT\n",
      "{'lamella': '01-sought-pug', 'stage': 'RoughCut', 'step': 'BEAM_ALIGNMENT', 'timestamp': 1684193901.0, 'step_n': 40}\n",
      "STATUS | 01-sought-pug | RoughCut | MILLING_TRENCH\n",
      "{'lamella': '01-sought-pug', 'stage': 'RoughCut', 'step': 'MILLING_TRENCH', 'timestamp': 1684193902.0, 'step_n': 41}\n",
      "STATUS | 01-sought-pug | RoughCut | MILLING_COMPLETED_SUCCESSFULLY\n",
      "{'lamella': '01-sought-pug', 'stage': 'RoughCut', 'step': 'MILLING_COMPLETED_SUCCESSFULLY', 'timestamp': 1684193906.0, 'step_n': 42}\n",
      "STATUS | 01-sought-pug | RegularCut | STAGE_COMPLETE\n",
      "{'lamella': '01-sought-pug', 'stage': 'RegularCut', 'step': 'STAGE_COMPLETE', 'timestamp': 1684193912.0, 'step_n': 43}\n",
      "STATUS | 02-loved-tapir | RoughCut | MOVING_TO_POSITION\n",
      "{'lamella': '02-loved-tapir', 'stage': 'RoughCut', 'step': 'MOVING_TO_POSITION', 'timestamp': 1684193912.0, 'step_n': 44}\n",
      "STATUS | 02-loved-tapir | RoughCut | MOVE_TO_POSITION_SUCCESSFUL\n",
      "{'lamella': '02-loved-tapir', 'stage': 'RoughCut', 'step': 'MOVE_TO_POSITION_SUCCESSFUL', 'timestamp': 1684193912.0, 'step_n': 45}\n",
      "STATUS | 02-loved-tapir | RoughCut | BEAM_ALIGNMENT\n",
      "{'lamella': '02-loved-tapir', 'stage': 'RoughCut', 'step': 'BEAM_ALIGNMENT', 'timestamp': 1684193918.0, 'step_n': 46}\n",
      "STATUS | 02-loved-tapir | RoughCut | BEAM_ALIGNMENT\n",
      "{'lamella': '02-loved-tapir', 'stage': 'RoughCut', 'step': 'BEAM_ALIGNMENT', 'timestamp': 1684193919.0, 'step_n': 47}\n",
      "STATUS | 02-loved-tapir | RoughCut | BEAM_ALIGNMENT\n",
      "{'lamella': '02-loved-tapir', 'stage': 'RoughCut', 'step': 'BEAM_ALIGNMENT', 'timestamp': 1684193920.0, 'step_n': 48}\n",
      "STATUS | 02-loved-tapir | RoughCut | MILLING_TRENCH\n",
      "{'lamella': '02-loved-tapir', 'stage': 'RoughCut', 'step': 'MILLING_TRENCH', 'timestamp': 1684193921.0, 'step_n': 49}\n",
      "STATUS | 02-loved-tapir | RoughCut | MILLING_COMPLETED_SUCCESSFULLY\n",
      "{'lamella': '02-loved-tapir', 'stage': 'RoughCut', 'step': 'MILLING_COMPLETED_SUCCESSFULLY', 'timestamp': 1684193926.0, 'step_n': 50}\n",
      "STATUS | 02-loved-tapir | RegularCut | STAGE_COMPLETE\n",
      "{'lamella': '02-loved-tapir', 'stage': 'RegularCut', 'step': 'STAGE_COMPLETE', 'timestamp': 1684193931.0, 'step_n': 51}\n",
      "STATUS | 03-valued-ocelot | RoughCut | MOVING_TO_POSITION\n",
      "{'lamella': '03-valued-ocelot', 'stage': 'RoughCut', 'step': 'MOVING_TO_POSITION', 'timestamp': 1684193932.0, 'step_n': 52}\n",
      "STATUS | 03-valued-ocelot | RoughCut | MOVE_TO_POSITION_SUCCESSFUL\n",
      "{'lamella': '03-valued-ocelot', 'stage': 'RoughCut', 'step': 'MOVE_TO_POSITION_SUCCESSFUL', 'timestamp': 1684193932.0, 'step_n': 53}\n",
      "STATUS | 03-valued-ocelot | RoughCut | BEAM_ALIGNMENT\n",
      "{'lamella': '03-valued-ocelot', 'stage': 'RoughCut', 'step': 'BEAM_ALIGNMENT', 'timestamp': 1684193937.0, 'step_n': 54}\n",
      "STATUS | 03-valued-ocelot | RoughCut | BEAM_ALIGNMENT\n",
      "{'lamella': '03-valued-ocelot', 'stage': 'RoughCut', 'step': 'BEAM_ALIGNMENT', 'timestamp': 1684193938.0, 'step_n': 55}\n",
      "STATUS | 03-valued-ocelot | RoughCut | BEAM_ALIGNMENT\n",
      "{'lamella': '03-valued-ocelot', 'stage': 'RoughCut', 'step': 'BEAM_ALIGNMENT', 'timestamp': 1684193940.0, 'step_n': 56}\n",
      "STATUS | 03-valued-ocelot | RoughCut | MILLING_TRENCH\n",
      "{'lamella': '03-valued-ocelot', 'stage': 'RoughCut', 'step': 'MILLING_TRENCH', 'timestamp': 1684193941.0, 'step_n': 57}\n",
      "STATUS | 03-valued-ocelot | RoughCut | MILLING_COMPLETED_SUCCESSFULLY\n",
      "{'lamella': '03-valued-ocelot', 'stage': 'RoughCut', 'step': 'MILLING_COMPLETED_SUCCESSFULLY', 'timestamp': 1684193945.0, 'step_n': 58}\n",
      "STATUS | 03-valued-ocelot | RegularCut | STAGE_COMPLETE\n",
      "{'lamella': '03-valued-ocelot', 'stage': 'RegularCut', 'step': 'STAGE_COMPLETE', 'timestamp': 1684193951.0, 'step_n': 59}\n",
      "STATUS | 01-sought-pug | RegularCut | MOVING_TO_POSITION\n",
      "{'lamella': '01-sought-pug', 'stage': 'RegularCut', 'step': 'MOVING_TO_POSITION', 'timestamp': 1684193951.0, 'step_n': 60}\n",
      "STATUS | 01-sought-pug | RegularCut | MOVE_TO_POSITION_SUCCESSFUL\n",
      "{'lamella': '01-sought-pug', 'stage': 'RegularCut', 'step': 'MOVE_TO_POSITION_SUCCESSFUL', 'timestamp': 1684193951.0, 'step_n': 61}\n",
      "STATUS | 01-sought-pug | RegularCut | BEAM_ALIGNMENT\n",
      "{'lamella': '01-sought-pug', 'stage': 'RegularCut', 'step': 'BEAM_ALIGNMENT', 'timestamp': 1684193957.0, 'step_n': 62}\n",
      "STATUS | 01-sought-pug | RegularCut | BEAM_ALIGNMENT\n",
      "{'lamella': '01-sought-pug', 'stage': 'RegularCut', 'step': 'BEAM_ALIGNMENT', 'timestamp': 1684193958.0, 'step_n': 63}\n",
      "STATUS | 01-sought-pug | RegularCut | BEAM_ALIGNMENT\n",
      "{'lamella': '01-sought-pug', 'stage': 'RegularCut', 'step': 'BEAM_ALIGNMENT', 'timestamp': 1684193959.0, 'step_n': 64}\n",
      "STATUS | 01-sought-pug | RegularCut | MILLING_TRENCH\n",
      "{'lamella': '01-sought-pug', 'stage': 'RegularCut', 'step': 'MILLING_TRENCH', 'timestamp': 1684193960.0, 'step_n': 65}\n",
      "STATUS | 01-sought-pug | RegularCut | MILLING_COMPLETED_SUCCESSFULLY\n",
      "{'lamella': '01-sought-pug', 'stage': 'RegularCut', 'step': 'MILLING_COMPLETED_SUCCESSFULLY', 'timestamp': 1684193965.0, 'step_n': 66}\n",
      "STATUS | 01-sought-pug | PolishingCut | STAGE_COMPLETE\n",
      "{'lamella': '01-sought-pug', 'stage': 'PolishingCut', 'step': 'STAGE_COMPLETE', 'timestamp': 1684193970.0, 'step_n': 67}\n",
      "STATUS | 02-loved-tapir | RegularCut | MOVING_TO_POSITION\n",
      "{'lamella': '02-loved-tapir', 'stage': 'RegularCut', 'step': 'MOVING_TO_POSITION', 'timestamp': 1684193970.0, 'step_n': 68}\n",
      "STATUS | 02-loved-tapir | RegularCut | MOVE_TO_POSITION_SUCCESSFUL\n",
      "{'lamella': '02-loved-tapir', 'stage': 'RegularCut', 'step': 'MOVE_TO_POSITION_SUCCESSFUL', 'timestamp': 1684193971.0, 'step_n': 69}\n",
      "STATUS | 02-loved-tapir | RegularCut | BEAM_ALIGNMENT\n",
      "{'lamella': '02-loved-tapir', 'stage': 'RegularCut', 'step': 'BEAM_ALIGNMENT', 'timestamp': 1684193976.0, 'step_n': 70}\n",
      "STATUS | 02-loved-tapir | RegularCut | BEAM_ALIGNMENT\n",
      "{'lamella': '02-loved-tapir', 'stage': 'RegularCut', 'step': 'BEAM_ALIGNMENT', 'timestamp': 1684193977.0, 'step_n': 71}\n",
      "STATUS | 02-loved-tapir | RegularCut | BEAM_ALIGNMENT\n",
      "{'lamella': '02-loved-tapir', 'stage': 'RegularCut', 'step': 'BEAM_ALIGNMENT', 'timestamp': 1684193978.0, 'step_n': 72}\n",
      "STATUS | 02-loved-tapir | RegularCut | MILLING_TRENCH\n",
      "{'lamella': '02-loved-tapir', 'stage': 'RegularCut', 'step': 'MILLING_TRENCH', 'timestamp': 1684193980.0, 'step_n': 73}\n",
      "STATUS | 02-loved-tapir | RegularCut | MILLING_COMPLETED_SUCCESSFULLY\n",
      "{'lamella': '02-loved-tapir', 'stage': 'RegularCut', 'step': 'MILLING_COMPLETED_SUCCESSFULLY', 'timestamp': 1684193984.0, 'step_n': 74}\n",
      "STATUS | 02-loved-tapir | PolishingCut | STAGE_COMPLETE\n",
      "{'lamella': '02-loved-tapir', 'stage': 'PolishingCut', 'step': 'STAGE_COMPLETE', 'timestamp': 1684193990.0, 'step_n': 75}\n",
      "STATUS | 03-valued-ocelot | RegularCut | MOVING_TO_POSITION\n",
      "{'lamella': '03-valued-ocelot', 'stage': 'RegularCut', 'step': 'MOVING_TO_POSITION', 'timestamp': 1684193990.0, 'step_n': 76}\n",
      "STATUS | 03-valued-ocelot | RegularCut | MOVE_TO_POSITION_SUCCESSFUL\n",
      "{'lamella': '03-valued-ocelot', 'stage': 'RegularCut', 'step': 'MOVE_TO_POSITION_SUCCESSFUL', 'timestamp': 1684193990.0, 'step_n': 77}\n",
      "STATUS | 03-valued-ocelot | RegularCut | BEAM_ALIGNMENT\n",
      "{'lamella': '03-valued-ocelot', 'stage': 'RegularCut', 'step': 'BEAM_ALIGNMENT', 'timestamp': 1684193996.0, 'step_n': 78}\n",
      "STATUS | 03-valued-ocelot | RegularCut | BEAM_ALIGNMENT\n",
      "{'lamella': '03-valued-ocelot', 'stage': 'RegularCut', 'step': 'BEAM_ALIGNMENT', 'timestamp': 1684193997.0, 'step_n': 79}\n",
      "STATUS | 03-valued-ocelot | RegularCut | BEAM_ALIGNMENT\n",
      "{'lamella': '03-valued-ocelot', 'stage': 'RegularCut', 'step': 'BEAM_ALIGNMENT', 'timestamp': 1684193998.0, 'step_n': 80}\n",
      "STATUS | 03-valued-ocelot | RegularCut | MILLING_TRENCH\n",
      "{'lamella': '03-valued-ocelot', 'stage': 'RegularCut', 'step': 'MILLING_TRENCH', 'timestamp': 1684193999.0, 'step_n': 81}\n",
      "STATUS | 03-valued-ocelot | RegularCut | MILLING_COMPLETED_SUCCESSFULLY\n",
      "{'lamella': '03-valued-ocelot', 'stage': 'RegularCut', 'step': 'MILLING_COMPLETED_SUCCESSFULLY', 'timestamp': 1684194003.0, 'step_n': 82}\n",
      "STATUS | 03-valued-ocelot | PolishingCut | STAGE_COMPLETE\n",
      "{'lamella': '03-valued-ocelot', 'stage': 'PolishingCut', 'step': 'STAGE_COMPLETE', 'timestamp': 1684194009.0, 'step_n': 83}\n",
      "STATUS | 04-cute-wolf | Setup | LAMELLA_ADDED\n",
      "{'lamella': '04-cute-wolf', 'stage': 'Setup', 'step': 'LAMELLA_ADDED', 'timestamp': 1684194159.0, 'step_n': 84}\n",
      "STATUS | 04-cute-wolf | Setup | MILLING_FIDUCIAL\n",
      "{'lamella': '04-cute-wolf', 'stage': 'Setup', 'step': 'MILLING_FIDUCIAL', 'timestamp': 1684194162.0, 'step_n': 85}\n",
      "STATUS | 04-cute-wolf | FiducialMilled | FIDUCIAL_MILLED_SUCCESSFULLY\n",
      "{'lamella': '04-cute-wolf', 'stage': 'FiducialMilled', 'step': 'FIDUCIAL_MILLED_SUCCESSFULLY', 'timestamp': 1684194166.0, 'step_n': 86}\n",
      "STATUS | 04-cute-wolf | FiducialMilled | MOVING_TO_POSITION\n",
      "{'lamella': '04-cute-wolf', 'stage': 'FiducialMilled', 'step': 'MOVING_TO_POSITION', 'timestamp': 1684194171.0, 'step_n': 87}\n",
      "STATUS | 04-cute-wolf | FiducialMilled | MOVE_TO_POSITION_SUCCESSFUL\n",
      "{'lamella': '04-cute-wolf', 'stage': 'FiducialMilled', 'step': 'MOVE_TO_POSITION_SUCCESSFUL', 'timestamp': 1684194172.0, 'step_n': 88}\n",
      "STATUS | 04-cute-wolf | FiducialMilled | BEAM_ALIGNMENT\n",
      "{'lamella': '04-cute-wolf', 'stage': 'FiducialMilled', 'step': 'BEAM_ALIGNMENT', 'timestamp': 1684194177.0, 'step_n': 89}\n",
      "STATUS | 04-cute-wolf | FiducialMilled | BEAM_ALIGNMENT\n",
      "{'lamella': '04-cute-wolf', 'stage': 'FiducialMilled', 'step': 'BEAM_ALIGNMENT', 'timestamp': 1684194178.0, 'step_n': 90}\n",
      "STATUS | 04-cute-wolf | FiducialMilled | BEAM_ALIGNMENT\n",
      "{'lamella': '04-cute-wolf', 'stage': 'FiducialMilled', 'step': 'BEAM_ALIGNMENT', 'timestamp': 1684194179.0, 'step_n': 91}\n",
      "STATUS | 04-cute-wolf | FiducialMilled | MILLING_TRENCH\n",
      "{'lamella': '04-cute-wolf', 'stage': 'FiducialMilled', 'step': 'MILLING_TRENCH', 'timestamp': 1684194181.0, 'step_n': 92}\n",
      "STATUS | 04-cute-wolf | FiducialMilled | MILLING_COMPLETED_SUCCESSFULLY\n",
      "{'lamella': '04-cute-wolf', 'stage': 'FiducialMilled', 'step': 'MILLING_COMPLETED_SUCCESSFULLY', 'timestamp': 1684194185.0, 'step_n': 93}\n",
      "STATUS | 04-cute-wolf | RoughCut | STAGE_COMPLETE\n",
      "{'lamella': '04-cute-wolf', 'stage': 'RoughCut', 'step': 'STAGE_COMPLETE', 'timestamp': 1684194191.0, 'step_n': 94}\n",
      "STATUS | 04-cute-wolf | RoughCut | MOVING_TO_POSITION\n",
      "{'lamella': '04-cute-wolf', 'stage': 'RoughCut', 'step': 'MOVING_TO_POSITION', 'timestamp': 1684194191.0, 'step_n': 95}\n",
      "STATUS | 04-cute-wolf | RoughCut | MOVE_TO_POSITION_SUCCESSFUL\n",
      "{'lamella': '04-cute-wolf', 'stage': 'RoughCut', 'step': 'MOVE_TO_POSITION_SUCCESSFUL', 'timestamp': 1684194191.0, 'step_n': 96}\n",
      "STATUS | 04-cute-wolf | RoughCut | BEAM_ALIGNMENT\n",
      "{'lamella': '04-cute-wolf', 'stage': 'RoughCut', 'step': 'BEAM_ALIGNMENT', 'timestamp': 1684194197.0, 'step_n': 97}\n",
      "STATUS | 04-cute-wolf | RoughCut | BEAM_ALIGNMENT\n",
      "{'lamella': '04-cute-wolf', 'stage': 'RoughCut', 'step': 'BEAM_ALIGNMENT', 'timestamp': 1684194198.0, 'step_n': 98}\n",
      "STATUS | 04-cute-wolf | RoughCut | BEAM_ALIGNMENT\n",
      "{'lamella': '04-cute-wolf', 'stage': 'RoughCut', 'step': 'BEAM_ALIGNMENT', 'timestamp': 1684194199.0, 'step_n': 99}\n",
      "STATUS | 04-cute-wolf | RoughCut | MILLING_TRENCH\n",
      "{'lamella': '04-cute-wolf', 'stage': 'RoughCut', 'step': 'MILLING_TRENCH', 'timestamp': 1684194200.0, 'step_n': 100}\n",
      "STATUS | 04-cute-wolf | RoughCut | MILLING_COMPLETED_SUCCESSFULLY\n",
      "{'lamella': '04-cute-wolf', 'stage': 'RoughCut', 'step': 'MILLING_COMPLETED_SUCCESSFULLY', 'timestamp': 1684194204.0, 'step_n': 101}\n",
      "STATUS | 04-cute-wolf | RegularCut | STAGE_COMPLETE\n",
      "{'lamella': '04-cute-wolf', 'stage': 'RegularCut', 'step': 'STAGE_COMPLETE', 'timestamp': 1684194210.0, 'step_n': 102}\n",
      "STATUS | 04-cute-wolf | RegularCut | MOVING_TO_POSITION\n",
      "{'lamella': '04-cute-wolf', 'stage': 'RegularCut', 'step': 'MOVING_TO_POSITION', 'timestamp': 1684194210.0, 'step_n': 103}\n",
      "STATUS | 04-cute-wolf | RegularCut | MOVE_TO_POSITION_SUCCESSFUL\n",
      "{'lamella': '04-cute-wolf', 'stage': 'RegularCut', 'step': 'MOVE_TO_POSITION_SUCCESSFUL', 'timestamp': 1684194211.0, 'step_n': 104}\n",
      "STATUS | 04-cute-wolf | RegularCut | BEAM_ALIGNMENT\n",
      "{'lamella': '04-cute-wolf', 'stage': 'RegularCut', 'step': 'BEAM_ALIGNMENT', 'timestamp': 1684194216.0, 'step_n': 105}\n",
      "STATUS | 04-cute-wolf | RegularCut | BEAM_ALIGNMENT\n",
      "{'lamella': '04-cute-wolf', 'stage': 'RegularCut', 'step': 'BEAM_ALIGNMENT', 'timestamp': 1684194217.0, 'step_n': 106}\n",
      "STATUS | 04-cute-wolf | RegularCut | BEAM_ALIGNMENT\n",
      "{'lamella': '04-cute-wolf', 'stage': 'RegularCut', 'step': 'BEAM_ALIGNMENT', 'timestamp': 1684194218.0, 'step_n': 107}\n",
      "STATUS | 04-cute-wolf | RegularCut | MILLING_TRENCH\n",
      "{'lamella': '04-cute-wolf', 'stage': 'RegularCut', 'step': 'MILLING_TRENCH', 'timestamp': 1684194220.0, 'step_n': 108}\n",
      "STATUS | 04-cute-wolf | RegularCut | MILLING_COMPLETED_SUCCESSFULLY\n",
      "{'lamella': '04-cute-wolf', 'stage': 'RegularCut', 'step': 'MILLING_COMPLETED_SUCCESSFULLY', 'timestamp': 1684194224.0, 'step_n': 109}\n",
      "STATUS | 04-cute-wolf | PolishingCut | STAGE_COMPLETE\n",
      "{'lamella': '04-cute-wolf', 'stage': 'PolishingCut', 'step': 'STAGE_COMPLETE', 'timestamp': 1684194230.0, 'step_n': 110}\n"
     ]
    },
    {
     "data": {
      "text/html": [
       "<div>\n",
       "<style scoped>\n",
       "    .dataframe tbody tr th:only-of-type {\n",
       "        vertical-align: middle;\n",
       "    }\n",
       "\n",
       "    .dataframe tbody tr th {\n",
       "        vertical-align: top;\n",
       "    }\n",
       "\n",
       "    .dataframe thead th {\n",
       "        text-align: right;\n",
       "    }\n",
       "</style>\n",
       "<table border=\"1\" class=\"dataframe\">\n",
       "  <thead>\n",
       "    <tr style=\"text-align: right;\">\n",
       "      <th></th>\n",
       "      <th>experiment_name</th>\n",
       "      <th>experiment_path</th>\n",
       "      <th>number</th>\n",
       "      <th>path</th>\n",
       "      <th>lamella.x</th>\n",
       "      <th>lamella.y</th>\n",
       "      <th>lamella.z</th>\n",
       "      <th>lamella.r</th>\n",
       "      <th>lamella.t</th>\n",
       "      <th>lamella.centre</th>\n",
       "      <th>lamella.history</th>\n",
       "      <th>fiducial.centre</th>\n",
       "      <th>last_timestamp</th>\n",
       "      <th>name</th>\n",
       "    </tr>\n",
       "  </thead>\n",
       "  <tbody>\n",
       "    <tr>\n",
       "      <th>0</th>\n",
       "      <td>1</td>\n",
       "      <td>C:/Users/lnae0002/Desktop/autolamella/autolame...</td>\n",
       "      <td>1</td>\n",
       "      <td>C:/Users/lnae0002/Desktop/autolamella/autolame...</td>\n",
       "      <td>0.006021</td>\n",
       "      <td>0.002948</td>\n",
       "      <td>0.060193</td>\n",
       "      <td>0.0</td>\n",
       "      <td>0.0</td>\n",
       "      <td>(0.0, 0.0)</td>\n",
       "      <td>[LamellaState(microscope_state=MicroscopeState...</td>\n",
       "      <td>(-2.666666666666667e-05, 0.0)</td>\n",
       "      <td>1.684194e+09</td>\n",
       "      <td>1</td>\n",
       "    </tr>\n",
       "    <tr>\n",
       "      <th>1</th>\n",
       "      <td>1</td>\n",
       "      <td>C:/Users/lnae0002/Desktop/autolamella/autolame...</td>\n",
       "      <td>2</td>\n",
       "      <td>C:/Users/lnae0002/Desktop/autolamella/autolame...</td>\n",
       "      <td>0.006021</td>\n",
       "      <td>0.002948</td>\n",
       "      <td>0.060193</td>\n",
       "      <td>0.0</td>\n",
       "      <td>0.0</td>\n",
       "      <td>(1.5960651838178607e-05, 6.53935202508558e-06)</td>\n",
       "      <td>[LamellaState(microscope_state=MicroscopeState...</td>\n",
       "      <td>(-2.4548608494209575e-05, 1.1747685496392617e-05)</td>\n",
       "      <td>1.684194e+09</td>\n",
       "      <td>1</td>\n",
       "    </tr>\n",
       "    <tr>\n",
       "      <th>2</th>\n",
       "      <td>1</td>\n",
       "      <td>C:/Users/lnae0002/Desktop/autolamella/autolame...</td>\n",
       "      <td>3</td>\n",
       "      <td>C:/Users/lnae0002/Desktop/autolamella/autolame...</td>\n",
       "      <td>0.006021</td>\n",
       "      <td>0.002948</td>\n",
       "      <td>0.060193</td>\n",
       "      <td>0.0</td>\n",
       "      <td>0.0</td>\n",
       "      <td>(1.5960651838178607e-05, 6.53935202508558e-06)</td>\n",
       "      <td>[LamellaState(microscope_state=MicroscopeState...</td>\n",
       "      <td>(-2.4548608494209575e-05, 1.1747685496392617e-05)</td>\n",
       "      <td>1.684194e+09</td>\n",
       "      <td>1</td>\n",
       "    </tr>\n",
       "    <tr>\n",
       "      <th>3</th>\n",
       "      <td>1</td>\n",
       "      <td>C:/Users/lnae0002/Desktop/autolamella/autolame...</td>\n",
       "      <td>4</td>\n",
       "      <td>C:/Users/lnae0002/Desktop/autolamella/autolame...</td>\n",
       "      <td>0.006021</td>\n",
       "      <td>0.002948</td>\n",
       "      <td>0.060193</td>\n",
       "      <td>0.0</td>\n",
       "      <td>0.0</td>\n",
       "      <td>(1.5960651838178607e-05, 6.53935202508558e-06)</td>\n",
       "      <td>[LamellaState(microscope_state=MicroscopeState...</td>\n",
       "      <td>(-2.4548608494209575e-05, 1.1747685496392617e-05)</td>\n",
       "      <td>1.684194e+09</td>\n",
       "      <td>1</td>\n",
       "    </tr>\n",
       "  </tbody>\n",
       "</table>\n",
       "</div>"
      ],
      "text/plain": [
       "  experiment_name                                    experiment_path  number  \\\n",
       "0               1  C:/Users/lnae0002/Desktop/autolamella/autolame...       1   \n",
       "1               1  C:/Users/lnae0002/Desktop/autolamella/autolame...       2   \n",
       "2               1  C:/Users/lnae0002/Desktop/autolamella/autolame...       3   \n",
       "3               1  C:/Users/lnae0002/Desktop/autolamella/autolame...       4   \n",
       "\n",
       "                                                path  lamella.x  lamella.y  \\\n",
       "0  C:/Users/lnae0002/Desktop/autolamella/autolame...   0.006021   0.002948   \n",
       "1  C:/Users/lnae0002/Desktop/autolamella/autolame...   0.006021   0.002948   \n",
       "2  C:/Users/lnae0002/Desktop/autolamella/autolame...   0.006021   0.002948   \n",
       "3  C:/Users/lnae0002/Desktop/autolamella/autolame...   0.006021   0.002948   \n",
       "\n",
       "   lamella.z  lamella.r  lamella.t  \\\n",
       "0   0.060193        0.0        0.0   \n",
       "1   0.060193        0.0        0.0   \n",
       "2   0.060193        0.0        0.0   \n",
       "3   0.060193        0.0        0.0   \n",
       "\n",
       "                                   lamella.centre  \\\n",
       "0                                      (0.0, 0.0)   \n",
       "1  (1.5960651838178607e-05, 6.53935202508558e-06)   \n",
       "2  (1.5960651838178607e-05, 6.53935202508558e-06)   \n",
       "3  (1.5960651838178607e-05, 6.53935202508558e-06)   \n",
       "\n",
       "                                     lamella.history  \\\n",
       "0  [LamellaState(microscope_state=MicroscopeState...   \n",
       "1  [LamellaState(microscope_state=MicroscopeState...   \n",
       "2  [LamellaState(microscope_state=MicroscopeState...   \n",
       "3  [LamellaState(microscope_state=MicroscopeState...   \n",
       "\n",
       "                                     fiducial.centre  last_timestamp name  \n",
       "0                      (-2.666666666666667e-05, 0.0)    1.684194e+09    1  \n",
       "1  (-2.4548608494209575e-05, 1.1747685496392617e-05)    1.684194e+09    1  \n",
       "2  (-2.4548608494209575e-05, 1.1747685496392617e-05)    1.684194e+09    1  \n",
       "3  (-2.4548608494209575e-05, 1.1747685496392617e-05)    1.684194e+09    1  "
      ]
     },
     "metadata": {},
     "output_type": "display_data"
    }
   ],
   "source": [
    "path = r\"C:\\Users\\lnae0002\\Desktop\\autolamella\\autolamella\\log\\1\"\n",
    "\n",
    "df_sample, df_history, df_shift, df_steps  = data.calculate_statistics_dataframe(path)\n",
    "display(df_sample)"
   ]
  },
  {
   "cell_type": "code",
   "execution_count": 8,
   "metadata": {},
   "outputs": [
    {
     "data": {
      "text/html": [
       "<div>\n",
       "<style scoped>\n",
       "    .dataframe tbody tr th:only-of-type {\n",
       "        vertical-align: middle;\n",
       "    }\n",
       "\n",
       "    .dataframe tbody tr th {\n",
       "        vertical-align: top;\n",
       "    }\n",
       "\n",
       "    .dataframe thead th {\n",
       "        text-align: right;\n",
       "    }\n",
       "</style>\n",
       "<table border=\"1\" class=\"dataframe\">\n",
       "  <thead>\n",
       "    <tr style=\"text-align: right;\">\n",
       "      <th></th>\n",
       "      <th>lamella</th>\n",
       "      <th>stage</th>\n",
       "      <th>step</th>\n",
       "      <th>timestamp</th>\n",
       "      <th>step_n</th>\n",
       "    </tr>\n",
       "  </thead>\n",
       "  <tbody>\n",
       "    <tr>\n",
       "      <th>0</th>\n",
       "      <td>01-brief-lark</td>\n",
       "      <td>Setup</td>\n",
       "      <td>LAMELLA_ADDED</td>\n",
       "      <td>1.683602e+09</td>\n",
       "      <td>0</td>\n",
       "    </tr>\n",
       "    <tr>\n",
       "      <th>1</th>\n",
       "      <td>01-brief-lark</td>\n",
       "      <td>Setup</td>\n",
       "      <td>MILLING_FIDUCIAL</td>\n",
       "      <td>1.683602e+09</td>\n",
       "      <td>1</td>\n",
       "    </tr>\n",
       "    <tr>\n",
       "      <th>2</th>\n",
       "      <td>01-brief-lark</td>\n",
       "      <td>FiducialMilled</td>\n",
       "      <td>FIDUCIAL_MILLED_SUCCESSFULLY</td>\n",
       "      <td>1.683602e+09</td>\n",
       "      <td>2</td>\n",
       "    </tr>\n",
       "    <tr>\n",
       "      <th>3</th>\n",
       "      <td>02-grand-mouse</td>\n",
       "      <td>Setup</td>\n",
       "      <td>LAMELLA_ADDED</td>\n",
       "      <td>1.683602e+09</td>\n",
       "      <td>3</td>\n",
       "    </tr>\n",
       "    <tr>\n",
       "      <th>4</th>\n",
       "      <td>02-grand-mouse</td>\n",
       "      <td>Setup</td>\n",
       "      <td>MILLING_FIDUCIAL</td>\n",
       "      <td>1.683602e+09</td>\n",
       "      <td>4</td>\n",
       "    </tr>\n",
       "    <tr>\n",
       "      <th>...</th>\n",
       "      <td>...</td>\n",
       "      <td>...</td>\n",
       "      <td>...</td>\n",
       "      <td>...</td>\n",
       "      <td>...</td>\n",
       "    </tr>\n",
       "    <tr>\n",
       "      <th>100</th>\n",
       "      <td>05-alert-prawn</td>\n",
       "      <td>RegularCut</td>\n",
       "      <td>BEAM_ALIGNMENT</td>\n",
       "      <td>1.683605e+09</td>\n",
       "      <td>100</td>\n",
       "    </tr>\n",
       "    <tr>\n",
       "      <th>101</th>\n",
       "      <td>05-alert-prawn</td>\n",
       "      <td>RegularCut</td>\n",
       "      <td>BEAM_ALIGNMENT</td>\n",
       "      <td>1.683605e+09</td>\n",
       "      <td>101</td>\n",
       "    </tr>\n",
       "    <tr>\n",
       "      <th>102</th>\n",
       "      <td>05-alert-prawn</td>\n",
       "      <td>RegularCut</td>\n",
       "      <td>BEAM_ALIGNMENT</td>\n",
       "      <td>1.683605e+09</td>\n",
       "      <td>102</td>\n",
       "    </tr>\n",
       "    <tr>\n",
       "      <th>103</th>\n",
       "      <td>05-alert-prawn</td>\n",
       "      <td>RegularCut</td>\n",
       "      <td>MILLING_TRENCH PolishingCut</td>\n",
       "      <td>1.683605e+09</td>\n",
       "      <td>103</td>\n",
       "    </tr>\n",
       "    <tr>\n",
       "      <th>104</th>\n",
       "      <td>05-alert-prawn</td>\n",
       "      <td>RegularCut</td>\n",
       "      <td>PolishingCut_COMPLETED_SUCCESSFULLY</td>\n",
       "      <td>1.683605e+09</td>\n",
       "      <td>104</td>\n",
       "    </tr>\n",
       "  </tbody>\n",
       "</table>\n",
       "<p>105 rows × 5 columns</p>\n",
       "</div>"
      ],
      "text/plain": [
       "            lamella           stage                                 step  \\\n",
       "0     01-brief-lark           Setup                        LAMELLA_ADDED   \n",
       "1     01-brief-lark           Setup                     MILLING_FIDUCIAL   \n",
       "2     01-brief-lark  FiducialMilled         FIDUCIAL_MILLED_SUCCESSFULLY   \n",
       "3    02-grand-mouse           Setup                        LAMELLA_ADDED   \n",
       "4    02-grand-mouse           Setup                     MILLING_FIDUCIAL   \n",
       "..              ...             ...                                  ...   \n",
       "100  05-alert-prawn      RegularCut                       BEAM_ALIGNMENT   \n",
       "101  05-alert-prawn      RegularCut                       BEAM_ALIGNMENT   \n",
       "102  05-alert-prawn      RegularCut                       BEAM_ALIGNMENT   \n",
       "103  05-alert-prawn      RegularCut          MILLING_TRENCH PolishingCut   \n",
       "104  05-alert-prawn      RegularCut  PolishingCut_COMPLETED_SUCCESSFULLY   \n",
       "\n",
       "        timestamp  step_n  \n",
       "0    1.683602e+09       0  \n",
       "1    1.683602e+09       1  \n",
       "2    1.683602e+09       2  \n",
       "3    1.683602e+09       3  \n",
       "4    1.683602e+09       4  \n",
       "..            ...     ...  \n",
       "100  1.683605e+09     100  \n",
       "101  1.683605e+09     101  \n",
       "102  1.683605e+09     102  \n",
       "103  1.683605e+09     103  \n",
       "104  1.683605e+09     104  \n",
       "\n",
       "[105 rows x 5 columns]"
      ]
     },
     "metadata": {},
     "output_type": "display_data"
    },
    {
     "data": {
      "application/vnd.plotly.v1+json": {
       "config": {
        "plotlyServerURL": "https://plot.ly"
       },
       "data": [
        {
         "hovertemplate": "stage=Setup<br>lamella=01-brief-lark<br>step_n=%{x}<br>timestamp=%{y}<extra></extra>",
         "legendgroup": "Setup, 01-brief-lark",
         "marker": {
          "color": "#636efa",
          "symbol": "circle"
         },
         "mode": "markers",
         "name": "Setup, 01-brief-lark",
         "orientation": "v",
         "showlegend": true,
         "type": "scatter",
         "x": [
          0,
          1
         ],
         "xaxis": "x",
         "y": [
          1683601721,
          1683601723
         ],
         "yaxis": "y"
        },
        {
         "hovertemplate": "stage=Setup<br>lamella=02-grand-mouse<br>step_n=%{x}<br>timestamp=%{y}<extra></extra>",
         "legendgroup": "Setup, 02-grand-mouse",
         "marker": {
          "color": "#636efa",
          "symbol": "diamond"
         },
         "mode": "markers",
         "name": "Setup, 02-grand-mouse",
         "orientation": "v",
         "showlegend": true,
         "type": "scatter",
         "x": [
          3,
          4
         ],
         "xaxis": "x",
         "y": [
          1683601777,
          1683601779
         ],
         "yaxis": "y"
        },
        {
         "hovertemplate": "stage=Setup<br>lamella=03-firm-bobcat<br>step_n=%{x}<br>timestamp=%{y}<extra></extra>",
         "legendgroup": "Setup, 03-firm-bobcat",
         "marker": {
          "color": "#636efa",
          "symbol": "square"
         },
         "mode": "markers",
         "name": "Setup, 03-firm-bobcat",
         "orientation": "v",
         "showlegend": true,
         "type": "scatter",
         "x": [
          6,
          7
         ],
         "xaxis": "x",
         "y": [
          1683601936,
          1683601939
         ],
         "yaxis": "y"
        },
        {
         "hovertemplate": "stage=Setup<br>lamella=04-fair-bison<br>step_n=%{x}<br>timestamp=%{y}<extra></extra>",
         "legendgroup": "Setup, 04-fair-bison",
         "marker": {
          "color": "#636efa",
          "symbol": "x"
         },
         "mode": "markers",
         "name": "Setup, 04-fair-bison",
         "orientation": "v",
         "showlegend": true,
         "type": "scatter",
         "x": [
          9,
          10
         ],
         "xaxis": "x",
         "y": [
          1683601983,
          1683601985
         ],
         "yaxis": "y"
        },
        {
         "hovertemplate": "stage=Setup<br>lamella=05-alert-prawn<br>step_n=%{x}<br>timestamp=%{y}<extra></extra>",
         "legendgroup": "Setup, 05-alert-prawn",
         "marker": {
          "color": "#636efa",
          "symbol": "cross"
         },
         "mode": "markers",
         "name": "Setup, 05-alert-prawn",
         "orientation": "v",
         "showlegend": true,
         "type": "scatter",
         "x": [
          12,
          13
         ],
         "xaxis": "x",
         "y": [
          1683602083,
          1683602086
         ],
         "yaxis": "y"
        },
        {
         "hovertemplate": "stage=FiducialMilled<br>lamella=01-brief-lark<br>step_n=%{x}<br>timestamp=%{y}<extra></extra>",
         "legendgroup": "FiducialMilled, 01-brief-lark",
         "marker": {
          "color": "#EF553B",
          "symbol": "circle"
         },
         "mode": "markers",
         "name": "FiducialMilled, 01-brief-lark",
         "orientation": "v",
         "showlegend": true,
         "type": "scatter",
         "x": [
          2,
          15,
          16,
          17,
          18,
          19,
          20
         ],
         "xaxis": "x",
         "y": [
          1683601744,
          1683604945,
          1683604945,
          1683604946,
          1683604946,
          1683604946,
          1683604967
         ],
         "yaxis": "y"
        },
        {
         "hovertemplate": "stage=FiducialMilled<br>lamella=02-grand-mouse<br>step_n=%{x}<br>timestamp=%{y}<extra></extra>",
         "legendgroup": "FiducialMilled, 02-grand-mouse",
         "marker": {
          "color": "#EF553B",
          "symbol": "diamond"
         },
         "mode": "markers",
         "name": "FiducialMilled, 02-grand-mouse",
         "orientation": "v",
         "showlegend": true,
         "type": "scatter",
         "x": [
          5,
          21,
          22,
          23,
          24,
          25,
          26
         ],
         "xaxis": "x",
         "y": [
          1683601800,
          1683604967,
          1683604968,
          1683604968,
          1683604968,
          1683604968,
          1683604989
         ],
         "yaxis": "y"
        },
        {
         "hovertemplate": "stage=FiducialMilled<br>lamella=03-firm-bobcat<br>step_n=%{x}<br>timestamp=%{y}<extra></extra>",
         "legendgroup": "FiducialMilled, 03-firm-bobcat",
         "marker": {
          "color": "#EF553B",
          "symbol": "square"
         },
         "mode": "markers",
         "name": "FiducialMilled, 03-firm-bobcat",
         "orientation": "v",
         "showlegend": true,
         "type": "scatter",
         "x": [
          8,
          27,
          28,
          29,
          30,
          31,
          32
         ],
         "xaxis": "x",
         "y": [
          1683601960,
          1683604990,
          1683604990,
          1683604990,
          1683604990,
          1683604991,
          1683605012
         ],
         "yaxis": "y"
        },
        {
         "hovertemplate": "stage=FiducialMilled<br>lamella=04-fair-bison<br>step_n=%{x}<br>timestamp=%{y}<extra></extra>",
         "legendgroup": "FiducialMilled, 04-fair-bison",
         "marker": {
          "color": "#EF553B",
          "symbol": "x"
         },
         "mode": "markers",
         "name": "FiducialMilled, 04-fair-bison",
         "orientation": "v",
         "showlegend": true,
         "type": "scatter",
         "x": [
          11,
          33,
          34,
          35,
          36,
          37,
          38
         ],
         "xaxis": "x",
         "y": [
          1683602006,
          1683605012,
          1683605012,
          1683605012,
          1683605013,
          1683605013,
          1683605034
         ],
         "yaxis": "y"
        },
        {
         "hovertemplate": "stage=FiducialMilled<br>lamella=05-alert-prawn<br>step_n=%{x}<br>timestamp=%{y}<extra></extra>",
         "legendgroup": "FiducialMilled, 05-alert-prawn",
         "marker": {
          "color": "#EF553B",
          "symbol": "cross"
         },
         "mode": "markers",
         "name": "FiducialMilled, 05-alert-prawn",
         "orientation": "v",
         "showlegend": true,
         "type": "scatter",
         "x": [
          14,
          39,
          40,
          41,
          42,
          43,
          44
         ],
         "xaxis": "x",
         "y": [
          1683602107,
          1683605034,
          1683605035,
          1683605035,
          1683605035,
          1683605035,
          1683605056
         ],
         "yaxis": "y"
        },
        {
         "hovertemplate": "stage=RoughCut<br>lamella=01-brief-lark<br>step_n=%{x}<br>timestamp=%{y}<extra></extra>",
         "legendgroup": "RoughCut, 01-brief-lark",
         "marker": {
          "color": "#00cc96",
          "symbol": "circle"
         },
         "mode": "markers",
         "name": "RoughCut, 01-brief-lark",
         "orientation": "v",
         "showlegend": true,
         "type": "scatter",
         "x": [
          45,
          46,
          47,
          48,
          49,
          50
         ],
         "xaxis": "x",
         "y": [
          1683605057,
          1683605057,
          1683605057,
          1683605057,
          1683605057,
          1683605078
         ],
         "yaxis": "y"
        },
        {
         "hovertemplate": "stage=RoughCut<br>lamella=02-grand-mouse<br>step_n=%{x}<br>timestamp=%{y}<extra></extra>",
         "legendgroup": "RoughCut, 02-grand-mouse",
         "marker": {
          "color": "#00cc96",
          "symbol": "diamond"
         },
         "mode": "markers",
         "name": "RoughCut, 02-grand-mouse",
         "orientation": "v",
         "showlegend": true,
         "type": "scatter",
         "x": [
          51,
          52,
          53,
          54,
          55,
          56
         ],
         "xaxis": "x",
         "y": [
          1683605079,
          1683605079,
          1683605079,
          1683605080,
          1683605080,
          1683605101
         ],
         "yaxis": "y"
        },
        {
         "hovertemplate": "stage=RoughCut<br>lamella=03-firm-bobcat<br>step_n=%{x}<br>timestamp=%{y}<extra></extra>",
         "legendgroup": "RoughCut, 03-firm-bobcat",
         "marker": {
          "color": "#00cc96",
          "symbol": "square"
         },
         "mode": "markers",
         "name": "RoughCut, 03-firm-bobcat",
         "orientation": "v",
         "showlegend": true,
         "type": "scatter",
         "x": [
          57,
          58,
          59,
          60,
          61,
          62
         ],
         "xaxis": "x",
         "y": [
          1683605101,
          1683605101,
          1683605102,
          1683605102,
          1683605102,
          1683605123
         ],
         "yaxis": "y"
        },
        {
         "hovertemplate": "stage=RoughCut<br>lamella=04-fair-bison<br>step_n=%{x}<br>timestamp=%{y}<extra></extra>",
         "legendgroup": "RoughCut, 04-fair-bison",
         "marker": {
          "color": "#00cc96",
          "symbol": "x"
         },
         "mode": "markers",
         "name": "RoughCut, 04-fair-bison",
         "orientation": "v",
         "showlegend": true,
         "type": "scatter",
         "x": [
          63,
          64,
          65,
          66,
          67,
          68
         ],
         "xaxis": "x",
         "y": [
          1683605123,
          1683605124,
          1683605124,
          1683605124,
          1683605124,
          1683605145
         ],
         "yaxis": "y"
        },
        {
         "hovertemplate": "stage=RoughCut<br>lamella=05-alert-prawn<br>step_n=%{x}<br>timestamp=%{y}<extra></extra>",
         "legendgroup": "RoughCut, 05-alert-prawn",
         "marker": {
          "color": "#00cc96",
          "symbol": "cross"
         },
         "mode": "markers",
         "name": "RoughCut, 05-alert-prawn",
         "orientation": "v",
         "showlegend": true,
         "type": "scatter",
         "x": [
          69,
          70,
          71,
          72,
          73,
          74
         ],
         "xaxis": "x",
         "y": [
          1683605146,
          1683605146,
          1683605146,
          1683605146,
          1683605147,
          1683605168
         ],
         "yaxis": "y"
        },
        {
         "hovertemplate": "stage=RegularCut<br>lamella=01-brief-lark<br>step_n=%{x}<br>timestamp=%{y}<extra></extra>",
         "legendgroup": "RegularCut, 01-brief-lark",
         "marker": {
          "color": "#ab63fa",
          "symbol": "circle"
         },
         "mode": "markers",
         "name": "RegularCut, 01-brief-lark",
         "orientation": "v",
         "showlegend": true,
         "type": "scatter",
         "x": [
          75,
          76,
          77,
          78,
          79,
          80
         ],
         "xaxis": "x",
         "y": [
          1683605168,
          1683605168,
          1683605169,
          1683605169,
          1683605169,
          1683605190
         ],
         "yaxis": "y"
        },
        {
         "hovertemplate": "stage=RegularCut<br>lamella=02-grand-mouse<br>step_n=%{x}<br>timestamp=%{y}<extra></extra>",
         "legendgroup": "RegularCut, 02-grand-mouse",
         "marker": {
          "color": "#ab63fa",
          "symbol": "diamond"
         },
         "mode": "markers",
         "name": "RegularCut, 02-grand-mouse",
         "orientation": "v",
         "showlegend": true,
         "type": "scatter",
         "x": [
          81,
          82,
          83,
          84,
          85,
          86
         ],
         "xaxis": "x",
         "y": [
          1683605190,
          1683605191,
          1683605191,
          1683605191,
          1683605191,
          1683605212
         ],
         "yaxis": "y"
        },
        {
         "hovertemplate": "stage=RegularCut<br>lamella=03-firm-bobcat<br>step_n=%{x}<br>timestamp=%{y}<extra></extra>",
         "legendgroup": "RegularCut, 03-firm-bobcat",
         "marker": {
          "color": "#ab63fa",
          "symbol": "square"
         },
         "mode": "markers",
         "name": "RegularCut, 03-firm-bobcat",
         "orientation": "v",
         "showlegend": true,
         "type": "scatter",
         "x": [
          87,
          88,
          89,
          90,
          91,
          92
         ],
         "xaxis": "x",
         "y": [
          1683605213,
          1683605213,
          1683605213,
          1683605214,
          1683605214,
          1683605235
         ],
         "yaxis": "y"
        },
        {
         "hovertemplate": "stage=RegularCut<br>lamella=04-fair-bison<br>step_n=%{x}<br>timestamp=%{y}<extra></extra>",
         "legendgroup": "RegularCut, 04-fair-bison",
         "marker": {
          "color": "#ab63fa",
          "symbol": "x"
         },
         "mode": "markers",
         "name": "RegularCut, 04-fair-bison",
         "orientation": "v",
         "showlegend": true,
         "type": "scatter",
         "x": [
          93,
          94,
          95,
          96,
          97,
          98
         ],
         "xaxis": "x",
         "y": [
          1683605235,
          1683605236,
          1683605236,
          1683605236,
          1683605236,
          1683605257
         ],
         "yaxis": "y"
        },
        {
         "hovertemplate": "stage=RegularCut<br>lamella=05-alert-prawn<br>step_n=%{x}<br>timestamp=%{y}<extra></extra>",
         "legendgroup": "RegularCut, 05-alert-prawn",
         "marker": {
          "color": "#ab63fa",
          "symbol": "cross"
         },
         "mode": "markers",
         "name": "RegularCut, 05-alert-prawn",
         "orientation": "v",
         "showlegend": true,
         "type": "scatter",
         "x": [
          99,
          100,
          101,
          102,
          103,
          104
         ],
         "xaxis": "x",
         "y": [
          1683605258,
          1683605258,
          1683605258,
          1683605258,
          1683605258,
          1683605279
         ],
         "yaxis": "y"
        }
       ],
       "layout": {
        "legend": {
         "title": {
          "text": "stage, lamella"
         },
         "tracegroupgap": 0
        },
        "margin": {
         "t": 60
        },
        "template": {
         "data": {
          "bar": [
           {
            "error_x": {
             "color": "#2a3f5f"
            },
            "error_y": {
             "color": "#2a3f5f"
            },
            "marker": {
             "line": {
              "color": "#E5ECF6",
              "width": 0.5
             },
             "pattern": {
              "fillmode": "overlay",
              "size": 10,
              "solidity": 0.2
             }
            },
            "type": "bar"
           }
          ],
          "barpolar": [
           {
            "marker": {
             "line": {
              "color": "#E5ECF6",
              "width": 0.5
             },
             "pattern": {
              "fillmode": "overlay",
              "size": 10,
              "solidity": 0.2
             }
            },
            "type": "barpolar"
           }
          ],
          "carpet": [
           {
            "aaxis": {
             "endlinecolor": "#2a3f5f",
             "gridcolor": "white",
             "linecolor": "white",
             "minorgridcolor": "white",
             "startlinecolor": "#2a3f5f"
            },
            "baxis": {
             "endlinecolor": "#2a3f5f",
             "gridcolor": "white",
             "linecolor": "white",
             "minorgridcolor": "white",
             "startlinecolor": "#2a3f5f"
            },
            "type": "carpet"
           }
          ],
          "choropleth": [
           {
            "colorbar": {
             "outlinewidth": 0,
             "ticks": ""
            },
            "type": "choropleth"
           }
          ],
          "contour": [
           {
            "colorbar": {
             "outlinewidth": 0,
             "ticks": ""
            },
            "colorscale": [
             [
              0,
              "#0d0887"
             ],
             [
              0.1111111111111111,
              "#46039f"
             ],
             [
              0.2222222222222222,
              "#7201a8"
             ],
             [
              0.3333333333333333,
              "#9c179e"
             ],
             [
              0.4444444444444444,
              "#bd3786"
             ],
             [
              0.5555555555555556,
              "#d8576b"
             ],
             [
              0.6666666666666666,
              "#ed7953"
             ],
             [
              0.7777777777777778,
              "#fb9f3a"
             ],
             [
              0.8888888888888888,
              "#fdca26"
             ],
             [
              1,
              "#f0f921"
             ]
            ],
            "type": "contour"
           }
          ],
          "contourcarpet": [
           {
            "colorbar": {
             "outlinewidth": 0,
             "ticks": ""
            },
            "type": "contourcarpet"
           }
          ],
          "heatmap": [
           {
            "colorbar": {
             "outlinewidth": 0,
             "ticks": ""
            },
            "colorscale": [
             [
              0,
              "#0d0887"
             ],
             [
              0.1111111111111111,
              "#46039f"
             ],
             [
              0.2222222222222222,
              "#7201a8"
             ],
             [
              0.3333333333333333,
              "#9c179e"
             ],
             [
              0.4444444444444444,
              "#bd3786"
             ],
             [
              0.5555555555555556,
              "#d8576b"
             ],
             [
              0.6666666666666666,
              "#ed7953"
             ],
             [
              0.7777777777777778,
              "#fb9f3a"
             ],
             [
              0.8888888888888888,
              "#fdca26"
             ],
             [
              1,
              "#f0f921"
             ]
            ],
            "type": "heatmap"
           }
          ],
          "heatmapgl": [
           {
            "colorbar": {
             "outlinewidth": 0,
             "ticks": ""
            },
            "colorscale": [
             [
              0,
              "#0d0887"
             ],
             [
              0.1111111111111111,
              "#46039f"
             ],
             [
              0.2222222222222222,
              "#7201a8"
             ],
             [
              0.3333333333333333,
              "#9c179e"
             ],
             [
              0.4444444444444444,
              "#bd3786"
             ],
             [
              0.5555555555555556,
              "#d8576b"
             ],
             [
              0.6666666666666666,
              "#ed7953"
             ],
             [
              0.7777777777777778,
              "#fb9f3a"
             ],
             [
              0.8888888888888888,
              "#fdca26"
             ],
             [
              1,
              "#f0f921"
             ]
            ],
            "type": "heatmapgl"
           }
          ],
          "histogram": [
           {
            "marker": {
             "pattern": {
              "fillmode": "overlay",
              "size": 10,
              "solidity": 0.2
             }
            },
            "type": "histogram"
           }
          ],
          "histogram2d": [
           {
            "colorbar": {
             "outlinewidth": 0,
             "ticks": ""
            },
            "colorscale": [
             [
              0,
              "#0d0887"
             ],
             [
              0.1111111111111111,
              "#46039f"
             ],
             [
              0.2222222222222222,
              "#7201a8"
             ],
             [
              0.3333333333333333,
              "#9c179e"
             ],
             [
              0.4444444444444444,
              "#bd3786"
             ],
             [
              0.5555555555555556,
              "#d8576b"
             ],
             [
              0.6666666666666666,
              "#ed7953"
             ],
             [
              0.7777777777777778,
              "#fb9f3a"
             ],
             [
              0.8888888888888888,
              "#fdca26"
             ],
             [
              1,
              "#f0f921"
             ]
            ],
            "type": "histogram2d"
           }
          ],
          "histogram2dcontour": [
           {
            "colorbar": {
             "outlinewidth": 0,
             "ticks": ""
            },
            "colorscale": [
             [
              0,
              "#0d0887"
             ],
             [
              0.1111111111111111,
              "#46039f"
             ],
             [
              0.2222222222222222,
              "#7201a8"
             ],
             [
              0.3333333333333333,
              "#9c179e"
             ],
             [
              0.4444444444444444,
              "#bd3786"
             ],
             [
              0.5555555555555556,
              "#d8576b"
             ],
             [
              0.6666666666666666,
              "#ed7953"
             ],
             [
              0.7777777777777778,
              "#fb9f3a"
             ],
             [
              0.8888888888888888,
              "#fdca26"
             ],
             [
              1,
              "#f0f921"
             ]
            ],
            "type": "histogram2dcontour"
           }
          ],
          "mesh3d": [
           {
            "colorbar": {
             "outlinewidth": 0,
             "ticks": ""
            },
            "type": "mesh3d"
           }
          ],
          "parcoords": [
           {
            "line": {
             "colorbar": {
              "outlinewidth": 0,
              "ticks": ""
             }
            },
            "type": "parcoords"
           }
          ],
          "pie": [
           {
            "automargin": true,
            "type": "pie"
           }
          ],
          "scatter": [
           {
            "fillpattern": {
             "fillmode": "overlay",
             "size": 10,
             "solidity": 0.2
            },
            "type": "scatter"
           }
          ],
          "scatter3d": [
           {
            "line": {
             "colorbar": {
              "outlinewidth": 0,
              "ticks": ""
             }
            },
            "marker": {
             "colorbar": {
              "outlinewidth": 0,
              "ticks": ""
             }
            },
            "type": "scatter3d"
           }
          ],
          "scattercarpet": [
           {
            "marker": {
             "colorbar": {
              "outlinewidth": 0,
              "ticks": ""
             }
            },
            "type": "scattercarpet"
           }
          ],
          "scattergeo": [
           {
            "marker": {
             "colorbar": {
              "outlinewidth": 0,
              "ticks": ""
             }
            },
            "type": "scattergeo"
           }
          ],
          "scattergl": [
           {
            "marker": {
             "colorbar": {
              "outlinewidth": 0,
              "ticks": ""
             }
            },
            "type": "scattergl"
           }
          ],
          "scattermapbox": [
           {
            "marker": {
             "colorbar": {
              "outlinewidth": 0,
              "ticks": ""
             }
            },
            "type": "scattermapbox"
           }
          ],
          "scatterpolar": [
           {
            "marker": {
             "colorbar": {
              "outlinewidth": 0,
              "ticks": ""
             }
            },
            "type": "scatterpolar"
           }
          ],
          "scatterpolargl": [
           {
            "marker": {
             "colorbar": {
              "outlinewidth": 0,
              "ticks": ""
             }
            },
            "type": "scatterpolargl"
           }
          ],
          "scatterternary": [
           {
            "marker": {
             "colorbar": {
              "outlinewidth": 0,
              "ticks": ""
             }
            },
            "type": "scatterternary"
           }
          ],
          "surface": [
           {
            "colorbar": {
             "outlinewidth": 0,
             "ticks": ""
            },
            "colorscale": [
             [
              0,
              "#0d0887"
             ],
             [
              0.1111111111111111,
              "#46039f"
             ],
             [
              0.2222222222222222,
              "#7201a8"
             ],
             [
              0.3333333333333333,
              "#9c179e"
             ],
             [
              0.4444444444444444,
              "#bd3786"
             ],
             [
              0.5555555555555556,
              "#d8576b"
             ],
             [
              0.6666666666666666,
              "#ed7953"
             ],
             [
              0.7777777777777778,
              "#fb9f3a"
             ],
             [
              0.8888888888888888,
              "#fdca26"
             ],
             [
              1,
              "#f0f921"
             ]
            ],
            "type": "surface"
           }
          ],
          "table": [
           {
            "cells": {
             "fill": {
              "color": "#EBF0F8"
             },
             "line": {
              "color": "white"
             }
            },
            "header": {
             "fill": {
              "color": "#C8D4E3"
             },
             "line": {
              "color": "white"
             }
            },
            "type": "table"
           }
          ]
         },
         "layout": {
          "annotationdefaults": {
           "arrowcolor": "#2a3f5f",
           "arrowhead": 0,
           "arrowwidth": 1
          },
          "autotypenumbers": "strict",
          "coloraxis": {
           "colorbar": {
            "outlinewidth": 0,
            "ticks": ""
           }
          },
          "colorscale": {
           "diverging": [
            [
             0,
             "#8e0152"
            ],
            [
             0.1,
             "#c51b7d"
            ],
            [
             0.2,
             "#de77ae"
            ],
            [
             0.3,
             "#f1b6da"
            ],
            [
             0.4,
             "#fde0ef"
            ],
            [
             0.5,
             "#f7f7f7"
            ],
            [
             0.6,
             "#e6f5d0"
            ],
            [
             0.7,
             "#b8e186"
            ],
            [
             0.8,
             "#7fbc41"
            ],
            [
             0.9,
             "#4d9221"
            ],
            [
             1,
             "#276419"
            ]
           ],
           "sequential": [
            [
             0,
             "#0d0887"
            ],
            [
             0.1111111111111111,
             "#46039f"
            ],
            [
             0.2222222222222222,
             "#7201a8"
            ],
            [
             0.3333333333333333,
             "#9c179e"
            ],
            [
             0.4444444444444444,
             "#bd3786"
            ],
            [
             0.5555555555555556,
             "#d8576b"
            ],
            [
             0.6666666666666666,
             "#ed7953"
            ],
            [
             0.7777777777777778,
             "#fb9f3a"
            ],
            [
             0.8888888888888888,
             "#fdca26"
            ],
            [
             1,
             "#f0f921"
            ]
           ],
           "sequentialminus": [
            [
             0,
             "#0d0887"
            ],
            [
             0.1111111111111111,
             "#46039f"
            ],
            [
             0.2222222222222222,
             "#7201a8"
            ],
            [
             0.3333333333333333,
             "#9c179e"
            ],
            [
             0.4444444444444444,
             "#bd3786"
            ],
            [
             0.5555555555555556,
             "#d8576b"
            ],
            [
             0.6666666666666666,
             "#ed7953"
            ],
            [
             0.7777777777777778,
             "#fb9f3a"
            ],
            [
             0.8888888888888888,
             "#fdca26"
            ],
            [
             1,
             "#f0f921"
            ]
           ]
          },
          "colorway": [
           "#636efa",
           "#EF553B",
           "#00cc96",
           "#ab63fa",
           "#FFA15A",
           "#19d3f3",
           "#FF6692",
           "#B6E880",
           "#FF97FF",
           "#FECB52"
          ],
          "font": {
           "color": "#2a3f5f"
          },
          "geo": {
           "bgcolor": "white",
           "lakecolor": "white",
           "landcolor": "#E5ECF6",
           "showlakes": true,
           "showland": true,
           "subunitcolor": "white"
          },
          "hoverlabel": {
           "align": "left"
          },
          "hovermode": "closest",
          "mapbox": {
           "style": "light"
          },
          "paper_bgcolor": "white",
          "plot_bgcolor": "#E5ECF6",
          "polar": {
           "angularaxis": {
            "gridcolor": "white",
            "linecolor": "white",
            "ticks": ""
           },
           "bgcolor": "#E5ECF6",
           "radialaxis": {
            "gridcolor": "white",
            "linecolor": "white",
            "ticks": ""
           }
          },
          "scene": {
           "xaxis": {
            "backgroundcolor": "#E5ECF6",
            "gridcolor": "white",
            "gridwidth": 2,
            "linecolor": "white",
            "showbackground": true,
            "ticks": "",
            "zerolinecolor": "white"
           },
           "yaxis": {
            "backgroundcolor": "#E5ECF6",
            "gridcolor": "white",
            "gridwidth": 2,
            "linecolor": "white",
            "showbackground": true,
            "ticks": "",
            "zerolinecolor": "white"
           },
           "zaxis": {
            "backgroundcolor": "#E5ECF6",
            "gridcolor": "white",
            "gridwidth": 2,
            "linecolor": "white",
            "showbackground": true,
            "ticks": "",
            "zerolinecolor": "white"
           }
          },
          "shapedefaults": {
           "line": {
            "color": "#2a3f5f"
           }
          },
          "ternary": {
           "aaxis": {
            "gridcolor": "white",
            "linecolor": "white",
            "ticks": ""
           },
           "baxis": {
            "gridcolor": "white",
            "linecolor": "white",
            "ticks": ""
           },
           "bgcolor": "#E5ECF6",
           "caxis": {
            "gridcolor": "white",
            "linecolor": "white",
            "ticks": ""
           }
          },
          "title": {
           "x": 0.05
          },
          "xaxis": {
           "automargin": true,
           "gridcolor": "white",
           "linecolor": "white",
           "ticks": "",
           "title": {
            "standoff": 15
           },
           "zerolinecolor": "white",
           "zerolinewidth": 2
          },
          "yaxis": {
           "automargin": true,
           "gridcolor": "white",
           "linecolor": "white",
           "ticks": "",
           "title": {
            "standoff": 15
           },
           "zerolinecolor": "white",
           "zerolinewidth": 2
          }
         }
        },
        "xaxis": {
         "anchor": "y",
         "domain": [
          0,
          1
         ],
         "title": {
          "text": "step_n"
         }
        },
        "yaxis": {
         "anchor": "x",
         "domain": [
          0,
          1
         ],
         "title": {
          "text": "timestamp"
         }
        }
       }
      }
     },
     "metadata": {},
     "output_type": "display_data"
    },
    {
     "data": {
      "text/html": [
       "<div>\n",
       "<style scoped>\n",
       "    .dataframe tbody tr th:only-of-type {\n",
       "        vertical-align: middle;\n",
       "    }\n",
       "\n",
       "    .dataframe tbody tr th {\n",
       "        vertical-align: top;\n",
       "    }\n",
       "\n",
       "    .dataframe thead th {\n",
       "        text-align: right;\n",
       "    }\n",
       "</style>\n",
       "<table border=\"1\" class=\"dataframe\">\n",
       "  <thead>\n",
       "    <tr style=\"text-align: right;\">\n",
       "      <th></th>\n",
       "      <th>lamella</th>\n",
       "      <th>stage</th>\n",
       "      <th>step</th>\n",
       "      <th>timestamp</th>\n",
       "      <th>step_n</th>\n",
       "      <th>delta</th>\n",
       "    </tr>\n",
       "  </thead>\n",
       "  <tbody>\n",
       "    <tr>\n",
       "      <th>0</th>\n",
       "      <td>01-brief-lark</td>\n",
       "      <td>Setup</td>\n",
       "      <td>LAMELLA_ADDED</td>\n",
       "      <td>1.683602e+09</td>\n",
       "      <td>0</td>\n",
       "      <td>NaN</td>\n",
       "    </tr>\n",
       "    <tr>\n",
       "      <th>1</th>\n",
       "      <td>01-brief-lark</td>\n",
       "      <td>Setup</td>\n",
       "      <td>MILLING_FIDUCIAL</td>\n",
       "      <td>1.683602e+09</td>\n",
       "      <td>1</td>\n",
       "      <td>2.0</td>\n",
       "    </tr>\n",
       "    <tr>\n",
       "      <th>2</th>\n",
       "      <td>01-brief-lark</td>\n",
       "      <td>FiducialMilled</td>\n",
       "      <td>FIDUCIAL_MILLED_SUCCESSFULLY</td>\n",
       "      <td>1.683602e+09</td>\n",
       "      <td>2</td>\n",
       "      <td>21.0</td>\n",
       "    </tr>\n",
       "    <tr>\n",
       "      <th>3</th>\n",
       "      <td>02-grand-mouse</td>\n",
       "      <td>Setup</td>\n",
       "      <td>LAMELLA_ADDED</td>\n",
       "      <td>1.683602e+09</td>\n",
       "      <td>3</td>\n",
       "      <td>33.0</td>\n",
       "    </tr>\n",
       "    <tr>\n",
       "      <th>4</th>\n",
       "      <td>02-grand-mouse</td>\n",
       "      <td>Setup</td>\n",
       "      <td>MILLING_FIDUCIAL</td>\n",
       "      <td>1.683602e+09</td>\n",
       "      <td>4</td>\n",
       "      <td>2.0</td>\n",
       "    </tr>\n",
       "    <tr>\n",
       "      <th>...</th>\n",
       "      <td>...</td>\n",
       "      <td>...</td>\n",
       "      <td>...</td>\n",
       "      <td>...</td>\n",
       "      <td>...</td>\n",
       "      <td>...</td>\n",
       "    </tr>\n",
       "    <tr>\n",
       "      <th>100</th>\n",
       "      <td>05-alert-prawn</td>\n",
       "      <td>RegularCut</td>\n",
       "      <td>BEAM_ALIGNMENT</td>\n",
       "      <td>1.683605e+09</td>\n",
       "      <td>100</td>\n",
       "      <td>0.0</td>\n",
       "    </tr>\n",
       "    <tr>\n",
       "      <th>101</th>\n",
       "      <td>05-alert-prawn</td>\n",
       "      <td>RegularCut</td>\n",
       "      <td>BEAM_ALIGNMENT</td>\n",
       "      <td>1.683605e+09</td>\n",
       "      <td>101</td>\n",
       "      <td>0.0</td>\n",
       "    </tr>\n",
       "    <tr>\n",
       "      <th>102</th>\n",
       "      <td>05-alert-prawn</td>\n",
       "      <td>RegularCut</td>\n",
       "      <td>BEAM_ALIGNMENT</td>\n",
       "      <td>1.683605e+09</td>\n",
       "      <td>102</td>\n",
       "      <td>0.0</td>\n",
       "    </tr>\n",
       "    <tr>\n",
       "      <th>103</th>\n",
       "      <td>05-alert-prawn</td>\n",
       "      <td>RegularCut</td>\n",
       "      <td>MILLING_TRENCH PolishingCut</td>\n",
       "      <td>1.683605e+09</td>\n",
       "      <td>103</td>\n",
       "      <td>0.0</td>\n",
       "    </tr>\n",
       "    <tr>\n",
       "      <th>104</th>\n",
       "      <td>05-alert-prawn</td>\n",
       "      <td>RegularCut</td>\n",
       "      <td>PolishingCut_COMPLETED_SUCCESSFULLY</td>\n",
       "      <td>1.683605e+09</td>\n",
       "      <td>104</td>\n",
       "      <td>21.0</td>\n",
       "    </tr>\n",
       "  </tbody>\n",
       "</table>\n",
       "<p>105 rows × 6 columns</p>\n",
       "</div>"
      ],
      "text/plain": [
       "            lamella           stage                                 step  \\\n",
       "0     01-brief-lark           Setup                        LAMELLA_ADDED   \n",
       "1     01-brief-lark           Setup                     MILLING_FIDUCIAL   \n",
       "2     01-brief-lark  FiducialMilled         FIDUCIAL_MILLED_SUCCESSFULLY   \n",
       "3    02-grand-mouse           Setup                        LAMELLA_ADDED   \n",
       "4    02-grand-mouse           Setup                     MILLING_FIDUCIAL   \n",
       "..              ...             ...                                  ...   \n",
       "100  05-alert-prawn      RegularCut                       BEAM_ALIGNMENT   \n",
       "101  05-alert-prawn      RegularCut                       BEAM_ALIGNMENT   \n",
       "102  05-alert-prawn      RegularCut                       BEAM_ALIGNMENT   \n",
       "103  05-alert-prawn      RegularCut          MILLING_TRENCH PolishingCut   \n",
       "104  05-alert-prawn      RegularCut  PolishingCut_COMPLETED_SUCCESSFULLY   \n",
       "\n",
       "        timestamp  step_n  delta  \n",
       "0    1.683602e+09       0    NaN  \n",
       "1    1.683602e+09       1    2.0  \n",
       "2    1.683602e+09       2   21.0  \n",
       "3    1.683602e+09       3   33.0  \n",
       "4    1.683602e+09       4    2.0  \n",
       "..            ...     ...    ...  \n",
       "100  1.683605e+09     100    0.0  \n",
       "101  1.683605e+09     101    0.0  \n",
       "102  1.683605e+09     102    0.0  \n",
       "103  1.683605e+09     103    0.0  \n",
       "104  1.683605e+09     104   21.0  \n",
       "\n",
       "[105 rows x 6 columns]"
      ]
     },
     "metadata": {},
     "output_type": "display_data"
    }
   ],
   "source": [
    "display(df_steps)\n",
    "fig = px.scatter(df_steps, x=\"step_n\", y=\"timestamp\", color=\"stage\", symbol='lamella')\n",
    "fig.show()\n",
    "\n"
   ]
  },
  {
   "cell_type": "code",
   "execution_count": 12,
   "metadata": {},
   "outputs": [
    {
     "data": {
      "text/html": [
       "<div>\n",
       "<style scoped>\n",
       "    .dataframe tbody tr th:only-of-type {\n",
       "        vertical-align: middle;\n",
       "    }\n",
       "\n",
       "    .dataframe tbody tr th {\n",
       "        vertical-align: top;\n",
       "    }\n",
       "\n",
       "    .dataframe thead th {\n",
       "        text-align: right;\n",
       "    }\n",
       "</style>\n",
       "<table border=\"1\" class=\"dataframe\">\n",
       "  <thead>\n",
       "    <tr style=\"text-align: right;\">\n",
       "      <th></th>\n",
       "      <th>lamella</th>\n",
       "      <th>stage</th>\n",
       "      <th>step</th>\n",
       "      <th>timestamp</th>\n",
       "      <th>step_n</th>\n",
       "      <th>delta</th>\n",
       "    </tr>\n",
       "  </thead>\n",
       "  <tbody>\n",
       "    <tr>\n",
       "      <th>0</th>\n",
       "      <td>01-brief-lark</td>\n",
       "      <td>Setup</td>\n",
       "      <td>LAMELLA_ADDED</td>\n",
       "      <td>1.683602e+09</td>\n",
       "      <td>0</td>\n",
       "      <td>NaN</td>\n",
       "    </tr>\n",
       "    <tr>\n",
       "      <th>1</th>\n",
       "      <td>01-brief-lark</td>\n",
       "      <td>Setup</td>\n",
       "      <td>MILLING_FIDUCIAL</td>\n",
       "      <td>1.683602e+09</td>\n",
       "      <td>1</td>\n",
       "      <td>2.0</td>\n",
       "    </tr>\n",
       "    <tr>\n",
       "      <th>2</th>\n",
       "      <td>01-brief-lark</td>\n",
       "      <td>FiducialMilled</td>\n",
       "      <td>FIDUCIAL_MILLED_SUCCESSFULLY</td>\n",
       "      <td>1.683602e+09</td>\n",
       "      <td>2</td>\n",
       "      <td>21.0</td>\n",
       "    </tr>\n",
       "    <tr>\n",
       "      <th>3</th>\n",
       "      <td>02-grand-mouse</td>\n",
       "      <td>Setup</td>\n",
       "      <td>LAMELLA_ADDED</td>\n",
       "      <td>1.683602e+09</td>\n",
       "      <td>3</td>\n",
       "      <td>33.0</td>\n",
       "    </tr>\n",
       "    <tr>\n",
       "      <th>4</th>\n",
       "      <td>02-grand-mouse</td>\n",
       "      <td>Setup</td>\n",
       "      <td>MILLING_FIDUCIAL</td>\n",
       "      <td>1.683602e+09</td>\n",
       "      <td>4</td>\n",
       "      <td>2.0</td>\n",
       "    </tr>\n",
       "    <tr>\n",
       "      <th>...</th>\n",
       "      <td>...</td>\n",
       "      <td>...</td>\n",
       "      <td>...</td>\n",
       "      <td>...</td>\n",
       "      <td>...</td>\n",
       "      <td>...</td>\n",
       "    </tr>\n",
       "    <tr>\n",
       "      <th>100</th>\n",
       "      <td>05-alert-prawn</td>\n",
       "      <td>RegularCut</td>\n",
       "      <td>BEAM_ALIGNMENT</td>\n",
       "      <td>1.683605e+09</td>\n",
       "      <td>100</td>\n",
       "      <td>0.0</td>\n",
       "    </tr>\n",
       "    <tr>\n",
       "      <th>101</th>\n",
       "      <td>05-alert-prawn</td>\n",
       "      <td>RegularCut</td>\n",
       "      <td>BEAM_ALIGNMENT</td>\n",
       "      <td>1.683605e+09</td>\n",
       "      <td>101</td>\n",
       "      <td>0.0</td>\n",
       "    </tr>\n",
       "    <tr>\n",
       "      <th>102</th>\n",
       "      <td>05-alert-prawn</td>\n",
       "      <td>RegularCut</td>\n",
       "      <td>BEAM_ALIGNMENT</td>\n",
       "      <td>1.683605e+09</td>\n",
       "      <td>102</td>\n",
       "      <td>0.0</td>\n",
       "    </tr>\n",
       "    <tr>\n",
       "      <th>103</th>\n",
       "      <td>05-alert-prawn</td>\n",
       "      <td>RegularCut</td>\n",
       "      <td>MILLING_TRENCH PolishingCut</td>\n",
       "      <td>1.683605e+09</td>\n",
       "      <td>103</td>\n",
       "      <td>0.0</td>\n",
       "    </tr>\n",
       "    <tr>\n",
       "      <th>104</th>\n",
       "      <td>05-alert-prawn</td>\n",
       "      <td>RegularCut</td>\n",
       "      <td>PolishingCut_COMPLETED_SUCCESSFULLY</td>\n",
       "      <td>1.683605e+09</td>\n",
       "      <td>104</td>\n",
       "      <td>21.0</td>\n",
       "    </tr>\n",
       "  </tbody>\n",
       "</table>\n",
       "<p>105 rows × 6 columns</p>\n",
       "</div>"
      ],
      "text/plain": [
       "            lamella           stage                                 step  \\\n",
       "0     01-brief-lark           Setup                        LAMELLA_ADDED   \n",
       "1     01-brief-lark           Setup                     MILLING_FIDUCIAL   \n",
       "2     01-brief-lark  FiducialMilled         FIDUCIAL_MILLED_SUCCESSFULLY   \n",
       "3    02-grand-mouse           Setup                        LAMELLA_ADDED   \n",
       "4    02-grand-mouse           Setup                     MILLING_FIDUCIAL   \n",
       "..              ...             ...                                  ...   \n",
       "100  05-alert-prawn      RegularCut                       BEAM_ALIGNMENT   \n",
       "101  05-alert-prawn      RegularCut                       BEAM_ALIGNMENT   \n",
       "102  05-alert-prawn      RegularCut                       BEAM_ALIGNMENT   \n",
       "103  05-alert-prawn      RegularCut          MILLING_TRENCH PolishingCut   \n",
       "104  05-alert-prawn      RegularCut  PolishingCut_COMPLETED_SUCCESSFULLY   \n",
       "\n",
       "        timestamp  step_n  delta  \n",
       "0    1.683602e+09       0    NaN  \n",
       "1    1.683602e+09       1    2.0  \n",
       "2    1.683602e+09       2   21.0  \n",
       "3    1.683602e+09       3   33.0  \n",
       "4    1.683602e+09       4    2.0  \n",
       "..            ...     ...    ...  \n",
       "100  1.683605e+09     100    0.0  \n",
       "101  1.683605e+09     101    0.0  \n",
       "102  1.683605e+09     102    0.0  \n",
       "103  1.683605e+09     103    0.0  \n",
       "104  1.683605e+09     104   21.0  \n",
       "\n",
       "[105 rows x 6 columns]"
      ]
     },
     "metadata": {},
     "output_type": "display_data"
    },
    {
     "data": {
      "application/vnd.plotly.v1+json": {
       "config": {
        "plotlyServerURL": "https://plot.ly"
       },
       "data": [
        {
         "alignmentgroup": "True",
         "hovertemplate": "step=LAMELLA_ADDED<br>stage=Setup<br>lamella=%{x}<br>delta=%{y}<extra></extra>",
         "legendgroup": "LAMELLA_ADDED",
         "marker": {
          "color": "#636efa",
          "pattern": {
           "shape": ""
          }
         },
         "name": "LAMELLA_ADDED",
         "offsetgroup": "LAMELLA_ADDED",
         "orientation": "v",
         "showlegend": true,
         "textposition": "auto",
         "type": "bar",
         "x": [
          "01-brief-lark",
          "02-grand-mouse",
          "03-firm-bobcat",
          "04-fair-bison",
          "05-alert-prawn"
         ],
         "xaxis": "x",
         "y": [
          null,
          33,
          136,
          23,
          77
         ],
         "yaxis": "y"
        },
        {
         "alignmentgroup": "True",
         "hovertemplate": "step=MILLING_FIDUCIAL<br>stage=Setup<br>lamella=%{x}<br>delta=%{y}<extra></extra>",
         "legendgroup": "MILLING_FIDUCIAL",
         "marker": {
          "color": "#EF553B",
          "pattern": {
           "shape": ""
          }
         },
         "name": "MILLING_FIDUCIAL",
         "offsetgroup": "MILLING_FIDUCIAL",
         "orientation": "v",
         "showlegend": true,
         "textposition": "auto",
         "type": "bar",
         "x": [
          "01-brief-lark",
          "02-grand-mouse",
          "03-firm-bobcat",
          "04-fair-bison",
          "05-alert-prawn"
         ],
         "xaxis": "x",
         "y": [
          2,
          2,
          3,
          2,
          3
         ],
         "yaxis": "y"
        },
        {
         "alignmentgroup": "True",
         "hovertemplate": "step=FIDUCIAL_MILLED_SUCCESSFULLY<br>stage=FiducialMilled<br>lamella=%{x}<br>delta=%{y}<extra></extra>",
         "legendgroup": "FIDUCIAL_MILLED_SUCCESSFULLY",
         "marker": {
          "color": "#00cc96",
          "pattern": {
           "shape": ""
          }
         },
         "name": "FIDUCIAL_MILLED_SUCCESSFULLY",
         "offsetgroup": "FIDUCIAL_MILLED_SUCCESSFULLY",
         "orientation": "v",
         "showlegend": true,
         "textposition": "auto",
         "type": "bar",
         "x": [
          "01-brief-lark",
          "02-grand-mouse",
          "03-firm-bobcat",
          "04-fair-bison",
          "05-alert-prawn"
         ],
         "xaxis": "x2",
         "y": [
          21,
          21,
          21,
          21,
          21
         ],
         "yaxis": "y2"
        },
        {
         "alignmentgroup": "True",
         "hovertemplate": "step=MOVING_TO_POSITION<br>stage=FiducialMilled<br>lamella=%{x}<br>delta=%{y}<extra></extra>",
         "legendgroup": "MOVING_TO_POSITION",
         "marker": {
          "color": "#ab63fa",
          "pattern": {
           "shape": ""
          }
         },
         "name": "MOVING_TO_POSITION",
         "offsetgroup": "MOVING_TO_POSITION",
         "orientation": "v",
         "showlegend": true,
         "textposition": "auto",
         "type": "bar",
         "x": [
          "01-brief-lark",
          "02-grand-mouse",
          "03-firm-bobcat",
          "04-fair-bison",
          "05-alert-prawn"
         ],
         "xaxis": "x2",
         "y": [
          2838,
          0,
          1,
          0,
          0
         ],
         "yaxis": "y2"
        },
        {
         "alignmentgroup": "True",
         "hovertemplate": "step=MOVING_TO_POSITION<br>stage=RoughCut<br>lamella=%{x}<br>delta=%{y}<extra></extra>",
         "legendgroup": "MOVING_TO_POSITION",
         "marker": {
          "color": "#ab63fa",
          "pattern": {
           "shape": ""
          }
         },
         "name": "MOVING_TO_POSITION",
         "offsetgroup": "MOVING_TO_POSITION",
         "orientation": "v",
         "showlegend": false,
         "textposition": "auto",
         "type": "bar",
         "x": [
          "01-brief-lark",
          "02-grand-mouse",
          "03-firm-bobcat",
          "04-fair-bison",
          "05-alert-prawn"
         ],
         "xaxis": "x3",
         "y": [
          1,
          1,
          0,
          0,
          1
         ],
         "yaxis": "y3"
        },
        {
         "alignmentgroup": "True",
         "hovertemplate": "step=MOVING_TO_POSITION<br>stage=RegularCut<br>lamella=%{x}<br>delta=%{y}<extra></extra>",
         "legendgroup": "MOVING_TO_POSITION",
         "marker": {
          "color": "#ab63fa",
          "pattern": {
           "shape": ""
          }
         },
         "name": "MOVING_TO_POSITION",
         "offsetgroup": "MOVING_TO_POSITION",
         "orientation": "v",
         "showlegend": false,
         "textposition": "auto",
         "type": "bar",
         "x": [
          "01-brief-lark",
          "02-grand-mouse",
          "03-firm-bobcat",
          "04-fair-bison",
          "05-alert-prawn"
         ],
         "xaxis": "x4",
         "y": [
          0,
          0,
          1,
          0,
          1
         ],
         "yaxis": "y4"
        },
        {
         "alignmentgroup": "True",
         "hovertemplate": "step=BEAM_ALIGNMENT<br>stage=FiducialMilled<br>lamella=%{x}<br>delta=%{y}<extra></extra>",
         "legendgroup": "BEAM_ALIGNMENT",
         "marker": {
          "color": "#FFA15A",
          "pattern": {
           "shape": ""
          }
         },
         "name": "BEAM_ALIGNMENT",
         "offsetgroup": "BEAM_ALIGNMENT",
         "orientation": "v",
         "showlegend": true,
         "textposition": "auto",
         "type": "bar",
         "x": [
          "01-brief-lark",
          "01-brief-lark",
          "01-brief-lark",
          "02-grand-mouse",
          "02-grand-mouse",
          "02-grand-mouse",
          "03-firm-bobcat",
          "03-firm-bobcat",
          "03-firm-bobcat",
          "04-fair-bison",
          "04-fair-bison",
          "04-fair-bison",
          "05-alert-prawn",
          "05-alert-prawn",
          "05-alert-prawn"
         ],
         "xaxis": "x2",
         "y": [
          0,
          1,
          0,
          1,
          0,
          0,
          0,
          0,
          0,
          0,
          0,
          1,
          1,
          0,
          0
         ],
         "yaxis": "y2"
        },
        {
         "alignmentgroup": "True",
         "hovertemplate": "step=BEAM_ALIGNMENT<br>stage=RoughCut<br>lamella=%{x}<br>delta=%{y}<extra></extra>",
         "legendgroup": "BEAM_ALIGNMENT",
         "marker": {
          "color": "#FFA15A",
          "pattern": {
           "shape": ""
          }
         },
         "name": "BEAM_ALIGNMENT",
         "offsetgroup": "BEAM_ALIGNMENT",
         "orientation": "v",
         "showlegend": false,
         "textposition": "auto",
         "type": "bar",
         "x": [
          "01-brief-lark",
          "01-brief-lark",
          "01-brief-lark",
          "02-grand-mouse",
          "02-grand-mouse",
          "02-grand-mouse",
          "03-firm-bobcat",
          "03-firm-bobcat",
          "03-firm-bobcat",
          "04-fair-bison",
          "04-fair-bison",
          "04-fair-bison",
          "05-alert-prawn",
          "05-alert-prawn",
          "05-alert-prawn"
         ],
         "xaxis": "x3",
         "y": [
          0,
          0,
          0,
          0,
          0,
          1,
          0,
          1,
          0,
          1,
          0,
          0,
          0,
          0,
          0
         ],
         "yaxis": "y3"
        },
        {
         "alignmentgroup": "True",
         "hovertemplate": "step=BEAM_ALIGNMENT<br>stage=RegularCut<br>lamella=%{x}<br>delta=%{y}<extra></extra>",
         "legendgroup": "BEAM_ALIGNMENT",
         "marker": {
          "color": "#FFA15A",
          "pattern": {
           "shape": ""
          }
         },
         "name": "BEAM_ALIGNMENT",
         "offsetgroup": "BEAM_ALIGNMENT",
         "orientation": "v",
         "showlegend": false,
         "textposition": "auto",
         "type": "bar",
         "x": [
          "01-brief-lark",
          "01-brief-lark",
          "01-brief-lark",
          "02-grand-mouse",
          "02-grand-mouse",
          "02-grand-mouse",
          "03-firm-bobcat",
          "03-firm-bobcat",
          "03-firm-bobcat",
          "04-fair-bison",
          "04-fair-bison",
          "04-fair-bison",
          "05-alert-prawn",
          "05-alert-prawn",
          "05-alert-prawn"
         ],
         "xaxis": "x4",
         "y": [
          0,
          1,
          0,
          1,
          0,
          0,
          0,
          0,
          1,
          1,
          0,
          0,
          0,
          0,
          0
         ],
         "yaxis": "y4"
        },
        {
         "alignmentgroup": "True",
         "hovertemplate": "step=MILLING_TRENCH RoughCut<br>stage=FiducialMilled<br>lamella=%{x}<br>delta=%{y}<extra></extra>",
         "legendgroup": "MILLING_TRENCH RoughCut",
         "marker": {
          "color": "#19d3f3",
          "pattern": {
           "shape": ""
          }
         },
         "name": "MILLING_TRENCH RoughCut",
         "offsetgroup": "MILLING_TRENCH RoughCut",
         "orientation": "v",
         "showlegend": true,
         "textposition": "auto",
         "type": "bar",
         "x": [
          "01-brief-lark",
          "02-grand-mouse",
          "03-firm-bobcat",
          "04-fair-bison",
          "05-alert-prawn"
         ],
         "xaxis": "x2",
         "y": [
          0,
          0,
          1,
          0,
          0
         ],
         "yaxis": "y2"
        },
        {
         "alignmentgroup": "True",
         "hovertemplate": "step=RoughCut_COMPLETED_SUCCESSFULLY<br>stage=FiducialMilled<br>lamella=%{x}<br>delta=%{y}<extra></extra>",
         "legendgroup": "RoughCut_COMPLETED_SUCCESSFULLY",
         "marker": {
          "color": "#FF6692",
          "pattern": {
           "shape": ""
          }
         },
         "name": "RoughCut_COMPLETED_SUCCESSFULLY",
         "offsetgroup": "RoughCut_COMPLETED_SUCCESSFULLY",
         "orientation": "v",
         "showlegend": true,
         "textposition": "auto",
         "type": "bar",
         "x": [
          "01-brief-lark",
          "02-grand-mouse",
          "03-firm-bobcat",
          "04-fair-bison",
          "05-alert-prawn"
         ],
         "xaxis": "x2",
         "y": [
          21,
          21,
          21,
          21,
          21
         ],
         "yaxis": "y2"
        },
        {
         "alignmentgroup": "True",
         "hovertemplate": "step=MILLING_TRENCH RegularCut<br>stage=RoughCut<br>lamella=%{x}<br>delta=%{y}<extra></extra>",
         "legendgroup": "MILLING_TRENCH RegularCut",
         "marker": {
          "color": "#B6E880",
          "pattern": {
           "shape": ""
          }
         },
         "name": "MILLING_TRENCH RegularCut",
         "offsetgroup": "MILLING_TRENCH RegularCut",
         "orientation": "v",
         "showlegend": true,
         "textposition": "auto",
         "type": "bar",
         "x": [
          "01-brief-lark",
          "02-grand-mouse",
          "03-firm-bobcat",
          "04-fair-bison",
          "05-alert-prawn"
         ],
         "xaxis": "x3",
         "y": [
          0,
          0,
          0,
          0,
          1
         ],
         "yaxis": "y3"
        },
        {
         "alignmentgroup": "True",
         "hovertemplate": "step=RegularCut_COMPLETED_SUCCESSFULLY<br>stage=RoughCut<br>lamella=%{x}<br>delta=%{y}<extra></extra>",
         "legendgroup": "RegularCut_COMPLETED_SUCCESSFULLY",
         "marker": {
          "color": "#FF97FF",
          "pattern": {
           "shape": ""
          }
         },
         "name": "RegularCut_COMPLETED_SUCCESSFULLY",
         "offsetgroup": "RegularCut_COMPLETED_SUCCESSFULLY",
         "orientation": "v",
         "showlegend": true,
         "textposition": "auto",
         "type": "bar",
         "x": [
          "01-brief-lark",
          "02-grand-mouse",
          "03-firm-bobcat",
          "04-fair-bison",
          "05-alert-prawn"
         ],
         "xaxis": "x3",
         "y": [
          21,
          21,
          21,
          21,
          21
         ],
         "yaxis": "y3"
        },
        {
         "alignmentgroup": "True",
         "hovertemplate": "step=MILLING_TRENCH PolishingCut<br>stage=RegularCut<br>lamella=%{x}<br>delta=%{y}<extra></extra>",
         "legendgroup": "MILLING_TRENCH PolishingCut",
         "marker": {
          "color": "#FECB52",
          "pattern": {
           "shape": ""
          }
         },
         "name": "MILLING_TRENCH PolishingCut",
         "offsetgroup": "MILLING_TRENCH PolishingCut",
         "orientation": "v",
         "showlegend": true,
         "textposition": "auto",
         "type": "bar",
         "x": [
          "01-brief-lark",
          "02-grand-mouse",
          "03-firm-bobcat",
          "04-fair-bison",
          "05-alert-prawn"
         ],
         "xaxis": "x4",
         "y": [
          0,
          0,
          0,
          0,
          0
         ],
         "yaxis": "y4"
        },
        {
         "alignmentgroup": "True",
         "hovertemplate": "step=PolishingCut_COMPLETED_SUCCESSFULLY<br>stage=RegularCut<br>lamella=%{x}<br>delta=%{y}<extra></extra>",
         "legendgroup": "PolishingCut_COMPLETED_SUCCESSFULLY",
         "marker": {
          "color": "#636efa",
          "pattern": {
           "shape": ""
          }
         },
         "name": "PolishingCut_COMPLETED_SUCCESSFULLY",
         "offsetgroup": "PolishingCut_COMPLETED_SUCCESSFULLY",
         "orientation": "v",
         "showlegend": true,
         "textposition": "auto",
         "type": "bar",
         "x": [
          "01-brief-lark",
          "02-grand-mouse",
          "03-firm-bobcat",
          "04-fair-bison",
          "05-alert-prawn"
         ],
         "xaxis": "x4",
         "y": [
          21,
          21,
          21,
          21,
          21
         ],
         "yaxis": "y4"
        }
       ],
       "layout": {
        "annotations": [
         {
          "font": {},
          "showarrow": false,
          "text": "stage=Setup",
          "x": 0.1175,
          "xanchor": "center",
          "xref": "paper",
          "y": 1,
          "yanchor": "bottom",
          "yref": "paper"
         },
         {
          "font": {},
          "showarrow": false,
          "text": "stage=FiducialMilled",
          "x": 0.3725,
          "xanchor": "center",
          "xref": "paper",
          "y": 1,
          "yanchor": "bottom",
          "yref": "paper"
         },
         {
          "font": {},
          "showarrow": false,
          "text": "stage=RoughCut",
          "x": 0.6275,
          "xanchor": "center",
          "xref": "paper",
          "y": 1,
          "yanchor": "bottom",
          "yref": "paper"
         },
         {
          "font": {},
          "showarrow": false,
          "text": "stage=RegularCut",
          "x": 0.8824999999999998,
          "xanchor": "center",
          "xref": "paper",
          "y": 1,
          "yanchor": "bottom",
          "yref": "paper"
         }
        ],
        "barmode": "relative",
        "legend": {
         "title": {
          "text": "step"
         },
         "tracegroupgap": 0
        },
        "margin": {
         "t": 60
        },
        "template": {
         "data": {
          "bar": [
           {
            "error_x": {
             "color": "#2a3f5f"
            },
            "error_y": {
             "color": "#2a3f5f"
            },
            "marker": {
             "line": {
              "color": "#E5ECF6",
              "width": 0.5
             },
             "pattern": {
              "fillmode": "overlay",
              "size": 10,
              "solidity": 0.2
             }
            },
            "type": "bar"
           }
          ],
          "barpolar": [
           {
            "marker": {
             "line": {
              "color": "#E5ECF6",
              "width": 0.5
             },
             "pattern": {
              "fillmode": "overlay",
              "size": 10,
              "solidity": 0.2
             }
            },
            "type": "barpolar"
           }
          ],
          "carpet": [
           {
            "aaxis": {
             "endlinecolor": "#2a3f5f",
             "gridcolor": "white",
             "linecolor": "white",
             "minorgridcolor": "white",
             "startlinecolor": "#2a3f5f"
            },
            "baxis": {
             "endlinecolor": "#2a3f5f",
             "gridcolor": "white",
             "linecolor": "white",
             "minorgridcolor": "white",
             "startlinecolor": "#2a3f5f"
            },
            "type": "carpet"
           }
          ],
          "choropleth": [
           {
            "colorbar": {
             "outlinewidth": 0,
             "ticks": ""
            },
            "type": "choropleth"
           }
          ],
          "contour": [
           {
            "colorbar": {
             "outlinewidth": 0,
             "ticks": ""
            },
            "colorscale": [
             [
              0,
              "#0d0887"
             ],
             [
              0.1111111111111111,
              "#46039f"
             ],
             [
              0.2222222222222222,
              "#7201a8"
             ],
             [
              0.3333333333333333,
              "#9c179e"
             ],
             [
              0.4444444444444444,
              "#bd3786"
             ],
             [
              0.5555555555555556,
              "#d8576b"
             ],
             [
              0.6666666666666666,
              "#ed7953"
             ],
             [
              0.7777777777777778,
              "#fb9f3a"
             ],
             [
              0.8888888888888888,
              "#fdca26"
             ],
             [
              1,
              "#f0f921"
             ]
            ],
            "type": "contour"
           }
          ],
          "contourcarpet": [
           {
            "colorbar": {
             "outlinewidth": 0,
             "ticks": ""
            },
            "type": "contourcarpet"
           }
          ],
          "heatmap": [
           {
            "colorbar": {
             "outlinewidth": 0,
             "ticks": ""
            },
            "colorscale": [
             [
              0,
              "#0d0887"
             ],
             [
              0.1111111111111111,
              "#46039f"
             ],
             [
              0.2222222222222222,
              "#7201a8"
             ],
             [
              0.3333333333333333,
              "#9c179e"
             ],
             [
              0.4444444444444444,
              "#bd3786"
             ],
             [
              0.5555555555555556,
              "#d8576b"
             ],
             [
              0.6666666666666666,
              "#ed7953"
             ],
             [
              0.7777777777777778,
              "#fb9f3a"
             ],
             [
              0.8888888888888888,
              "#fdca26"
             ],
             [
              1,
              "#f0f921"
             ]
            ],
            "type": "heatmap"
           }
          ],
          "heatmapgl": [
           {
            "colorbar": {
             "outlinewidth": 0,
             "ticks": ""
            },
            "colorscale": [
             [
              0,
              "#0d0887"
             ],
             [
              0.1111111111111111,
              "#46039f"
             ],
             [
              0.2222222222222222,
              "#7201a8"
             ],
             [
              0.3333333333333333,
              "#9c179e"
             ],
             [
              0.4444444444444444,
              "#bd3786"
             ],
             [
              0.5555555555555556,
              "#d8576b"
             ],
             [
              0.6666666666666666,
              "#ed7953"
             ],
             [
              0.7777777777777778,
              "#fb9f3a"
             ],
             [
              0.8888888888888888,
              "#fdca26"
             ],
             [
              1,
              "#f0f921"
             ]
            ],
            "type": "heatmapgl"
           }
          ],
          "histogram": [
           {
            "marker": {
             "pattern": {
              "fillmode": "overlay",
              "size": 10,
              "solidity": 0.2
             }
            },
            "type": "histogram"
           }
          ],
          "histogram2d": [
           {
            "colorbar": {
             "outlinewidth": 0,
             "ticks": ""
            },
            "colorscale": [
             [
              0,
              "#0d0887"
             ],
             [
              0.1111111111111111,
              "#46039f"
             ],
             [
              0.2222222222222222,
              "#7201a8"
             ],
             [
              0.3333333333333333,
              "#9c179e"
             ],
             [
              0.4444444444444444,
              "#bd3786"
             ],
             [
              0.5555555555555556,
              "#d8576b"
             ],
             [
              0.6666666666666666,
              "#ed7953"
             ],
             [
              0.7777777777777778,
              "#fb9f3a"
             ],
             [
              0.8888888888888888,
              "#fdca26"
             ],
             [
              1,
              "#f0f921"
             ]
            ],
            "type": "histogram2d"
           }
          ],
          "histogram2dcontour": [
           {
            "colorbar": {
             "outlinewidth": 0,
             "ticks": ""
            },
            "colorscale": [
             [
              0,
              "#0d0887"
             ],
             [
              0.1111111111111111,
              "#46039f"
             ],
             [
              0.2222222222222222,
              "#7201a8"
             ],
             [
              0.3333333333333333,
              "#9c179e"
             ],
             [
              0.4444444444444444,
              "#bd3786"
             ],
             [
              0.5555555555555556,
              "#d8576b"
             ],
             [
              0.6666666666666666,
              "#ed7953"
             ],
             [
              0.7777777777777778,
              "#fb9f3a"
             ],
             [
              0.8888888888888888,
              "#fdca26"
             ],
             [
              1,
              "#f0f921"
             ]
            ],
            "type": "histogram2dcontour"
           }
          ],
          "mesh3d": [
           {
            "colorbar": {
             "outlinewidth": 0,
             "ticks": ""
            },
            "type": "mesh3d"
           }
          ],
          "parcoords": [
           {
            "line": {
             "colorbar": {
              "outlinewidth": 0,
              "ticks": ""
             }
            },
            "type": "parcoords"
           }
          ],
          "pie": [
           {
            "automargin": true,
            "type": "pie"
           }
          ],
          "scatter": [
           {
            "fillpattern": {
             "fillmode": "overlay",
             "size": 10,
             "solidity": 0.2
            },
            "type": "scatter"
           }
          ],
          "scatter3d": [
           {
            "line": {
             "colorbar": {
              "outlinewidth": 0,
              "ticks": ""
             }
            },
            "marker": {
             "colorbar": {
              "outlinewidth": 0,
              "ticks": ""
             }
            },
            "type": "scatter3d"
           }
          ],
          "scattercarpet": [
           {
            "marker": {
             "colorbar": {
              "outlinewidth": 0,
              "ticks": ""
             }
            },
            "type": "scattercarpet"
           }
          ],
          "scattergeo": [
           {
            "marker": {
             "colorbar": {
              "outlinewidth": 0,
              "ticks": ""
             }
            },
            "type": "scattergeo"
           }
          ],
          "scattergl": [
           {
            "marker": {
             "colorbar": {
              "outlinewidth": 0,
              "ticks": ""
             }
            },
            "type": "scattergl"
           }
          ],
          "scattermapbox": [
           {
            "marker": {
             "colorbar": {
              "outlinewidth": 0,
              "ticks": ""
             }
            },
            "type": "scattermapbox"
           }
          ],
          "scatterpolar": [
           {
            "marker": {
             "colorbar": {
              "outlinewidth": 0,
              "ticks": ""
             }
            },
            "type": "scatterpolar"
           }
          ],
          "scatterpolargl": [
           {
            "marker": {
             "colorbar": {
              "outlinewidth": 0,
              "ticks": ""
             }
            },
            "type": "scatterpolargl"
           }
          ],
          "scatterternary": [
           {
            "marker": {
             "colorbar": {
              "outlinewidth": 0,
              "ticks": ""
             }
            },
            "type": "scatterternary"
           }
          ],
          "surface": [
           {
            "colorbar": {
             "outlinewidth": 0,
             "ticks": ""
            },
            "colorscale": [
             [
              0,
              "#0d0887"
             ],
             [
              0.1111111111111111,
              "#46039f"
             ],
             [
              0.2222222222222222,
              "#7201a8"
             ],
             [
              0.3333333333333333,
              "#9c179e"
             ],
             [
              0.4444444444444444,
              "#bd3786"
             ],
             [
              0.5555555555555556,
              "#d8576b"
             ],
             [
              0.6666666666666666,
              "#ed7953"
             ],
             [
              0.7777777777777778,
              "#fb9f3a"
             ],
             [
              0.8888888888888888,
              "#fdca26"
             ],
             [
              1,
              "#f0f921"
             ]
            ],
            "type": "surface"
           }
          ],
          "table": [
           {
            "cells": {
             "fill": {
              "color": "#EBF0F8"
             },
             "line": {
              "color": "white"
             }
            },
            "header": {
             "fill": {
              "color": "#C8D4E3"
             },
             "line": {
              "color": "white"
             }
            },
            "type": "table"
           }
          ]
         },
         "layout": {
          "annotationdefaults": {
           "arrowcolor": "#2a3f5f",
           "arrowhead": 0,
           "arrowwidth": 1
          },
          "autotypenumbers": "strict",
          "coloraxis": {
           "colorbar": {
            "outlinewidth": 0,
            "ticks": ""
           }
          },
          "colorscale": {
           "diverging": [
            [
             0,
             "#8e0152"
            ],
            [
             0.1,
             "#c51b7d"
            ],
            [
             0.2,
             "#de77ae"
            ],
            [
             0.3,
             "#f1b6da"
            ],
            [
             0.4,
             "#fde0ef"
            ],
            [
             0.5,
             "#f7f7f7"
            ],
            [
             0.6,
             "#e6f5d0"
            ],
            [
             0.7,
             "#b8e186"
            ],
            [
             0.8,
             "#7fbc41"
            ],
            [
             0.9,
             "#4d9221"
            ],
            [
             1,
             "#276419"
            ]
           ],
           "sequential": [
            [
             0,
             "#0d0887"
            ],
            [
             0.1111111111111111,
             "#46039f"
            ],
            [
             0.2222222222222222,
             "#7201a8"
            ],
            [
             0.3333333333333333,
             "#9c179e"
            ],
            [
             0.4444444444444444,
             "#bd3786"
            ],
            [
             0.5555555555555556,
             "#d8576b"
            ],
            [
             0.6666666666666666,
             "#ed7953"
            ],
            [
             0.7777777777777778,
             "#fb9f3a"
            ],
            [
             0.8888888888888888,
             "#fdca26"
            ],
            [
             1,
             "#f0f921"
            ]
           ],
           "sequentialminus": [
            [
             0,
             "#0d0887"
            ],
            [
             0.1111111111111111,
             "#46039f"
            ],
            [
             0.2222222222222222,
             "#7201a8"
            ],
            [
             0.3333333333333333,
             "#9c179e"
            ],
            [
             0.4444444444444444,
             "#bd3786"
            ],
            [
             0.5555555555555556,
             "#d8576b"
            ],
            [
             0.6666666666666666,
             "#ed7953"
            ],
            [
             0.7777777777777778,
             "#fb9f3a"
            ],
            [
             0.8888888888888888,
             "#fdca26"
            ],
            [
             1,
             "#f0f921"
            ]
           ]
          },
          "colorway": [
           "#636efa",
           "#EF553B",
           "#00cc96",
           "#ab63fa",
           "#FFA15A",
           "#19d3f3",
           "#FF6692",
           "#B6E880",
           "#FF97FF",
           "#FECB52"
          ],
          "font": {
           "color": "#2a3f5f"
          },
          "geo": {
           "bgcolor": "white",
           "lakecolor": "white",
           "landcolor": "#E5ECF6",
           "showlakes": true,
           "showland": true,
           "subunitcolor": "white"
          },
          "hoverlabel": {
           "align": "left"
          },
          "hovermode": "closest",
          "mapbox": {
           "style": "light"
          },
          "paper_bgcolor": "white",
          "plot_bgcolor": "#E5ECF6",
          "polar": {
           "angularaxis": {
            "gridcolor": "white",
            "linecolor": "white",
            "ticks": ""
           },
           "bgcolor": "#E5ECF6",
           "radialaxis": {
            "gridcolor": "white",
            "linecolor": "white",
            "ticks": ""
           }
          },
          "scene": {
           "xaxis": {
            "backgroundcolor": "#E5ECF6",
            "gridcolor": "white",
            "gridwidth": 2,
            "linecolor": "white",
            "showbackground": true,
            "ticks": "",
            "zerolinecolor": "white"
           },
           "yaxis": {
            "backgroundcolor": "#E5ECF6",
            "gridcolor": "white",
            "gridwidth": 2,
            "linecolor": "white",
            "showbackground": true,
            "ticks": "",
            "zerolinecolor": "white"
           },
           "zaxis": {
            "backgroundcolor": "#E5ECF6",
            "gridcolor": "white",
            "gridwidth": 2,
            "linecolor": "white",
            "showbackground": true,
            "ticks": "",
            "zerolinecolor": "white"
           }
          },
          "shapedefaults": {
           "line": {
            "color": "#2a3f5f"
           }
          },
          "ternary": {
           "aaxis": {
            "gridcolor": "white",
            "linecolor": "white",
            "ticks": ""
           },
           "baxis": {
            "gridcolor": "white",
            "linecolor": "white",
            "ticks": ""
           },
           "bgcolor": "#E5ECF6",
           "caxis": {
            "gridcolor": "white",
            "linecolor": "white",
            "ticks": ""
           }
          },
          "title": {
           "x": 0.05
          },
          "xaxis": {
           "automargin": true,
           "gridcolor": "white",
           "linecolor": "white",
           "ticks": "",
           "title": {
            "standoff": 15
           },
           "zerolinecolor": "white",
           "zerolinewidth": 2
          },
          "yaxis": {
           "automargin": true,
           "gridcolor": "white",
           "linecolor": "white",
           "ticks": "",
           "title": {
            "standoff": 15
           },
           "zerolinecolor": "white",
           "zerolinewidth": 2
          }
         }
        },
        "xaxis": {
         "anchor": "y",
         "domain": [
          0,
          0.235
         ],
         "title": {
          "text": "lamella"
         }
        },
        "xaxis2": {
         "anchor": "y2",
         "domain": [
          0.255,
          0.49
         ],
         "matches": "x",
         "title": {
          "text": "lamella"
         }
        },
        "xaxis3": {
         "anchor": "y3",
         "domain": [
          0.51,
          0.745
         ],
         "matches": "x",
         "title": {
          "text": "lamella"
         }
        },
        "xaxis4": {
         "anchor": "y4",
         "domain": [
          0.7649999999999999,
          0.9999999999999999
         ],
         "matches": "x",
         "title": {
          "text": "lamella"
         }
        },
        "yaxis": {
         "anchor": "x",
         "domain": [
          0,
          1
         ],
         "title": {
          "text": "delta"
         }
        },
        "yaxis2": {
         "anchor": "x2",
         "domain": [
          0,
          1
         ],
         "matches": "y",
         "showticklabels": false
        },
        "yaxis3": {
         "anchor": "x3",
         "domain": [
          0,
          1
         ],
         "matches": "y",
         "showticklabels": false
        },
        "yaxis4": {
         "anchor": "x4",
         "domain": [
          0,
          1
         ],
         "matches": "y",
         "showticklabels": false
        }
       }
      }
     },
     "metadata": {},
     "output_type": "display_data"
    }
   ],
   "source": [
    "# calculate difference in timestamp between rows\n",
    "df_steps['delta'] = df_steps['timestamp'].diff()\n",
    "\n",
    "display(df_steps)\n",
    "\n",
    "px.bar(df_steps, x=\"lamella\", y=\"delta\", color=\"step\", facet_col=\"stage\")"
   ]
  },
  {
   "cell_type": "code",
   "execution_count": 3,
   "metadata": {},
   "outputs": [
    {
     "data": {
      "application/vnd.plotly.v1+json": {
       "config": {
        "plotlyServerURL": "https://plot.ly"
       },
       "data": [
        {
         "alignmentgroup": "True",
         "hovertemplate": "petname=brief-lark<br>stage=%{x}<br>duration=%{y}<extra></extra>",
         "legendgroup": "brief-lark",
         "marker": {
          "color": "#636efa",
          "pattern": {
           "shape": ""
          }
         },
         "name": "brief-lark",
         "offsetgroup": "brief-lark",
         "orientation": "v",
         "showlegend": true,
         "textposition": "auto",
         "type": "bar",
         "x": [
          "Setup",
          "FiducialMilled",
          "RoughCut",
          "RegularCut",
          "PolishingCut"
         ],
         "xaxis": "x",
         "y": [
          21.02111506462097,
          21.853173971176147,
          21.82999587059021,
          21.877053022384644,
          89.9874370098114
         ],
         "yaxis": "y"
        },
        {
         "alignmentgroup": "True",
         "hovertemplate": "petname=grand-mouse<br>stage=%{x}<br>duration=%{y}<extra></extra>",
         "legendgroup": "grand-mouse",
         "marker": {
          "color": "#EF553B",
          "pattern": {
           "shape": ""
          }
         },
         "name": "grand-mouse",
         "offsetgroup": "grand-mouse",
         "orientation": "v",
         "showlegend": true,
         "textposition": "auto",
         "type": "bar",
         "x": [
          "Setup",
          "FiducialMilled",
          "RoughCut",
          "RegularCut",
          "PolishingCut"
         ],
         "xaxis": "x",
         "y": [
          21.016355991363525,
          21.85373091697693,
          21.826575994491577,
          21.8851318359375,
          67.63358306884766
         ],
         "yaxis": "y"
        },
        {
         "alignmentgroup": "True",
         "hovertemplate": "petname=firm-bobcat<br>stage=%{x}<br>duration=%{y}<extra></extra>",
         "legendgroup": "firm-bobcat",
         "marker": {
          "color": "#00cc96",
          "pattern": {
           "shape": ""
          }
         },
         "name": "firm-bobcat",
         "offsetgroup": "firm-bobcat",
         "orientation": "v",
         "showlegend": true,
         "textposition": "auto",
         "type": "bar",
         "x": [
          "Setup",
          "FiducialMilled",
          "RoughCut",
          "RegularCut",
          "PolishingCut"
         ],
         "xaxis": "x",
         "y": [
          21.017917156219482,
          21.847728967666626,
          21.843569040298462,
          21.892093896865845,
          45.2435622215271
         ],
         "yaxis": "y"
        },
        {
         "alignmentgroup": "True",
         "hovertemplate": "petname=fair-bison<br>stage=%{x}<br>duration=%{y}<extra></extra>",
         "legendgroup": "fair-bison",
         "marker": {
          "color": "#ab63fa",
          "pattern": {
           "shape": ""
          }
         },
         "name": "fair-bison",
         "offsetgroup": "fair-bison",
         "orientation": "v",
         "showlegend": true,
         "textposition": "auto",
         "type": "bar",
         "x": [
          "Setup",
          "FiducialMilled",
          "RoughCut",
          "RegularCut",
          "PolishingCut"
         ],
         "xaxis": "x",
         "y": [
          21.018003940582275,
          21.849651098251343,
          21.859820127487183,
          21.877205848693848,
          22.878284215927124
         ],
         "yaxis": "y"
        },
        {
         "alignmentgroup": "True",
         "hovertemplate": "petname=alert-prawn<br>stage=%{x}<br>duration=%{y}<extra></extra>",
         "legendgroup": "alert-prawn",
         "marker": {
          "color": "#FFA15A",
          "pattern": {
           "shape": ""
          }
         },
         "name": "alert-prawn",
         "offsetgroup": "alert-prawn",
         "orientation": "v",
         "showlegend": true,
         "textposition": "auto",
         "type": "bar",
         "x": [
          "Setup",
          "FiducialMilled",
          "RoughCut",
          "RegularCut",
          "PolishingCut"
         ],
         "xaxis": "x",
         "y": [
          21.01931595802307,
          21.845122814178467,
          21.854846000671387,
          21.876808881759644,
          0.5183241367340088
         ],
         "yaxis": "y"
        }
       ],
       "layout": {
        "barmode": "group",
        "legend": {
         "title": {
          "text": "petname"
         },
         "tracegroupgap": 0
        },
        "margin": {
         "t": 60
        },
        "template": {
         "data": {
          "bar": [
           {
            "error_x": {
             "color": "#2a3f5f"
            },
            "error_y": {
             "color": "#2a3f5f"
            },
            "marker": {
             "line": {
              "color": "#E5ECF6",
              "width": 0.5
             },
             "pattern": {
              "fillmode": "overlay",
              "size": 10,
              "solidity": 0.2
             }
            },
            "type": "bar"
           }
          ],
          "barpolar": [
           {
            "marker": {
             "line": {
              "color": "#E5ECF6",
              "width": 0.5
             },
             "pattern": {
              "fillmode": "overlay",
              "size": 10,
              "solidity": 0.2
             }
            },
            "type": "barpolar"
           }
          ],
          "carpet": [
           {
            "aaxis": {
             "endlinecolor": "#2a3f5f",
             "gridcolor": "white",
             "linecolor": "white",
             "minorgridcolor": "white",
             "startlinecolor": "#2a3f5f"
            },
            "baxis": {
             "endlinecolor": "#2a3f5f",
             "gridcolor": "white",
             "linecolor": "white",
             "minorgridcolor": "white",
             "startlinecolor": "#2a3f5f"
            },
            "type": "carpet"
           }
          ],
          "choropleth": [
           {
            "colorbar": {
             "outlinewidth": 0,
             "ticks": ""
            },
            "type": "choropleth"
           }
          ],
          "contour": [
           {
            "colorbar": {
             "outlinewidth": 0,
             "ticks": ""
            },
            "colorscale": [
             [
              0,
              "#0d0887"
             ],
             [
              0.1111111111111111,
              "#46039f"
             ],
             [
              0.2222222222222222,
              "#7201a8"
             ],
             [
              0.3333333333333333,
              "#9c179e"
             ],
             [
              0.4444444444444444,
              "#bd3786"
             ],
             [
              0.5555555555555556,
              "#d8576b"
             ],
             [
              0.6666666666666666,
              "#ed7953"
             ],
             [
              0.7777777777777778,
              "#fb9f3a"
             ],
             [
              0.8888888888888888,
              "#fdca26"
             ],
             [
              1,
              "#f0f921"
             ]
            ],
            "type": "contour"
           }
          ],
          "contourcarpet": [
           {
            "colorbar": {
             "outlinewidth": 0,
             "ticks": ""
            },
            "type": "contourcarpet"
           }
          ],
          "heatmap": [
           {
            "colorbar": {
             "outlinewidth": 0,
             "ticks": ""
            },
            "colorscale": [
             [
              0,
              "#0d0887"
             ],
             [
              0.1111111111111111,
              "#46039f"
             ],
             [
              0.2222222222222222,
              "#7201a8"
             ],
             [
              0.3333333333333333,
              "#9c179e"
             ],
             [
              0.4444444444444444,
              "#bd3786"
             ],
             [
              0.5555555555555556,
              "#d8576b"
             ],
             [
              0.6666666666666666,
              "#ed7953"
             ],
             [
              0.7777777777777778,
              "#fb9f3a"
             ],
             [
              0.8888888888888888,
              "#fdca26"
             ],
             [
              1,
              "#f0f921"
             ]
            ],
            "type": "heatmap"
           }
          ],
          "heatmapgl": [
           {
            "colorbar": {
             "outlinewidth": 0,
             "ticks": ""
            },
            "colorscale": [
             [
              0,
              "#0d0887"
             ],
             [
              0.1111111111111111,
              "#46039f"
             ],
             [
              0.2222222222222222,
              "#7201a8"
             ],
             [
              0.3333333333333333,
              "#9c179e"
             ],
             [
              0.4444444444444444,
              "#bd3786"
             ],
             [
              0.5555555555555556,
              "#d8576b"
             ],
             [
              0.6666666666666666,
              "#ed7953"
             ],
             [
              0.7777777777777778,
              "#fb9f3a"
             ],
             [
              0.8888888888888888,
              "#fdca26"
             ],
             [
              1,
              "#f0f921"
             ]
            ],
            "type": "heatmapgl"
           }
          ],
          "histogram": [
           {
            "marker": {
             "pattern": {
              "fillmode": "overlay",
              "size": 10,
              "solidity": 0.2
             }
            },
            "type": "histogram"
           }
          ],
          "histogram2d": [
           {
            "colorbar": {
             "outlinewidth": 0,
             "ticks": ""
            },
            "colorscale": [
             [
              0,
              "#0d0887"
             ],
             [
              0.1111111111111111,
              "#46039f"
             ],
             [
              0.2222222222222222,
              "#7201a8"
             ],
             [
              0.3333333333333333,
              "#9c179e"
             ],
             [
              0.4444444444444444,
              "#bd3786"
             ],
             [
              0.5555555555555556,
              "#d8576b"
             ],
             [
              0.6666666666666666,
              "#ed7953"
             ],
             [
              0.7777777777777778,
              "#fb9f3a"
             ],
             [
              0.8888888888888888,
              "#fdca26"
             ],
             [
              1,
              "#f0f921"
             ]
            ],
            "type": "histogram2d"
           }
          ],
          "histogram2dcontour": [
           {
            "colorbar": {
             "outlinewidth": 0,
             "ticks": ""
            },
            "colorscale": [
             [
              0,
              "#0d0887"
             ],
             [
              0.1111111111111111,
              "#46039f"
             ],
             [
              0.2222222222222222,
              "#7201a8"
             ],
             [
              0.3333333333333333,
              "#9c179e"
             ],
             [
              0.4444444444444444,
              "#bd3786"
             ],
             [
              0.5555555555555556,
              "#d8576b"
             ],
             [
              0.6666666666666666,
              "#ed7953"
             ],
             [
              0.7777777777777778,
              "#fb9f3a"
             ],
             [
              0.8888888888888888,
              "#fdca26"
             ],
             [
              1,
              "#f0f921"
             ]
            ],
            "type": "histogram2dcontour"
           }
          ],
          "mesh3d": [
           {
            "colorbar": {
             "outlinewidth": 0,
             "ticks": ""
            },
            "type": "mesh3d"
           }
          ],
          "parcoords": [
           {
            "line": {
             "colorbar": {
              "outlinewidth": 0,
              "ticks": ""
             }
            },
            "type": "parcoords"
           }
          ],
          "pie": [
           {
            "automargin": true,
            "type": "pie"
           }
          ],
          "scatter": [
           {
            "fillpattern": {
             "fillmode": "overlay",
             "size": 10,
             "solidity": 0.2
            },
            "type": "scatter"
           }
          ],
          "scatter3d": [
           {
            "line": {
             "colorbar": {
              "outlinewidth": 0,
              "ticks": ""
             }
            },
            "marker": {
             "colorbar": {
              "outlinewidth": 0,
              "ticks": ""
             }
            },
            "type": "scatter3d"
           }
          ],
          "scattercarpet": [
           {
            "marker": {
             "colorbar": {
              "outlinewidth": 0,
              "ticks": ""
             }
            },
            "type": "scattercarpet"
           }
          ],
          "scattergeo": [
           {
            "marker": {
             "colorbar": {
              "outlinewidth": 0,
              "ticks": ""
             }
            },
            "type": "scattergeo"
           }
          ],
          "scattergl": [
           {
            "marker": {
             "colorbar": {
              "outlinewidth": 0,
              "ticks": ""
             }
            },
            "type": "scattergl"
           }
          ],
          "scattermapbox": [
           {
            "marker": {
             "colorbar": {
              "outlinewidth": 0,
              "ticks": ""
             }
            },
            "type": "scattermapbox"
           }
          ],
          "scatterpolar": [
           {
            "marker": {
             "colorbar": {
              "outlinewidth": 0,
              "ticks": ""
             }
            },
            "type": "scatterpolar"
           }
          ],
          "scatterpolargl": [
           {
            "marker": {
             "colorbar": {
              "outlinewidth": 0,
              "ticks": ""
             }
            },
            "type": "scatterpolargl"
           }
          ],
          "scatterternary": [
           {
            "marker": {
             "colorbar": {
              "outlinewidth": 0,
              "ticks": ""
             }
            },
            "type": "scatterternary"
           }
          ],
          "surface": [
           {
            "colorbar": {
             "outlinewidth": 0,
             "ticks": ""
            },
            "colorscale": [
             [
              0,
              "#0d0887"
             ],
             [
              0.1111111111111111,
              "#46039f"
             ],
             [
              0.2222222222222222,
              "#7201a8"
             ],
             [
              0.3333333333333333,
              "#9c179e"
             ],
             [
              0.4444444444444444,
              "#bd3786"
             ],
             [
              0.5555555555555556,
              "#d8576b"
             ],
             [
              0.6666666666666666,
              "#ed7953"
             ],
             [
              0.7777777777777778,
              "#fb9f3a"
             ],
             [
              0.8888888888888888,
              "#fdca26"
             ],
             [
              1,
              "#f0f921"
             ]
            ],
            "type": "surface"
           }
          ],
          "table": [
           {
            "cells": {
             "fill": {
              "color": "#EBF0F8"
             },
             "line": {
              "color": "white"
             }
            },
            "header": {
             "fill": {
              "color": "#C8D4E3"
             },
             "line": {
              "color": "white"
             }
            },
            "type": "table"
           }
          ]
         },
         "layout": {
          "annotationdefaults": {
           "arrowcolor": "#2a3f5f",
           "arrowhead": 0,
           "arrowwidth": 1
          },
          "autotypenumbers": "strict",
          "coloraxis": {
           "colorbar": {
            "outlinewidth": 0,
            "ticks": ""
           }
          },
          "colorscale": {
           "diverging": [
            [
             0,
             "#8e0152"
            ],
            [
             0.1,
             "#c51b7d"
            ],
            [
             0.2,
             "#de77ae"
            ],
            [
             0.3,
             "#f1b6da"
            ],
            [
             0.4,
             "#fde0ef"
            ],
            [
             0.5,
             "#f7f7f7"
            ],
            [
             0.6,
             "#e6f5d0"
            ],
            [
             0.7,
             "#b8e186"
            ],
            [
             0.8,
             "#7fbc41"
            ],
            [
             0.9,
             "#4d9221"
            ],
            [
             1,
             "#276419"
            ]
           ],
           "sequential": [
            [
             0,
             "#0d0887"
            ],
            [
             0.1111111111111111,
             "#46039f"
            ],
            [
             0.2222222222222222,
             "#7201a8"
            ],
            [
             0.3333333333333333,
             "#9c179e"
            ],
            [
             0.4444444444444444,
             "#bd3786"
            ],
            [
             0.5555555555555556,
             "#d8576b"
            ],
            [
             0.6666666666666666,
             "#ed7953"
            ],
            [
             0.7777777777777778,
             "#fb9f3a"
            ],
            [
             0.8888888888888888,
             "#fdca26"
            ],
            [
             1,
             "#f0f921"
            ]
           ],
           "sequentialminus": [
            [
             0,
             "#0d0887"
            ],
            [
             0.1111111111111111,
             "#46039f"
            ],
            [
             0.2222222222222222,
             "#7201a8"
            ],
            [
             0.3333333333333333,
             "#9c179e"
            ],
            [
             0.4444444444444444,
             "#bd3786"
            ],
            [
             0.5555555555555556,
             "#d8576b"
            ],
            [
             0.6666666666666666,
             "#ed7953"
            ],
            [
             0.7777777777777778,
             "#fb9f3a"
            ],
            [
             0.8888888888888888,
             "#fdca26"
            ],
            [
             1,
             "#f0f921"
            ]
           ]
          },
          "colorway": [
           "#636efa",
           "#EF553B",
           "#00cc96",
           "#ab63fa",
           "#FFA15A",
           "#19d3f3",
           "#FF6692",
           "#B6E880",
           "#FF97FF",
           "#FECB52"
          ],
          "font": {
           "color": "#2a3f5f"
          },
          "geo": {
           "bgcolor": "white",
           "lakecolor": "white",
           "landcolor": "#E5ECF6",
           "showlakes": true,
           "showland": true,
           "subunitcolor": "white"
          },
          "hoverlabel": {
           "align": "left"
          },
          "hovermode": "closest",
          "mapbox": {
           "style": "light"
          },
          "paper_bgcolor": "white",
          "plot_bgcolor": "#E5ECF6",
          "polar": {
           "angularaxis": {
            "gridcolor": "white",
            "linecolor": "white",
            "ticks": ""
           },
           "bgcolor": "#E5ECF6",
           "radialaxis": {
            "gridcolor": "white",
            "linecolor": "white",
            "ticks": ""
           }
          },
          "scene": {
           "xaxis": {
            "backgroundcolor": "#E5ECF6",
            "gridcolor": "white",
            "gridwidth": 2,
            "linecolor": "white",
            "showbackground": true,
            "ticks": "",
            "zerolinecolor": "white"
           },
           "yaxis": {
            "backgroundcolor": "#E5ECF6",
            "gridcolor": "white",
            "gridwidth": 2,
            "linecolor": "white",
            "showbackground": true,
            "ticks": "",
            "zerolinecolor": "white"
           },
           "zaxis": {
            "backgroundcolor": "#E5ECF6",
            "gridcolor": "white",
            "gridwidth": 2,
            "linecolor": "white",
            "showbackground": true,
            "ticks": "",
            "zerolinecolor": "white"
           }
          },
          "shapedefaults": {
           "line": {
            "color": "#2a3f5f"
           }
          },
          "ternary": {
           "aaxis": {
            "gridcolor": "white",
            "linecolor": "white",
            "ticks": ""
           },
           "baxis": {
            "gridcolor": "white",
            "linecolor": "white",
            "ticks": ""
           },
           "bgcolor": "#E5ECF6",
           "caxis": {
            "gridcolor": "white",
            "linecolor": "white",
            "ticks": ""
           }
          },
          "title": {
           "x": 0.05
          },
          "xaxis": {
           "automargin": true,
           "gridcolor": "white",
           "linecolor": "white",
           "ticks": "",
           "title": {
            "standoff": 15
           },
           "zerolinecolor": "white",
           "zerolinewidth": 2
          },
          "yaxis": {
           "automargin": true,
           "gridcolor": "white",
           "linecolor": "white",
           "ticks": "",
           "title": {
            "standoff": 15
           },
           "zerolinecolor": "white",
           "zerolinewidth": 2
          }
         }
        },
        "xaxis": {
         "anchor": "y",
         "domain": [
          0,
          1
         ],
         "title": {
          "text": "stage"
         }
        },
        "yaxis": {
         "anchor": "x",
         "domain": [
          0,
          1
         ],
         "title": {
          "text": "duration"
         }
        }
       }
      }
     },
     "metadata": {},
     "output_type": "display_data"
    }
   ],
   "source": [
    "fig = px.bar(df_history, x=\"stage\", y=\"duration\", color=\"petname\", barmode=\"group\")\n",
    "\n",
    "fig.show()"
   ]
  },
  {
   "cell_type": "code",
   "execution_count": 19,
   "metadata": {},
   "outputs": [
    {
     "name": "stderr",
     "output_type": "stream",
     "text": [
      "C:\\Users\\lnae0002\\AppData\\Local\\Temp\\ipykernel_18028\\550369350.py:4: FutureWarning:\n",
      "\n",
      "The default value of numeric_only in DataFrameGroupBy.mean is deprecated. In a future version, numeric_only will default to False. Either specify numeric_only or select only columns which should be valid for the function.\n",
      "\n"
     ]
    },
    {
     "data": {
      "text/html": [
       "<div>\n",
       "<style scoped>\n",
       "    .dataframe tbody tr th:only-of-type {\n",
       "        vertical-align: middle;\n",
       "    }\n",
       "\n",
       "    .dataframe tbody tr th {\n",
       "        vertical-align: top;\n",
       "    }\n",
       "\n",
       "    .dataframe thead th {\n",
       "        text-align: right;\n",
       "    }\n",
       "</style>\n",
       "<table border=\"1\" class=\"dataframe\">\n",
       "  <thead>\n",
       "    <tr style=\"text-align: right;\">\n",
       "      <th></th>\n",
       "      <th>stage</th>\n",
       "      <th>petname</th>\n",
       "      <th>duration</th>\n",
       "    </tr>\n",
       "  </thead>\n",
       "  <tbody>\n",
       "    <tr>\n",
       "      <th>0</th>\n",
       "      <td>FiducialMilled</td>\n",
       "      <td>alert-prawn</td>\n",
       "      <td>21.845123</td>\n",
       "    </tr>\n",
       "    <tr>\n",
       "      <th>1</th>\n",
       "      <td>FiducialMilled</td>\n",
       "      <td>brief-lark</td>\n",
       "      <td>21.853174</td>\n",
       "    </tr>\n",
       "    <tr>\n",
       "      <th>2</th>\n",
       "      <td>FiducialMilled</td>\n",
       "      <td>fair-bison</td>\n",
       "      <td>21.849651</td>\n",
       "    </tr>\n",
       "    <tr>\n",
       "      <th>3</th>\n",
       "      <td>FiducialMilled</td>\n",
       "      <td>firm-bobcat</td>\n",
       "      <td>21.847729</td>\n",
       "    </tr>\n",
       "    <tr>\n",
       "      <th>4</th>\n",
       "      <td>FiducialMilled</td>\n",
       "      <td>grand-mouse</td>\n",
       "      <td>21.853731</td>\n",
       "    </tr>\n",
       "    <tr>\n",
       "      <th>5</th>\n",
       "      <td>PolishingCut</td>\n",
       "      <td>alert-prawn</td>\n",
       "      <td>0.518324</td>\n",
       "    </tr>\n",
       "    <tr>\n",
       "      <th>6</th>\n",
       "      <td>PolishingCut</td>\n",
       "      <td>brief-lark</td>\n",
       "      <td>89.987437</td>\n",
       "    </tr>\n",
       "    <tr>\n",
       "      <th>7</th>\n",
       "      <td>PolishingCut</td>\n",
       "      <td>fair-bison</td>\n",
       "      <td>22.878284</td>\n",
       "    </tr>\n",
       "    <tr>\n",
       "      <th>8</th>\n",
       "      <td>PolishingCut</td>\n",
       "      <td>firm-bobcat</td>\n",
       "      <td>45.243562</td>\n",
       "    </tr>\n",
       "    <tr>\n",
       "      <th>9</th>\n",
       "      <td>PolishingCut</td>\n",
       "      <td>grand-mouse</td>\n",
       "      <td>67.633583</td>\n",
       "    </tr>\n",
       "    <tr>\n",
       "      <th>10</th>\n",
       "      <td>RegularCut</td>\n",
       "      <td>alert-prawn</td>\n",
       "      <td>21.876809</td>\n",
       "    </tr>\n",
       "    <tr>\n",
       "      <th>11</th>\n",
       "      <td>RegularCut</td>\n",
       "      <td>brief-lark</td>\n",
       "      <td>21.877053</td>\n",
       "    </tr>\n",
       "    <tr>\n",
       "      <th>12</th>\n",
       "      <td>RegularCut</td>\n",
       "      <td>fair-bison</td>\n",
       "      <td>21.877206</td>\n",
       "    </tr>\n",
       "    <tr>\n",
       "      <th>13</th>\n",
       "      <td>RegularCut</td>\n",
       "      <td>firm-bobcat</td>\n",
       "      <td>21.892094</td>\n",
       "    </tr>\n",
       "    <tr>\n",
       "      <th>14</th>\n",
       "      <td>RegularCut</td>\n",
       "      <td>grand-mouse</td>\n",
       "      <td>21.885132</td>\n",
       "    </tr>\n",
       "    <tr>\n",
       "      <th>15</th>\n",
       "      <td>RoughCut</td>\n",
       "      <td>alert-prawn</td>\n",
       "      <td>21.854846</td>\n",
       "    </tr>\n",
       "    <tr>\n",
       "      <th>16</th>\n",
       "      <td>RoughCut</td>\n",
       "      <td>brief-lark</td>\n",
       "      <td>21.829996</td>\n",
       "    </tr>\n",
       "    <tr>\n",
       "      <th>17</th>\n",
       "      <td>RoughCut</td>\n",
       "      <td>fair-bison</td>\n",
       "      <td>21.859820</td>\n",
       "    </tr>\n",
       "    <tr>\n",
       "      <th>18</th>\n",
       "      <td>RoughCut</td>\n",
       "      <td>firm-bobcat</td>\n",
       "      <td>21.843569</td>\n",
       "    </tr>\n",
       "    <tr>\n",
       "      <th>19</th>\n",
       "      <td>RoughCut</td>\n",
       "      <td>grand-mouse</td>\n",
       "      <td>21.826576</td>\n",
       "    </tr>\n",
       "    <tr>\n",
       "      <th>20</th>\n",
       "      <td>Setup</td>\n",
       "      <td>alert-prawn</td>\n",
       "      <td>21.019316</td>\n",
       "    </tr>\n",
       "    <tr>\n",
       "      <th>21</th>\n",
       "      <td>Setup</td>\n",
       "      <td>brief-lark</td>\n",
       "      <td>21.021115</td>\n",
       "    </tr>\n",
       "    <tr>\n",
       "      <th>22</th>\n",
       "      <td>Setup</td>\n",
       "      <td>fair-bison</td>\n",
       "      <td>21.018004</td>\n",
       "    </tr>\n",
       "    <tr>\n",
       "      <th>23</th>\n",
       "      <td>Setup</td>\n",
       "      <td>firm-bobcat</td>\n",
       "      <td>21.017917</td>\n",
       "    </tr>\n",
       "    <tr>\n",
       "      <th>24</th>\n",
       "      <td>Setup</td>\n",
       "      <td>grand-mouse</td>\n",
       "      <td>21.016356</td>\n",
       "    </tr>\n",
       "  </tbody>\n",
       "</table>\n",
       "</div>"
      ],
      "text/plain": [
       "             stage      petname   duration\n",
       "0   FiducialMilled  alert-prawn  21.845123\n",
       "1   FiducialMilled   brief-lark  21.853174\n",
       "2   FiducialMilled   fair-bison  21.849651\n",
       "3   FiducialMilled  firm-bobcat  21.847729\n",
       "4   FiducialMilled  grand-mouse  21.853731\n",
       "5     PolishingCut  alert-prawn   0.518324\n",
       "6     PolishingCut   brief-lark  89.987437\n",
       "7     PolishingCut   fair-bison  22.878284\n",
       "8     PolishingCut  firm-bobcat  45.243562\n",
       "9     PolishingCut  grand-mouse  67.633583\n",
       "10      RegularCut  alert-prawn  21.876809\n",
       "11      RegularCut   brief-lark  21.877053\n",
       "12      RegularCut   fair-bison  21.877206\n",
       "13      RegularCut  firm-bobcat  21.892094\n",
       "14      RegularCut  grand-mouse  21.885132\n",
       "15        RoughCut  alert-prawn  21.854846\n",
       "16        RoughCut   brief-lark  21.829996\n",
       "17        RoughCut   fair-bison  21.859820\n",
       "18        RoughCut  firm-bobcat  21.843569\n",
       "19        RoughCut  grand-mouse  21.826576\n",
       "20           Setup  alert-prawn  21.019316\n",
       "21           Setup   brief-lark  21.021115\n",
       "22           Setup   fair-bison  21.018004\n",
       "23           Setup  firm-bobcat  21.017917\n",
       "24           Setup  grand-mouse  21.016356"
      ]
     },
     "metadata": {},
     "output_type": "display_data"
    }
   ],
   "source": [
    "# display(df_history)\n",
    "df_history[\"duration\"].mean()\n",
    "\n",
    "df_sorted = df_history.groupby([\"stage\", \"petname\"]).mean()\n",
    "df_sorted.drop(columns=[\"start\", \"end\"], inplace=True)\n",
    "df_sorted.reset_index(inplace=True)\n",
    "display(df_sorted)\n"
   ]
  },
  {
   "cell_type": "code",
   "execution_count": 15,
   "metadata": {},
   "outputs": [
    {
     "data": {
      "text/html": [
       "<div>\n",
       "<style scoped>\n",
       "    .dataframe tbody tr th:only-of-type {\n",
       "        vertical-align: middle;\n",
       "    }\n",
       "\n",
       "    .dataframe tbody tr th {\n",
       "        vertical-align: top;\n",
       "    }\n",
       "\n",
       "    .dataframe thead th {\n",
       "        text-align: right;\n",
       "    }\n",
       "</style>\n",
       "<table border=\"1\" class=\"dataframe\">\n",
       "  <thead>\n",
       "    <tr style=\"text-align: right;\">\n",
       "      <th></th>\n",
       "      <th>x</th>\n",
       "      <th>y</th>\n",
       "      <th>petname</th>\n",
       "    </tr>\n",
       "  </thead>\n",
       "  <tbody>\n",
       "    <tr>\n",
       "      <th>0</th>\n",
       "      <td>0.000000</td>\n",
       "      <td>0.000000</td>\n",
       "      <td>sought-pug</td>\n",
       "    </tr>\n",
       "    <tr>\n",
       "      <th>1</th>\n",
       "      <td>0.000016</td>\n",
       "      <td>0.000007</td>\n",
       "      <td>loved-tapir</td>\n",
       "    </tr>\n",
       "    <tr>\n",
       "      <th>2</th>\n",
       "      <td>0.000016</td>\n",
       "      <td>0.000007</td>\n",
       "      <td>valued-ocelot</td>\n",
       "    </tr>\n",
       "    <tr>\n",
       "      <th>3</th>\n",
       "      <td>0.000016</td>\n",
       "      <td>0.000007</td>\n",
       "      <td>cute-wolf</td>\n",
       "    </tr>\n",
       "  </tbody>\n",
       "</table>\n",
       "</div>"
      ],
      "text/plain": [
       "          x         y        petname\n",
       "0  0.000000  0.000000     sought-pug\n",
       "1  0.000016  0.000007    loved-tapir\n",
       "2  0.000016  0.000007  valued-ocelot\n",
       "3  0.000016  0.000007      cute-wolf"
      ]
     },
     "metadata": {},
     "output_type": "display_data"
    },
    {
     "data": {
      "application/vnd.plotly.v1+json": {
       "config": {
        "plotlyServerURL": "https://plot.ly"
       },
       "data": [
        {
         "hovertemplate": "petname=sought-pug<br>x=%{x}<br>y=%{y}<extra></extra>",
         "legendgroup": "sought-pug",
         "marker": {
          "color": "#000001",
          "symbol": "circle"
         },
         "mode": "markers",
         "name": "sought-pug",
         "orientation": "v",
         "showlegend": true,
         "type": "scatter",
         "x": [
          0
         ],
         "xaxis": "x",
         "y": [
          0
         ],
         "yaxis": "y"
        },
        {
         "hovertemplate": "petname=loved-tapir<br>x=%{x}<br>y=%{y}<extra></extra>",
         "legendgroup": "loved-tapir",
         "marker": {
          "color": "#000002",
          "symbol": "circle"
         },
         "mode": "markers",
         "name": "loved-tapir",
         "orientation": "v",
         "showlegend": true,
         "type": "scatter",
         "x": [
          0.000015960651838178607
         ],
         "xaxis": "x",
         "y": [
          0.00000653935202508558
         ],
         "yaxis": "y"
        },
        {
         "hovertemplate": "petname=valued-ocelot<br>x=%{x}<br>y=%{y}<extra></extra>",
         "legendgroup": "valued-ocelot",
         "marker": {
          "color": "#000003",
          "symbol": "circle"
         },
         "mode": "markers",
         "name": "valued-ocelot",
         "orientation": "v",
         "showlegend": true,
         "type": "scatter",
         "x": [
          0.000015960651838178607
         ],
         "xaxis": "x",
         "y": [
          0.00000653935202508558
         ],
         "yaxis": "y"
        },
        {
         "hovertemplate": "petname=cute-wolf<br>x=%{x}<br>y=%{y}<extra></extra>",
         "legendgroup": "cute-wolf",
         "marker": {
          "color": "#000004",
          "symbol": "circle"
         },
         "mode": "markers",
         "name": "cute-wolf",
         "orientation": "v",
         "showlegend": true,
         "type": "scatter",
         "x": [
          0.000015960651838178607
         ],
         "xaxis": "x",
         "y": [
          0.00000653935202508558
         ],
         "yaxis": "y"
        }
       ],
       "layout": {
        "legend": {
         "title": {
          "text": "petname"
         },
         "tracegroupgap": 0
        },
        "margin": {
         "t": 60
        },
        "template": {
         "data": {
          "candlestick": [
           {
            "decreasing": {
             "line": {
              "color": "#000033"
             }
            },
            "increasing": {
             "line": {
              "color": "#000032"
             }
            },
            "type": "candlestick"
           }
          ],
          "contour": [
           {
            "colorscale": [
             [
              0,
              "#000011"
             ],
             [
              0.1111111111111111,
              "#000012"
             ],
             [
              0.2222222222222222,
              "#000013"
             ],
             [
              0.3333333333333333,
              "#000014"
             ],
             [
              0.4444444444444444,
              "#000015"
             ],
             [
              0.5555555555555556,
              "#000016"
             ],
             [
              0.6666666666666666,
              "#000017"
             ],
             [
              0.7777777777777778,
              "#000018"
             ],
             [
              0.8888888888888888,
              "#000019"
             ],
             [
              1,
              "#000020"
             ]
            ],
            "type": "contour"
           }
          ],
          "contourcarpet": [
           {
            "colorscale": [
             [
              0,
              "#000011"
             ],
             [
              0.1111111111111111,
              "#000012"
             ],
             [
              0.2222222222222222,
              "#000013"
             ],
             [
              0.3333333333333333,
              "#000014"
             ],
             [
              0.4444444444444444,
              "#000015"
             ],
             [
              0.5555555555555556,
              "#000016"
             ],
             [
              0.6666666666666666,
              "#000017"
             ],
             [
              0.7777777777777778,
              "#000018"
             ],
             [
              0.8888888888888888,
              "#000019"
             ],
             [
              1,
              "#000020"
             ]
            ],
            "type": "contourcarpet"
           }
          ],
          "heatmap": [
           {
            "colorscale": [
             [
              0,
              "#000011"
             ],
             [
              0.1111111111111111,
              "#000012"
             ],
             [
              0.2222222222222222,
              "#000013"
             ],
             [
              0.3333333333333333,
              "#000014"
             ],
             [
              0.4444444444444444,
              "#000015"
             ],
             [
              0.5555555555555556,
              "#000016"
             ],
             [
              0.6666666666666666,
              "#000017"
             ],
             [
              0.7777777777777778,
              "#000018"
             ],
             [
              0.8888888888888888,
              "#000019"
             ],
             [
              1,
              "#000020"
             ]
            ],
            "type": "heatmap"
           }
          ],
          "histogram2d": [
           {
            "colorscale": [
             [
              0,
              "#000011"
             ],
             [
              0.1111111111111111,
              "#000012"
             ],
             [
              0.2222222222222222,
              "#000013"
             ],
             [
              0.3333333333333333,
              "#000014"
             ],
             [
              0.4444444444444444,
              "#000015"
             ],
             [
              0.5555555555555556,
              "#000016"
             ],
             [
              0.6666666666666666,
              "#000017"
             ],
             [
              0.7777777777777778,
              "#000018"
             ],
             [
              0.8888888888888888,
              "#000019"
             ],
             [
              1,
              "#000020"
             ]
            ],
            "type": "histogram2d"
           }
          ],
          "icicle": [
           {
            "textfont": {
             "color": "white"
            },
            "type": "icicle"
           }
          ],
          "sankey": [
           {
            "textfont": {
             "color": "#000036"
            },
            "type": "sankey"
           }
          ],
          "scatter": [
           {
            "marker": {
             "line": {
              "width": 0
             }
            },
            "type": "scatter"
           }
          ],
          "table": [
           {
            "cells": {
             "fill": {
              "color": "#000038"
             },
             "font": {
              "color": "#000037"
             },
             "line": {
              "color": "#000039"
             }
            },
            "header": {
             "fill": {
              "color": "#000040"
             },
             "font": {
              "color": "#000036"
             },
             "line": {
              "color": "#000039"
             }
            },
            "type": "table"
           }
          ],
          "waterfall": [
           {
            "connector": {
             "line": {
              "color": "#000036",
              "width": 2
             }
            },
            "decreasing": {
             "marker": {
              "color": "#000033"
             }
            },
            "increasing": {
             "marker": {
              "color": "#000032"
             }
            },
            "totals": {
             "marker": {
              "color": "#000034"
             }
            },
            "type": "waterfall"
           }
          ]
         },
         "layout": {
          "coloraxis": {
           "colorscale": [
            [
             0,
             "#000011"
            ],
            [
             0.1111111111111111,
             "#000012"
            ],
            [
             0.2222222222222222,
             "#000013"
            ],
            [
             0.3333333333333333,
             "#000014"
            ],
            [
             0.4444444444444444,
             "#000015"
            ],
            [
             0.5555555555555556,
             "#000016"
            ],
            [
             0.6666666666666666,
             "#000017"
            ],
            [
             0.7777777777777778,
             "#000018"
            ],
            [
             0.8888888888888888,
             "#000019"
            ],
            [
             1,
             "#000020"
            ]
           ]
          },
          "colorscale": {
           "diverging": [
            [
             0,
             "#000021"
            ],
            [
             0.1,
             "#000022"
            ],
            [
             0.2,
             "#000023"
            ],
            [
             0.3,
             "#000024"
            ],
            [
             0.4,
             "#000025"
            ],
            [
             0.5,
             "#000026"
            ],
            [
             0.6,
             "#000027"
            ],
            [
             0.7,
             "#000028"
            ],
            [
             0.8,
             "#000029"
            ],
            [
             0.9,
             "#000030"
            ],
            [
             1,
             "#000031"
            ]
           ],
           "sequential": [
            [
             0,
             "#000011"
            ],
            [
             0.1111111111111111,
             "#000012"
            ],
            [
             0.2222222222222222,
             "#000013"
            ],
            [
             0.3333333333333333,
             "#000014"
            ],
            [
             0.4444444444444444,
             "#000015"
            ],
            [
             0.5555555555555556,
             "#000016"
            ],
            [
             0.6666666666666666,
             "#000017"
            ],
            [
             0.7777777777777778,
             "#000018"
            ],
            [
             0.8888888888888888,
             "#000019"
            ],
            [
             1,
             "#000020"
            ]
           ],
           "sequentialminus": [
            [
             0,
             "#000011"
            ],
            [
             0.1111111111111111,
             "#000012"
            ],
            [
             0.2222222222222222,
             "#000013"
            ],
            [
             0.3333333333333333,
             "#000014"
            ],
            [
             0.4444444444444444,
             "#000015"
            ],
            [
             0.5555555555555556,
             "#000016"
            ],
            [
             0.6666666666666666,
             "#000017"
            ],
            [
             0.7777777777777778,
             "#000018"
            ],
            [
             0.8888888888888888,
             "#000019"
            ],
            [
             1,
             "#000020"
            ]
           ]
          },
          "colorway": [
           "#000001",
           "#000002",
           "#000003",
           "#000004",
           "#000005",
           "#000006",
           "#000007",
           "#000008",
           "#000009",
           "#000010"
          ]
         }
        },
        "xaxis": {
         "anchor": "y",
         "domain": [
          0,
          1
         ],
         "title": {
          "text": "x"
         }
        },
        "yaxis": {
         "anchor": "x",
         "domain": [
          0,
          1
         ],
         "title": {
          "text": "y"
         }
        }
       }
      }
     },
     "metadata": {},
     "output_type": "display_data"
    }
   ],
   "source": [
    "points = pd.DataFrame(df_sample[\"lamella.centre\"].tolist(), columns=[\"x\", \"y\"])\n",
    "points[\"petname\"] = df_history[\"petname\"].unique()\n",
    "display(points)\n",
    "fig = px.scatter(points, x=\"x\", y='y', color=\"petname\")\n",
    "fig.show()"
   ]
  },
  {
   "cell_type": "code",
   "execution_count": 18,
   "metadata": {},
   "outputs": [
    {
     "data": {
      "application/vnd.plotly.v1+json": {
       "config": {
        "plotlyServerURL": "https://plot.ly"
       },
       "data": [
        {
         "hovertemplate": "petname=sought-pug<br>lamella.x=%{x}<br>lamella.y=%{y}<br>lamella.z=%{z}<extra></extra>",
         "legendgroup": "sought-pug",
         "marker": {
          "color": "#000001",
          "symbol": "circle"
         },
         "mode": "markers",
         "name": "sought-pug",
         "scene": "scene",
         "showlegend": true,
         "type": "scatter3d",
         "x": [
          0.0060214759999999996
         ],
         "y": [
          0.002947516
         ],
         "z": [
          0.0601926
         ]
        },
        {
         "hovertemplate": "petname=loved-tapir<br>lamella.x=%{x}<br>lamella.y=%{y}<br>lamella.z=%{z}<extra></extra>",
         "legendgroup": "loved-tapir",
         "marker": {
          "color": "#000002",
          "symbol": "circle"
         },
         "mode": "markers",
         "name": "loved-tapir",
         "scene": "scene",
         "showlegend": true,
         "type": "scatter3d",
         "x": [
          0.0060214759999999996
         ],
         "y": [
          0.002947516
         ],
         "z": [
          0.0601926
         ]
        },
        {
         "hovertemplate": "petname=valued-ocelot<br>lamella.x=%{x}<br>lamella.y=%{y}<br>lamella.z=%{z}<extra></extra>",
         "legendgroup": "valued-ocelot",
         "marker": {
          "color": "#000003",
          "symbol": "circle"
         },
         "mode": "markers",
         "name": "valued-ocelot",
         "scene": "scene",
         "showlegend": true,
         "type": "scatter3d",
         "x": [
          0.0060214759999999996
         ],
         "y": [
          0.002947516
         ],
         "z": [
          0.0601926
         ]
        },
        {
         "hovertemplate": "petname=cute-wolf<br>lamella.x=%{x}<br>lamella.y=%{y}<br>lamella.z=%{z}<extra></extra>",
         "legendgroup": "cute-wolf",
         "marker": {
          "color": "#000004",
          "symbol": "circle"
         },
         "mode": "markers",
         "name": "cute-wolf",
         "scene": "scene",
         "showlegend": true,
         "type": "scatter3d",
         "x": [
          0.0060214759999999996
         ],
         "y": [
          0.002947516
         ],
         "z": [
          0.0601926
         ]
        }
       ],
       "layout": {
        "legend": {
         "title": {
          "text": "petname"
         },
         "tracegroupgap": 0
        },
        "margin": {
         "t": 60
        },
        "scene": {
         "domain": {
          "x": [
           0,
           1
          ],
          "y": [
           0,
           1
          ]
         },
         "xaxis": {
          "title": {
           "text": "lamella.x"
          }
         },
         "yaxis": {
          "title": {
           "text": "lamella.y"
          }
         },
         "zaxis": {
          "title": {
           "text": "lamella.z"
          }
         }
        },
        "template": {
         "data": {
          "candlestick": [
           {
            "decreasing": {
             "line": {
              "color": "#000033"
             }
            },
            "increasing": {
             "line": {
              "color": "#000032"
             }
            },
            "type": "candlestick"
           }
          ],
          "contour": [
           {
            "colorscale": [
             [
              0,
              "#000011"
             ],
             [
              0.1111111111111111,
              "#000012"
             ],
             [
              0.2222222222222222,
              "#000013"
             ],
             [
              0.3333333333333333,
              "#000014"
             ],
             [
              0.4444444444444444,
              "#000015"
             ],
             [
              0.5555555555555556,
              "#000016"
             ],
             [
              0.6666666666666666,
              "#000017"
             ],
             [
              0.7777777777777778,
              "#000018"
             ],
             [
              0.8888888888888888,
              "#000019"
             ],
             [
              1,
              "#000020"
             ]
            ],
            "type": "contour"
           }
          ],
          "contourcarpet": [
           {
            "colorscale": [
             [
              0,
              "#000011"
             ],
             [
              0.1111111111111111,
              "#000012"
             ],
             [
              0.2222222222222222,
              "#000013"
             ],
             [
              0.3333333333333333,
              "#000014"
             ],
             [
              0.4444444444444444,
              "#000015"
             ],
             [
              0.5555555555555556,
              "#000016"
             ],
             [
              0.6666666666666666,
              "#000017"
             ],
             [
              0.7777777777777778,
              "#000018"
             ],
             [
              0.8888888888888888,
              "#000019"
             ],
             [
              1,
              "#000020"
             ]
            ],
            "type": "contourcarpet"
           }
          ],
          "heatmap": [
           {
            "colorscale": [
             [
              0,
              "#000011"
             ],
             [
              0.1111111111111111,
              "#000012"
             ],
             [
              0.2222222222222222,
              "#000013"
             ],
             [
              0.3333333333333333,
              "#000014"
             ],
             [
              0.4444444444444444,
              "#000015"
             ],
             [
              0.5555555555555556,
              "#000016"
             ],
             [
              0.6666666666666666,
              "#000017"
             ],
             [
              0.7777777777777778,
              "#000018"
             ],
             [
              0.8888888888888888,
              "#000019"
             ],
             [
              1,
              "#000020"
             ]
            ],
            "type": "heatmap"
           }
          ],
          "histogram2d": [
           {
            "colorscale": [
             [
              0,
              "#000011"
             ],
             [
              0.1111111111111111,
              "#000012"
             ],
             [
              0.2222222222222222,
              "#000013"
             ],
             [
              0.3333333333333333,
              "#000014"
             ],
             [
              0.4444444444444444,
              "#000015"
             ],
             [
              0.5555555555555556,
              "#000016"
             ],
             [
              0.6666666666666666,
              "#000017"
             ],
             [
              0.7777777777777778,
              "#000018"
             ],
             [
              0.8888888888888888,
              "#000019"
             ],
             [
              1,
              "#000020"
             ]
            ],
            "type": "histogram2d"
           }
          ],
          "icicle": [
           {
            "textfont": {
             "color": "white"
            },
            "type": "icicle"
           }
          ],
          "sankey": [
           {
            "textfont": {
             "color": "#000036"
            },
            "type": "sankey"
           }
          ],
          "scatter": [
           {
            "marker": {
             "line": {
              "width": 0
             }
            },
            "type": "scatter"
           }
          ],
          "table": [
           {
            "cells": {
             "fill": {
              "color": "#000038"
             },
             "font": {
              "color": "#000037"
             },
             "line": {
              "color": "#000039"
             }
            },
            "header": {
             "fill": {
              "color": "#000040"
             },
             "font": {
              "color": "#000036"
             },
             "line": {
              "color": "#000039"
             }
            },
            "type": "table"
           }
          ],
          "waterfall": [
           {
            "connector": {
             "line": {
              "color": "#000036",
              "width": 2
             }
            },
            "decreasing": {
             "marker": {
              "color": "#000033"
             }
            },
            "increasing": {
             "marker": {
              "color": "#000032"
             }
            },
            "totals": {
             "marker": {
              "color": "#000034"
             }
            },
            "type": "waterfall"
           }
          ]
         },
         "layout": {
          "coloraxis": {
           "colorscale": [
            [
             0,
             "#000011"
            ],
            [
             0.1111111111111111,
             "#000012"
            ],
            [
             0.2222222222222222,
             "#000013"
            ],
            [
             0.3333333333333333,
             "#000014"
            ],
            [
             0.4444444444444444,
             "#000015"
            ],
            [
             0.5555555555555556,
             "#000016"
            ],
            [
             0.6666666666666666,
             "#000017"
            ],
            [
             0.7777777777777778,
             "#000018"
            ],
            [
             0.8888888888888888,
             "#000019"
            ],
            [
             1,
             "#000020"
            ]
           ]
          },
          "colorscale": {
           "diverging": [
            [
             0,
             "#000021"
            ],
            [
             0.1,
             "#000022"
            ],
            [
             0.2,
             "#000023"
            ],
            [
             0.3,
             "#000024"
            ],
            [
             0.4,
             "#000025"
            ],
            [
             0.5,
             "#000026"
            ],
            [
             0.6,
             "#000027"
            ],
            [
             0.7,
             "#000028"
            ],
            [
             0.8,
             "#000029"
            ],
            [
             0.9,
             "#000030"
            ],
            [
             1,
             "#000031"
            ]
           ],
           "sequential": [
            [
             0,
             "#000011"
            ],
            [
             0.1111111111111111,
             "#000012"
            ],
            [
             0.2222222222222222,
             "#000013"
            ],
            [
             0.3333333333333333,
             "#000014"
            ],
            [
             0.4444444444444444,
             "#000015"
            ],
            [
             0.5555555555555556,
             "#000016"
            ],
            [
             0.6666666666666666,
             "#000017"
            ],
            [
             0.7777777777777778,
             "#000018"
            ],
            [
             0.8888888888888888,
             "#000019"
            ],
            [
             1,
             "#000020"
            ]
           ],
           "sequentialminus": [
            [
             0,
             "#000011"
            ],
            [
             0.1111111111111111,
             "#000012"
            ],
            [
             0.2222222222222222,
             "#000013"
            ],
            [
             0.3333333333333333,
             "#000014"
            ],
            [
             0.4444444444444444,
             "#000015"
            ],
            [
             0.5555555555555556,
             "#000016"
            ],
            [
             0.6666666666666666,
             "#000017"
            ],
            [
             0.7777777777777778,
             "#000018"
            ],
            [
             0.8888888888888888,
             "#000019"
            ],
            [
             1,
             "#000020"
            ]
           ]
          },
          "colorway": [
           "#000001",
           "#000002",
           "#000003",
           "#000004",
           "#000005",
           "#000006",
           "#000007",
           "#000008",
           "#000009",
           "#000010"
          ]
         }
        }
       }
      }
     },
     "metadata": {},
     "output_type": "display_data"
    }
   ],
   "source": [
    "df_sample[\"petname\"] = df_history[\"petname\"].unique()\n",
    "fig = px.scatter_3d(df_sample, x=\"lamella.x\", y='lamella.y', z='lamella.z', color=\"petname\")\n",
    "fig.show()"
   ]
  }
 ],
 "metadata": {
  "kernelspec": {
   "display_name": "Python 3",
   "language": "python",
   "name": "python3"
  },
  "language_info": {
   "codemirror_mode": {
    "name": "ipython",
    "version": 3
   },
   "file_extension": ".py",
   "mimetype": "text/x-python",
   "name": "python",
   "nbconvert_exporter": "python",
   "pygments_lexer": "ipython3",
   "version": "3.9.16"
  },
  "orig_nbformat": 4
 },
 "nbformat": 4,
 "nbformat_minor": 2
}
