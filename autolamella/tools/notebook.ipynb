{
 "cells": [
  {
   "cell_type": "markdown",
   "metadata": {},
   "source": [
    "## AutoLamella Exports\n",
    "Exportable statistics for each experiment, including milling parameters, timing, and success rates."
   ]
  },
  {
   "cell_type": "code",
   "execution_count": null,
   "metadata": {},
   "outputs": [],
   "source": [
    "%load_ext autoreload\n",
    "%autoreload 2\n",
    "\n",
    "import glob\n",
    "import os\n",
    "from pprint import pprint\n",
    "import matplotlib.pyplot as plt\n",
    "import pandas as pd\n",
    "\n",
    "from fibsem.milling.patterning.plotting import draw_milling_patterns\n",
    "from fibsem.milling import get_milling_stages\n",
    "from fibsem.structures import FibsemImage, Point\n",
    "\n",
    "from autolamella.structures import Experiment\n",
    "from autolamella.tools.data import calculate_statistics_dataframe\n",
    "\n",
    "\n",
    "pd.set_option(\"display.max_rows\", 50)\n"
   ]
  },
  {
   "cell_type": "code",
   "execution_count": null,
   "metadata": {},
   "outputs": [],
   "source": [
    "PATH = \"/home/patrick/data/monash-cryo-em/AutoLamella-Exports\" \n",
    "\n",
    "filenames = glob.glob(os.path.join(PATH, \"**/experiment.yaml\"), recursive=True)\n",
    "\n",
    "pprint(filenames)\n"
   ]
  },
  {
   "cell_type": "code",
   "execution_count": null,
   "metadata": {},
   "outputs": [],
   "source": [
    "from autolamella.structures import AutoLamellaStage\n",
    "\n",
    "for filename in filenames:\n",
    "    experiment_path = os.path.dirname(filename)\n",
    "    print(f\"Experiment: {experiment_path}\")\n",
    "\n",
    "    try:\n",
    "        exp = Experiment.load(os.path.join(experiment_path, \"experiment.yaml\"))\n",
    "\n",
    "        print(f\"Total Lamella: {len(exp.positions)}, Finished Lamella: {len(exp.at_stage(AutoLamellaStage.Finished))})\")\n",
    "        failed_lamella = exp.at_failure()\n",
    "        print(f\"Failed Lamella: {[l.name for l in failed_lamella]}\")\n",
    "\n",
    "        df = exp._create_protocol_dataframe()\n",
    "        # drop spacing, rate, preset, spot_size #Tescan only\n",
    "        TESCAN_PARAMS = [\"spacing\", \"rate\", \"preset\", \"spot_size\"]\n",
    "        df = df.drop(columns=TESCAN_PARAMS)\n",
    "\n",
    "        # filter to WorkflowStage == \"MillRough\", \"MillPolishing\", fiducial\n",
    "        milling_workflows = [\"MillRoughCut\", \"MillPolishingCUt\", \"microexpansion\", \"fiducial\"]\n",
    "        df = df[df[\"WorkflowStage\"].isin(milling_workflows)]\n",
    "\n",
    "        # filter to only milling_current, voltage, depth\n",
    "        df = df[[\"Experiment\", \"Lamella\", \"WorkflowStage\", \"MillingStage\", \n",
    "                 \"type\", \"milling_current\", \"milling_voltage\", \"depth\", \"lamella_height\", \"lamella_width\", \"height\", \"width\"]]\n",
    "        display(df)\n",
    "\n",
    "        # save to csv at exp.path \"milling.csv\"\n",
    "        df.to_csv(os.path.join(exp.path, \"protocol.csv\"), index=False)\n",
    "\n",
    "        # continue\n",
    "        for pos in exp.positions:\n",
    "            \n",
    "            if not pos.is_failure:\n",
    "                continue\n",
    "            print(f\"{pos.name}: {pos.failure_note}\")\n",
    "            \n",
    "            # load milling stages\n",
    "            protocol = pos.protocol\n",
    "            milling_stages = []\n",
    "            for mw in milling_workflows:\n",
    "                stages = get_milling_stages(key=mw, protocol=protocol, point=Point.from_dict(protocol[mw][\"point\"]))\n",
    "                milling_stages.extend(stages)\n",
    "\n",
    "            # TODO: lamella path is not correct when re-loaded on another machine\n",
    "            fib_image = FibsemImage.load(os.path.join(exp.path, pos.name, \"ref_MillPolishingCut_final_high_res_ib.tif\"))\n",
    "            sem_image = FibsemImage.load(os.path.join(exp.path, pos.name, \"ref_MillPolishingCut_final_high_res_eb.tif\"))\n",
    "\n",
    "            fig, ax1 = draw_milling_patterns(fib_image, milling_stages)\n",
    "            plt.title(pos.name)\n",
    "            plt.show()\n",
    "\n",
    "            fig, ax = plt.subplots(1, 2, figsize=(10, 5))\n",
    "            ax[0].imshow(sem_image.data, cmap=\"gray\")\n",
    "            ax[1].imshow(fib_image.data, cmap=\"gray\")\n",
    "\n",
    "            plt.show()\n",
    "\n",
    "            print(\"-\"*80)\n",
    "            continue\n",
    "    except Exception as e:\n",
    "        print(e)\n",
    "        continue\n",
    "    "
   ]
  },
  {
   "cell_type": "code",
   "execution_count": null,
   "metadata": {},
   "outputs": [],
   "source": [
    "exp = Experiment.load(os.path.join(experiment_path, \"experiment.yaml\"))\n",
    "\n",
    "df = exp._create_protocol_dataframe()\n",
    "\n",
    "display(df)\n",
    "\n",
    "for s,v in exp.positions[0].states.items():\n",
    "    print(s, v.completed)\n"
   ]
  },
  {
   "cell_type": "code",
   "execution_count": null,
   "metadata": {},
   "outputs": [],
   "source": []
  },
  {
   "cell_type": "markdown",
   "metadata": {},
   "source": [
    "### Protocol Up-Convert\n"
   ]
  },
  {
   "cell_type": "code",
   "execution_count": null,
   "metadata": {},
   "outputs": [],
   "source": [
    "%load_ext autoreload \n",
    "%autoreload 2\n",
    "\n",
    "from autolamella.protocol.validation import validate_protocol, validate_and_convert_protocol, convert_old_milling_protocol_to_new_protocol\n",
    "from autolamella.structures import AutoLamellaProtocol\n",
    "from fibsem import utils\n",
    "from pprint import pprint \n",
    "\n",
    "\n",
    "PROTOCOL_PATH = \"/home/patrick/data/monash-cryo-em/AutoLamella-Exports/autolamella/20241010_Sai/AutoLamella-2024-10-10-09-07/protocol.yaml\"\n",
    "# protocol = AutoLamellaProtocol.load(PROTOCOL_PATH)\n",
    "\n",
    "ddict = utils.load_protocol(PROTOCOL_PATH)\n",
    "\n",
    "# pprint(ddict[\"milling\"])\n",
    "\n",
    "\n",
    "ddict2 = validate_protocol(ddict)\n",
    "\n",
    "# pprint(ddict2[\"milling\"])\n",
    "\n",
    "\n",
    "mdict = convert_old_milling_protocol_to_new_protocol(ddict[\"milling\"])\n",
    "\n",
    "pprint(mdict)\n"
   ]
  },
  {
   "cell_type": "code",
   "execution_count": null,
   "metadata": {},
   "outputs": [],
   "source": []
  },
  {
   "cell_type": "markdown",
   "metadata": {},
   "source": [
    "### Overview Position Export"
   ]
  },
  {
   "cell_type": "code",
   "execution_count": null,
   "metadata": {},
   "outputs": [],
   "source": [
    "%load_ext autoreload\n",
    "%autoreload 2\n",
    "\n",
    "from fibsem import utils\n",
    "from autolamella.structures import Experiment, AutoLamellaStage\n",
    "from fibsem.structures import FibsemImage, Point\n",
    "from fibsem.imaging.tiled import plot_stage_positions_on_image\n",
    "%matplotlib inline\n",
    "import matplotlib.pyplot as plt\n",
    "import os\n",
    "from pprint import pprint\n",
    "\n",
    "experiment_path = \"/home/patrick/development/openfibsem/autolamella/autolamella/log/AutoLamella-2025-03-04-18-03/\"\n",
    "filename = os.path.join(experiment_path, \"overview-image.tif\")\n",
    "image = FibsemImage.load(filename)\n",
    "\n",
    "exp = Experiment.load(os.path.join(experiment_path, \"experiment.yaml\"))\n",
    "\n",
    "from autolamella.tools.reporting import  save_final_overview_image\n",
    "\n",
    "fig = save_final_overview_image(exp, \n",
    "                          image, \n",
    "                          os.path.join(experiment_path, \"final-overview-image.png\"))\n",
    "\n",
    "plt.show()"
   ]
  },
  {
   "cell_type": "code",
   "execution_count": null,
   "metadata": {},
   "outputs": [],
   "source": []
  }
 ],
 "metadata": {
  "kernelspec": {
   "display_name": "fibsem2",
   "language": "python",
   "name": "python3"
  },
  "language_info": {
   "codemirror_mode": {
    "name": "ipython",
    "version": 3
   },
   "file_extension": ".py",
   "mimetype": "text/x-python",
   "name": "python",
   "nbconvert_exporter": "python",
   "pygments_lexer": "ipython3",
   "version": "3.9.21"
  },
  "orig_nbformat": 4
 },
 "nbformat": 4,
 "nbformat_minor": 2
}
