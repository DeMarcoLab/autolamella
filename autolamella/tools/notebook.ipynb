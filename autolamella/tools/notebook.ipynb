{
 "cells": [
  {
   "cell_type": "code",
   "execution_count": null,
   "metadata": {},
   "outputs": [],
   "source": [
    "%load_ext autoreload\n",
    "%autoreload 2\n",
    "\n",
    "import os\n",
    "import sys\n",
    "import data\n",
    "import plotly.express as px\n",
    "import pandas   as pd\n"
   ]
  },
  {
   "cell_type": "code",
   "execution_count": null,
   "metadata": {},
   "outputs": [],
   "source": [
    "path = r\"C:\\Users\\lnae0002\\Desktop\\autolamella\\autolamella\\log\\3\"\n",
    "\n",
    "df_sample, df_history, df_shift, df_steps  = data.calculate_statistics_dataframe(path)\n",
    "display(df_shift)"
   ]
  },
  {
   "cell_type": "code",
   "execution_count": null,
   "metadata": {},
   "outputs": [],
   "source": [
    "points = pd.DataFrame(df_shift[\"shift\"].tolist(), columns=[\"x\", \"y\"])\n",
    "points[\"lamella\"] = df_shift[\"lamella\"]\n",
    "fig = px.scatter(points, x=\"x\", y='y', color=\"lamella\")\n",
    "fig.show()"
   ]
  },
  {
   "cell_type": "code",
   "execution_count": null,
   "metadata": {},
   "outputs": [],
   "source": [
    "display(df_steps)\n",
    "fig = px.scatter(df_steps, x=\"step_n\", y=\"timestamp\", color=\"stage\", symbol='lamella')\n",
    "fig.show()\n",
    "\n"
   ]
  },
  {
   "cell_type": "code",
   "execution_count": null,
   "metadata": {},
   "outputs": [],
   "source": [
    "# calculate difference in timestamp between rows\n",
    "df_steps['delta'] = df_steps['timestamp'].diff()\n",
    "\n",
    "display(df_steps)\n",
    "\n",
    "px.bar(df_steps, x=\"lamella\", y=\"delta\", color=\"step\", facet_col=\"stage\")"
   ]
  },
  {
   "cell_type": "code",
   "execution_count": null,
   "metadata": {},
   "outputs": [],
   "source": [
    "fig = px.bar(df_history, x=\"stage\", y=\"duration\", color=\"petname\", barmode=\"group\")\n",
    "\n",
    "fig.show()"
   ]
  },
  {
   "cell_type": "code",
   "execution_count": null,
   "metadata": {},
   "outputs": [],
   "source": [
    "# display(df_history)\n",
    "df_history[\"duration\"].mean()\n",
    "\n",
    "df_sorted = df_history.groupby([\"stage\", \"petname\"]).mean()\n",
    "df_sorted.drop(columns=[\"start\", \"end\"], inplace=True)\n",
    "df_sorted.reset_index(inplace=True)\n",
    "display(df_sorted)\n"
   ]
  },
  {
   "cell_type": "code",
   "execution_count": null,
   "metadata": {},
   "outputs": [],
   "source": [
    "points = pd.DataFrame(df_sample[\"lamella.centre\"].tolist(), columns=[\"x\", \"y\"])\n",
    "points[\"petname\"] = df_history[\"petname\"].unique()\n",
    "display(points)\n",
    "fig = px.scatter(points, x=\"x\", y='y', color=\"petname\")\n",
    "fig.show()"
   ]
  },
  {
   "cell_type": "code",
   "execution_count": null,
   "metadata": {},
   "outputs": [],
   "source": [
    "df_sample[\"petname\"] = df_history[\"petname\"].unique()\n",
    "fig = px.scatter_3d(df_sample, x=\"lamella.x\", y='lamella.y', z='lamella.z', color=\"petname\")\n",
    "fig.show()"
   ]
  },
  {
   "cell_type": "markdown",
   "metadata": {},
   "source": [
    "### SpaceTOMO"
   ]
  },
  {
   "cell_type": "code",
   "execution_count": null,
   "metadata": {},
   "outputs": [],
   "source": [
    "\n",
    "from PIL import Image\n",
    "import tifffile as tff\n",
    "import glob\n",
    "\n",
    "\n",
    "\n",
    "PATH = \"../../../data/spacetomo/imagesTr/\"\n",
    "\n",
    "\n",
    "filenames = glob.glob(PATH + \"*.png\")\n",
    "\n",
    "from pprint import pprint\n",
    "\n",
    "# pprint(filenames)\n",
    "\n",
    "# convert to tiff, save in separate dir   \n",
    "for filename in filenames:\n",
    "    im = Image.open(filename)\n",
    "    im.save(filename.replace(\".png\", \".tif\"))\n"
   ]
  },
  {
   "cell_type": "code",
   "execution_count": null,
   "metadata": {},
   "outputs": [],
   "source": []
  },
  {
   "cell_type": "markdown",
   "metadata": {},
   "source": [
    "### Feature Detection Tools\n",
    "\n"
   ]
  },
  {
   "cell_type": "markdown",
   "metadata": {},
   "source": []
  },
  {
   "cell_type": "code",
   "execution_count": null,
   "metadata": {},
   "outputs": [],
   "source": [
    "%load_ext autoreload\n",
    "%autoreload 2\n",
    "\n",
    "import os\n",
    "import glob\n",
    "import pandas as pd\n",
    "\n",
    "\n",
    "\n",
    "path = \"../../../data/autolamella-paper/model-development/train/serial-liftout/test/\"\n",
    "\n",
    "filenames = sorted(glob.glob(os.path.join(path, \"*.tif*\")))\n",
    "\n",
    "\n",
    "print(df.head())"
   ]
  },
  {
   "cell_type": "code",
   "execution_count": null,
   "metadata": {},
   "outputs": [],
   "source": [
    "df = pd.read_csv(os.path.join(path, \"data.csv\"))\n",
    "\n",
    "display(df.head())\n",
    "\n",
    "filenames = []\n",
    "for fname in df[\"filename\"].values:\n",
    "    filenames += glob.glob(os.path.join(path, f\"*{fname}*\"))\n",
    "\n",
    "print(len(filenames))\n",
    "\n",
    "from pprint import pprint\n",
    "pprint(filenames)\n"
   ]
  },
  {
   "cell_type": "code",
   "execution_count": null,
   "metadata": {},
   "outputs": [],
   "source": [
    "df = pd.read_csv(os.path.join(path, \"data.csv\"))\n",
    "\n",
    "\n",
    "fname = df[\"filename\"].values[0]\n",
    "\n",
    "df_filt = df[df[\"filename\"] == fname]\n",
    "\n",
    "\n",
    "display(df)\n",
    "\n",
    "# drop rows with filename = fname\n",
    "df.drop(df[df[\"filename\"] == fname].index, inplace=True)\n",
    "\n",
    "display(df)"
   ]
  },
  {
   "cell_type": "code",
   "execution_count": null,
   "metadata": {},
   "outputs": [],
   "source": []
  },
  {
   "cell_type": "markdown",
   "metadata": {},
   "source": [
    "### Get / Set API"
   ]
  },
  {
   "cell_type": "code",
   "execution_count": null,
   "metadata": {},
   "outputs": [],
   "source": [
    "%load_ext autoreload\n",
    "%autoreload 2\n",
    "\n",
    "\n",
    "from fibsem import utils, acquire\n",
    "from fibsem.structures import BeamType\n",
    "import matplotlib.pyplot as plt\n",
    "\n",
    "import matplotlib\n",
    "%matplotlib inline\n",
    "\n",
    "microscope, settings = utils.setup_session(debug=True)\n",
    "\n",
    "print('--'*50)\n",
    "microscope.apply_configuration()\n",
    "\n",
    "print('--'*50)\n",
    "eb = microscope.get_beam_system_settings(BeamType.ELECTRON)\n",
    "ib = microscope.get_beam_system_settings(BeamType.ION)\n",
    "\n"
   ]
  },
  {
   "cell_type": "code",
   "execution_count": null,
   "metadata": {},
   "outputs": [],
   "source": []
  },
  {
   "cell_type": "markdown",
   "metadata": {},
   "source": [
    "# AutoLamella checkpoints"
   ]
  },
  {
   "cell_type": "code",
   "execution_count": 49,
   "metadata": {},
   "outputs": [
    {
     "name": "stdout",
     "output_type": "stream",
     "text": [
      "2024-01-20 23:43:27,084 — urllib3.connectionpool — DEBUG — _make_request:546 — https://huggingface.co:443 \"GET /api/models/patrickcleeve/autolamella/tree/main?recursive=True&expand=False HTTP/1.1\" 200 5998\n",
      "Downloading autolamella-mega-20240107.pt\n",
      "2024-01-20 23:43:27,418 — urllib3.connectionpool — DEBUG — _make_request:546 — https://huggingface.co:443 \"HEAD /patrickcleeve/autolamella/resolve/main/autolamella-mega-20240107.pt HTTP/1.1\" 302 0\n",
      "2024-01-20 23:43:27,426 — filelock — DEBUG — acquire:254 — Attempting to acquire lock 139876407377680 on /home/patrick/.cache/huggingface/hub/.locks/models--patrickcleeve--autolamella/8bdc674f2f55c346438e75893961841f873781f75209e701c9f77595f203dab8.lock\n",
      "2024-01-20 23:43:27,428 — filelock — DEBUG — acquire:257 — Lock 139876407377680 acquired on /home/patrick/.cache/huggingface/hub/.locks/models--patrickcleeve--autolamella/8bdc674f2f55c346438e75893961841f873781f75209e701c9f77595f203dab8.lock\n",
      "2024-01-20 23:43:27,436 — urllib3.connectionpool — DEBUG — _new_conn:1052 — Starting new HTTPS connection (1): cdn-lfs.huggingface.co:443\n",
      "2024-01-20 23:43:29,148 — urllib3.connectionpool — DEBUG — _make_request:546 — https://cdn-lfs.huggingface.co:443 \"GET /repos/0c/20/0c208bd3c409ce0eb090c76292d89037d8fdbc681d550b4fa339c345bd9b2982/8bdc674f2f55c346438e75893961841f873781f75209e701c9f77595f203dab8?response-content-disposition=attachment%3B+filename*%3DUTF-8%27%27autolamella-mega-20240107.pt%3B+filename%3D%22autolamella-mega-20240107.pt%22%3B&Expires=1706013807&Policy=eyJTdGF0ZW1lbnQiOlt7IkNvbmRpdGlvbiI6eyJEYXRlTGVzc1RoYW4iOnsiQVdTOkVwb2NoVGltZSI6MTcwNjAxMzgwN319LCJSZXNvdXJjZSI6Imh0dHBzOi8vY2RuLWxmcy5odWdnaW5nZmFjZS5jby9yZXBvcy8wYy8yMC8wYzIwOGJkM2M0MDljZTBlYjA5MGM3NjI5MmQ4OTAzN2Q4ZmRiYzY4MWQ1NTBiNGZhMzM5YzM0NWJkOWIyOTgyLzhiZGM2NzRmMmY1NWMzNDY0MzhlNzU4OTM5NjE4NDFmODczNzgxZjc1MjA5ZTcwMWM5Zjc3NTk1ZjIwM2RhYjg~cmVzcG9uc2UtY29udGVudC1kaXNwb3NpdGlvbj0qIn1dfQ__&Signature=YaA1VWq1tpTH-kSc~4MyxlyeqhOsF9qAz1R0EFKcPG4uRRC-i7KMl~2PwHj5llhlcH8hQGYhdCiePuLnURxe0yuCIDnwkKiPYofton2aYNzQtpWsh1biIQtEivEtvOiMaZ3CqKoZTF1sS-EHSvPm~ggV~1l~j3rNv6G4lfOchG3tOzw1DREAUMqMchh4Xf6ko0NXYW7LiP4cr0uqchP4iU0pbJEnbxQmIBvUO115ch65u39ebZXdacUCLQBWfpBhwb~qM2jHuHMFJ4bM4xY7V5d9RA9sl4fJs7QIkiLDGUhOE00fxFXwmY7~u1W9nsl3A94jtseFblu2j-1jK2VopA__&Key-Pair-Id=KVTP0A1DKRTAX HTTP/1.1\" 200 97899658\n"
     ]
    },
    {
     "name": "stderr",
     "output_type": "stream",
     "text": [
      "autolamella-mega-20240107.pt: 100%|██████████| 97.9M/97.9M [00:16<00:00, 5.96MB/s]"
     ]
    },
    {
     "name": "stdout",
     "output_type": "stream",
     "text": [
      "2024-01-20 23:43:45,574 — filelock — DEBUG — release:286 — Attempting to release lock 139876407377680 on /home/patrick/.cache/huggingface/hub/.locks/models--patrickcleeve--autolamella/8bdc674f2f55c346438e75893961841f873781f75209e701c9f77595f203dab8.lock\n",
      "2024-01-20 23:43:45,575 — filelock — DEBUG — release:289 — Lock 139876407377680 released on /home/patrick/.cache/huggingface/hub/.locks/models--patrickcleeve--autolamella/8bdc674f2f55c346438e75893961841f873781f75209e701c9f77595f203dab8.lock\n"
     ]
    },
    {
     "name": "stderr",
     "output_type": "stream",
     "text": [
      "\n"
     ]
    },
    {
     "name": "stdout",
     "output_type": "stream",
     "text": [
      "Downloading autolamella-serial-liftout-20240107.pt\n",
      "2024-01-20 23:43:45,815 — urllib3.connectionpool — DEBUG — _make_request:546 — https://huggingface.co:443 \"HEAD /patrickcleeve/autolamella/resolve/main/autolamella-serial-liftout-20240107.pt HTTP/1.1\" 302 0\n",
      "2024-01-20 23:43:45,819 — filelock — DEBUG — acquire:254 — Attempting to acquire lock 139876325089136 on /home/patrick/.cache/huggingface/hub/.locks/models--patrickcleeve--autolamella/73c4ea8da6f78f69094735479ef995af487e58793e1917202bfb8744dddfd604.lock\n",
      "2024-01-20 23:43:45,820 — filelock — DEBUG — acquire:257 — Lock 139876325089136 acquired on /home/patrick/.cache/huggingface/hub/.locks/models--patrickcleeve--autolamella/73c4ea8da6f78f69094735479ef995af487e58793e1917202bfb8744dddfd604.lock\n",
      "2024-01-20 23:43:47,094 — urllib3.connectionpool — DEBUG — _make_request:546 — https://cdn-lfs.huggingface.co:443 \"GET /repos/0c/20/0c208bd3c409ce0eb090c76292d89037d8fdbc681d550b4fa339c345bd9b2982/73c4ea8da6f78f69094735479ef995af487e58793e1917202bfb8744dddfd604?response-content-disposition=attachment%3B+filename*%3DUTF-8%27%27autolamella-serial-liftout-20240107.pt%3B+filename%3D%22autolamella-serial-liftout-20240107.pt%22%3B&Expires=1706013825&Policy=eyJTdGF0ZW1lbnQiOlt7IkNvbmRpdGlvbiI6eyJEYXRlTGVzc1RoYW4iOnsiQVdTOkVwb2NoVGltZSI6MTcwNjAxMzgyNX19LCJSZXNvdXJjZSI6Imh0dHBzOi8vY2RuLWxmcy5odWdnaW5nZmFjZS5jby9yZXBvcy8wYy8yMC8wYzIwOGJkM2M0MDljZTBlYjA5MGM3NjI5MmQ4OTAzN2Q4ZmRiYzY4MWQ1NTBiNGZhMzM5YzM0NWJkOWIyOTgyLzczYzRlYThkYTZmNzhmNjkwOTQ3MzU0NzllZjk5NWFmNDg3ZTU4NzkzZTE5MTcyMDJiZmI4NzQ0ZGRkZmQ2MDQ~cmVzcG9uc2UtY29udGVudC1kaXNwb3NpdGlvbj0qIn1dfQ__&Signature=Aeze8ayASnP4JiWH4ZtXDv2taeoqvyZ1glt1Em9wqaCKzNq1HX0E7UMWc02n1o0~886BqbN6yIWWs48ucjfQpyrjGGoWSttDQV~Bb7PXcLyFigJYxX~fFuj4SF30JEkujjWcK4-n2TOT0ppS8vlRXCcQyzMy-R0jNPCZN4whAeAdqMonWHx43O3b2~KyUQeCuRSh~9bEFWa1z8Xo~Ql0GzTXb9arETa3N20Lm0VylBogVVov6gyL0dvyBOrfJSD54sv6DECgzKoSiR83PNf9Om~qyGkRN9rSWHaQ-P7Nt542ynG7dx7q9xVH~s0hkG~jq2CkeV6ViCRsIxggxKjynA__&Key-Pair-Id=KVTP0A1DKRTAX HTTP/1.1\" 200 97897120\n"
     ]
    },
    {
     "name": "stderr",
     "output_type": "stream",
     "text": [
      "autolamella-serial-liftout-20240107.pt: 100%|██████████| 97.9M/97.9M [00:16<00:00, 5.95MB/s]"
     ]
    },
    {
     "name": "stdout",
     "output_type": "stream",
     "text": [
      "2024-01-20 23:44:03,554 — filelock — DEBUG — release:286 — Attempting to release lock 139876325089136 on /home/patrick/.cache/huggingface/hub/.locks/models--patrickcleeve--autolamella/73c4ea8da6f78f69094735479ef995af487e58793e1917202bfb8744dddfd604.lock\n",
      "2024-01-20 23:44:03,554 — filelock — DEBUG — release:289 — Lock 139876325089136 released on /home/patrick/.cache/huggingface/hub/.locks/models--patrickcleeve--autolamella/73c4ea8da6f78f69094735479ef995af487e58793e1917202bfb8744dddfd604.lock\n"
     ]
    },
    {
     "name": "stderr",
     "output_type": "stream",
     "text": [
      "\n"
     ]
    },
    {
     "name": "stdout",
     "output_type": "stream",
     "text": [
      "Downloading autolamella-waffle-20240107.pt\n",
      "2024-01-20 23:44:03,789 — urllib3.connectionpool — DEBUG — _make_request:546 — https://huggingface.co:443 \"HEAD /patrickcleeve/autolamella/resolve/main/autolamella-waffle-20240107.pt HTTP/1.1\" 302 0\n",
      "2024-01-20 23:44:03,790 — filelock — DEBUG — acquire:254 — Attempting to acquire lock 139876486665168 on /home/patrick/.cache/huggingface/hub/.locks/models--patrickcleeve--autolamella/3fd89954fe4ddc46c5a5a3265723eaf3267ecfdb351dfdfa76368dfec799ec4c.lock\n",
      "2024-01-20 23:44:03,791 — filelock — DEBUG — acquire:257 — Lock 139876486665168 acquired on /home/patrick/.cache/huggingface/hub/.locks/models--patrickcleeve--autolamella/3fd89954fe4ddc46c5a5a3265723eaf3267ecfdb351dfdfa76368dfec799ec4c.lock\n",
      "2024-01-20 23:44:05,064 — urllib3.connectionpool — DEBUG — _make_request:546 — https://cdn-lfs.huggingface.co:443 \"GET /repos/0c/20/0c208bd3c409ce0eb090c76292d89037d8fdbc681d550b4fa339c345bd9b2982/3fd89954fe4ddc46c5a5a3265723eaf3267ecfdb351dfdfa76368dfec799ec4c?response-content-disposition=attachment%3B+filename*%3DUTF-8%27%27autolamella-waffle-20240107.pt%3B+filename%3D%22autolamella-waffle-20240107.pt%22%3B&Expires=1706013843&Policy=eyJTdGF0ZW1lbnQiOlt7IkNvbmRpdGlvbiI6eyJEYXRlTGVzc1RoYW4iOnsiQVdTOkVwb2NoVGltZSI6MTcwNjAxMzg0M319LCJSZXNvdXJjZSI6Imh0dHBzOi8vY2RuLWxmcy5odWdnaW5nZmFjZS5jby9yZXBvcy8wYy8yMC8wYzIwOGJkM2M0MDljZTBlYjA5MGM3NjI5MmQ4OTAzN2Q4ZmRiYzY4MWQ1NTBiNGZhMzM5YzM0NWJkOWIyOTgyLzNmZDg5OTU0ZmU0ZGRjNDZjNWE1YTMyNjU3MjNlYWYzMjY3ZWNmZGIzNTFkZmRmYTc2MzY4ZGZlYzc5OWVjNGM~cmVzcG9uc2UtY29udGVudC1kaXNwb3NpdGlvbj0qIn1dfQ__&Signature=AkmDKOE6VjV4-pb4DSd0Xnz3cpuYH5-Suv5nZxiVout6O-CeXUqMj85UTr8eSa-LNgKFuD448B04BOyO9JTEi~lxaDWlwH-q0-8vZRZcN3eTYfm7JG13uvuwIo~vBjaf~tAttbYr77l4sExciMg1YTZL1TgoHymwfO2cdw5IzyP-cuSPO1DzfmmGnJ1vtf-otLYGafmkm0wnHg1i6P-lyHtqLGIfxQPoUqegCppzLcAleS3NQLEmJUShKPv57HCCbck08LrZ3OjGYSejdS~O6jv~PbQI~rKzfFWuB~Fk1kszVV5vmaE5Y514hbX9nCY6HQrdjn4KM481ylzHF-cGCQ__&Key-Pair-Id=KVTP0A1DKRTAX HTTP/1.1\" 200 97897757\n"
     ]
    },
    {
     "name": "stderr",
     "output_type": "stream",
     "text": [
      "autolamella-waffle-20240107.pt: 100%|██████████| 97.9M/97.9M [00:16<00:00, 5.84MB/s]"
     ]
    },
    {
     "name": "stdout",
     "output_type": "stream",
     "text": [
      "2024-01-20 23:44:21,822 — filelock — DEBUG — release:286 — Attempting to release lock 139876486665168 on /home/patrick/.cache/huggingface/hub/.locks/models--patrickcleeve--autolamella/3fd89954fe4ddc46c5a5a3265723eaf3267ecfdb351dfdfa76368dfec799ec4c.lock\n",
      "2024-01-20 23:44:21,822 — filelock — DEBUG — release:289 — Lock 139876486665168 released on /home/patrick/.cache/huggingface/hub/.locks/models--patrickcleeve--autolamella/3fd89954fe4ddc46c5a5a3265723eaf3267ecfdb351dfdfa76368dfec799ec4c.lock\n"
     ]
    },
    {
     "name": "stderr",
     "output_type": "stream",
     "text": [
      "\n"
     ]
    }
   ],
   "source": [
    "\n",
    "# Usage:\n",
    "checkpoints = list_available_checkpoints()\n",
    "\n",
    "\n",
    "for checkpoint in checkpoints:\n",
    "    print(f\"Downloading {checkpoint}\")\n",
    "    download_checkpoint(checkpoint)\n"
   ]
  },
  {
   "cell_type": "code",
   "execution_count": null,
   "metadata": {},
   "outputs": [],
   "source": []
  }
 ],
 "metadata": {
  "kernelspec": {
   "display_name": "Python 3",
   "language": "python",
   "name": "python3"
  },
  "language_info": {
   "codemirror_mode": {
    "name": "ipython",
    "version": 3
   },
   "file_extension": ".py",
   "mimetype": "text/x-python",
   "name": "python",
   "nbconvert_exporter": "python",
   "pygments_lexer": "ipython3",
   "version": "3.9.18"
  },
  "orig_nbformat": 4
 },
 "nbformat": 4,
 "nbformat_minor": 2
}
