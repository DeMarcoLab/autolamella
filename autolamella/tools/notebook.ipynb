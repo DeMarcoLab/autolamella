{
 "cells": [
  {
   "cell_type": "code",
   "execution_count": 10,
   "metadata": {},
   "outputs": [
    {
     "name": "stdout",
     "output_type": "stream",
     "text": [
      "The autoreload extension is already loaded. To reload it, use:\n",
      "  %reload_ext autoreload\n"
     ]
    }
   ],
   "source": [
    "%load_ext autoreload\n",
    "%autoreload 2\n",
    "\n",
    "import os\n",
    "import sys\n",
    "import data\n",
    "import plotly.express as px\n",
    "import pandas   as pd\n"
   ]
  },
  {
   "cell_type": "code",
   "execution_count": 23,
   "metadata": {},
   "outputs": [
    {
     "name": "stdout",
     "output_type": "stream",
     "text": [
      "--------------------------------------------------------------------------------\n",
      "STATUS | 01-clean-elf | Setup | LAMELLA_ADDED\n",
      "{'lamella': '01-clean-elf', 'stage': 'Setup', 'step': 'LAMELLA_ADDED', 'timestamp': 1684197707.0, 'step_n': 0}\n",
      "STATUS | 01-clean-elf | Setup | MILLING_FIDUCIAL\n",
      "{'lamella': '01-clean-elf', 'stage': 'Setup', 'step': 'MILLING_FIDUCIAL', 'timestamp': 1684197715.0, 'step_n': 1}\n",
      "STATUS | 01-clean-elf | FiducialMilled | FIDUCIAL_MILLED_SUCCESSFULLY\n",
      "{'lamella': '01-clean-elf', 'stage': 'FiducialMilled', 'step': 'FIDUCIAL_MILLED_SUCCESSFULLY', 'timestamp': 1684197719.0, 'step_n': 2}\n",
      "STATUS | 02-immune-louse | Setup | LAMELLA_ADDED\n",
      "{'lamella': '02-immune-louse', 'stage': 'Setup', 'step': 'LAMELLA_ADDED', 'timestamp': 1684198036.0, 'step_n': 3}\n",
      "STATUS | 02-immune-louse | Setup | MILLING_FIDUCIAL\n",
      "{'lamella': '02-immune-louse', 'stage': 'Setup', 'step': 'MILLING_FIDUCIAL', 'timestamp': 1684198045.0, 'step_n': 4}\n",
      "STATUS | 02-immune-louse | FiducialMilled | FIDUCIAL_MILLED_SUCCESSFULLY\n",
      "{'lamella': '02-immune-louse', 'stage': 'FiducialMilled', 'step': 'FIDUCIAL_MILLED_SUCCESSFULLY', 'timestamp': 1684198049.0, 'step_n': 5}\n",
      "STATUS | 03-pet-wombat | Setup | LAMELLA_ADDED\n",
      "{'lamella': '03-pet-wombat', 'stage': 'Setup', 'step': 'LAMELLA_ADDED', 'timestamp': 1684198234.0, 'step_n': 6}\n",
      "STATUS | 03-pet-wombat | Setup | MILLING_FIDUCIAL\n",
      "{'lamella': '03-pet-wombat', 'stage': 'Setup', 'step': 'MILLING_FIDUCIAL', 'timestamp': 1684198241.0, 'step_n': 7}\n",
      "STATUS | 03-pet-wombat | FiducialMilled | FIDUCIAL_MILLED_SUCCESSFULLY\n",
      "{'lamella': '03-pet-wombat', 'stage': 'FiducialMilled', 'step': 'FIDUCIAL_MILLED_SUCCESSFULLY', 'timestamp': 1684198245.0, 'step_n': 8}\n",
      "STATUS | 01-clean-elf | FiducialMilled | MOVING_TO_POSITION\n",
      "{'lamella': '01-clean-elf', 'stage': 'FiducialMilled', 'step': 'MOVING_TO_POSITION', 'timestamp': 1684198265.0, 'step_n': 9}\n",
      "STATUS | 01-clean-elf | FiducialMilled | MOVE_TO_POSITION_SUCCESSFUL\n",
      "{'lamella': '01-clean-elf', 'stage': 'FiducialMilled', 'step': 'MOVE_TO_POSITION_SUCCESSFUL', 'timestamp': 1684198272.0, 'step_n': 10}\n",
      "STATUS | 01-clean-elf | FiducialMilled | BEAM_ALIGNMENT\n",
      "{'lamella': '01-clean-elf', 'stage': 'FiducialMilled', 'step': 'BEAM_ALIGNMENT', 'timestamp': 1684198278.0, 'step_n': 11}\n",
      "STATUS | 01-clean-elf | FiducialMilled | BEAM_ALIGNMENT\n",
      "{'lamella': '01-clean-elf', 'stage': 'FiducialMilled', 'step': 'BEAM_ALIGNMENT', 'timestamp': 1684198279.0, 'step_n': 12}\n",
      "STATUS | 01-clean-elf | FiducialMilled | BEAM_ALIGNMENT\n",
      "{'lamella': '01-clean-elf', 'stage': 'FiducialMilled', 'step': 'BEAM_ALIGNMENT', 'timestamp': 1684198280.0, 'step_n': 13}\n",
      "STATUS | 01-clean-elf | FiducialMilled | MILLING_TRENCH\n",
      "{'lamella': '01-clean-elf', 'stage': 'FiducialMilled', 'step': 'MILLING_TRENCH', 'timestamp': 1684198281.0, 'step_n': 14}\n",
      "STATUS | 01-clean-elf | FiducialMilled | MILLING_COMPLETED_SUCCESSFULLY\n",
      "{'lamella': '01-clean-elf', 'stage': 'FiducialMilled', 'step': 'MILLING_COMPLETED_SUCCESSFULLY', 'timestamp': 1684198285.0, 'step_n': 15}\n",
      "STATUS | 01-clean-elf | RoughCut | STAGE_COMPLETE\n",
      "{'lamella': '01-clean-elf', 'stage': 'RoughCut', 'step': 'STAGE_COMPLETE', 'timestamp': 1684198291.0, 'step_n': 16}\n",
      "STATUS | 02-immune-louse | FiducialMilled | MOVING_TO_POSITION\n",
      "{'lamella': '02-immune-louse', 'stage': 'FiducialMilled', 'step': 'MOVING_TO_POSITION', 'timestamp': 1684198291.0, 'step_n': 17}\n",
      "STATUS | 02-immune-louse | FiducialMilled | MOVE_TO_POSITION_SUCCESSFUL\n",
      "{'lamella': '02-immune-louse', 'stage': 'FiducialMilled', 'step': 'MOVE_TO_POSITION_SUCCESSFUL', 'timestamp': 1684198298.0, 'step_n': 18}\n",
      "STATUS | 02-immune-louse | FiducialMilled | BEAM_ALIGNMENT\n",
      "{'lamella': '02-immune-louse', 'stage': 'FiducialMilled', 'step': 'BEAM_ALIGNMENT', 'timestamp': 1684198303.0, 'step_n': 19}\n",
      "STATUS | 02-immune-louse | FiducialMilled | BEAM_ALIGNMENT\n",
      "{'lamella': '02-immune-louse', 'stage': 'FiducialMilled', 'step': 'BEAM_ALIGNMENT', 'timestamp': 1684198305.0, 'step_n': 20}\n",
      "STATUS | 02-immune-louse | FiducialMilled | BEAM_ALIGNMENT\n",
      "{'lamella': '02-immune-louse', 'stage': 'FiducialMilled', 'step': 'BEAM_ALIGNMENT', 'timestamp': 1684198306.0, 'step_n': 21}\n",
      "STATUS | 02-immune-louse | FiducialMilled | MILLING_TRENCH\n",
      "{'lamella': '02-immune-louse', 'stage': 'FiducialMilled', 'step': 'MILLING_TRENCH', 'timestamp': 1684198307.0, 'step_n': 22}\n",
      "STATUS | 02-immune-louse | FiducialMilled | MILLING_COMPLETED_SUCCESSFULLY\n",
      "{'lamella': '02-immune-louse', 'stage': 'FiducialMilled', 'step': 'MILLING_COMPLETED_SUCCESSFULLY', 'timestamp': 1684198311.0, 'step_n': 23}\n",
      "STATUS | 02-immune-louse | RoughCut | STAGE_COMPLETE\n",
      "{'lamella': '02-immune-louse', 'stage': 'RoughCut', 'step': 'STAGE_COMPLETE', 'timestamp': 1684198317.0, 'step_n': 24}\n",
      "STATUS | 03-pet-wombat | FiducialMilled | MOVING_TO_POSITION\n",
      "{'lamella': '03-pet-wombat', 'stage': 'FiducialMilled', 'step': 'MOVING_TO_POSITION', 'timestamp': 1684198317.0, 'step_n': 25}\n",
      "STATUS | 03-pet-wombat | FiducialMilled | MOVE_TO_POSITION_SUCCESSFUL\n",
      "{'lamella': '03-pet-wombat', 'stage': 'FiducialMilled', 'step': 'MOVE_TO_POSITION_SUCCESSFUL', 'timestamp': 1684198320.0, 'step_n': 26}\n",
      "STATUS | 03-pet-wombat | FiducialMilled | BEAM_ALIGNMENT\n",
      "{'lamella': '03-pet-wombat', 'stage': 'FiducialMilled', 'step': 'BEAM_ALIGNMENT', 'timestamp': 1684198325.0, 'step_n': 27}\n",
      "STATUS | 03-pet-wombat | FiducialMilled | BEAM_ALIGNMENT\n",
      "{'lamella': '03-pet-wombat', 'stage': 'FiducialMilled', 'step': 'BEAM_ALIGNMENT', 'timestamp': 1684198326.0, 'step_n': 28}\n",
      "STATUS | 03-pet-wombat | FiducialMilled | BEAM_ALIGNMENT\n",
      "{'lamella': '03-pet-wombat', 'stage': 'FiducialMilled', 'step': 'BEAM_ALIGNMENT', 'timestamp': 1684198327.0, 'step_n': 29}\n",
      "STATUS | 03-pet-wombat | FiducialMilled | MILLING_TRENCH\n",
      "{'lamella': '03-pet-wombat', 'stage': 'FiducialMilled', 'step': 'MILLING_TRENCH', 'timestamp': 1684198329.0, 'step_n': 30}\n",
      "STATUS | 03-pet-wombat | FiducialMilled | MILLING_COMPLETED_SUCCESSFULLY\n",
      "{'lamella': '03-pet-wombat', 'stage': 'FiducialMilled', 'step': 'MILLING_COMPLETED_SUCCESSFULLY', 'timestamp': 1684198333.0, 'step_n': 31}\n",
      "STATUS | 03-pet-wombat | RoughCut | STAGE_COMPLETE\n",
      "{'lamella': '03-pet-wombat', 'stage': 'RoughCut', 'step': 'STAGE_COMPLETE', 'timestamp': 1684198339.0, 'step_n': 32}\n",
      "STATUS | 01-clean-elf | RoughCut | MOVING_TO_POSITION\n",
      "{'lamella': '01-clean-elf', 'stage': 'RoughCut', 'step': 'MOVING_TO_POSITION', 'timestamp': 1684198339.0, 'step_n': 33}\n",
      "STATUS | 01-clean-elf | RoughCut | MOVE_TO_POSITION_SUCCESSFUL\n",
      "{'lamella': '01-clean-elf', 'stage': 'RoughCut', 'step': 'MOVE_TO_POSITION_SUCCESSFUL', 'timestamp': 1684198346.0, 'step_n': 34}\n",
      "STATUS | 01-clean-elf | RoughCut | BEAM_ALIGNMENT\n",
      "{'lamella': '01-clean-elf', 'stage': 'RoughCut', 'step': 'BEAM_ALIGNMENT', 'timestamp': 1684198351.0, 'step_n': 35}\n",
      "STATUS | 01-clean-elf | RoughCut | BEAM_ALIGNMENT\n",
      "{'lamella': '01-clean-elf', 'stage': 'RoughCut', 'step': 'BEAM_ALIGNMENT', 'timestamp': 1684198352.0, 'step_n': 36}\n",
      "STATUS | 01-clean-elf | RoughCut | BEAM_ALIGNMENT\n",
      "{'lamella': '01-clean-elf', 'stage': 'RoughCut', 'step': 'BEAM_ALIGNMENT', 'timestamp': 1684198353.0, 'step_n': 37}\n",
      "STATUS | 01-clean-elf | RoughCut | MILLING_TRENCH\n",
      "{'lamella': '01-clean-elf', 'stage': 'RoughCut', 'step': 'MILLING_TRENCH', 'timestamp': 1684198355.0, 'step_n': 38}\n",
      "STATUS | 01-clean-elf | RoughCut | MILLING_COMPLETED_SUCCESSFULLY\n",
      "{'lamella': '01-clean-elf', 'stage': 'RoughCut', 'step': 'MILLING_COMPLETED_SUCCESSFULLY', 'timestamp': 1684198359.0, 'step_n': 39}\n",
      "STATUS | 01-clean-elf | RegularCut | STAGE_COMPLETE\n",
      "{'lamella': '01-clean-elf', 'stage': 'RegularCut', 'step': 'STAGE_COMPLETE', 'timestamp': 1684198364.0, 'step_n': 40}\n",
      "STATUS | 02-immune-louse | RoughCut | MOVING_TO_POSITION\n",
      "{'lamella': '02-immune-louse', 'stage': 'RoughCut', 'step': 'MOVING_TO_POSITION', 'timestamp': 1684198365.0, 'step_n': 41}\n",
      "STATUS | 02-immune-louse | RoughCut | MOVE_TO_POSITION_SUCCESSFUL\n",
      "{'lamella': '02-immune-louse', 'stage': 'RoughCut', 'step': 'MOVE_TO_POSITION_SUCCESSFUL', 'timestamp': 1684198372.0, 'step_n': 42}\n",
      "STATUS | 02-immune-louse | RoughCut | BEAM_ALIGNMENT\n",
      "{'lamella': '02-immune-louse', 'stage': 'RoughCut', 'step': 'BEAM_ALIGNMENT', 'timestamp': 1684198377.0, 'step_n': 43}\n",
      "STATUS | 02-immune-louse | RoughCut | BEAM_ALIGNMENT\n",
      "{'lamella': '02-immune-louse', 'stage': 'RoughCut', 'step': 'BEAM_ALIGNMENT', 'timestamp': 1684198378.0, 'step_n': 44}\n",
      "STATUS | 02-immune-louse | RoughCut | BEAM_ALIGNMENT\n",
      "{'lamella': '02-immune-louse', 'stage': 'RoughCut', 'step': 'BEAM_ALIGNMENT', 'timestamp': 1684198379.0, 'step_n': 45}\n",
      "STATUS | 02-immune-louse | RoughCut | MILLING_TRENCH\n",
      "{'lamella': '02-immune-louse', 'stage': 'RoughCut', 'step': 'MILLING_TRENCH', 'timestamp': 1684198380.0, 'step_n': 46}\n",
      "STATUS | 02-immune-louse | RoughCut | MILLING_COMPLETED_SUCCESSFULLY\n",
      "{'lamella': '02-immune-louse', 'stage': 'RoughCut', 'step': 'MILLING_COMPLETED_SUCCESSFULLY', 'timestamp': 1684198385.0, 'step_n': 47}\n",
      "STATUS | 02-immune-louse | RegularCut | STAGE_COMPLETE\n",
      "{'lamella': '02-immune-louse', 'stage': 'RegularCut', 'step': 'STAGE_COMPLETE', 'timestamp': 1684198390.0, 'step_n': 48}\n",
      "STATUS | 03-pet-wombat | RoughCut | MOVING_TO_POSITION\n",
      "{'lamella': '03-pet-wombat', 'stage': 'RoughCut', 'step': 'MOVING_TO_POSITION', 'timestamp': 1684198390.0, 'step_n': 49}\n",
      "STATUS | 03-pet-wombat | RoughCut | MOVE_TO_POSITION_SUCCESSFUL\n",
      "{'lamella': '03-pet-wombat', 'stage': 'RoughCut', 'step': 'MOVE_TO_POSITION_SUCCESSFUL', 'timestamp': 1684198393.0, 'step_n': 50}\n",
      "STATUS | 03-pet-wombat | RoughCut | BEAM_ALIGNMENT\n",
      "{'lamella': '03-pet-wombat', 'stage': 'RoughCut', 'step': 'BEAM_ALIGNMENT', 'timestamp': 1684198399.0, 'step_n': 51}\n",
      "STATUS | 03-pet-wombat | RoughCut | BEAM_ALIGNMENT\n",
      "{'lamella': '03-pet-wombat', 'stage': 'RoughCut', 'step': 'BEAM_ALIGNMENT', 'timestamp': 1684198400.0, 'step_n': 52}\n",
      "STATUS | 03-pet-wombat | RoughCut | BEAM_ALIGNMENT\n",
      "{'lamella': '03-pet-wombat', 'stage': 'RoughCut', 'step': 'BEAM_ALIGNMENT', 'timestamp': 1684198401.0, 'step_n': 53}\n",
      "STATUS | 03-pet-wombat | RoughCut | MILLING_TRENCH\n",
      "{'lamella': '03-pet-wombat', 'stage': 'RoughCut', 'step': 'MILLING_TRENCH', 'timestamp': 1684198402.0, 'step_n': 54}\n",
      "STATUS | 03-pet-wombat | RoughCut | MILLING_COMPLETED_SUCCESSFULLY\n",
      "{'lamella': '03-pet-wombat', 'stage': 'RoughCut', 'step': 'MILLING_COMPLETED_SUCCESSFULLY', 'timestamp': 1684198406.0, 'step_n': 55}\n",
      "STATUS | 03-pet-wombat | RegularCut | STAGE_COMPLETE\n",
      "{'lamella': '03-pet-wombat', 'stage': 'RegularCut', 'step': 'STAGE_COMPLETE', 'timestamp': 1684198412.0, 'step_n': 56}\n",
      "STATUS | 01-clean-elf | RegularCut | MOVING_TO_POSITION\n",
      "{'lamella': '01-clean-elf', 'stage': 'RegularCut', 'step': 'MOVING_TO_POSITION', 'timestamp': 1684198412.0, 'step_n': 57}\n",
      "STATUS | 01-clean-elf | RegularCut | MOVE_TO_POSITION_SUCCESSFUL\n",
      "{'lamella': '01-clean-elf', 'stage': 'RegularCut', 'step': 'MOVE_TO_POSITION_SUCCESSFUL', 'timestamp': 1684198419.0, 'step_n': 58}\n",
      "STATUS | 01-clean-elf | RegularCut | BEAM_ALIGNMENT\n",
      "{'lamella': '01-clean-elf', 'stage': 'RegularCut', 'step': 'BEAM_ALIGNMENT', 'timestamp': 1684198424.0, 'step_n': 59}\n",
      "STATUS | 01-clean-elf | RegularCut | BEAM_ALIGNMENT\n",
      "{'lamella': '01-clean-elf', 'stage': 'RegularCut', 'step': 'BEAM_ALIGNMENT', 'timestamp': 1684198425.0, 'step_n': 60}\n",
      "STATUS | 01-clean-elf | RegularCut | BEAM_ALIGNMENT\n",
      "{'lamella': '01-clean-elf', 'stage': 'RegularCut', 'step': 'BEAM_ALIGNMENT', 'timestamp': 1684198427.0, 'step_n': 61}\n",
      "STATUS | 01-clean-elf | RegularCut | MILLING_TRENCH\n",
      "{'lamella': '01-clean-elf', 'stage': 'RegularCut', 'step': 'MILLING_TRENCH', 'timestamp': 1684198428.0, 'step_n': 62}\n",
      "STATUS | 01-clean-elf | RegularCut | MILLING_COMPLETED_SUCCESSFULLY\n",
      "{'lamella': '01-clean-elf', 'stage': 'RegularCut', 'step': 'MILLING_COMPLETED_SUCCESSFULLY', 'timestamp': 1684198432.0, 'step_n': 63}\n",
      "STATUS | 01-clean-elf | PolishingCut | STAGE_COMPLETE\n",
      "{'lamella': '01-clean-elf', 'stage': 'PolishingCut', 'step': 'STAGE_COMPLETE', 'timestamp': 1684198438.0, 'step_n': 64}\n",
      "STATUS | 02-immune-louse | RegularCut | MOVING_TO_POSITION\n",
      "{'lamella': '02-immune-louse', 'stage': 'RegularCut', 'step': 'MOVING_TO_POSITION', 'timestamp': 1684198438.0, 'step_n': 65}\n",
      "STATUS | 02-immune-louse | RegularCut | MOVE_TO_POSITION_SUCCESSFUL\n",
      "{'lamella': '02-immune-louse', 'stage': 'RegularCut', 'step': 'MOVE_TO_POSITION_SUCCESSFUL', 'timestamp': 1684198445.0, 'step_n': 66}\n",
      "STATUS | 02-immune-louse | RegularCut | BEAM_ALIGNMENT\n",
      "{'lamella': '02-immune-louse', 'stage': 'RegularCut', 'step': 'BEAM_ALIGNMENT', 'timestamp': 1684198450.0, 'step_n': 67}\n",
      "STATUS | 02-immune-louse | RegularCut | BEAM_ALIGNMENT\n",
      "{'lamella': '02-immune-louse', 'stage': 'RegularCut', 'step': 'BEAM_ALIGNMENT', 'timestamp': 1684198451.0, 'step_n': 68}\n",
      "STATUS | 02-immune-louse | RegularCut | BEAM_ALIGNMENT\n",
      "{'lamella': '02-immune-louse', 'stage': 'RegularCut', 'step': 'BEAM_ALIGNMENT', 'timestamp': 1684198453.0, 'step_n': 69}\n",
      "STATUS | 02-immune-louse | RegularCut | MILLING_TRENCH\n",
      "{'lamella': '02-immune-louse', 'stage': 'RegularCut', 'step': 'MILLING_TRENCH', 'timestamp': 1684198454.0, 'step_n': 70}\n",
      "STATUS | 02-immune-louse | RegularCut | MILLING_COMPLETED_SUCCESSFULLY\n",
      "{'lamella': '02-immune-louse', 'stage': 'RegularCut', 'step': 'MILLING_COMPLETED_SUCCESSFULLY', 'timestamp': 1684198458.0, 'step_n': 71}\n",
      "STATUS | 02-immune-louse | PolishingCut | STAGE_COMPLETE\n",
      "{'lamella': '02-immune-louse', 'stage': 'PolishingCut', 'step': 'STAGE_COMPLETE', 'timestamp': 1684198464.0, 'step_n': 72}\n",
      "STATUS | 03-pet-wombat | RegularCut | MOVING_TO_POSITION\n",
      "{'lamella': '03-pet-wombat', 'stage': 'RegularCut', 'step': 'MOVING_TO_POSITION', 'timestamp': 1684198464.0, 'step_n': 73}\n",
      "STATUS | 03-pet-wombat | RegularCut | MOVE_TO_POSITION_SUCCESSFUL\n",
      "{'lamella': '03-pet-wombat', 'stage': 'RegularCut', 'step': 'MOVE_TO_POSITION_SUCCESSFUL', 'timestamp': 1684198467.0, 'step_n': 74}\n",
      "STATUS | 03-pet-wombat | RegularCut | BEAM_ALIGNMENT\n",
      "{'lamella': '03-pet-wombat', 'stage': 'RegularCut', 'step': 'BEAM_ALIGNMENT', 'timestamp': 1684198472.0, 'step_n': 75}\n",
      "STATUS | 03-pet-wombat | RegularCut | BEAM_ALIGNMENT\n",
      "{'lamella': '03-pet-wombat', 'stage': 'RegularCut', 'step': 'BEAM_ALIGNMENT', 'timestamp': 1684198473.0, 'step_n': 76}\n",
      "STATUS | 03-pet-wombat | RegularCut | BEAM_ALIGNMENT\n",
      "{'lamella': '03-pet-wombat', 'stage': 'RegularCut', 'step': 'BEAM_ALIGNMENT', 'timestamp': 1684198474.0, 'step_n': 77}\n",
      "STATUS | 03-pet-wombat | RegularCut | MILLING_TRENCH\n",
      "{'lamella': '03-pet-wombat', 'stage': 'RegularCut', 'step': 'MILLING_TRENCH', 'timestamp': 1684198475.0, 'step_n': 78}\n",
      "STATUS | 03-pet-wombat | RegularCut | MILLING_COMPLETED_SUCCESSFULLY\n",
      "{'lamella': '03-pet-wombat', 'stage': 'RegularCut', 'step': 'MILLING_COMPLETED_SUCCESSFULLY', 'timestamp': 1684198480.0, 'step_n': 79}\n",
      "STATUS | 03-pet-wombat | PolishingCut | STAGE_COMPLETE\n",
      "{'lamella': '03-pet-wombat', 'stage': 'PolishingCut', 'step': 'STAGE_COMPLETE', 'timestamp': 1684198485.0, 'step_n': 80}\n"
     ]
    },
    {
     "data": {
      "text/html": [
       "<div>\n",
       "<style scoped>\n",
       "    .dataframe tbody tr th:only-of-type {\n",
       "        vertical-align: middle;\n",
       "    }\n",
       "\n",
       "    .dataframe tbody tr th {\n",
       "        vertical-align: top;\n",
       "    }\n",
       "\n",
       "    .dataframe thead th {\n",
       "        text-align: right;\n",
       "    }\n",
       "</style>\n",
       "<table border=\"1\" class=\"dataframe\">\n",
       "  <thead>\n",
       "    <tr style=\"text-align: right;\">\n",
       "      <th></th>\n",
       "      <th>beam_type</th>\n",
       "      <th>shift</th>\n",
       "      <th>lamella</th>\n",
       "      <th>stage</th>\n",
       "      <th>step</th>\n",
       "      <th>name</th>\n",
       "    </tr>\n",
       "  </thead>\n",
       "  <tbody>\n",
       "    <tr>\n",
       "      <th>0</th>\n",
       "      <td>ION</td>\n",
       "      <td>(0.0, 0.0)</td>\n",
       "      <td>01-clean-elf</td>\n",
       "      <td>FiducialMilled</td>\n",
       "      <td>BEAM_ALIGNMENT</td>\n",
       "      <td>3</td>\n",
       "    </tr>\n",
       "    <tr>\n",
       "      <th>1</th>\n",
       "      <td>ION</td>\n",
       "      <td>(0.0, 0.0)</td>\n",
       "      <td>01-clean-elf</td>\n",
       "      <td>FiducialMilled</td>\n",
       "      <td>BEAM_ALIGNMENT</td>\n",
       "      <td>3</td>\n",
       "    </tr>\n",
       "    <tr>\n",
       "      <th>2</th>\n",
       "      <td>ION</td>\n",
       "      <td>(0.0, 0.0)</td>\n",
       "      <td>01-clean-elf</td>\n",
       "      <td>FiducialMilled</td>\n",
       "      <td>BEAM_ALIGNMENT</td>\n",
       "      <td>3</td>\n",
       "    </tr>\n",
       "    <tr>\n",
       "      <th>3</th>\n",
       "      <td>ION</td>\n",
       "      <td>(0.0, 0.0)</td>\n",
       "      <td>02-immune-louse</td>\n",
       "      <td>FiducialMilled</td>\n",
       "      <td>BEAM_ALIGNMENT</td>\n",
       "      <td>3</td>\n",
       "    </tr>\n",
       "    <tr>\n",
       "      <th>4</th>\n",
       "      <td>ION</td>\n",
       "      <td>(0.0, 0.0)</td>\n",
       "      <td>02-immune-louse</td>\n",
       "      <td>FiducialMilled</td>\n",
       "      <td>BEAM_ALIGNMENT</td>\n",
       "      <td>3</td>\n",
       "    </tr>\n",
       "    <tr>\n",
       "      <th>5</th>\n",
       "      <td>ION</td>\n",
       "      <td>(0.0, 0.0)</td>\n",
       "      <td>02-immune-louse</td>\n",
       "      <td>FiducialMilled</td>\n",
       "      <td>BEAM_ALIGNMENT</td>\n",
       "      <td>3</td>\n",
       "    </tr>\n",
       "    <tr>\n",
       "      <th>6</th>\n",
       "      <td>ION</td>\n",
       "      <td>(0.0, 0.0)</td>\n",
       "      <td>03-pet-wombat</td>\n",
       "      <td>FiducialMilled</td>\n",
       "      <td>BEAM_ALIGNMENT</td>\n",
       "      <td>3</td>\n",
       "    </tr>\n",
       "    <tr>\n",
       "      <th>7</th>\n",
       "      <td>ION</td>\n",
       "      <td>(0.0, 0.0)</td>\n",
       "      <td>03-pet-wombat</td>\n",
       "      <td>FiducialMilled</td>\n",
       "      <td>BEAM_ALIGNMENT</td>\n",
       "      <td>3</td>\n",
       "    </tr>\n",
       "    <tr>\n",
       "      <th>8</th>\n",
       "      <td>ION</td>\n",
       "      <td>(0.0, 0.0)</td>\n",
       "      <td>03-pet-wombat</td>\n",
       "      <td>FiducialMilled</td>\n",
       "      <td>BEAM_ALIGNMENT</td>\n",
       "      <td>3</td>\n",
       "    </tr>\n",
       "    <tr>\n",
       "      <th>9</th>\n",
       "      <td>ION</td>\n",
       "      <td>(0.0, 0.0)</td>\n",
       "      <td>01-clean-elf</td>\n",
       "      <td>RoughCut</td>\n",
       "      <td>BEAM_ALIGNMENT</td>\n",
       "      <td>3</td>\n",
       "    </tr>\n",
       "    <tr>\n",
       "      <th>10</th>\n",
       "      <td>ION</td>\n",
       "      <td>(0.0, 0.0)</td>\n",
       "      <td>01-clean-elf</td>\n",
       "      <td>RoughCut</td>\n",
       "      <td>BEAM_ALIGNMENT</td>\n",
       "      <td>3</td>\n",
       "    </tr>\n",
       "    <tr>\n",
       "      <th>11</th>\n",
       "      <td>ION</td>\n",
       "      <td>(0.0, 0.0)</td>\n",
       "      <td>01-clean-elf</td>\n",
       "      <td>RoughCut</td>\n",
       "      <td>BEAM_ALIGNMENT</td>\n",
       "      <td>3</td>\n",
       "    </tr>\n",
       "    <tr>\n",
       "      <th>12</th>\n",
       "      <td>ION</td>\n",
       "      <td>(0.0, 0.0)</td>\n",
       "      <td>02-immune-louse</td>\n",
       "      <td>RoughCut</td>\n",
       "      <td>BEAM_ALIGNMENT</td>\n",
       "      <td>3</td>\n",
       "    </tr>\n",
       "    <tr>\n",
       "      <th>13</th>\n",
       "      <td>ION</td>\n",
       "      <td>(0.0, 0.0)</td>\n",
       "      <td>02-immune-louse</td>\n",
       "      <td>RoughCut</td>\n",
       "      <td>BEAM_ALIGNMENT</td>\n",
       "      <td>3</td>\n",
       "    </tr>\n",
       "    <tr>\n",
       "      <th>14</th>\n",
       "      <td>ION</td>\n",
       "      <td>(0.0, 0.0)</td>\n",
       "      <td>02-immune-louse</td>\n",
       "      <td>RoughCut</td>\n",
       "      <td>BEAM_ALIGNMENT</td>\n",
       "      <td>3</td>\n",
       "    </tr>\n",
       "    <tr>\n",
       "      <th>15</th>\n",
       "      <td>ION</td>\n",
       "      <td>(0.0, 0.0)</td>\n",
       "      <td>03-pet-wombat</td>\n",
       "      <td>RoughCut</td>\n",
       "      <td>BEAM_ALIGNMENT</td>\n",
       "      <td>3</td>\n",
       "    </tr>\n",
       "    <tr>\n",
       "      <th>16</th>\n",
       "      <td>ION</td>\n",
       "      <td>(0.0, 0.0)</td>\n",
       "      <td>03-pet-wombat</td>\n",
       "      <td>RoughCut</td>\n",
       "      <td>BEAM_ALIGNMENT</td>\n",
       "      <td>3</td>\n",
       "    </tr>\n",
       "    <tr>\n",
       "      <th>17</th>\n",
       "      <td>ION</td>\n",
       "      <td>(0.0, 0.0)</td>\n",
       "      <td>03-pet-wombat</td>\n",
       "      <td>RoughCut</td>\n",
       "      <td>BEAM_ALIGNMENT</td>\n",
       "      <td>3</td>\n",
       "    </tr>\n",
       "    <tr>\n",
       "      <th>18</th>\n",
       "      <td>ION</td>\n",
       "      <td>(0.0, 0.0)</td>\n",
       "      <td>01-clean-elf</td>\n",
       "      <td>RegularCut</td>\n",
       "      <td>BEAM_ALIGNMENT</td>\n",
       "      <td>3</td>\n",
       "    </tr>\n",
       "    <tr>\n",
       "      <th>19</th>\n",
       "      <td>ION</td>\n",
       "      <td>(0.0, 0.0)</td>\n",
       "      <td>01-clean-elf</td>\n",
       "      <td>RegularCut</td>\n",
       "      <td>BEAM_ALIGNMENT</td>\n",
       "      <td>3</td>\n",
       "    </tr>\n",
       "    <tr>\n",
       "      <th>20</th>\n",
       "      <td>ION</td>\n",
       "      <td>(0.0, 0.0)</td>\n",
       "      <td>01-clean-elf</td>\n",
       "      <td>RegularCut</td>\n",
       "      <td>BEAM_ALIGNMENT</td>\n",
       "      <td>3</td>\n",
       "    </tr>\n",
       "    <tr>\n",
       "      <th>21</th>\n",
       "      <td>ION</td>\n",
       "      <td>(0.0, 0.0)</td>\n",
       "      <td>02-immune-louse</td>\n",
       "      <td>RegularCut</td>\n",
       "      <td>BEAM_ALIGNMENT</td>\n",
       "      <td>3</td>\n",
       "    </tr>\n",
       "    <tr>\n",
       "      <th>22</th>\n",
       "      <td>ION</td>\n",
       "      <td>(0.0, 0.0)</td>\n",
       "      <td>02-immune-louse</td>\n",
       "      <td>RegularCut</td>\n",
       "      <td>BEAM_ALIGNMENT</td>\n",
       "      <td>3</td>\n",
       "    </tr>\n",
       "    <tr>\n",
       "      <th>23</th>\n",
       "      <td>ION</td>\n",
       "      <td>(0.0, 0.0)</td>\n",
       "      <td>02-immune-louse</td>\n",
       "      <td>RegularCut</td>\n",
       "      <td>BEAM_ALIGNMENT</td>\n",
       "      <td>3</td>\n",
       "    </tr>\n",
       "    <tr>\n",
       "      <th>24</th>\n",
       "      <td>ION</td>\n",
       "      <td>(0.0, 0.0)</td>\n",
       "      <td>03-pet-wombat</td>\n",
       "      <td>RegularCut</td>\n",
       "      <td>BEAM_ALIGNMENT</td>\n",
       "      <td>3</td>\n",
       "    </tr>\n",
       "    <tr>\n",
       "      <th>25</th>\n",
       "      <td>ION</td>\n",
       "      <td>(0.0, 0.0)</td>\n",
       "      <td>03-pet-wombat</td>\n",
       "      <td>RegularCut</td>\n",
       "      <td>BEAM_ALIGNMENT</td>\n",
       "      <td>3</td>\n",
       "    </tr>\n",
       "    <tr>\n",
       "      <th>26</th>\n",
       "      <td>ION</td>\n",
       "      <td>(0.0, 0.0)</td>\n",
       "      <td>03-pet-wombat</td>\n",
       "      <td>RegularCut</td>\n",
       "      <td>BEAM_ALIGNMENT</td>\n",
       "      <td>3</td>\n",
       "    </tr>\n",
       "  </tbody>\n",
       "</table>\n",
       "</div>"
      ],
      "text/plain": [
       "   beam_type       shift          lamella           stage            step name\n",
       "0        ION  (0.0, 0.0)     01-clean-elf  FiducialMilled  BEAM_ALIGNMENT    3\n",
       "1        ION  (0.0, 0.0)     01-clean-elf  FiducialMilled  BEAM_ALIGNMENT    3\n",
       "2        ION  (0.0, 0.0)     01-clean-elf  FiducialMilled  BEAM_ALIGNMENT    3\n",
       "3        ION  (0.0, 0.0)  02-immune-louse  FiducialMilled  BEAM_ALIGNMENT    3\n",
       "4        ION  (0.0, 0.0)  02-immune-louse  FiducialMilled  BEAM_ALIGNMENT    3\n",
       "5        ION  (0.0, 0.0)  02-immune-louse  FiducialMilled  BEAM_ALIGNMENT    3\n",
       "6        ION  (0.0, 0.0)    03-pet-wombat  FiducialMilled  BEAM_ALIGNMENT    3\n",
       "7        ION  (0.0, 0.0)    03-pet-wombat  FiducialMilled  BEAM_ALIGNMENT    3\n",
       "8        ION  (0.0, 0.0)    03-pet-wombat  FiducialMilled  BEAM_ALIGNMENT    3\n",
       "9        ION  (0.0, 0.0)     01-clean-elf        RoughCut  BEAM_ALIGNMENT    3\n",
       "10       ION  (0.0, 0.0)     01-clean-elf        RoughCut  BEAM_ALIGNMENT    3\n",
       "11       ION  (0.0, 0.0)     01-clean-elf        RoughCut  BEAM_ALIGNMENT    3\n",
       "12       ION  (0.0, 0.0)  02-immune-louse        RoughCut  BEAM_ALIGNMENT    3\n",
       "13       ION  (0.0, 0.0)  02-immune-louse        RoughCut  BEAM_ALIGNMENT    3\n",
       "14       ION  (0.0, 0.0)  02-immune-louse        RoughCut  BEAM_ALIGNMENT    3\n",
       "15       ION  (0.0, 0.0)    03-pet-wombat        RoughCut  BEAM_ALIGNMENT    3\n",
       "16       ION  (0.0, 0.0)    03-pet-wombat        RoughCut  BEAM_ALIGNMENT    3\n",
       "17       ION  (0.0, 0.0)    03-pet-wombat        RoughCut  BEAM_ALIGNMENT    3\n",
       "18       ION  (0.0, 0.0)     01-clean-elf      RegularCut  BEAM_ALIGNMENT    3\n",
       "19       ION  (0.0, 0.0)     01-clean-elf      RegularCut  BEAM_ALIGNMENT    3\n",
       "20       ION  (0.0, 0.0)     01-clean-elf      RegularCut  BEAM_ALIGNMENT    3\n",
       "21       ION  (0.0, 0.0)  02-immune-louse      RegularCut  BEAM_ALIGNMENT    3\n",
       "22       ION  (0.0, 0.0)  02-immune-louse      RegularCut  BEAM_ALIGNMENT    3\n",
       "23       ION  (0.0, 0.0)  02-immune-louse      RegularCut  BEAM_ALIGNMENT    3\n",
       "24       ION  (0.0, 0.0)    03-pet-wombat      RegularCut  BEAM_ALIGNMENT    3\n",
       "25       ION  (0.0, 0.0)    03-pet-wombat      RegularCut  BEAM_ALIGNMENT    3\n",
       "26       ION  (0.0, 0.0)    03-pet-wombat      RegularCut  BEAM_ALIGNMENT    3"
      ]
     },
     "metadata": {},
     "output_type": "display_data"
    }
   ],
   "source": [
    "path = r\"C:\\Users\\lnae0002\\Desktop\\autolamella\\autolamella\\log\\3\"\n",
    "\n",
    "df_sample, df_history, df_shift, df_steps  = data.calculate_statistics_dataframe(path)\n",
    "display(df_shift)"
   ]
  },
  {
   "cell_type": "code",
   "execution_count": 26,
   "metadata": {},
   "outputs": [
    {
     "data": {
      "application/vnd.plotly.v1+json": {
       "config": {
        "plotlyServerURL": "https://plot.ly"
       },
       "data": [
        {
         "hovertemplate": "lamella=01-clean-elf<br>x=%{x}<br>y=%{y}<extra></extra>",
         "legendgroup": "01-clean-elf",
         "marker": {
          "color": "#000001",
          "symbol": "circle"
         },
         "mode": "markers",
         "name": "01-clean-elf",
         "orientation": "v",
         "showlegend": true,
         "type": "scatter",
         "x": [
          0,
          0,
          0,
          0,
          0,
          0,
          0,
          0,
          0
         ],
         "xaxis": "x",
         "y": [
          0,
          0,
          0,
          0,
          0,
          0,
          0,
          0,
          0
         ],
         "yaxis": "y"
        },
        {
         "hovertemplate": "lamella=02-immune-louse<br>x=%{x}<br>y=%{y}<extra></extra>",
         "legendgroup": "02-immune-louse",
         "marker": {
          "color": "#000002",
          "symbol": "circle"
         },
         "mode": "markers",
         "name": "02-immune-louse",
         "orientation": "v",
         "showlegend": true,
         "type": "scatter",
         "x": [
          0,
          0,
          0,
          0,
          0,
          0,
          0,
          0,
          0
         ],
         "xaxis": "x",
         "y": [
          0,
          0,
          0,
          0,
          0,
          0,
          0,
          0,
          0
         ],
         "yaxis": "y"
        },
        {
         "hovertemplate": "lamella=03-pet-wombat<br>x=%{x}<br>y=%{y}<extra></extra>",
         "legendgroup": "03-pet-wombat",
         "marker": {
          "color": "#000003",
          "symbol": "circle"
         },
         "mode": "markers",
         "name": "03-pet-wombat",
         "orientation": "v",
         "showlegend": true,
         "type": "scatter",
         "x": [
          0,
          0,
          0,
          0,
          0,
          0,
          0,
          0,
          0
         ],
         "xaxis": "x",
         "y": [
          0,
          0,
          0,
          0,
          0,
          0,
          0,
          0,
          0
         ],
         "yaxis": "y"
        }
       ],
       "layout": {
        "legend": {
         "title": {
          "text": "lamella"
         },
         "tracegroupgap": 0
        },
        "margin": {
         "t": 60
        },
        "template": {
         "data": {
          "candlestick": [
           {
            "decreasing": {
             "line": {
              "color": "#000033"
             }
            },
            "increasing": {
             "line": {
              "color": "#000032"
             }
            },
            "type": "candlestick"
           }
          ],
          "contour": [
           {
            "colorscale": [
             [
              0,
              "#000011"
             ],
             [
              0.1111111111111111,
              "#000012"
             ],
             [
              0.2222222222222222,
              "#000013"
             ],
             [
              0.3333333333333333,
              "#000014"
             ],
             [
              0.4444444444444444,
              "#000015"
             ],
             [
              0.5555555555555556,
              "#000016"
             ],
             [
              0.6666666666666666,
              "#000017"
             ],
             [
              0.7777777777777778,
              "#000018"
             ],
             [
              0.8888888888888888,
              "#000019"
             ],
             [
              1,
              "#000020"
             ]
            ],
            "type": "contour"
           }
          ],
          "contourcarpet": [
           {
            "colorscale": [
             [
              0,
              "#000011"
             ],
             [
              0.1111111111111111,
              "#000012"
             ],
             [
              0.2222222222222222,
              "#000013"
             ],
             [
              0.3333333333333333,
              "#000014"
             ],
             [
              0.4444444444444444,
              "#000015"
             ],
             [
              0.5555555555555556,
              "#000016"
             ],
             [
              0.6666666666666666,
              "#000017"
             ],
             [
              0.7777777777777778,
              "#000018"
             ],
             [
              0.8888888888888888,
              "#000019"
             ],
             [
              1,
              "#000020"
             ]
            ],
            "type": "contourcarpet"
           }
          ],
          "heatmap": [
           {
            "colorscale": [
             [
              0,
              "#000011"
             ],
             [
              0.1111111111111111,
              "#000012"
             ],
             [
              0.2222222222222222,
              "#000013"
             ],
             [
              0.3333333333333333,
              "#000014"
             ],
             [
              0.4444444444444444,
              "#000015"
             ],
             [
              0.5555555555555556,
              "#000016"
             ],
             [
              0.6666666666666666,
              "#000017"
             ],
             [
              0.7777777777777778,
              "#000018"
             ],
             [
              0.8888888888888888,
              "#000019"
             ],
             [
              1,
              "#000020"
             ]
            ],
            "type": "heatmap"
           }
          ],
          "histogram2d": [
           {
            "colorscale": [
             [
              0,
              "#000011"
             ],
             [
              0.1111111111111111,
              "#000012"
             ],
             [
              0.2222222222222222,
              "#000013"
             ],
             [
              0.3333333333333333,
              "#000014"
             ],
             [
              0.4444444444444444,
              "#000015"
             ],
             [
              0.5555555555555556,
              "#000016"
             ],
             [
              0.6666666666666666,
              "#000017"
             ],
             [
              0.7777777777777778,
              "#000018"
             ],
             [
              0.8888888888888888,
              "#000019"
             ],
             [
              1,
              "#000020"
             ]
            ],
            "type": "histogram2d"
           }
          ],
          "icicle": [
           {
            "textfont": {
             "color": "white"
            },
            "type": "icicle"
           }
          ],
          "sankey": [
           {
            "textfont": {
             "color": "#000036"
            },
            "type": "sankey"
           }
          ],
          "scatter": [
           {
            "marker": {
             "line": {
              "width": 0
             }
            },
            "type": "scatter"
           }
          ],
          "table": [
           {
            "cells": {
             "fill": {
              "color": "#000038"
             },
             "font": {
              "color": "#000037"
             },
             "line": {
              "color": "#000039"
             }
            },
            "header": {
             "fill": {
              "color": "#000040"
             },
             "font": {
              "color": "#000036"
             },
             "line": {
              "color": "#000039"
             }
            },
            "type": "table"
           }
          ],
          "waterfall": [
           {
            "connector": {
             "line": {
              "color": "#000036",
              "width": 2
             }
            },
            "decreasing": {
             "marker": {
              "color": "#000033"
             }
            },
            "increasing": {
             "marker": {
              "color": "#000032"
             }
            },
            "totals": {
             "marker": {
              "color": "#000034"
             }
            },
            "type": "waterfall"
           }
          ]
         },
         "layout": {
          "coloraxis": {
           "colorscale": [
            [
             0,
             "#000011"
            ],
            [
             0.1111111111111111,
             "#000012"
            ],
            [
             0.2222222222222222,
             "#000013"
            ],
            [
             0.3333333333333333,
             "#000014"
            ],
            [
             0.4444444444444444,
             "#000015"
            ],
            [
             0.5555555555555556,
             "#000016"
            ],
            [
             0.6666666666666666,
             "#000017"
            ],
            [
             0.7777777777777778,
             "#000018"
            ],
            [
             0.8888888888888888,
             "#000019"
            ],
            [
             1,
             "#000020"
            ]
           ]
          },
          "colorscale": {
           "diverging": [
            [
             0,
             "#000021"
            ],
            [
             0.1,
             "#000022"
            ],
            [
             0.2,
             "#000023"
            ],
            [
             0.3,
             "#000024"
            ],
            [
             0.4,
             "#000025"
            ],
            [
             0.5,
             "#000026"
            ],
            [
             0.6,
             "#000027"
            ],
            [
             0.7,
             "#000028"
            ],
            [
             0.8,
             "#000029"
            ],
            [
             0.9,
             "#000030"
            ],
            [
             1,
             "#000031"
            ]
           ],
           "sequential": [
            [
             0,
             "#000011"
            ],
            [
             0.1111111111111111,
             "#000012"
            ],
            [
             0.2222222222222222,
             "#000013"
            ],
            [
             0.3333333333333333,
             "#000014"
            ],
            [
             0.4444444444444444,
             "#000015"
            ],
            [
             0.5555555555555556,
             "#000016"
            ],
            [
             0.6666666666666666,
             "#000017"
            ],
            [
             0.7777777777777778,
             "#000018"
            ],
            [
             0.8888888888888888,
             "#000019"
            ],
            [
             1,
             "#000020"
            ]
           ],
           "sequentialminus": [
            [
             0,
             "#000011"
            ],
            [
             0.1111111111111111,
             "#000012"
            ],
            [
             0.2222222222222222,
             "#000013"
            ],
            [
             0.3333333333333333,
             "#000014"
            ],
            [
             0.4444444444444444,
             "#000015"
            ],
            [
             0.5555555555555556,
             "#000016"
            ],
            [
             0.6666666666666666,
             "#000017"
            ],
            [
             0.7777777777777778,
             "#000018"
            ],
            [
             0.8888888888888888,
             "#000019"
            ],
            [
             1,
             "#000020"
            ]
           ]
          },
          "colorway": [
           "#000001",
           "#000002",
           "#000003",
           "#000004",
           "#000005",
           "#000006",
           "#000007",
           "#000008",
           "#000009",
           "#000010"
          ]
         }
        },
        "xaxis": {
         "anchor": "y",
         "domain": [
          0,
          1
         ],
         "title": {
          "text": "x"
         }
        },
        "yaxis": {
         "anchor": "x",
         "domain": [
          0,
          1
         ],
         "title": {
          "text": "y"
         }
        }
       }
      }
     },
     "metadata": {},
     "output_type": "display_data"
    }
   ],
   "source": [
    "points = pd.DataFrame(df_shift[\"shift\"].tolist(), columns=[\"x\", \"y\"])\n",
    "points[\"lamella\"] = df_shift[\"lamella\"]\n",
    "fig = px.scatter(points, x=\"x\", y='y', color=\"lamella\")\n",
    "fig.show()"
   ]
  },
  {
   "cell_type": "code",
   "execution_count": 8,
   "metadata": {},
   "outputs": [
    {
     "data": {
      "text/html": [
       "<div>\n",
       "<style scoped>\n",
       "    .dataframe tbody tr th:only-of-type {\n",
       "        vertical-align: middle;\n",
       "    }\n",
       "\n",
       "    .dataframe tbody tr th {\n",
       "        vertical-align: top;\n",
       "    }\n",
       "\n",
       "    .dataframe thead th {\n",
       "        text-align: right;\n",
       "    }\n",
       "</style>\n",
       "<table border=\"1\" class=\"dataframe\">\n",
       "  <thead>\n",
       "    <tr style=\"text-align: right;\">\n",
       "      <th></th>\n",
       "      <th>lamella</th>\n",
       "      <th>stage</th>\n",
       "      <th>step</th>\n",
       "      <th>timestamp</th>\n",
       "      <th>step_n</th>\n",
       "    </tr>\n",
       "  </thead>\n",
       "  <tbody>\n",
       "    <tr>\n",
       "      <th>0</th>\n",
       "      <td>01-brief-lark</td>\n",
       "      <td>Setup</td>\n",
       "      <td>LAMELLA_ADDED</td>\n",
       "      <td>1.683602e+09</td>\n",
       "      <td>0</td>\n",
       "    </tr>\n",
       "    <tr>\n",
       "      <th>1</th>\n",
       "      <td>01-brief-lark</td>\n",
       "      <td>Setup</td>\n",
       "      <td>MILLING_FIDUCIAL</td>\n",
       "      <td>1.683602e+09</td>\n",
       "      <td>1</td>\n",
       "    </tr>\n",
       "    <tr>\n",
       "      <th>2</th>\n",
       "      <td>01-brief-lark</td>\n",
       "      <td>FiducialMilled</td>\n",
       "      <td>FIDUCIAL_MILLED_SUCCESSFULLY</td>\n",
       "      <td>1.683602e+09</td>\n",
       "      <td>2</td>\n",
       "    </tr>\n",
       "    <tr>\n",
       "      <th>3</th>\n",
       "      <td>02-grand-mouse</td>\n",
       "      <td>Setup</td>\n",
       "      <td>LAMELLA_ADDED</td>\n",
       "      <td>1.683602e+09</td>\n",
       "      <td>3</td>\n",
       "    </tr>\n",
       "    <tr>\n",
       "      <th>4</th>\n",
       "      <td>02-grand-mouse</td>\n",
       "      <td>Setup</td>\n",
       "      <td>MILLING_FIDUCIAL</td>\n",
       "      <td>1.683602e+09</td>\n",
       "      <td>4</td>\n",
       "    </tr>\n",
       "    <tr>\n",
       "      <th>...</th>\n",
       "      <td>...</td>\n",
       "      <td>...</td>\n",
       "      <td>...</td>\n",
       "      <td>...</td>\n",
       "      <td>...</td>\n",
       "    </tr>\n",
       "    <tr>\n",
       "      <th>100</th>\n",
       "      <td>05-alert-prawn</td>\n",
       "      <td>RegularCut</td>\n",
       "      <td>BEAM_ALIGNMENT</td>\n",
       "      <td>1.683605e+09</td>\n",
       "      <td>100</td>\n",
       "    </tr>\n",
       "    <tr>\n",
       "      <th>101</th>\n",
       "      <td>05-alert-prawn</td>\n",
       "      <td>RegularCut</td>\n",
       "      <td>BEAM_ALIGNMENT</td>\n",
       "      <td>1.683605e+09</td>\n",
       "      <td>101</td>\n",
       "    </tr>\n",
       "    <tr>\n",
       "      <th>102</th>\n",
       "      <td>05-alert-prawn</td>\n",
       "      <td>RegularCut</td>\n",
       "      <td>BEAM_ALIGNMENT</td>\n",
       "      <td>1.683605e+09</td>\n",
       "      <td>102</td>\n",
       "    </tr>\n",
       "    <tr>\n",
       "      <th>103</th>\n",
       "      <td>05-alert-prawn</td>\n",
       "      <td>RegularCut</td>\n",
       "      <td>MILLING_TRENCH PolishingCut</td>\n",
       "      <td>1.683605e+09</td>\n",
       "      <td>103</td>\n",
       "    </tr>\n",
       "    <tr>\n",
       "      <th>104</th>\n",
       "      <td>05-alert-prawn</td>\n",
       "      <td>RegularCut</td>\n",
       "      <td>PolishingCut_COMPLETED_SUCCESSFULLY</td>\n",
       "      <td>1.683605e+09</td>\n",
       "      <td>104</td>\n",
       "    </tr>\n",
       "  </tbody>\n",
       "</table>\n",
       "<p>105 rows × 5 columns</p>\n",
       "</div>"
      ],
      "text/plain": [
       "            lamella           stage                                 step  \\\n",
       "0     01-brief-lark           Setup                        LAMELLA_ADDED   \n",
       "1     01-brief-lark           Setup                     MILLING_FIDUCIAL   \n",
       "2     01-brief-lark  FiducialMilled         FIDUCIAL_MILLED_SUCCESSFULLY   \n",
       "3    02-grand-mouse           Setup                        LAMELLA_ADDED   \n",
       "4    02-grand-mouse           Setup                     MILLING_FIDUCIAL   \n",
       "..              ...             ...                                  ...   \n",
       "100  05-alert-prawn      RegularCut                       BEAM_ALIGNMENT   \n",
       "101  05-alert-prawn      RegularCut                       BEAM_ALIGNMENT   \n",
       "102  05-alert-prawn      RegularCut                       BEAM_ALIGNMENT   \n",
       "103  05-alert-prawn      RegularCut          MILLING_TRENCH PolishingCut   \n",
       "104  05-alert-prawn      RegularCut  PolishingCut_COMPLETED_SUCCESSFULLY   \n",
       "\n",
       "        timestamp  step_n  \n",
       "0    1.683602e+09       0  \n",
       "1    1.683602e+09       1  \n",
       "2    1.683602e+09       2  \n",
       "3    1.683602e+09       3  \n",
       "4    1.683602e+09       4  \n",
       "..            ...     ...  \n",
       "100  1.683605e+09     100  \n",
       "101  1.683605e+09     101  \n",
       "102  1.683605e+09     102  \n",
       "103  1.683605e+09     103  \n",
       "104  1.683605e+09     104  \n",
       "\n",
       "[105 rows x 5 columns]"
      ]
     },
     "metadata": {},
     "output_type": "display_data"
    },
    {
     "data": {
      "application/vnd.plotly.v1+json": {
       "config": {
        "plotlyServerURL": "https://plot.ly"
       },
       "data": [
        {
         "hovertemplate": "stage=Setup<br>lamella=01-brief-lark<br>step_n=%{x}<br>timestamp=%{y}<extra></extra>",
         "legendgroup": "Setup, 01-brief-lark",
         "marker": {
          "color": "#636efa",
          "symbol": "circle"
         },
         "mode": "markers",
         "name": "Setup, 01-brief-lark",
         "orientation": "v",
         "showlegend": true,
         "type": "scatter",
         "x": [
          0,
          1
         ],
         "xaxis": "x",
         "y": [
          1683601721,
          1683601723
         ],
         "yaxis": "y"
        },
        {
         "hovertemplate": "stage=Setup<br>lamella=02-grand-mouse<br>step_n=%{x}<br>timestamp=%{y}<extra></extra>",
         "legendgroup": "Setup, 02-grand-mouse",
         "marker": {
          "color": "#636efa",
          "symbol": "diamond"
         },
         "mode": "markers",
         "name": "Setup, 02-grand-mouse",
         "orientation": "v",
         "showlegend": true,
         "type": "scatter",
         "x": [
          3,
          4
         ],
         "xaxis": "x",
         "y": [
          1683601777,
          1683601779
         ],
         "yaxis": "y"
        },
        {
         "hovertemplate": "stage=Setup<br>lamella=03-firm-bobcat<br>step_n=%{x}<br>timestamp=%{y}<extra></extra>",
         "legendgroup": "Setup, 03-firm-bobcat",
         "marker": {
          "color": "#636efa",
          "symbol": "square"
         },
         "mode": "markers",
         "name": "Setup, 03-firm-bobcat",
         "orientation": "v",
         "showlegend": true,
         "type": "scatter",
         "x": [
          6,
          7
         ],
         "xaxis": "x",
         "y": [
          1683601936,
          1683601939
         ],
         "yaxis": "y"
        },
        {
         "hovertemplate": "stage=Setup<br>lamella=04-fair-bison<br>step_n=%{x}<br>timestamp=%{y}<extra></extra>",
         "legendgroup": "Setup, 04-fair-bison",
         "marker": {
          "color": "#636efa",
          "symbol": "x"
         },
         "mode": "markers",
         "name": "Setup, 04-fair-bison",
         "orientation": "v",
         "showlegend": true,
         "type": "scatter",
         "x": [
          9,
          10
         ],
         "xaxis": "x",
         "y": [
          1683601983,
          1683601985
         ],
         "yaxis": "y"
        },
        {
         "hovertemplate": "stage=Setup<br>lamella=05-alert-prawn<br>step_n=%{x}<br>timestamp=%{y}<extra></extra>",
         "legendgroup": "Setup, 05-alert-prawn",
         "marker": {
          "color": "#636efa",
          "symbol": "cross"
         },
         "mode": "markers",
         "name": "Setup, 05-alert-prawn",
         "orientation": "v",
         "showlegend": true,
         "type": "scatter",
         "x": [
          12,
          13
         ],
         "xaxis": "x",
         "y": [
          1683602083,
          1683602086
         ],
         "yaxis": "y"
        },
        {
         "hovertemplate": "stage=FiducialMilled<br>lamella=01-brief-lark<br>step_n=%{x}<br>timestamp=%{y}<extra></extra>",
         "legendgroup": "FiducialMilled, 01-brief-lark",
         "marker": {
          "color": "#EF553B",
          "symbol": "circle"
         },
         "mode": "markers",
         "name": "FiducialMilled, 01-brief-lark",
         "orientation": "v",
         "showlegend": true,
         "type": "scatter",
         "x": [
          2,
          15,
          16,
          17,
          18,
          19,
          20
         ],
         "xaxis": "x",
         "y": [
          1683601744,
          1683604945,
          1683604945,
          1683604946,
          1683604946,
          1683604946,
          1683604967
         ],
         "yaxis": "y"
        },
        {
         "hovertemplate": "stage=FiducialMilled<br>lamella=02-grand-mouse<br>step_n=%{x}<br>timestamp=%{y}<extra></extra>",
         "legendgroup": "FiducialMilled, 02-grand-mouse",
         "marker": {
          "color": "#EF553B",
          "symbol": "diamond"
         },
         "mode": "markers",
         "name": "FiducialMilled, 02-grand-mouse",
         "orientation": "v",
         "showlegend": true,
         "type": "scatter",
         "x": [
          5,
          21,
          22,
          23,
          24,
          25,
          26
         ],
         "xaxis": "x",
         "y": [
          1683601800,
          1683604967,
          1683604968,
          1683604968,
          1683604968,
          1683604968,
          1683604989
         ],
         "yaxis": "y"
        },
        {
         "hovertemplate": "stage=FiducialMilled<br>lamella=03-firm-bobcat<br>step_n=%{x}<br>timestamp=%{y}<extra></extra>",
         "legendgroup": "FiducialMilled, 03-firm-bobcat",
         "marker": {
          "color": "#EF553B",
          "symbol": "square"
         },
         "mode": "markers",
         "name": "FiducialMilled, 03-firm-bobcat",
         "orientation": "v",
         "showlegend": true,
         "type": "scatter",
         "x": [
          8,
          27,
          28,
          29,
          30,
          31,
          32
         ],
         "xaxis": "x",
         "y": [
          1683601960,
          1683604990,
          1683604990,
          1683604990,
          1683604990,
          1683604991,
          1683605012
         ],
         "yaxis": "y"
        },
        {
         "hovertemplate": "stage=FiducialMilled<br>lamella=04-fair-bison<br>step_n=%{x}<br>timestamp=%{y}<extra></extra>",
         "legendgroup": "FiducialMilled, 04-fair-bison",
         "marker": {
          "color": "#EF553B",
          "symbol": "x"
         },
         "mode": "markers",
         "name": "FiducialMilled, 04-fair-bison",
         "orientation": "v",
         "showlegend": true,
         "type": "scatter",
         "x": [
          11,
          33,
          34,
          35,
          36,
          37,
          38
         ],
         "xaxis": "x",
         "y": [
          1683602006,
          1683605012,
          1683605012,
          1683605012,
          1683605013,
          1683605013,
          1683605034
         ],
         "yaxis": "y"
        },
        {
         "hovertemplate": "stage=FiducialMilled<br>lamella=05-alert-prawn<br>step_n=%{x}<br>timestamp=%{y}<extra></extra>",
         "legendgroup": "FiducialMilled, 05-alert-prawn",
         "marker": {
          "color": "#EF553B",
          "symbol": "cross"
         },
         "mode": "markers",
         "name": "FiducialMilled, 05-alert-prawn",
         "orientation": "v",
         "showlegend": true,
         "type": "scatter",
         "x": [
          14,
          39,
          40,
          41,
          42,
          43,
          44
         ],
         "xaxis": "x",
         "y": [
          1683602107,
          1683605034,
          1683605035,
          1683605035,
          1683605035,
          1683605035,
          1683605056
         ],
         "yaxis": "y"
        },
        {
         "hovertemplate": "stage=RoughCut<br>lamella=01-brief-lark<br>step_n=%{x}<br>timestamp=%{y}<extra></extra>",
         "legendgroup": "RoughCut, 01-brief-lark",
         "marker": {
          "color": "#00cc96",
          "symbol": "circle"
         },
         "mode": "markers",
         "name": "RoughCut, 01-brief-lark",
         "orientation": "v",
         "showlegend": true,
         "type": "scatter",
         "x": [
          45,
          46,
          47,
          48,
          49,
          50
         ],
         "xaxis": "x",
         "y": [
          1683605057,
          1683605057,
          1683605057,
          1683605057,
          1683605057,
          1683605078
         ],
         "yaxis": "y"
        },
        {
         "hovertemplate": "stage=RoughCut<br>lamella=02-grand-mouse<br>step_n=%{x}<br>timestamp=%{y}<extra></extra>",
         "legendgroup": "RoughCut, 02-grand-mouse",
         "marker": {
          "color": "#00cc96",
          "symbol": "diamond"
         },
         "mode": "markers",
         "name": "RoughCut, 02-grand-mouse",
         "orientation": "v",
         "showlegend": true,
         "type": "scatter",
         "x": [
          51,
          52,
          53,
          54,
          55,
          56
         ],
         "xaxis": "x",
         "y": [
          1683605079,
          1683605079,
          1683605079,
          1683605080,
          1683605080,
          1683605101
         ],
         "yaxis": "y"
        },
        {
         "hovertemplate": "stage=RoughCut<br>lamella=03-firm-bobcat<br>step_n=%{x}<br>timestamp=%{y}<extra></extra>",
         "legendgroup": "RoughCut, 03-firm-bobcat",
         "marker": {
          "color": "#00cc96",
          "symbol": "square"
         },
         "mode": "markers",
         "name": "RoughCut, 03-firm-bobcat",
         "orientation": "v",
         "showlegend": true,
         "type": "scatter",
         "x": [
          57,
          58,
          59,
          60,
          61,
          62
         ],
         "xaxis": "x",
         "y": [
          1683605101,
          1683605101,
          1683605102,
          1683605102,
          1683605102,
          1683605123
         ],
         "yaxis": "y"
        },
        {
         "hovertemplate": "stage=RoughCut<br>lamella=04-fair-bison<br>step_n=%{x}<br>timestamp=%{y}<extra></extra>",
         "legendgroup": "RoughCut, 04-fair-bison",
         "marker": {
          "color": "#00cc96",
          "symbol": "x"
         },
         "mode": "markers",
         "name": "RoughCut, 04-fair-bison",
         "orientation": "v",
         "showlegend": true,
         "type": "scatter",
         "x": [
          63,
          64,
          65,
          66,
          67,
          68
         ],
         "xaxis": "x",
         "y": [
          1683605123,
          1683605124,
          1683605124,
          1683605124,
          1683605124,
          1683605145
         ],
         "yaxis": "y"
        },
        {
         "hovertemplate": "stage=RoughCut<br>lamella=05-alert-prawn<br>step_n=%{x}<br>timestamp=%{y}<extra></extra>",
         "legendgroup": "RoughCut, 05-alert-prawn",
         "marker": {
          "color": "#00cc96",
          "symbol": "cross"
         },
         "mode": "markers",
         "name": "RoughCut, 05-alert-prawn",
         "orientation": "v",
         "showlegend": true,
         "type": "scatter",
         "x": [
          69,
          70,
          71,
          72,
          73,
          74
         ],
         "xaxis": "x",
         "y": [
          1683605146,
          1683605146,
          1683605146,
          1683605146,
          1683605147,
          1683605168
         ],
         "yaxis": "y"
        },
        {
         "hovertemplate": "stage=RegularCut<br>lamella=01-brief-lark<br>step_n=%{x}<br>timestamp=%{y}<extra></extra>",
         "legendgroup": "RegularCut, 01-brief-lark",
         "marker": {
          "color": "#ab63fa",
          "symbol": "circle"
         },
         "mode": "markers",
         "name": "RegularCut, 01-brief-lark",
         "orientation": "v",
         "showlegend": true,
         "type": "scatter",
         "x": [
          75,
          76,
          77,
          78,
          79,
          80
         ],
         "xaxis": "x",
         "y": [
          1683605168,
          1683605168,
          1683605169,
          1683605169,
          1683605169,
          1683605190
         ],
         "yaxis": "y"
        },
        {
         "hovertemplate": "stage=RegularCut<br>lamella=02-grand-mouse<br>step_n=%{x}<br>timestamp=%{y}<extra></extra>",
         "legendgroup": "RegularCut, 02-grand-mouse",
         "marker": {
          "color": "#ab63fa",
          "symbol": "diamond"
         },
         "mode": "markers",
         "name": "RegularCut, 02-grand-mouse",
         "orientation": "v",
         "showlegend": true,
         "type": "scatter",
         "x": [
          81,
          82,
          83,
          84,
          85,
          86
         ],
         "xaxis": "x",
         "y": [
          1683605190,
          1683605191,
          1683605191,
          1683605191,
          1683605191,
          1683605212
         ],
         "yaxis": "y"
        },
        {
         "hovertemplate": "stage=RegularCut<br>lamella=03-firm-bobcat<br>step_n=%{x}<br>timestamp=%{y}<extra></extra>",
         "legendgroup": "RegularCut, 03-firm-bobcat",
         "marker": {
          "color": "#ab63fa",
          "symbol": "square"
         },
         "mode": "markers",
         "name": "RegularCut, 03-firm-bobcat",
         "orientation": "v",
         "showlegend": true,
         "type": "scatter",
         "x": [
          87,
          88,
          89,
          90,
          91,
          92
         ],
         "xaxis": "x",
         "y": [
          1683605213,
          1683605213,
          1683605213,
          1683605214,
          1683605214,
          1683605235
         ],
         "yaxis": "y"
        },
        {
         "hovertemplate": "stage=RegularCut<br>lamella=04-fair-bison<br>step_n=%{x}<br>timestamp=%{y}<extra></extra>",
         "legendgroup": "RegularCut, 04-fair-bison",
         "marker": {
          "color": "#ab63fa",
          "symbol": "x"
         },
         "mode": "markers",
         "name": "RegularCut, 04-fair-bison",
         "orientation": "v",
         "showlegend": true,
         "type": "scatter",
         "x": [
          93,
          94,
          95,
          96,
          97,
          98
         ],
         "xaxis": "x",
         "y": [
          1683605235,
          1683605236,
          1683605236,
          1683605236,
          1683605236,
          1683605257
         ],
         "yaxis": "y"
        },
        {
         "hovertemplate": "stage=RegularCut<br>lamella=05-alert-prawn<br>step_n=%{x}<br>timestamp=%{y}<extra></extra>",
         "legendgroup": "RegularCut, 05-alert-prawn",
         "marker": {
          "color": "#ab63fa",
          "symbol": "cross"
         },
         "mode": "markers",
         "name": "RegularCut, 05-alert-prawn",
         "orientation": "v",
         "showlegend": true,
         "type": "scatter",
         "x": [
          99,
          100,
          101,
          102,
          103,
          104
         ],
         "xaxis": "x",
         "y": [
          1683605258,
          1683605258,
          1683605258,
          1683605258,
          1683605258,
          1683605279
         ],
         "yaxis": "y"
        }
       ],
       "layout": {
        "legend": {
         "title": {
          "text": "stage, lamella"
         },
         "tracegroupgap": 0
        },
        "margin": {
         "t": 60
        },
        "template": {
         "data": {
          "bar": [
           {
            "error_x": {
             "color": "#2a3f5f"
            },
            "error_y": {
             "color": "#2a3f5f"
            },
            "marker": {
             "line": {
              "color": "#E5ECF6",
              "width": 0.5
             },
             "pattern": {
              "fillmode": "overlay",
              "size": 10,
              "solidity": 0.2
             }
            },
            "type": "bar"
           }
          ],
          "barpolar": [
           {
            "marker": {
             "line": {
              "color": "#E5ECF6",
              "width": 0.5
             },
             "pattern": {
              "fillmode": "overlay",
              "size": 10,
              "solidity": 0.2
             }
            },
            "type": "barpolar"
           }
          ],
          "carpet": [
           {
            "aaxis": {
             "endlinecolor": "#2a3f5f",
             "gridcolor": "white",
             "linecolor": "white",
             "minorgridcolor": "white",
             "startlinecolor": "#2a3f5f"
            },
            "baxis": {
             "endlinecolor": "#2a3f5f",
             "gridcolor": "white",
             "linecolor": "white",
             "minorgridcolor": "white",
             "startlinecolor": "#2a3f5f"
            },
            "type": "carpet"
           }
          ],
          "choropleth": [
           {
            "colorbar": {
             "outlinewidth": 0,
             "ticks": ""
            },
            "type": "choropleth"
           }
          ],
          "contour": [
           {
            "colorbar": {
             "outlinewidth": 0,
             "ticks": ""
            },
            "colorscale": [
             [
              0,
              "#0d0887"
             ],
             [
              0.1111111111111111,
              "#46039f"
             ],
             [
              0.2222222222222222,
              "#7201a8"
             ],
             [
              0.3333333333333333,
              "#9c179e"
             ],
             [
              0.4444444444444444,
              "#bd3786"
             ],
             [
              0.5555555555555556,
              "#d8576b"
             ],
             [
              0.6666666666666666,
              "#ed7953"
             ],
             [
              0.7777777777777778,
              "#fb9f3a"
             ],
             [
              0.8888888888888888,
              "#fdca26"
             ],
             [
              1,
              "#f0f921"
             ]
            ],
            "type": "contour"
           }
          ],
          "contourcarpet": [
           {
            "colorbar": {
             "outlinewidth": 0,
             "ticks": ""
            },
            "type": "contourcarpet"
           }
          ],
          "heatmap": [
           {
            "colorbar": {
             "outlinewidth": 0,
             "ticks": ""
            },
            "colorscale": [
             [
              0,
              "#0d0887"
             ],
             [
              0.1111111111111111,
              "#46039f"
             ],
             [
              0.2222222222222222,
              "#7201a8"
             ],
             [
              0.3333333333333333,
              "#9c179e"
             ],
             [
              0.4444444444444444,
              "#bd3786"
             ],
             [
              0.5555555555555556,
              "#d8576b"
             ],
             [
              0.6666666666666666,
              "#ed7953"
             ],
             [
              0.7777777777777778,
              "#fb9f3a"
             ],
             [
              0.8888888888888888,
              "#fdca26"
             ],
             [
              1,
              "#f0f921"
             ]
            ],
            "type": "heatmap"
           }
          ],
          "heatmapgl": [
           {
            "colorbar": {
             "outlinewidth": 0,
             "ticks": ""
            },
            "colorscale": [
             [
              0,
              "#0d0887"
             ],
             [
              0.1111111111111111,
              "#46039f"
             ],
             [
              0.2222222222222222,
              "#7201a8"
             ],
             [
              0.3333333333333333,
              "#9c179e"
             ],
             [
              0.4444444444444444,
              "#bd3786"
             ],
             [
              0.5555555555555556,
              "#d8576b"
             ],
             [
              0.6666666666666666,
              "#ed7953"
             ],
             [
              0.7777777777777778,
              "#fb9f3a"
             ],
             [
              0.8888888888888888,
              "#fdca26"
             ],
             [
              1,
              "#f0f921"
             ]
            ],
            "type": "heatmapgl"
           }
          ],
          "histogram": [
           {
            "marker": {
             "pattern": {
              "fillmode": "overlay",
              "size": 10,
              "solidity": 0.2
             }
            },
            "type": "histogram"
           }
          ],
          "histogram2d": [
           {
            "colorbar": {
             "outlinewidth": 0,
             "ticks": ""
            },
            "colorscale": [
             [
              0,
              "#0d0887"
             ],
             [
              0.1111111111111111,
              "#46039f"
             ],
             [
              0.2222222222222222,
              "#7201a8"
             ],
             [
              0.3333333333333333,
              "#9c179e"
             ],
             [
              0.4444444444444444,
              "#bd3786"
             ],
             [
              0.5555555555555556,
              "#d8576b"
             ],
             [
              0.6666666666666666,
              "#ed7953"
             ],
             [
              0.7777777777777778,
              "#fb9f3a"
             ],
             [
              0.8888888888888888,
              "#fdca26"
             ],
             [
              1,
              "#f0f921"
             ]
            ],
            "type": "histogram2d"
           }
          ],
          "histogram2dcontour": [
           {
            "colorbar": {
             "outlinewidth": 0,
             "ticks": ""
            },
            "colorscale": [
             [
              0,
              "#0d0887"
             ],
             [
              0.1111111111111111,
              "#46039f"
             ],
             [
              0.2222222222222222,
              "#7201a8"
             ],
             [
              0.3333333333333333,
              "#9c179e"
             ],
             [
              0.4444444444444444,
              "#bd3786"
             ],
             [
              0.5555555555555556,
              "#d8576b"
             ],
             [
              0.6666666666666666,
              "#ed7953"
             ],
             [
              0.7777777777777778,
              "#fb9f3a"
             ],
             [
              0.8888888888888888,
              "#fdca26"
             ],
             [
              1,
              "#f0f921"
             ]
            ],
            "type": "histogram2dcontour"
           }
          ],
          "mesh3d": [
           {
            "colorbar": {
             "outlinewidth": 0,
             "ticks": ""
            },
            "type": "mesh3d"
           }
          ],
          "parcoords": [
           {
            "line": {
             "colorbar": {
              "outlinewidth": 0,
              "ticks": ""
             }
            },
            "type": "parcoords"
           }
          ],
          "pie": [
           {
            "automargin": true,
            "type": "pie"
           }
          ],
          "scatter": [
           {
            "fillpattern": {
             "fillmode": "overlay",
             "size": 10,
             "solidity": 0.2
            },
            "type": "scatter"
           }
          ],
          "scatter3d": [
           {
            "line": {
             "colorbar": {
              "outlinewidth": 0,
              "ticks": ""
             }
            },
            "marker": {
             "colorbar": {
              "outlinewidth": 0,
              "ticks": ""
             }
            },
            "type": "scatter3d"
           }
          ],
          "scattercarpet": [
           {
            "marker": {
             "colorbar": {
              "outlinewidth": 0,
              "ticks": ""
             }
            },
            "type": "scattercarpet"
           }
          ],
          "scattergeo": [
           {
            "marker": {
             "colorbar": {
              "outlinewidth": 0,
              "ticks": ""
             }
            },
            "type": "scattergeo"
           }
          ],
          "scattergl": [
           {
            "marker": {
             "colorbar": {
              "outlinewidth": 0,
              "ticks": ""
             }
            },
            "type": "scattergl"
           }
          ],
          "scattermapbox": [
           {
            "marker": {
             "colorbar": {
              "outlinewidth": 0,
              "ticks": ""
             }
            },
            "type": "scattermapbox"
           }
          ],
          "scatterpolar": [
           {
            "marker": {
             "colorbar": {
              "outlinewidth": 0,
              "ticks": ""
             }
            },
            "type": "scatterpolar"
           }
          ],
          "scatterpolargl": [
           {
            "marker": {
             "colorbar": {
              "outlinewidth": 0,
              "ticks": ""
             }
            },
            "type": "scatterpolargl"
           }
          ],
          "scatterternary": [
           {
            "marker": {
             "colorbar": {
              "outlinewidth": 0,
              "ticks": ""
             }
            },
            "type": "scatterternary"
           }
          ],
          "surface": [
           {
            "colorbar": {
             "outlinewidth": 0,
             "ticks": ""
            },
            "colorscale": [
             [
              0,
              "#0d0887"
             ],
             [
              0.1111111111111111,
              "#46039f"
             ],
             [
              0.2222222222222222,
              "#7201a8"
             ],
             [
              0.3333333333333333,
              "#9c179e"
             ],
             [
              0.4444444444444444,
              "#bd3786"
             ],
             [
              0.5555555555555556,
              "#d8576b"
             ],
             [
              0.6666666666666666,
              "#ed7953"
             ],
             [
              0.7777777777777778,
              "#fb9f3a"
             ],
             [
              0.8888888888888888,
              "#fdca26"
             ],
             [
              1,
              "#f0f921"
             ]
            ],
            "type": "surface"
           }
          ],
          "table": [
           {
            "cells": {
             "fill": {
              "color": "#EBF0F8"
             },
             "line": {
              "color": "white"
             }
            },
            "header": {
             "fill": {
              "color": "#C8D4E3"
             },
             "line": {
              "color": "white"
             }
            },
            "type": "table"
           }
          ]
         },
         "layout": {
          "annotationdefaults": {
           "arrowcolor": "#2a3f5f",
           "arrowhead": 0,
           "arrowwidth": 1
          },
          "autotypenumbers": "strict",
          "coloraxis": {
           "colorbar": {
            "outlinewidth": 0,
            "ticks": ""
           }
          },
          "colorscale": {
           "diverging": [
            [
             0,
             "#8e0152"
            ],
            [
             0.1,
             "#c51b7d"
            ],
            [
             0.2,
             "#de77ae"
            ],
            [
             0.3,
             "#f1b6da"
            ],
            [
             0.4,
             "#fde0ef"
            ],
            [
             0.5,
             "#f7f7f7"
            ],
            [
             0.6,
             "#e6f5d0"
            ],
            [
             0.7,
             "#b8e186"
            ],
            [
             0.8,
             "#7fbc41"
            ],
            [
             0.9,
             "#4d9221"
            ],
            [
             1,
             "#276419"
            ]
           ],
           "sequential": [
            [
             0,
             "#0d0887"
            ],
            [
             0.1111111111111111,
             "#46039f"
            ],
            [
             0.2222222222222222,
             "#7201a8"
            ],
            [
             0.3333333333333333,
             "#9c179e"
            ],
            [
             0.4444444444444444,
             "#bd3786"
            ],
            [
             0.5555555555555556,
             "#d8576b"
            ],
            [
             0.6666666666666666,
             "#ed7953"
            ],
            [
             0.7777777777777778,
             "#fb9f3a"
            ],
            [
             0.8888888888888888,
             "#fdca26"
            ],
            [
             1,
             "#f0f921"
            ]
           ],
           "sequentialminus": [
            [
             0,
             "#0d0887"
            ],
            [
             0.1111111111111111,
             "#46039f"
            ],
            [
             0.2222222222222222,
             "#7201a8"
            ],
            [
             0.3333333333333333,
             "#9c179e"
            ],
            [
             0.4444444444444444,
             "#bd3786"
            ],
            [
             0.5555555555555556,
             "#d8576b"
            ],
            [
             0.6666666666666666,
             "#ed7953"
            ],
            [
             0.7777777777777778,
             "#fb9f3a"
            ],
            [
             0.8888888888888888,
             "#fdca26"
            ],
            [
             1,
             "#f0f921"
            ]
           ]
          },
          "colorway": [
           "#636efa",
           "#EF553B",
           "#00cc96",
           "#ab63fa",
           "#FFA15A",
           "#19d3f3",
           "#FF6692",
           "#B6E880",
           "#FF97FF",
           "#FECB52"
          ],
          "font": {
           "color": "#2a3f5f"
          },
          "geo": {
           "bgcolor": "white",
           "lakecolor": "white",
           "landcolor": "#E5ECF6",
           "showlakes": true,
           "showland": true,
           "subunitcolor": "white"
          },
          "hoverlabel": {
           "align": "left"
          },
          "hovermode": "closest",
          "mapbox": {
           "style": "light"
          },
          "paper_bgcolor": "white",
          "plot_bgcolor": "#E5ECF6",
          "polar": {
           "angularaxis": {
            "gridcolor": "white",
            "linecolor": "white",
            "ticks": ""
           },
           "bgcolor": "#E5ECF6",
           "radialaxis": {
            "gridcolor": "white",
            "linecolor": "white",
            "ticks": ""
           }
          },
          "scene": {
           "xaxis": {
            "backgroundcolor": "#E5ECF6",
            "gridcolor": "white",
            "gridwidth": 2,
            "linecolor": "white",
            "showbackground": true,
            "ticks": "",
            "zerolinecolor": "white"
           },
           "yaxis": {
            "backgroundcolor": "#E5ECF6",
            "gridcolor": "white",
            "gridwidth": 2,
            "linecolor": "white",
            "showbackground": true,
            "ticks": "",
            "zerolinecolor": "white"
           },
           "zaxis": {
            "backgroundcolor": "#E5ECF6",
            "gridcolor": "white",
            "gridwidth": 2,
            "linecolor": "white",
            "showbackground": true,
            "ticks": "",
            "zerolinecolor": "white"
           }
          },
          "shapedefaults": {
           "line": {
            "color": "#2a3f5f"
           }
          },
          "ternary": {
           "aaxis": {
            "gridcolor": "white",
            "linecolor": "white",
            "ticks": ""
           },
           "baxis": {
            "gridcolor": "white",
            "linecolor": "white",
            "ticks": ""
           },
           "bgcolor": "#E5ECF6",
           "caxis": {
            "gridcolor": "white",
            "linecolor": "white",
            "ticks": ""
           }
          },
          "title": {
           "x": 0.05
          },
          "xaxis": {
           "automargin": true,
           "gridcolor": "white",
           "linecolor": "white",
           "ticks": "",
           "title": {
            "standoff": 15
           },
           "zerolinecolor": "white",
           "zerolinewidth": 2
          },
          "yaxis": {
           "automargin": true,
           "gridcolor": "white",
           "linecolor": "white",
           "ticks": "",
           "title": {
            "standoff": 15
           },
           "zerolinecolor": "white",
           "zerolinewidth": 2
          }
         }
        },
        "xaxis": {
         "anchor": "y",
         "domain": [
          0,
          1
         ],
         "title": {
          "text": "step_n"
         }
        },
        "yaxis": {
         "anchor": "x",
         "domain": [
          0,
          1
         ],
         "title": {
          "text": "timestamp"
         }
        }
       }
      }
     },
     "metadata": {},
     "output_type": "display_data"
    },
    {
     "data": {
      "text/html": [
       "<div>\n",
       "<style scoped>\n",
       "    .dataframe tbody tr th:only-of-type {\n",
       "        vertical-align: middle;\n",
       "    }\n",
       "\n",
       "    .dataframe tbody tr th {\n",
       "        vertical-align: top;\n",
       "    }\n",
       "\n",
       "    .dataframe thead th {\n",
       "        text-align: right;\n",
       "    }\n",
       "</style>\n",
       "<table border=\"1\" class=\"dataframe\">\n",
       "  <thead>\n",
       "    <tr style=\"text-align: right;\">\n",
       "      <th></th>\n",
       "      <th>lamella</th>\n",
       "      <th>stage</th>\n",
       "      <th>step</th>\n",
       "      <th>timestamp</th>\n",
       "      <th>step_n</th>\n",
       "      <th>delta</th>\n",
       "    </tr>\n",
       "  </thead>\n",
       "  <tbody>\n",
       "    <tr>\n",
       "      <th>0</th>\n",
       "      <td>01-brief-lark</td>\n",
       "      <td>Setup</td>\n",
       "      <td>LAMELLA_ADDED</td>\n",
       "      <td>1.683602e+09</td>\n",
       "      <td>0</td>\n",
       "      <td>NaN</td>\n",
       "    </tr>\n",
       "    <tr>\n",
       "      <th>1</th>\n",
       "      <td>01-brief-lark</td>\n",
       "      <td>Setup</td>\n",
       "      <td>MILLING_FIDUCIAL</td>\n",
       "      <td>1.683602e+09</td>\n",
       "      <td>1</td>\n",
       "      <td>2.0</td>\n",
       "    </tr>\n",
       "    <tr>\n",
       "      <th>2</th>\n",
       "      <td>01-brief-lark</td>\n",
       "      <td>FiducialMilled</td>\n",
       "      <td>FIDUCIAL_MILLED_SUCCESSFULLY</td>\n",
       "      <td>1.683602e+09</td>\n",
       "      <td>2</td>\n",
       "      <td>21.0</td>\n",
       "    </tr>\n",
       "    <tr>\n",
       "      <th>3</th>\n",
       "      <td>02-grand-mouse</td>\n",
       "      <td>Setup</td>\n",
       "      <td>LAMELLA_ADDED</td>\n",
       "      <td>1.683602e+09</td>\n",
       "      <td>3</td>\n",
       "      <td>33.0</td>\n",
       "    </tr>\n",
       "    <tr>\n",
       "      <th>4</th>\n",
       "      <td>02-grand-mouse</td>\n",
       "      <td>Setup</td>\n",
       "      <td>MILLING_FIDUCIAL</td>\n",
       "      <td>1.683602e+09</td>\n",
       "      <td>4</td>\n",
       "      <td>2.0</td>\n",
       "    </tr>\n",
       "    <tr>\n",
       "      <th>...</th>\n",
       "      <td>...</td>\n",
       "      <td>...</td>\n",
       "      <td>...</td>\n",
       "      <td>...</td>\n",
       "      <td>...</td>\n",
       "      <td>...</td>\n",
       "    </tr>\n",
       "    <tr>\n",
       "      <th>100</th>\n",
       "      <td>05-alert-prawn</td>\n",
       "      <td>RegularCut</td>\n",
       "      <td>BEAM_ALIGNMENT</td>\n",
       "      <td>1.683605e+09</td>\n",
       "      <td>100</td>\n",
       "      <td>0.0</td>\n",
       "    </tr>\n",
       "    <tr>\n",
       "      <th>101</th>\n",
       "      <td>05-alert-prawn</td>\n",
       "      <td>RegularCut</td>\n",
       "      <td>BEAM_ALIGNMENT</td>\n",
       "      <td>1.683605e+09</td>\n",
       "      <td>101</td>\n",
       "      <td>0.0</td>\n",
       "    </tr>\n",
       "    <tr>\n",
       "      <th>102</th>\n",
       "      <td>05-alert-prawn</td>\n",
       "      <td>RegularCut</td>\n",
       "      <td>BEAM_ALIGNMENT</td>\n",
       "      <td>1.683605e+09</td>\n",
       "      <td>102</td>\n",
       "      <td>0.0</td>\n",
       "    </tr>\n",
       "    <tr>\n",
       "      <th>103</th>\n",
       "      <td>05-alert-prawn</td>\n",
       "      <td>RegularCut</td>\n",
       "      <td>MILLING_TRENCH PolishingCut</td>\n",
       "      <td>1.683605e+09</td>\n",
       "      <td>103</td>\n",
       "      <td>0.0</td>\n",
       "    </tr>\n",
       "    <tr>\n",
       "      <th>104</th>\n",
       "      <td>05-alert-prawn</td>\n",
       "      <td>RegularCut</td>\n",
       "      <td>PolishingCut_COMPLETED_SUCCESSFULLY</td>\n",
       "      <td>1.683605e+09</td>\n",
       "      <td>104</td>\n",
       "      <td>21.0</td>\n",
       "    </tr>\n",
       "  </tbody>\n",
       "</table>\n",
       "<p>105 rows × 6 columns</p>\n",
       "</div>"
      ],
      "text/plain": [
       "            lamella           stage                                 step  \\\n",
       "0     01-brief-lark           Setup                        LAMELLA_ADDED   \n",
       "1     01-brief-lark           Setup                     MILLING_FIDUCIAL   \n",
       "2     01-brief-lark  FiducialMilled         FIDUCIAL_MILLED_SUCCESSFULLY   \n",
       "3    02-grand-mouse           Setup                        LAMELLA_ADDED   \n",
       "4    02-grand-mouse           Setup                     MILLING_FIDUCIAL   \n",
       "..              ...             ...                                  ...   \n",
       "100  05-alert-prawn      RegularCut                       BEAM_ALIGNMENT   \n",
       "101  05-alert-prawn      RegularCut                       BEAM_ALIGNMENT   \n",
       "102  05-alert-prawn      RegularCut                       BEAM_ALIGNMENT   \n",
       "103  05-alert-prawn      RegularCut          MILLING_TRENCH PolishingCut   \n",
       "104  05-alert-prawn      RegularCut  PolishingCut_COMPLETED_SUCCESSFULLY   \n",
       "\n",
       "        timestamp  step_n  delta  \n",
       "0    1.683602e+09       0    NaN  \n",
       "1    1.683602e+09       1    2.0  \n",
       "2    1.683602e+09       2   21.0  \n",
       "3    1.683602e+09       3   33.0  \n",
       "4    1.683602e+09       4    2.0  \n",
       "..            ...     ...    ...  \n",
       "100  1.683605e+09     100    0.0  \n",
       "101  1.683605e+09     101    0.0  \n",
       "102  1.683605e+09     102    0.0  \n",
       "103  1.683605e+09     103    0.0  \n",
       "104  1.683605e+09     104   21.0  \n",
       "\n",
       "[105 rows x 6 columns]"
      ]
     },
     "metadata": {},
     "output_type": "display_data"
    }
   ],
   "source": [
    "display(df_steps)\n",
    "fig = px.scatter(df_steps, x=\"step_n\", y=\"timestamp\", color=\"stage\", symbol='lamella')\n",
    "fig.show()\n",
    "\n"
   ]
  },
  {
   "cell_type": "code",
   "execution_count": 12,
   "metadata": {},
   "outputs": [
    {
     "data": {
      "text/html": [
       "<div>\n",
       "<style scoped>\n",
       "    .dataframe tbody tr th:only-of-type {\n",
       "        vertical-align: middle;\n",
       "    }\n",
       "\n",
       "    .dataframe tbody tr th {\n",
       "        vertical-align: top;\n",
       "    }\n",
       "\n",
       "    .dataframe thead th {\n",
       "        text-align: right;\n",
       "    }\n",
       "</style>\n",
       "<table border=\"1\" class=\"dataframe\">\n",
       "  <thead>\n",
       "    <tr style=\"text-align: right;\">\n",
       "      <th></th>\n",
       "      <th>lamella</th>\n",
       "      <th>stage</th>\n",
       "      <th>step</th>\n",
       "      <th>timestamp</th>\n",
       "      <th>step_n</th>\n",
       "      <th>delta</th>\n",
       "    </tr>\n",
       "  </thead>\n",
       "  <tbody>\n",
       "    <tr>\n",
       "      <th>0</th>\n",
       "      <td>01-brief-lark</td>\n",
       "      <td>Setup</td>\n",
       "      <td>LAMELLA_ADDED</td>\n",
       "      <td>1.683602e+09</td>\n",
       "      <td>0</td>\n",
       "      <td>NaN</td>\n",
       "    </tr>\n",
       "    <tr>\n",
       "      <th>1</th>\n",
       "      <td>01-brief-lark</td>\n",
       "      <td>Setup</td>\n",
       "      <td>MILLING_FIDUCIAL</td>\n",
       "      <td>1.683602e+09</td>\n",
       "      <td>1</td>\n",
       "      <td>2.0</td>\n",
       "    </tr>\n",
       "    <tr>\n",
       "      <th>2</th>\n",
       "      <td>01-brief-lark</td>\n",
       "      <td>FiducialMilled</td>\n",
       "      <td>FIDUCIAL_MILLED_SUCCESSFULLY</td>\n",
       "      <td>1.683602e+09</td>\n",
       "      <td>2</td>\n",
       "      <td>21.0</td>\n",
       "    </tr>\n",
       "    <tr>\n",
       "      <th>3</th>\n",
       "      <td>02-grand-mouse</td>\n",
       "      <td>Setup</td>\n",
       "      <td>LAMELLA_ADDED</td>\n",
       "      <td>1.683602e+09</td>\n",
       "      <td>3</td>\n",
       "      <td>33.0</td>\n",
       "    </tr>\n",
       "    <tr>\n",
       "      <th>4</th>\n",
       "      <td>02-grand-mouse</td>\n",
       "      <td>Setup</td>\n",
       "      <td>MILLING_FIDUCIAL</td>\n",
       "      <td>1.683602e+09</td>\n",
       "      <td>4</td>\n",
       "      <td>2.0</td>\n",
       "    </tr>\n",
       "    <tr>\n",
       "      <th>...</th>\n",
       "      <td>...</td>\n",
       "      <td>...</td>\n",
       "      <td>...</td>\n",
       "      <td>...</td>\n",
       "      <td>...</td>\n",
       "      <td>...</td>\n",
       "    </tr>\n",
       "    <tr>\n",
       "      <th>100</th>\n",
       "      <td>05-alert-prawn</td>\n",
       "      <td>RegularCut</td>\n",
       "      <td>BEAM_ALIGNMENT</td>\n",
       "      <td>1.683605e+09</td>\n",
       "      <td>100</td>\n",
       "      <td>0.0</td>\n",
       "    </tr>\n",
       "    <tr>\n",
       "      <th>101</th>\n",
       "      <td>05-alert-prawn</td>\n",
       "      <td>RegularCut</td>\n",
       "      <td>BEAM_ALIGNMENT</td>\n",
       "      <td>1.683605e+09</td>\n",
       "      <td>101</td>\n",
       "      <td>0.0</td>\n",
       "    </tr>\n",
       "    <tr>\n",
       "      <th>102</th>\n",
       "      <td>05-alert-prawn</td>\n",
       "      <td>RegularCut</td>\n",
       "      <td>BEAM_ALIGNMENT</td>\n",
       "      <td>1.683605e+09</td>\n",
       "      <td>102</td>\n",
       "      <td>0.0</td>\n",
       "    </tr>\n",
       "    <tr>\n",
       "      <th>103</th>\n",
       "      <td>05-alert-prawn</td>\n",
       "      <td>RegularCut</td>\n",
       "      <td>MILLING_TRENCH PolishingCut</td>\n",
       "      <td>1.683605e+09</td>\n",
       "      <td>103</td>\n",
       "      <td>0.0</td>\n",
       "    </tr>\n",
       "    <tr>\n",
       "      <th>104</th>\n",
       "      <td>05-alert-prawn</td>\n",
       "      <td>RegularCut</td>\n",
       "      <td>PolishingCut_COMPLETED_SUCCESSFULLY</td>\n",
       "      <td>1.683605e+09</td>\n",
       "      <td>104</td>\n",
       "      <td>21.0</td>\n",
       "    </tr>\n",
       "  </tbody>\n",
       "</table>\n",
       "<p>105 rows × 6 columns</p>\n",
       "</div>"
      ],
      "text/plain": [
       "            lamella           stage                                 step  \\\n",
       "0     01-brief-lark           Setup                        LAMELLA_ADDED   \n",
       "1     01-brief-lark           Setup                     MILLING_FIDUCIAL   \n",
       "2     01-brief-lark  FiducialMilled         FIDUCIAL_MILLED_SUCCESSFULLY   \n",
       "3    02-grand-mouse           Setup                        LAMELLA_ADDED   \n",
       "4    02-grand-mouse           Setup                     MILLING_FIDUCIAL   \n",
       "..              ...             ...                                  ...   \n",
       "100  05-alert-prawn      RegularCut                       BEAM_ALIGNMENT   \n",
       "101  05-alert-prawn      RegularCut                       BEAM_ALIGNMENT   \n",
       "102  05-alert-prawn      RegularCut                       BEAM_ALIGNMENT   \n",
       "103  05-alert-prawn      RegularCut          MILLING_TRENCH PolishingCut   \n",
       "104  05-alert-prawn      RegularCut  PolishingCut_COMPLETED_SUCCESSFULLY   \n",
       "\n",
       "        timestamp  step_n  delta  \n",
       "0    1.683602e+09       0    NaN  \n",
       "1    1.683602e+09       1    2.0  \n",
       "2    1.683602e+09       2   21.0  \n",
       "3    1.683602e+09       3   33.0  \n",
       "4    1.683602e+09       4    2.0  \n",
       "..            ...     ...    ...  \n",
       "100  1.683605e+09     100    0.0  \n",
       "101  1.683605e+09     101    0.0  \n",
       "102  1.683605e+09     102    0.0  \n",
       "103  1.683605e+09     103    0.0  \n",
       "104  1.683605e+09     104   21.0  \n",
       "\n",
       "[105 rows x 6 columns]"
      ]
     },
     "metadata": {},
     "output_type": "display_data"
    },
    {
     "data": {
      "application/vnd.plotly.v1+json": {
       "config": {
        "plotlyServerURL": "https://plot.ly"
       },
       "data": [
        {
         "alignmentgroup": "True",
         "hovertemplate": "step=LAMELLA_ADDED<br>stage=Setup<br>lamella=%{x}<br>delta=%{y}<extra></extra>",
         "legendgroup": "LAMELLA_ADDED",
         "marker": {
          "color": "#636efa",
          "pattern": {
           "shape": ""
          }
         },
         "name": "LAMELLA_ADDED",
         "offsetgroup": "LAMELLA_ADDED",
         "orientation": "v",
         "showlegend": true,
         "textposition": "auto",
         "type": "bar",
         "x": [
          "01-brief-lark",
          "02-grand-mouse",
          "03-firm-bobcat",
          "04-fair-bison",
          "05-alert-prawn"
         ],
         "xaxis": "x",
         "y": [
          null,
          33,
          136,
          23,
          77
         ],
         "yaxis": "y"
        },
        {
         "alignmentgroup": "True",
         "hovertemplate": "step=MILLING_FIDUCIAL<br>stage=Setup<br>lamella=%{x}<br>delta=%{y}<extra></extra>",
         "legendgroup": "MILLING_FIDUCIAL",
         "marker": {
          "color": "#EF553B",
          "pattern": {
           "shape": ""
          }
         },
         "name": "MILLING_FIDUCIAL",
         "offsetgroup": "MILLING_FIDUCIAL",
         "orientation": "v",
         "showlegend": true,
         "textposition": "auto",
         "type": "bar",
         "x": [
          "01-brief-lark",
          "02-grand-mouse",
          "03-firm-bobcat",
          "04-fair-bison",
          "05-alert-prawn"
         ],
         "xaxis": "x",
         "y": [
          2,
          2,
          3,
          2,
          3
         ],
         "yaxis": "y"
        },
        {
         "alignmentgroup": "True",
         "hovertemplate": "step=FIDUCIAL_MILLED_SUCCESSFULLY<br>stage=FiducialMilled<br>lamella=%{x}<br>delta=%{y}<extra></extra>",
         "legendgroup": "FIDUCIAL_MILLED_SUCCESSFULLY",
         "marker": {
          "color": "#00cc96",
          "pattern": {
           "shape": ""
          }
         },
         "name": "FIDUCIAL_MILLED_SUCCESSFULLY",
         "offsetgroup": "FIDUCIAL_MILLED_SUCCESSFULLY",
         "orientation": "v",
         "showlegend": true,
         "textposition": "auto",
         "type": "bar",
         "x": [
          "01-brief-lark",
          "02-grand-mouse",
          "03-firm-bobcat",
          "04-fair-bison",
          "05-alert-prawn"
         ],
         "xaxis": "x2",
         "y": [
          21,
          21,
          21,
          21,
          21
         ],
         "yaxis": "y2"
        },
        {
         "alignmentgroup": "True",
         "hovertemplate": "step=MOVING_TO_POSITION<br>stage=FiducialMilled<br>lamella=%{x}<br>delta=%{y}<extra></extra>",
         "legendgroup": "MOVING_TO_POSITION",
         "marker": {
          "color": "#ab63fa",
          "pattern": {
           "shape": ""
          }
         },
         "name": "MOVING_TO_POSITION",
         "offsetgroup": "MOVING_TO_POSITION",
         "orientation": "v",
         "showlegend": true,
         "textposition": "auto",
         "type": "bar",
         "x": [
          "01-brief-lark",
          "02-grand-mouse",
          "03-firm-bobcat",
          "04-fair-bison",
          "05-alert-prawn"
         ],
         "xaxis": "x2",
         "y": [
          2838,
          0,
          1,
          0,
          0
         ],
         "yaxis": "y2"
        },
        {
         "alignmentgroup": "True",
         "hovertemplate": "step=MOVING_TO_POSITION<br>stage=RoughCut<br>lamella=%{x}<br>delta=%{y}<extra></extra>",
         "legendgroup": "MOVING_TO_POSITION",
         "marker": {
          "color": "#ab63fa",
          "pattern": {
           "shape": ""
          }
         },
         "name": "MOVING_TO_POSITION",
         "offsetgroup": "MOVING_TO_POSITION",
         "orientation": "v",
         "showlegend": false,
         "textposition": "auto",
         "type": "bar",
         "x": [
          "01-brief-lark",
          "02-grand-mouse",
          "03-firm-bobcat",
          "04-fair-bison",
          "05-alert-prawn"
         ],
         "xaxis": "x3",
         "y": [
          1,
          1,
          0,
          0,
          1
         ],
         "yaxis": "y3"
        },
        {
         "alignmentgroup": "True",
         "hovertemplate": "step=MOVING_TO_POSITION<br>stage=RegularCut<br>lamella=%{x}<br>delta=%{y}<extra></extra>",
         "legendgroup": "MOVING_TO_POSITION",
         "marker": {
          "color": "#ab63fa",
          "pattern": {
           "shape": ""
          }
         },
         "name": "MOVING_TO_POSITION",
         "offsetgroup": "MOVING_TO_POSITION",
         "orientation": "v",
         "showlegend": false,
         "textposition": "auto",
         "type": "bar",
         "x": [
          "01-brief-lark",
          "02-grand-mouse",
          "03-firm-bobcat",
          "04-fair-bison",
          "05-alert-prawn"
         ],
         "xaxis": "x4",
         "y": [
          0,
          0,
          1,
          0,
          1
         ],
         "yaxis": "y4"
        },
        {
         "alignmentgroup": "True",
         "hovertemplate": "step=BEAM_ALIGNMENT<br>stage=FiducialMilled<br>lamella=%{x}<br>delta=%{y}<extra></extra>",
         "legendgroup": "BEAM_ALIGNMENT",
         "marker": {
          "color": "#FFA15A",
          "pattern": {
           "shape": ""
          }
         },
         "name": "BEAM_ALIGNMENT",
         "offsetgroup": "BEAM_ALIGNMENT",
         "orientation": "v",
         "showlegend": true,
         "textposition": "auto",
         "type": "bar",
         "x": [
          "01-brief-lark",
          "01-brief-lark",
          "01-brief-lark",
          "02-grand-mouse",
          "02-grand-mouse",
          "02-grand-mouse",
          "03-firm-bobcat",
          "03-firm-bobcat",
          "03-firm-bobcat",
          "04-fair-bison",
          "04-fair-bison",
          "04-fair-bison",
          "05-alert-prawn",
          "05-alert-prawn",
          "05-alert-prawn"
         ],
         "xaxis": "x2",
         "y": [
          0,
          1,
          0,
          1,
          0,
          0,
          0,
          0,
          0,
          0,
          0,
          1,
          1,
          0,
          0
         ],
         "yaxis": "y2"
        },
        {
         "alignmentgroup": "True",
         "hovertemplate": "step=BEAM_ALIGNMENT<br>stage=RoughCut<br>lamella=%{x}<br>delta=%{y}<extra></extra>",
         "legendgroup": "BEAM_ALIGNMENT",
         "marker": {
          "color": "#FFA15A",
          "pattern": {
           "shape": ""
          }
         },
         "name": "BEAM_ALIGNMENT",
         "offsetgroup": "BEAM_ALIGNMENT",
         "orientation": "v",
         "showlegend": false,
         "textposition": "auto",
         "type": "bar",
         "x": [
          "01-brief-lark",
          "01-brief-lark",
          "01-brief-lark",
          "02-grand-mouse",
          "02-grand-mouse",
          "02-grand-mouse",
          "03-firm-bobcat",
          "03-firm-bobcat",
          "03-firm-bobcat",
          "04-fair-bison",
          "04-fair-bison",
          "04-fair-bison",
          "05-alert-prawn",
          "05-alert-prawn",
          "05-alert-prawn"
         ],
         "xaxis": "x3",
         "y": [
          0,
          0,
          0,
          0,
          0,
          1,
          0,
          1,
          0,
          1,
          0,
          0,
          0,
          0,
          0
         ],
         "yaxis": "y3"
        },
        {
         "alignmentgroup": "True",
         "hovertemplate": "step=BEAM_ALIGNMENT<br>stage=RegularCut<br>lamella=%{x}<br>delta=%{y}<extra></extra>",
         "legendgroup": "BEAM_ALIGNMENT",
         "marker": {
          "color": "#FFA15A",
          "pattern": {
           "shape": ""
          }
         },
         "name": "BEAM_ALIGNMENT",
         "offsetgroup": "BEAM_ALIGNMENT",
         "orientation": "v",
         "showlegend": false,
         "textposition": "auto",
         "type": "bar",
         "x": [
          "01-brief-lark",
          "01-brief-lark",
          "01-brief-lark",
          "02-grand-mouse",
          "02-grand-mouse",
          "02-grand-mouse",
          "03-firm-bobcat",
          "03-firm-bobcat",
          "03-firm-bobcat",
          "04-fair-bison",
          "04-fair-bison",
          "04-fair-bison",
          "05-alert-prawn",
          "05-alert-prawn",
          "05-alert-prawn"
         ],
         "xaxis": "x4",
         "y": [
          0,
          1,
          0,
          1,
          0,
          0,
          0,
          0,
          1,
          1,
          0,
          0,
          0,
          0,
          0
         ],
         "yaxis": "y4"
        },
        {
         "alignmentgroup": "True",
         "hovertemplate": "step=MILLING_TRENCH RoughCut<br>stage=FiducialMilled<br>lamella=%{x}<br>delta=%{y}<extra></extra>",
         "legendgroup": "MILLING_TRENCH RoughCut",
         "marker": {
          "color": "#19d3f3",
          "pattern": {
           "shape": ""
          }
         },
         "name": "MILLING_TRENCH RoughCut",
         "offsetgroup": "MILLING_TRENCH RoughCut",
         "orientation": "v",
         "showlegend": true,
         "textposition": "auto",
         "type": "bar",
         "x": [
          "01-brief-lark",
          "02-grand-mouse",
          "03-firm-bobcat",
          "04-fair-bison",
          "05-alert-prawn"
         ],
         "xaxis": "x2",
         "y": [
          0,
          0,
          1,
          0,
          0
         ],
         "yaxis": "y2"
        },
        {
         "alignmentgroup": "True",
         "hovertemplate": "step=RoughCut_COMPLETED_SUCCESSFULLY<br>stage=FiducialMilled<br>lamella=%{x}<br>delta=%{y}<extra></extra>",
         "legendgroup": "RoughCut_COMPLETED_SUCCESSFULLY",
         "marker": {
          "color": "#FF6692",
          "pattern": {
           "shape": ""
          }
         },
         "name": "RoughCut_COMPLETED_SUCCESSFULLY",
         "offsetgroup": "RoughCut_COMPLETED_SUCCESSFULLY",
         "orientation": "v",
         "showlegend": true,
         "textposition": "auto",
         "type": "bar",
         "x": [
          "01-brief-lark",
          "02-grand-mouse",
          "03-firm-bobcat",
          "04-fair-bison",
          "05-alert-prawn"
         ],
         "xaxis": "x2",
         "y": [
          21,
          21,
          21,
          21,
          21
         ],
         "yaxis": "y2"
        },
        {
         "alignmentgroup": "True",
         "hovertemplate": "step=MILLING_TRENCH RegularCut<br>stage=RoughCut<br>lamella=%{x}<br>delta=%{y}<extra></extra>",
         "legendgroup": "MILLING_TRENCH RegularCut",
         "marker": {
          "color": "#B6E880",
          "pattern": {
           "shape": ""
          }
         },
         "name": "MILLING_TRENCH RegularCut",
         "offsetgroup": "MILLING_TRENCH RegularCut",
         "orientation": "v",
         "showlegend": true,
         "textposition": "auto",
         "type": "bar",
         "x": [
          "01-brief-lark",
          "02-grand-mouse",
          "03-firm-bobcat",
          "04-fair-bison",
          "05-alert-prawn"
         ],
         "xaxis": "x3",
         "y": [
          0,
          0,
          0,
          0,
          1
         ],
         "yaxis": "y3"
        },
        {
         "alignmentgroup": "True",
         "hovertemplate": "step=RegularCut_COMPLETED_SUCCESSFULLY<br>stage=RoughCut<br>lamella=%{x}<br>delta=%{y}<extra></extra>",
         "legendgroup": "RegularCut_COMPLETED_SUCCESSFULLY",
         "marker": {
          "color": "#FF97FF",
          "pattern": {
           "shape": ""
          }
         },
         "name": "RegularCut_COMPLETED_SUCCESSFULLY",
         "offsetgroup": "RegularCut_COMPLETED_SUCCESSFULLY",
         "orientation": "v",
         "showlegend": true,
         "textposition": "auto",
         "type": "bar",
         "x": [
          "01-brief-lark",
          "02-grand-mouse",
          "03-firm-bobcat",
          "04-fair-bison",
          "05-alert-prawn"
         ],
         "xaxis": "x3",
         "y": [
          21,
          21,
          21,
          21,
          21
         ],
         "yaxis": "y3"
        },
        {
         "alignmentgroup": "True",
         "hovertemplate": "step=MILLING_TRENCH PolishingCut<br>stage=RegularCut<br>lamella=%{x}<br>delta=%{y}<extra></extra>",
         "legendgroup": "MILLING_TRENCH PolishingCut",
         "marker": {
          "color": "#FECB52",
          "pattern": {
           "shape": ""
          }
         },
         "name": "MILLING_TRENCH PolishingCut",
         "offsetgroup": "MILLING_TRENCH PolishingCut",
         "orientation": "v",
         "showlegend": true,
         "textposition": "auto",
         "type": "bar",
         "x": [
          "01-brief-lark",
          "02-grand-mouse",
          "03-firm-bobcat",
          "04-fair-bison",
          "05-alert-prawn"
         ],
         "xaxis": "x4",
         "y": [
          0,
          0,
          0,
          0,
          0
         ],
         "yaxis": "y4"
        },
        {
         "alignmentgroup": "True",
         "hovertemplate": "step=PolishingCut_COMPLETED_SUCCESSFULLY<br>stage=RegularCut<br>lamella=%{x}<br>delta=%{y}<extra></extra>",
         "legendgroup": "PolishingCut_COMPLETED_SUCCESSFULLY",
         "marker": {
          "color": "#636efa",
          "pattern": {
           "shape": ""
          }
         },
         "name": "PolishingCut_COMPLETED_SUCCESSFULLY",
         "offsetgroup": "PolishingCut_COMPLETED_SUCCESSFULLY",
         "orientation": "v",
         "showlegend": true,
         "textposition": "auto",
         "type": "bar",
         "x": [
          "01-brief-lark",
          "02-grand-mouse",
          "03-firm-bobcat",
          "04-fair-bison",
          "05-alert-prawn"
         ],
         "xaxis": "x4",
         "y": [
          21,
          21,
          21,
          21,
          21
         ],
         "yaxis": "y4"
        }
       ],
       "layout": {
        "annotations": [
         {
          "font": {},
          "showarrow": false,
          "text": "stage=Setup",
          "x": 0.1175,
          "xanchor": "center",
          "xref": "paper",
          "y": 1,
          "yanchor": "bottom",
          "yref": "paper"
         },
         {
          "font": {},
          "showarrow": false,
          "text": "stage=FiducialMilled",
          "x": 0.3725,
          "xanchor": "center",
          "xref": "paper",
          "y": 1,
          "yanchor": "bottom",
          "yref": "paper"
         },
         {
          "font": {},
          "showarrow": false,
          "text": "stage=RoughCut",
          "x": 0.6275,
          "xanchor": "center",
          "xref": "paper",
          "y": 1,
          "yanchor": "bottom",
          "yref": "paper"
         },
         {
          "font": {},
          "showarrow": false,
          "text": "stage=RegularCut",
          "x": 0.8824999999999998,
          "xanchor": "center",
          "xref": "paper",
          "y": 1,
          "yanchor": "bottom",
          "yref": "paper"
         }
        ],
        "barmode": "relative",
        "legend": {
         "title": {
          "text": "step"
         },
         "tracegroupgap": 0
        },
        "margin": {
         "t": 60
        },
        "template": {
         "data": {
          "bar": [
           {
            "error_x": {
             "color": "#2a3f5f"
            },
            "error_y": {
             "color": "#2a3f5f"
            },
            "marker": {
             "line": {
              "color": "#E5ECF6",
              "width": 0.5
             },
             "pattern": {
              "fillmode": "overlay",
              "size": 10,
              "solidity": 0.2
             }
            },
            "type": "bar"
           }
          ],
          "barpolar": [
           {
            "marker": {
             "line": {
              "color": "#E5ECF6",
              "width": 0.5
             },
             "pattern": {
              "fillmode": "overlay",
              "size": 10,
              "solidity": 0.2
             }
            },
            "type": "barpolar"
           }
          ],
          "carpet": [
           {
            "aaxis": {
             "endlinecolor": "#2a3f5f",
             "gridcolor": "white",
             "linecolor": "white",
             "minorgridcolor": "white",
             "startlinecolor": "#2a3f5f"
            },
            "baxis": {
             "endlinecolor": "#2a3f5f",
             "gridcolor": "white",
             "linecolor": "white",
             "minorgridcolor": "white",
             "startlinecolor": "#2a3f5f"
            },
            "type": "carpet"
           }
          ],
          "choropleth": [
           {
            "colorbar": {
             "outlinewidth": 0,
             "ticks": ""
            },
            "type": "choropleth"
           }
          ],
          "contour": [
           {
            "colorbar": {
             "outlinewidth": 0,
             "ticks": ""
            },
            "colorscale": [
             [
              0,
              "#0d0887"
             ],
             [
              0.1111111111111111,
              "#46039f"
             ],
             [
              0.2222222222222222,
              "#7201a8"
             ],
             [
              0.3333333333333333,
              "#9c179e"
             ],
             [
              0.4444444444444444,
              "#bd3786"
             ],
             [
              0.5555555555555556,
              "#d8576b"
             ],
             [
              0.6666666666666666,
              "#ed7953"
             ],
             [
              0.7777777777777778,
              "#fb9f3a"
             ],
             [
              0.8888888888888888,
              "#fdca26"
             ],
             [
              1,
              "#f0f921"
             ]
            ],
            "type": "contour"
           }
          ],
          "contourcarpet": [
           {
            "colorbar": {
             "outlinewidth": 0,
             "ticks": ""
            },
            "type": "contourcarpet"
           }
          ],
          "heatmap": [
           {
            "colorbar": {
             "outlinewidth": 0,
             "ticks": ""
            },
            "colorscale": [
             [
              0,
              "#0d0887"
             ],
             [
              0.1111111111111111,
              "#46039f"
             ],
             [
              0.2222222222222222,
              "#7201a8"
             ],
             [
              0.3333333333333333,
              "#9c179e"
             ],
             [
              0.4444444444444444,
              "#bd3786"
             ],
             [
              0.5555555555555556,
              "#d8576b"
             ],
             [
              0.6666666666666666,
              "#ed7953"
             ],
             [
              0.7777777777777778,
              "#fb9f3a"
             ],
             [
              0.8888888888888888,
              "#fdca26"
             ],
             [
              1,
              "#f0f921"
             ]
            ],
            "type": "heatmap"
           }
          ],
          "heatmapgl": [
           {
            "colorbar": {
             "outlinewidth": 0,
             "ticks": ""
            },
            "colorscale": [
             [
              0,
              "#0d0887"
             ],
             [
              0.1111111111111111,
              "#46039f"
             ],
             [
              0.2222222222222222,
              "#7201a8"
             ],
             [
              0.3333333333333333,
              "#9c179e"
             ],
             [
              0.4444444444444444,
              "#bd3786"
             ],
             [
              0.5555555555555556,
              "#d8576b"
             ],
             [
              0.6666666666666666,
              "#ed7953"
             ],
             [
              0.7777777777777778,
              "#fb9f3a"
             ],
             [
              0.8888888888888888,
              "#fdca26"
             ],
             [
              1,
              "#f0f921"
             ]
            ],
            "type": "heatmapgl"
           }
          ],
          "histogram": [
           {
            "marker": {
             "pattern": {
              "fillmode": "overlay",
              "size": 10,
              "solidity": 0.2
             }
            },
            "type": "histogram"
           }
          ],
          "histogram2d": [
           {
            "colorbar": {
             "outlinewidth": 0,
             "ticks": ""
            },
            "colorscale": [
             [
              0,
              "#0d0887"
             ],
             [
              0.1111111111111111,
              "#46039f"
             ],
             [
              0.2222222222222222,
              "#7201a8"
             ],
             [
              0.3333333333333333,
              "#9c179e"
             ],
             [
              0.4444444444444444,
              "#bd3786"
             ],
             [
              0.5555555555555556,
              "#d8576b"
             ],
             [
              0.6666666666666666,
              "#ed7953"
             ],
             [
              0.7777777777777778,
              "#fb9f3a"
             ],
             [
              0.8888888888888888,
              "#fdca26"
             ],
             [
              1,
              "#f0f921"
             ]
            ],
            "type": "histogram2d"
           }
          ],
          "histogram2dcontour": [
           {
            "colorbar": {
             "outlinewidth": 0,
             "ticks": ""
            },
            "colorscale": [
             [
              0,
              "#0d0887"
             ],
             [
              0.1111111111111111,
              "#46039f"
             ],
             [
              0.2222222222222222,
              "#7201a8"
             ],
             [
              0.3333333333333333,
              "#9c179e"
             ],
             [
              0.4444444444444444,
              "#bd3786"
             ],
             [
              0.5555555555555556,
              "#d8576b"
             ],
             [
              0.6666666666666666,
              "#ed7953"
             ],
             [
              0.7777777777777778,
              "#fb9f3a"
             ],
             [
              0.8888888888888888,
              "#fdca26"
             ],
             [
              1,
              "#f0f921"
             ]
            ],
            "type": "histogram2dcontour"
           }
          ],
          "mesh3d": [
           {
            "colorbar": {
             "outlinewidth": 0,
             "ticks": ""
            },
            "type": "mesh3d"
           }
          ],
          "parcoords": [
           {
            "line": {
             "colorbar": {
              "outlinewidth": 0,
              "ticks": ""
             }
            },
            "type": "parcoords"
           }
          ],
          "pie": [
           {
            "automargin": true,
            "type": "pie"
           }
          ],
          "scatter": [
           {
            "fillpattern": {
             "fillmode": "overlay",
             "size": 10,
             "solidity": 0.2
            },
            "type": "scatter"
           }
          ],
          "scatter3d": [
           {
            "line": {
             "colorbar": {
              "outlinewidth": 0,
              "ticks": ""
             }
            },
            "marker": {
             "colorbar": {
              "outlinewidth": 0,
              "ticks": ""
             }
            },
            "type": "scatter3d"
           }
          ],
          "scattercarpet": [
           {
            "marker": {
             "colorbar": {
              "outlinewidth": 0,
              "ticks": ""
             }
            },
            "type": "scattercarpet"
           }
          ],
          "scattergeo": [
           {
            "marker": {
             "colorbar": {
              "outlinewidth": 0,
              "ticks": ""
             }
            },
            "type": "scattergeo"
           }
          ],
          "scattergl": [
           {
            "marker": {
             "colorbar": {
              "outlinewidth": 0,
              "ticks": ""
             }
            },
            "type": "scattergl"
           }
          ],
          "scattermapbox": [
           {
            "marker": {
             "colorbar": {
              "outlinewidth": 0,
              "ticks": ""
             }
            },
            "type": "scattermapbox"
           }
          ],
          "scatterpolar": [
           {
            "marker": {
             "colorbar": {
              "outlinewidth": 0,
              "ticks": ""
             }
            },
            "type": "scatterpolar"
           }
          ],
          "scatterpolargl": [
           {
            "marker": {
             "colorbar": {
              "outlinewidth": 0,
              "ticks": ""
             }
            },
            "type": "scatterpolargl"
           }
          ],
          "scatterternary": [
           {
            "marker": {
             "colorbar": {
              "outlinewidth": 0,
              "ticks": ""
             }
            },
            "type": "scatterternary"
           }
          ],
          "surface": [
           {
            "colorbar": {
             "outlinewidth": 0,
             "ticks": ""
            },
            "colorscale": [
             [
              0,
              "#0d0887"
             ],
             [
              0.1111111111111111,
              "#46039f"
             ],
             [
              0.2222222222222222,
              "#7201a8"
             ],
             [
              0.3333333333333333,
              "#9c179e"
             ],
             [
              0.4444444444444444,
              "#bd3786"
             ],
             [
              0.5555555555555556,
              "#d8576b"
             ],
             [
              0.6666666666666666,
              "#ed7953"
             ],
             [
              0.7777777777777778,
              "#fb9f3a"
             ],
             [
              0.8888888888888888,
              "#fdca26"
             ],
             [
              1,
              "#f0f921"
             ]
            ],
            "type": "surface"
           }
          ],
          "table": [
           {
            "cells": {
             "fill": {
              "color": "#EBF0F8"
             },
             "line": {
              "color": "white"
             }
            },
            "header": {
             "fill": {
              "color": "#C8D4E3"
             },
             "line": {
              "color": "white"
             }
            },
            "type": "table"
           }
          ]
         },
         "layout": {
          "annotationdefaults": {
           "arrowcolor": "#2a3f5f",
           "arrowhead": 0,
           "arrowwidth": 1
          },
          "autotypenumbers": "strict",
          "coloraxis": {
           "colorbar": {
            "outlinewidth": 0,
            "ticks": ""
           }
          },
          "colorscale": {
           "diverging": [
            [
             0,
             "#8e0152"
            ],
            [
             0.1,
             "#c51b7d"
            ],
            [
             0.2,
             "#de77ae"
            ],
            [
             0.3,
             "#f1b6da"
            ],
            [
             0.4,
             "#fde0ef"
            ],
            [
             0.5,
             "#f7f7f7"
            ],
            [
             0.6,
             "#e6f5d0"
            ],
            [
             0.7,
             "#b8e186"
            ],
            [
             0.8,
             "#7fbc41"
            ],
            [
             0.9,
             "#4d9221"
            ],
            [
             1,
             "#276419"
            ]
           ],
           "sequential": [
            [
             0,
             "#0d0887"
            ],
            [
             0.1111111111111111,
             "#46039f"
            ],
            [
             0.2222222222222222,
             "#7201a8"
            ],
            [
             0.3333333333333333,
             "#9c179e"
            ],
            [
             0.4444444444444444,
             "#bd3786"
            ],
            [
             0.5555555555555556,
             "#d8576b"
            ],
            [
             0.6666666666666666,
             "#ed7953"
            ],
            [
             0.7777777777777778,
             "#fb9f3a"
            ],
            [
             0.8888888888888888,
             "#fdca26"
            ],
            [
             1,
             "#f0f921"
            ]
           ],
           "sequentialminus": [
            [
             0,
             "#0d0887"
            ],
            [
             0.1111111111111111,
             "#46039f"
            ],
            [
             0.2222222222222222,
             "#7201a8"
            ],
            [
             0.3333333333333333,
             "#9c179e"
            ],
            [
             0.4444444444444444,
             "#bd3786"
            ],
            [
             0.5555555555555556,
             "#d8576b"
            ],
            [
             0.6666666666666666,
             "#ed7953"
            ],
            [
             0.7777777777777778,
             "#fb9f3a"
            ],
            [
             0.8888888888888888,
             "#fdca26"
            ],
            [
             1,
             "#f0f921"
            ]
           ]
          },
          "colorway": [
           "#636efa",
           "#EF553B",
           "#00cc96",
           "#ab63fa",
           "#FFA15A",
           "#19d3f3",
           "#FF6692",
           "#B6E880",
           "#FF97FF",
           "#FECB52"
          ],
          "font": {
           "color": "#2a3f5f"
          },
          "geo": {
           "bgcolor": "white",
           "lakecolor": "white",
           "landcolor": "#E5ECF6",
           "showlakes": true,
           "showland": true,
           "subunitcolor": "white"
          },
          "hoverlabel": {
           "align": "left"
          },
          "hovermode": "closest",
          "mapbox": {
           "style": "light"
          },
          "paper_bgcolor": "white",
          "plot_bgcolor": "#E5ECF6",
          "polar": {
           "angularaxis": {
            "gridcolor": "white",
            "linecolor": "white",
            "ticks": ""
           },
           "bgcolor": "#E5ECF6",
           "radialaxis": {
            "gridcolor": "white",
            "linecolor": "white",
            "ticks": ""
           }
          },
          "scene": {
           "xaxis": {
            "backgroundcolor": "#E5ECF6",
            "gridcolor": "white",
            "gridwidth": 2,
            "linecolor": "white",
            "showbackground": true,
            "ticks": "",
            "zerolinecolor": "white"
           },
           "yaxis": {
            "backgroundcolor": "#E5ECF6",
            "gridcolor": "white",
            "gridwidth": 2,
            "linecolor": "white",
            "showbackground": true,
            "ticks": "",
            "zerolinecolor": "white"
           },
           "zaxis": {
            "backgroundcolor": "#E5ECF6",
            "gridcolor": "white",
            "gridwidth": 2,
            "linecolor": "white",
            "showbackground": true,
            "ticks": "",
            "zerolinecolor": "white"
           }
          },
          "shapedefaults": {
           "line": {
            "color": "#2a3f5f"
           }
          },
          "ternary": {
           "aaxis": {
            "gridcolor": "white",
            "linecolor": "white",
            "ticks": ""
           },
           "baxis": {
            "gridcolor": "white",
            "linecolor": "white",
            "ticks": ""
           },
           "bgcolor": "#E5ECF6",
           "caxis": {
            "gridcolor": "white",
            "linecolor": "white",
            "ticks": ""
           }
          },
          "title": {
           "x": 0.05
          },
          "xaxis": {
           "automargin": true,
           "gridcolor": "white",
           "linecolor": "white",
           "ticks": "",
           "title": {
            "standoff": 15
           },
           "zerolinecolor": "white",
           "zerolinewidth": 2
          },
          "yaxis": {
           "automargin": true,
           "gridcolor": "white",
           "linecolor": "white",
           "ticks": "",
           "title": {
            "standoff": 15
           },
           "zerolinecolor": "white",
           "zerolinewidth": 2
          }
         }
        },
        "xaxis": {
         "anchor": "y",
         "domain": [
          0,
          0.235
         ],
         "title": {
          "text": "lamella"
         }
        },
        "xaxis2": {
         "anchor": "y2",
         "domain": [
          0.255,
          0.49
         ],
         "matches": "x",
         "title": {
          "text": "lamella"
         }
        },
        "xaxis3": {
         "anchor": "y3",
         "domain": [
          0.51,
          0.745
         ],
         "matches": "x",
         "title": {
          "text": "lamella"
         }
        },
        "xaxis4": {
         "anchor": "y4",
         "domain": [
          0.7649999999999999,
          0.9999999999999999
         ],
         "matches": "x",
         "title": {
          "text": "lamella"
         }
        },
        "yaxis": {
         "anchor": "x",
         "domain": [
          0,
          1
         ],
         "title": {
          "text": "delta"
         }
        },
        "yaxis2": {
         "anchor": "x2",
         "domain": [
          0,
          1
         ],
         "matches": "y",
         "showticklabels": false
        },
        "yaxis3": {
         "anchor": "x3",
         "domain": [
          0,
          1
         ],
         "matches": "y",
         "showticklabels": false
        },
        "yaxis4": {
         "anchor": "x4",
         "domain": [
          0,
          1
         ],
         "matches": "y",
         "showticklabels": false
        }
       }
      }
     },
     "metadata": {},
     "output_type": "display_data"
    }
   ],
   "source": [
    "# calculate difference in timestamp between rows\n",
    "df_steps['delta'] = df_steps['timestamp'].diff()\n",
    "\n",
    "display(df_steps)\n",
    "\n",
    "px.bar(df_steps, x=\"lamella\", y=\"delta\", color=\"step\", facet_col=\"stage\")"
   ]
  },
  {
   "cell_type": "code",
   "execution_count": 3,
   "metadata": {},
   "outputs": [
    {
     "data": {
      "application/vnd.plotly.v1+json": {
       "config": {
        "plotlyServerURL": "https://plot.ly"
       },
       "data": [
        {
         "alignmentgroup": "True",
         "hovertemplate": "petname=brief-lark<br>stage=%{x}<br>duration=%{y}<extra></extra>",
         "legendgroup": "brief-lark",
         "marker": {
          "color": "#636efa",
          "pattern": {
           "shape": ""
          }
         },
         "name": "brief-lark",
         "offsetgroup": "brief-lark",
         "orientation": "v",
         "showlegend": true,
         "textposition": "auto",
         "type": "bar",
         "x": [
          "Setup",
          "FiducialMilled",
          "RoughCut",
          "RegularCut",
          "PolishingCut"
         ],
         "xaxis": "x",
         "y": [
          21.02111506462097,
          21.853173971176147,
          21.82999587059021,
          21.877053022384644,
          89.9874370098114
         ],
         "yaxis": "y"
        },
        {
         "alignmentgroup": "True",
         "hovertemplate": "petname=grand-mouse<br>stage=%{x}<br>duration=%{y}<extra></extra>",
         "legendgroup": "grand-mouse",
         "marker": {
          "color": "#EF553B",
          "pattern": {
           "shape": ""
          }
         },
         "name": "grand-mouse",
         "offsetgroup": "grand-mouse",
         "orientation": "v",
         "showlegend": true,
         "textposition": "auto",
         "type": "bar",
         "x": [
          "Setup",
          "FiducialMilled",
          "RoughCut",
          "RegularCut",
          "PolishingCut"
         ],
         "xaxis": "x",
         "y": [
          21.016355991363525,
          21.85373091697693,
          21.826575994491577,
          21.8851318359375,
          67.63358306884766
         ],
         "yaxis": "y"
        },
        {
         "alignmentgroup": "True",
         "hovertemplate": "petname=firm-bobcat<br>stage=%{x}<br>duration=%{y}<extra></extra>",
         "legendgroup": "firm-bobcat",
         "marker": {
          "color": "#00cc96",
          "pattern": {
           "shape": ""
          }
         },
         "name": "firm-bobcat",
         "offsetgroup": "firm-bobcat",
         "orientation": "v",
         "showlegend": true,
         "textposition": "auto",
         "type": "bar",
         "x": [
          "Setup",
          "FiducialMilled",
          "RoughCut",
          "RegularCut",
          "PolishingCut"
         ],
         "xaxis": "x",
         "y": [
          21.017917156219482,
          21.847728967666626,
          21.843569040298462,
          21.892093896865845,
          45.2435622215271
         ],
         "yaxis": "y"
        },
        {
         "alignmentgroup": "True",
         "hovertemplate": "petname=fair-bison<br>stage=%{x}<br>duration=%{y}<extra></extra>",
         "legendgroup": "fair-bison",
         "marker": {
          "color": "#ab63fa",
          "pattern": {
           "shape": ""
          }
         },
         "name": "fair-bison",
         "offsetgroup": "fair-bison",
         "orientation": "v",
         "showlegend": true,
         "textposition": "auto",
         "type": "bar",
         "x": [
          "Setup",
          "FiducialMilled",
          "RoughCut",
          "RegularCut",
          "PolishingCut"
         ],
         "xaxis": "x",
         "y": [
          21.018003940582275,
          21.849651098251343,
          21.859820127487183,
          21.877205848693848,
          22.878284215927124
         ],
         "yaxis": "y"
        },
        {
         "alignmentgroup": "True",
         "hovertemplate": "petname=alert-prawn<br>stage=%{x}<br>duration=%{y}<extra></extra>",
         "legendgroup": "alert-prawn",
         "marker": {
          "color": "#FFA15A",
          "pattern": {
           "shape": ""
          }
         },
         "name": "alert-prawn",
         "offsetgroup": "alert-prawn",
         "orientation": "v",
         "showlegend": true,
         "textposition": "auto",
         "type": "bar",
         "x": [
          "Setup",
          "FiducialMilled",
          "RoughCut",
          "RegularCut",
          "PolishingCut"
         ],
         "xaxis": "x",
         "y": [
          21.01931595802307,
          21.845122814178467,
          21.854846000671387,
          21.876808881759644,
          0.5183241367340088
         ],
         "yaxis": "y"
        }
       ],
       "layout": {
        "barmode": "group",
        "legend": {
         "title": {
          "text": "petname"
         },
         "tracegroupgap": 0
        },
        "margin": {
         "t": 60
        },
        "template": {
         "data": {
          "bar": [
           {
            "error_x": {
             "color": "#2a3f5f"
            },
            "error_y": {
             "color": "#2a3f5f"
            },
            "marker": {
             "line": {
              "color": "#E5ECF6",
              "width": 0.5
             },
             "pattern": {
              "fillmode": "overlay",
              "size": 10,
              "solidity": 0.2
             }
            },
            "type": "bar"
           }
          ],
          "barpolar": [
           {
            "marker": {
             "line": {
              "color": "#E5ECF6",
              "width": 0.5
             },
             "pattern": {
              "fillmode": "overlay",
              "size": 10,
              "solidity": 0.2
             }
            },
            "type": "barpolar"
           }
          ],
          "carpet": [
           {
            "aaxis": {
             "endlinecolor": "#2a3f5f",
             "gridcolor": "white",
             "linecolor": "white",
             "minorgridcolor": "white",
             "startlinecolor": "#2a3f5f"
            },
            "baxis": {
             "endlinecolor": "#2a3f5f",
             "gridcolor": "white",
             "linecolor": "white",
             "minorgridcolor": "white",
             "startlinecolor": "#2a3f5f"
            },
            "type": "carpet"
           }
          ],
          "choropleth": [
           {
            "colorbar": {
             "outlinewidth": 0,
             "ticks": ""
            },
            "type": "choropleth"
           }
          ],
          "contour": [
           {
            "colorbar": {
             "outlinewidth": 0,
             "ticks": ""
            },
            "colorscale": [
             [
              0,
              "#0d0887"
             ],
             [
              0.1111111111111111,
              "#46039f"
             ],
             [
              0.2222222222222222,
              "#7201a8"
             ],
             [
              0.3333333333333333,
              "#9c179e"
             ],
             [
              0.4444444444444444,
              "#bd3786"
             ],
             [
              0.5555555555555556,
              "#d8576b"
             ],
             [
              0.6666666666666666,
              "#ed7953"
             ],
             [
              0.7777777777777778,
              "#fb9f3a"
             ],
             [
              0.8888888888888888,
              "#fdca26"
             ],
             [
              1,
              "#f0f921"
             ]
            ],
            "type": "contour"
           }
          ],
          "contourcarpet": [
           {
            "colorbar": {
             "outlinewidth": 0,
             "ticks": ""
            },
            "type": "contourcarpet"
           }
          ],
          "heatmap": [
           {
            "colorbar": {
             "outlinewidth": 0,
             "ticks": ""
            },
            "colorscale": [
             [
              0,
              "#0d0887"
             ],
             [
              0.1111111111111111,
              "#46039f"
             ],
             [
              0.2222222222222222,
              "#7201a8"
             ],
             [
              0.3333333333333333,
              "#9c179e"
             ],
             [
              0.4444444444444444,
              "#bd3786"
             ],
             [
              0.5555555555555556,
              "#d8576b"
             ],
             [
              0.6666666666666666,
              "#ed7953"
             ],
             [
              0.7777777777777778,
              "#fb9f3a"
             ],
             [
              0.8888888888888888,
              "#fdca26"
             ],
             [
              1,
              "#f0f921"
             ]
            ],
            "type": "heatmap"
           }
          ],
          "heatmapgl": [
           {
            "colorbar": {
             "outlinewidth": 0,
             "ticks": ""
            },
            "colorscale": [
             [
              0,
              "#0d0887"
             ],
             [
              0.1111111111111111,
              "#46039f"
             ],
             [
              0.2222222222222222,
              "#7201a8"
             ],
             [
              0.3333333333333333,
              "#9c179e"
             ],
             [
              0.4444444444444444,
              "#bd3786"
             ],
             [
              0.5555555555555556,
              "#d8576b"
             ],
             [
              0.6666666666666666,
              "#ed7953"
             ],
             [
              0.7777777777777778,
              "#fb9f3a"
             ],
             [
              0.8888888888888888,
              "#fdca26"
             ],
             [
              1,
              "#f0f921"
             ]
            ],
            "type": "heatmapgl"
           }
          ],
          "histogram": [
           {
            "marker": {
             "pattern": {
              "fillmode": "overlay",
              "size": 10,
              "solidity": 0.2
             }
            },
            "type": "histogram"
           }
          ],
          "histogram2d": [
           {
            "colorbar": {
             "outlinewidth": 0,
             "ticks": ""
            },
            "colorscale": [
             [
              0,
              "#0d0887"
             ],
             [
              0.1111111111111111,
              "#46039f"
             ],
             [
              0.2222222222222222,
              "#7201a8"
             ],
             [
              0.3333333333333333,
              "#9c179e"
             ],
             [
              0.4444444444444444,
              "#bd3786"
             ],
             [
              0.5555555555555556,
              "#d8576b"
             ],
             [
              0.6666666666666666,
              "#ed7953"
             ],
             [
              0.7777777777777778,
              "#fb9f3a"
             ],
             [
              0.8888888888888888,
              "#fdca26"
             ],
             [
              1,
              "#f0f921"
             ]
            ],
            "type": "histogram2d"
           }
          ],
          "histogram2dcontour": [
           {
            "colorbar": {
             "outlinewidth": 0,
             "ticks": ""
            },
            "colorscale": [
             [
              0,
              "#0d0887"
             ],
             [
              0.1111111111111111,
              "#46039f"
             ],
             [
              0.2222222222222222,
              "#7201a8"
             ],
             [
              0.3333333333333333,
              "#9c179e"
             ],
             [
              0.4444444444444444,
              "#bd3786"
             ],
             [
              0.5555555555555556,
              "#d8576b"
             ],
             [
              0.6666666666666666,
              "#ed7953"
             ],
             [
              0.7777777777777778,
              "#fb9f3a"
             ],
             [
              0.8888888888888888,
              "#fdca26"
             ],
             [
              1,
              "#f0f921"
             ]
            ],
            "type": "histogram2dcontour"
           }
          ],
          "mesh3d": [
           {
            "colorbar": {
             "outlinewidth": 0,
             "ticks": ""
            },
            "type": "mesh3d"
           }
          ],
          "parcoords": [
           {
            "line": {
             "colorbar": {
              "outlinewidth": 0,
              "ticks": ""
             }
            },
            "type": "parcoords"
           }
          ],
          "pie": [
           {
            "automargin": true,
            "type": "pie"
           }
          ],
          "scatter": [
           {
            "fillpattern": {
             "fillmode": "overlay",
             "size": 10,
             "solidity": 0.2
            },
            "type": "scatter"
           }
          ],
          "scatter3d": [
           {
            "line": {
             "colorbar": {
              "outlinewidth": 0,
              "ticks": ""
             }
            },
            "marker": {
             "colorbar": {
              "outlinewidth": 0,
              "ticks": ""
             }
            },
            "type": "scatter3d"
           }
          ],
          "scattercarpet": [
           {
            "marker": {
             "colorbar": {
              "outlinewidth": 0,
              "ticks": ""
             }
            },
            "type": "scattercarpet"
           }
          ],
          "scattergeo": [
           {
            "marker": {
             "colorbar": {
              "outlinewidth": 0,
              "ticks": ""
             }
            },
            "type": "scattergeo"
           }
          ],
          "scattergl": [
           {
            "marker": {
             "colorbar": {
              "outlinewidth": 0,
              "ticks": ""
             }
            },
            "type": "scattergl"
           }
          ],
          "scattermapbox": [
           {
            "marker": {
             "colorbar": {
              "outlinewidth": 0,
              "ticks": ""
             }
            },
            "type": "scattermapbox"
           }
          ],
          "scatterpolar": [
           {
            "marker": {
             "colorbar": {
              "outlinewidth": 0,
              "ticks": ""
             }
            },
            "type": "scatterpolar"
           }
          ],
          "scatterpolargl": [
           {
            "marker": {
             "colorbar": {
              "outlinewidth": 0,
              "ticks": ""
             }
            },
            "type": "scatterpolargl"
           }
          ],
          "scatterternary": [
           {
            "marker": {
             "colorbar": {
              "outlinewidth": 0,
              "ticks": ""
             }
            },
            "type": "scatterternary"
           }
          ],
          "surface": [
           {
            "colorbar": {
             "outlinewidth": 0,
             "ticks": ""
            },
            "colorscale": [
             [
              0,
              "#0d0887"
             ],
             [
              0.1111111111111111,
              "#46039f"
             ],
             [
              0.2222222222222222,
              "#7201a8"
             ],
             [
              0.3333333333333333,
              "#9c179e"
             ],
             [
              0.4444444444444444,
              "#bd3786"
             ],
             [
              0.5555555555555556,
              "#d8576b"
             ],
             [
              0.6666666666666666,
              "#ed7953"
             ],
             [
              0.7777777777777778,
              "#fb9f3a"
             ],
             [
              0.8888888888888888,
              "#fdca26"
             ],
             [
              1,
              "#f0f921"
             ]
            ],
            "type": "surface"
           }
          ],
          "table": [
           {
            "cells": {
             "fill": {
              "color": "#EBF0F8"
             },
             "line": {
              "color": "white"
             }
            },
            "header": {
             "fill": {
              "color": "#C8D4E3"
             },
             "line": {
              "color": "white"
             }
            },
            "type": "table"
           }
          ]
         },
         "layout": {
          "annotationdefaults": {
           "arrowcolor": "#2a3f5f",
           "arrowhead": 0,
           "arrowwidth": 1
          },
          "autotypenumbers": "strict",
          "coloraxis": {
           "colorbar": {
            "outlinewidth": 0,
            "ticks": ""
           }
          },
          "colorscale": {
           "diverging": [
            [
             0,
             "#8e0152"
            ],
            [
             0.1,
             "#c51b7d"
            ],
            [
             0.2,
             "#de77ae"
            ],
            [
             0.3,
             "#f1b6da"
            ],
            [
             0.4,
             "#fde0ef"
            ],
            [
             0.5,
             "#f7f7f7"
            ],
            [
             0.6,
             "#e6f5d0"
            ],
            [
             0.7,
             "#b8e186"
            ],
            [
             0.8,
             "#7fbc41"
            ],
            [
             0.9,
             "#4d9221"
            ],
            [
             1,
             "#276419"
            ]
           ],
           "sequential": [
            [
             0,
             "#0d0887"
            ],
            [
             0.1111111111111111,
             "#46039f"
            ],
            [
             0.2222222222222222,
             "#7201a8"
            ],
            [
             0.3333333333333333,
             "#9c179e"
            ],
            [
             0.4444444444444444,
             "#bd3786"
            ],
            [
             0.5555555555555556,
             "#d8576b"
            ],
            [
             0.6666666666666666,
             "#ed7953"
            ],
            [
             0.7777777777777778,
             "#fb9f3a"
            ],
            [
             0.8888888888888888,
             "#fdca26"
            ],
            [
             1,
             "#f0f921"
            ]
           ],
           "sequentialminus": [
            [
             0,
             "#0d0887"
            ],
            [
             0.1111111111111111,
             "#46039f"
            ],
            [
             0.2222222222222222,
             "#7201a8"
            ],
            [
             0.3333333333333333,
             "#9c179e"
            ],
            [
             0.4444444444444444,
             "#bd3786"
            ],
            [
             0.5555555555555556,
             "#d8576b"
            ],
            [
             0.6666666666666666,
             "#ed7953"
            ],
            [
             0.7777777777777778,
             "#fb9f3a"
            ],
            [
             0.8888888888888888,
             "#fdca26"
            ],
            [
             1,
             "#f0f921"
            ]
           ]
          },
          "colorway": [
           "#636efa",
           "#EF553B",
           "#00cc96",
           "#ab63fa",
           "#FFA15A",
           "#19d3f3",
           "#FF6692",
           "#B6E880",
           "#FF97FF",
           "#FECB52"
          ],
          "font": {
           "color": "#2a3f5f"
          },
          "geo": {
           "bgcolor": "white",
           "lakecolor": "white",
           "landcolor": "#E5ECF6",
           "showlakes": true,
           "showland": true,
           "subunitcolor": "white"
          },
          "hoverlabel": {
           "align": "left"
          },
          "hovermode": "closest",
          "mapbox": {
           "style": "light"
          },
          "paper_bgcolor": "white",
          "plot_bgcolor": "#E5ECF6",
          "polar": {
           "angularaxis": {
            "gridcolor": "white",
            "linecolor": "white",
            "ticks": ""
           },
           "bgcolor": "#E5ECF6",
           "radialaxis": {
            "gridcolor": "white",
            "linecolor": "white",
            "ticks": ""
           }
          },
          "scene": {
           "xaxis": {
            "backgroundcolor": "#E5ECF6",
            "gridcolor": "white",
            "gridwidth": 2,
            "linecolor": "white",
            "showbackground": true,
            "ticks": "",
            "zerolinecolor": "white"
           },
           "yaxis": {
            "backgroundcolor": "#E5ECF6",
            "gridcolor": "white",
            "gridwidth": 2,
            "linecolor": "white",
            "showbackground": true,
            "ticks": "",
            "zerolinecolor": "white"
           },
           "zaxis": {
            "backgroundcolor": "#E5ECF6",
            "gridcolor": "white",
            "gridwidth": 2,
            "linecolor": "white",
            "showbackground": true,
            "ticks": "",
            "zerolinecolor": "white"
           }
          },
          "shapedefaults": {
           "line": {
            "color": "#2a3f5f"
           }
          },
          "ternary": {
           "aaxis": {
            "gridcolor": "white",
            "linecolor": "white",
            "ticks": ""
           },
           "baxis": {
            "gridcolor": "white",
            "linecolor": "white",
            "ticks": ""
           },
           "bgcolor": "#E5ECF6",
           "caxis": {
            "gridcolor": "white",
            "linecolor": "white",
            "ticks": ""
           }
          },
          "title": {
           "x": 0.05
          },
          "xaxis": {
           "automargin": true,
           "gridcolor": "white",
           "linecolor": "white",
           "ticks": "",
           "title": {
            "standoff": 15
           },
           "zerolinecolor": "white",
           "zerolinewidth": 2
          },
          "yaxis": {
           "automargin": true,
           "gridcolor": "white",
           "linecolor": "white",
           "ticks": "",
           "title": {
            "standoff": 15
           },
           "zerolinecolor": "white",
           "zerolinewidth": 2
          }
         }
        },
        "xaxis": {
         "anchor": "y",
         "domain": [
          0,
          1
         ],
         "title": {
          "text": "stage"
         }
        },
        "yaxis": {
         "anchor": "x",
         "domain": [
          0,
          1
         ],
         "title": {
          "text": "duration"
         }
        }
       }
      }
     },
     "metadata": {},
     "output_type": "display_data"
    }
   ],
   "source": [
    "fig = px.bar(df_history, x=\"stage\", y=\"duration\", color=\"petname\", barmode=\"group\")\n",
    "\n",
    "fig.show()"
   ]
  },
  {
   "cell_type": "code",
   "execution_count": 19,
   "metadata": {},
   "outputs": [
    {
     "name": "stderr",
     "output_type": "stream",
     "text": [
      "C:\\Users\\lnae0002\\AppData\\Local\\Temp\\ipykernel_18028\\550369350.py:4: FutureWarning:\n",
      "\n",
      "The default value of numeric_only in DataFrameGroupBy.mean is deprecated. In a future version, numeric_only will default to False. Either specify numeric_only or select only columns which should be valid for the function.\n",
      "\n"
     ]
    },
    {
     "data": {
      "text/html": [
       "<div>\n",
       "<style scoped>\n",
       "    .dataframe tbody tr th:only-of-type {\n",
       "        vertical-align: middle;\n",
       "    }\n",
       "\n",
       "    .dataframe tbody tr th {\n",
       "        vertical-align: top;\n",
       "    }\n",
       "\n",
       "    .dataframe thead th {\n",
       "        text-align: right;\n",
       "    }\n",
       "</style>\n",
       "<table border=\"1\" class=\"dataframe\">\n",
       "  <thead>\n",
       "    <tr style=\"text-align: right;\">\n",
       "      <th></th>\n",
       "      <th>stage</th>\n",
       "      <th>petname</th>\n",
       "      <th>duration</th>\n",
       "    </tr>\n",
       "  </thead>\n",
       "  <tbody>\n",
       "    <tr>\n",
       "      <th>0</th>\n",
       "      <td>FiducialMilled</td>\n",
       "      <td>alert-prawn</td>\n",
       "      <td>21.845123</td>\n",
       "    </tr>\n",
       "    <tr>\n",
       "      <th>1</th>\n",
       "      <td>FiducialMilled</td>\n",
       "      <td>brief-lark</td>\n",
       "      <td>21.853174</td>\n",
       "    </tr>\n",
       "    <tr>\n",
       "      <th>2</th>\n",
       "      <td>FiducialMilled</td>\n",
       "      <td>fair-bison</td>\n",
       "      <td>21.849651</td>\n",
       "    </tr>\n",
       "    <tr>\n",
       "      <th>3</th>\n",
       "      <td>FiducialMilled</td>\n",
       "      <td>firm-bobcat</td>\n",
       "      <td>21.847729</td>\n",
       "    </tr>\n",
       "    <tr>\n",
       "      <th>4</th>\n",
       "      <td>FiducialMilled</td>\n",
       "      <td>grand-mouse</td>\n",
       "      <td>21.853731</td>\n",
       "    </tr>\n",
       "    <tr>\n",
       "      <th>5</th>\n",
       "      <td>PolishingCut</td>\n",
       "      <td>alert-prawn</td>\n",
       "      <td>0.518324</td>\n",
       "    </tr>\n",
       "    <tr>\n",
       "      <th>6</th>\n",
       "      <td>PolishingCut</td>\n",
       "      <td>brief-lark</td>\n",
       "      <td>89.987437</td>\n",
       "    </tr>\n",
       "    <tr>\n",
       "      <th>7</th>\n",
       "      <td>PolishingCut</td>\n",
       "      <td>fair-bison</td>\n",
       "      <td>22.878284</td>\n",
       "    </tr>\n",
       "    <tr>\n",
       "      <th>8</th>\n",
       "      <td>PolishingCut</td>\n",
       "      <td>firm-bobcat</td>\n",
       "      <td>45.243562</td>\n",
       "    </tr>\n",
       "    <tr>\n",
       "      <th>9</th>\n",
       "      <td>PolishingCut</td>\n",
       "      <td>grand-mouse</td>\n",
       "      <td>67.633583</td>\n",
       "    </tr>\n",
       "    <tr>\n",
       "      <th>10</th>\n",
       "      <td>RegularCut</td>\n",
       "      <td>alert-prawn</td>\n",
       "      <td>21.876809</td>\n",
       "    </tr>\n",
       "    <tr>\n",
       "      <th>11</th>\n",
       "      <td>RegularCut</td>\n",
       "      <td>brief-lark</td>\n",
       "      <td>21.877053</td>\n",
       "    </tr>\n",
       "    <tr>\n",
       "      <th>12</th>\n",
       "      <td>RegularCut</td>\n",
       "      <td>fair-bison</td>\n",
       "      <td>21.877206</td>\n",
       "    </tr>\n",
       "    <tr>\n",
       "      <th>13</th>\n",
       "      <td>RegularCut</td>\n",
       "      <td>firm-bobcat</td>\n",
       "      <td>21.892094</td>\n",
       "    </tr>\n",
       "    <tr>\n",
       "      <th>14</th>\n",
       "      <td>RegularCut</td>\n",
       "      <td>grand-mouse</td>\n",
       "      <td>21.885132</td>\n",
       "    </tr>\n",
       "    <tr>\n",
       "      <th>15</th>\n",
       "      <td>RoughCut</td>\n",
       "      <td>alert-prawn</td>\n",
       "      <td>21.854846</td>\n",
       "    </tr>\n",
       "    <tr>\n",
       "      <th>16</th>\n",
       "      <td>RoughCut</td>\n",
       "      <td>brief-lark</td>\n",
       "      <td>21.829996</td>\n",
       "    </tr>\n",
       "    <tr>\n",
       "      <th>17</th>\n",
       "      <td>RoughCut</td>\n",
       "      <td>fair-bison</td>\n",
       "      <td>21.859820</td>\n",
       "    </tr>\n",
       "    <tr>\n",
       "      <th>18</th>\n",
       "      <td>RoughCut</td>\n",
       "      <td>firm-bobcat</td>\n",
       "      <td>21.843569</td>\n",
       "    </tr>\n",
       "    <tr>\n",
       "      <th>19</th>\n",
       "      <td>RoughCut</td>\n",
       "      <td>grand-mouse</td>\n",
       "      <td>21.826576</td>\n",
       "    </tr>\n",
       "    <tr>\n",
       "      <th>20</th>\n",
       "      <td>Setup</td>\n",
       "      <td>alert-prawn</td>\n",
       "      <td>21.019316</td>\n",
       "    </tr>\n",
       "    <tr>\n",
       "      <th>21</th>\n",
       "      <td>Setup</td>\n",
       "      <td>brief-lark</td>\n",
       "      <td>21.021115</td>\n",
       "    </tr>\n",
       "    <tr>\n",
       "      <th>22</th>\n",
       "      <td>Setup</td>\n",
       "      <td>fair-bison</td>\n",
       "      <td>21.018004</td>\n",
       "    </tr>\n",
       "    <tr>\n",
       "      <th>23</th>\n",
       "      <td>Setup</td>\n",
       "      <td>firm-bobcat</td>\n",
       "      <td>21.017917</td>\n",
       "    </tr>\n",
       "    <tr>\n",
       "      <th>24</th>\n",
       "      <td>Setup</td>\n",
       "      <td>grand-mouse</td>\n",
       "      <td>21.016356</td>\n",
       "    </tr>\n",
       "  </tbody>\n",
       "</table>\n",
       "</div>"
      ],
      "text/plain": [
       "             stage      petname   duration\n",
       "0   FiducialMilled  alert-prawn  21.845123\n",
       "1   FiducialMilled   brief-lark  21.853174\n",
       "2   FiducialMilled   fair-bison  21.849651\n",
       "3   FiducialMilled  firm-bobcat  21.847729\n",
       "4   FiducialMilled  grand-mouse  21.853731\n",
       "5     PolishingCut  alert-prawn   0.518324\n",
       "6     PolishingCut   brief-lark  89.987437\n",
       "7     PolishingCut   fair-bison  22.878284\n",
       "8     PolishingCut  firm-bobcat  45.243562\n",
       "9     PolishingCut  grand-mouse  67.633583\n",
       "10      RegularCut  alert-prawn  21.876809\n",
       "11      RegularCut   brief-lark  21.877053\n",
       "12      RegularCut   fair-bison  21.877206\n",
       "13      RegularCut  firm-bobcat  21.892094\n",
       "14      RegularCut  grand-mouse  21.885132\n",
       "15        RoughCut  alert-prawn  21.854846\n",
       "16        RoughCut   brief-lark  21.829996\n",
       "17        RoughCut   fair-bison  21.859820\n",
       "18        RoughCut  firm-bobcat  21.843569\n",
       "19        RoughCut  grand-mouse  21.826576\n",
       "20           Setup  alert-prawn  21.019316\n",
       "21           Setup   brief-lark  21.021115\n",
       "22           Setup   fair-bison  21.018004\n",
       "23           Setup  firm-bobcat  21.017917\n",
       "24           Setup  grand-mouse  21.016356"
      ]
     },
     "metadata": {},
     "output_type": "display_data"
    }
   ],
   "source": [
    "# display(df_history)\n",
    "df_history[\"duration\"].mean()\n",
    "\n",
    "df_sorted = df_history.groupby([\"stage\", \"petname\"]).mean()\n",
    "df_sorted.drop(columns=[\"start\", \"end\"], inplace=True)\n",
    "df_sorted.reset_index(inplace=True)\n",
    "display(df_sorted)\n"
   ]
  },
  {
   "cell_type": "code",
   "execution_count": 15,
   "metadata": {},
   "outputs": [
    {
     "data": {
      "text/html": [
       "<div>\n",
       "<style scoped>\n",
       "    .dataframe tbody tr th:only-of-type {\n",
       "        vertical-align: middle;\n",
       "    }\n",
       "\n",
       "    .dataframe tbody tr th {\n",
       "        vertical-align: top;\n",
       "    }\n",
       "\n",
       "    .dataframe thead th {\n",
       "        text-align: right;\n",
       "    }\n",
       "</style>\n",
       "<table border=\"1\" class=\"dataframe\">\n",
       "  <thead>\n",
       "    <tr style=\"text-align: right;\">\n",
       "      <th></th>\n",
       "      <th>x</th>\n",
       "      <th>y</th>\n",
       "      <th>petname</th>\n",
       "    </tr>\n",
       "  </thead>\n",
       "  <tbody>\n",
       "    <tr>\n",
       "      <th>0</th>\n",
       "      <td>0.000000</td>\n",
       "      <td>0.000000</td>\n",
       "      <td>sought-pug</td>\n",
       "    </tr>\n",
       "    <tr>\n",
       "      <th>1</th>\n",
       "      <td>0.000016</td>\n",
       "      <td>0.000007</td>\n",
       "      <td>loved-tapir</td>\n",
       "    </tr>\n",
       "    <tr>\n",
       "      <th>2</th>\n",
       "      <td>0.000016</td>\n",
       "      <td>0.000007</td>\n",
       "      <td>valued-ocelot</td>\n",
       "    </tr>\n",
       "    <tr>\n",
       "      <th>3</th>\n",
       "      <td>0.000016</td>\n",
       "      <td>0.000007</td>\n",
       "      <td>cute-wolf</td>\n",
       "    </tr>\n",
       "  </tbody>\n",
       "</table>\n",
       "</div>"
      ],
      "text/plain": [
       "          x         y        petname\n",
       "0  0.000000  0.000000     sought-pug\n",
       "1  0.000016  0.000007    loved-tapir\n",
       "2  0.000016  0.000007  valued-ocelot\n",
       "3  0.000016  0.000007      cute-wolf"
      ]
     },
     "metadata": {},
     "output_type": "display_data"
    },
    {
     "data": {
      "application/vnd.plotly.v1+json": {
       "config": {
        "plotlyServerURL": "https://plot.ly"
       },
       "data": [
        {
         "hovertemplate": "petname=sought-pug<br>x=%{x}<br>y=%{y}<extra></extra>",
         "legendgroup": "sought-pug",
         "marker": {
          "color": "#000001",
          "symbol": "circle"
         },
         "mode": "markers",
         "name": "sought-pug",
         "orientation": "v",
         "showlegend": true,
         "type": "scatter",
         "x": [
          0
         ],
         "xaxis": "x",
         "y": [
          0
         ],
         "yaxis": "y"
        },
        {
         "hovertemplate": "petname=loved-tapir<br>x=%{x}<br>y=%{y}<extra></extra>",
         "legendgroup": "loved-tapir",
         "marker": {
          "color": "#000002",
          "symbol": "circle"
         },
         "mode": "markers",
         "name": "loved-tapir",
         "orientation": "v",
         "showlegend": true,
         "type": "scatter",
         "x": [
          0.000015960651838178607
         ],
         "xaxis": "x",
         "y": [
          0.00000653935202508558
         ],
         "yaxis": "y"
        },
        {
         "hovertemplate": "petname=valued-ocelot<br>x=%{x}<br>y=%{y}<extra></extra>",
         "legendgroup": "valued-ocelot",
         "marker": {
          "color": "#000003",
          "symbol": "circle"
         },
         "mode": "markers",
         "name": "valued-ocelot",
         "orientation": "v",
         "showlegend": true,
         "type": "scatter",
         "x": [
          0.000015960651838178607
         ],
         "xaxis": "x",
         "y": [
          0.00000653935202508558
         ],
         "yaxis": "y"
        },
        {
         "hovertemplate": "petname=cute-wolf<br>x=%{x}<br>y=%{y}<extra></extra>",
         "legendgroup": "cute-wolf",
         "marker": {
          "color": "#000004",
          "symbol": "circle"
         },
         "mode": "markers",
         "name": "cute-wolf",
         "orientation": "v",
         "showlegend": true,
         "type": "scatter",
         "x": [
          0.000015960651838178607
         ],
         "xaxis": "x",
         "y": [
          0.00000653935202508558
         ],
         "yaxis": "y"
        }
       ],
       "layout": {
        "legend": {
         "title": {
          "text": "petname"
         },
         "tracegroupgap": 0
        },
        "margin": {
         "t": 60
        },
        "template": {
         "data": {
          "candlestick": [
           {
            "decreasing": {
             "line": {
              "color": "#000033"
             }
            },
            "increasing": {
             "line": {
              "color": "#000032"
             }
            },
            "type": "candlestick"
           }
          ],
          "contour": [
           {
            "colorscale": [
             [
              0,
              "#000011"
             ],
             [
              0.1111111111111111,
              "#000012"
             ],
             [
              0.2222222222222222,
              "#000013"
             ],
             [
              0.3333333333333333,
              "#000014"
             ],
             [
              0.4444444444444444,
              "#000015"
             ],
             [
              0.5555555555555556,
              "#000016"
             ],
             [
              0.6666666666666666,
              "#000017"
             ],
             [
              0.7777777777777778,
              "#000018"
             ],
             [
              0.8888888888888888,
              "#000019"
             ],
             [
              1,
              "#000020"
             ]
            ],
            "type": "contour"
           }
          ],
          "contourcarpet": [
           {
            "colorscale": [
             [
              0,
              "#000011"
             ],
             [
              0.1111111111111111,
              "#000012"
             ],
             [
              0.2222222222222222,
              "#000013"
             ],
             [
              0.3333333333333333,
              "#000014"
             ],
             [
              0.4444444444444444,
              "#000015"
             ],
             [
              0.5555555555555556,
              "#000016"
             ],
             [
              0.6666666666666666,
              "#000017"
             ],
             [
              0.7777777777777778,
              "#000018"
             ],
             [
              0.8888888888888888,
              "#000019"
             ],
             [
              1,
              "#000020"
             ]
            ],
            "type": "contourcarpet"
           }
          ],
          "heatmap": [
           {
            "colorscale": [
             [
              0,
              "#000011"
             ],
             [
              0.1111111111111111,
              "#000012"
             ],
             [
              0.2222222222222222,
              "#000013"
             ],
             [
              0.3333333333333333,
              "#000014"
             ],
             [
              0.4444444444444444,
              "#000015"
             ],
             [
              0.5555555555555556,
              "#000016"
             ],
             [
              0.6666666666666666,
              "#000017"
             ],
             [
              0.7777777777777778,
              "#000018"
             ],
             [
              0.8888888888888888,
              "#000019"
             ],
             [
              1,
              "#000020"
             ]
            ],
            "type": "heatmap"
           }
          ],
          "histogram2d": [
           {
            "colorscale": [
             [
              0,
              "#000011"
             ],
             [
              0.1111111111111111,
              "#000012"
             ],
             [
              0.2222222222222222,
              "#000013"
             ],
             [
              0.3333333333333333,
              "#000014"
             ],
             [
              0.4444444444444444,
              "#000015"
             ],
             [
              0.5555555555555556,
              "#000016"
             ],
             [
              0.6666666666666666,
              "#000017"
             ],
             [
              0.7777777777777778,
              "#000018"
             ],
             [
              0.8888888888888888,
              "#000019"
             ],
             [
              1,
              "#000020"
             ]
            ],
            "type": "histogram2d"
           }
          ],
          "icicle": [
           {
            "textfont": {
             "color": "white"
            },
            "type": "icicle"
           }
          ],
          "sankey": [
           {
            "textfont": {
             "color": "#000036"
            },
            "type": "sankey"
           }
          ],
          "scatter": [
           {
            "marker": {
             "line": {
              "width": 0
             }
            },
            "type": "scatter"
           }
          ],
          "table": [
           {
            "cells": {
             "fill": {
              "color": "#000038"
             },
             "font": {
              "color": "#000037"
             },
             "line": {
              "color": "#000039"
             }
            },
            "header": {
             "fill": {
              "color": "#000040"
             },
             "font": {
              "color": "#000036"
             },
             "line": {
              "color": "#000039"
             }
            },
            "type": "table"
           }
          ],
          "waterfall": [
           {
            "connector": {
             "line": {
              "color": "#000036",
              "width": 2
             }
            },
            "decreasing": {
             "marker": {
              "color": "#000033"
             }
            },
            "increasing": {
             "marker": {
              "color": "#000032"
             }
            },
            "totals": {
             "marker": {
              "color": "#000034"
             }
            },
            "type": "waterfall"
           }
          ]
         },
         "layout": {
          "coloraxis": {
           "colorscale": [
            [
             0,
             "#000011"
            ],
            [
             0.1111111111111111,
             "#000012"
            ],
            [
             0.2222222222222222,
             "#000013"
            ],
            [
             0.3333333333333333,
             "#000014"
            ],
            [
             0.4444444444444444,
             "#000015"
            ],
            [
             0.5555555555555556,
             "#000016"
            ],
            [
             0.6666666666666666,
             "#000017"
            ],
            [
             0.7777777777777778,
             "#000018"
            ],
            [
             0.8888888888888888,
             "#000019"
            ],
            [
             1,
             "#000020"
            ]
           ]
          },
          "colorscale": {
           "diverging": [
            [
             0,
             "#000021"
            ],
            [
             0.1,
             "#000022"
            ],
            [
             0.2,
             "#000023"
            ],
            [
             0.3,
             "#000024"
            ],
            [
             0.4,
             "#000025"
            ],
            [
             0.5,
             "#000026"
            ],
            [
             0.6,
             "#000027"
            ],
            [
             0.7,
             "#000028"
            ],
            [
             0.8,
             "#000029"
            ],
            [
             0.9,
             "#000030"
            ],
            [
             1,
             "#000031"
            ]
           ],
           "sequential": [
            [
             0,
             "#000011"
            ],
            [
             0.1111111111111111,
             "#000012"
            ],
            [
             0.2222222222222222,
             "#000013"
            ],
            [
             0.3333333333333333,
             "#000014"
            ],
            [
             0.4444444444444444,
             "#000015"
            ],
            [
             0.5555555555555556,
             "#000016"
            ],
            [
             0.6666666666666666,
             "#000017"
            ],
            [
             0.7777777777777778,
             "#000018"
            ],
            [
             0.8888888888888888,
             "#000019"
            ],
            [
             1,
             "#000020"
            ]
           ],
           "sequentialminus": [
            [
             0,
             "#000011"
            ],
            [
             0.1111111111111111,
             "#000012"
            ],
            [
             0.2222222222222222,
             "#000013"
            ],
            [
             0.3333333333333333,
             "#000014"
            ],
            [
             0.4444444444444444,
             "#000015"
            ],
            [
             0.5555555555555556,
             "#000016"
            ],
            [
             0.6666666666666666,
             "#000017"
            ],
            [
             0.7777777777777778,
             "#000018"
            ],
            [
             0.8888888888888888,
             "#000019"
            ],
            [
             1,
             "#000020"
            ]
           ]
          },
          "colorway": [
           "#000001",
           "#000002",
           "#000003",
           "#000004",
           "#000005",
           "#000006",
           "#000007",
           "#000008",
           "#000009",
           "#000010"
          ]
         }
        },
        "xaxis": {
         "anchor": "y",
         "domain": [
          0,
          1
         ],
         "title": {
          "text": "x"
         }
        },
        "yaxis": {
         "anchor": "x",
         "domain": [
          0,
          1
         ],
         "title": {
          "text": "y"
         }
        }
       }
      }
     },
     "metadata": {},
     "output_type": "display_data"
    }
   ],
   "source": [
    "points = pd.DataFrame(df_sample[\"lamella.centre\"].tolist(), columns=[\"x\", \"y\"])\n",
    "points[\"petname\"] = df_history[\"petname\"].unique()\n",
    "display(points)\n",
    "fig = px.scatter(points, x=\"x\", y='y', color=\"petname\")\n",
    "fig.show()"
   ]
  },
  {
   "cell_type": "code",
   "execution_count": 18,
   "metadata": {},
   "outputs": [
    {
     "data": {
      "application/vnd.plotly.v1+json": {
       "config": {
        "plotlyServerURL": "https://plot.ly"
       },
       "data": [
        {
         "hovertemplate": "petname=sought-pug<br>lamella.x=%{x}<br>lamella.y=%{y}<br>lamella.z=%{z}<extra></extra>",
         "legendgroup": "sought-pug",
         "marker": {
          "color": "#000001",
          "symbol": "circle"
         },
         "mode": "markers",
         "name": "sought-pug",
         "scene": "scene",
         "showlegend": true,
         "type": "scatter3d",
         "x": [
          0.0060214759999999996
         ],
         "y": [
          0.002947516
         ],
         "z": [
          0.0601926
         ]
        },
        {
         "hovertemplate": "petname=loved-tapir<br>lamella.x=%{x}<br>lamella.y=%{y}<br>lamella.z=%{z}<extra></extra>",
         "legendgroup": "loved-tapir",
         "marker": {
          "color": "#000002",
          "symbol": "circle"
         },
         "mode": "markers",
         "name": "loved-tapir",
         "scene": "scene",
         "showlegend": true,
         "type": "scatter3d",
         "x": [
          0.0060214759999999996
         ],
         "y": [
          0.002947516
         ],
         "z": [
          0.0601926
         ]
        },
        {
         "hovertemplate": "petname=valued-ocelot<br>lamella.x=%{x}<br>lamella.y=%{y}<br>lamella.z=%{z}<extra></extra>",
         "legendgroup": "valued-ocelot",
         "marker": {
          "color": "#000003",
          "symbol": "circle"
         },
         "mode": "markers",
         "name": "valued-ocelot",
         "scene": "scene",
         "showlegend": true,
         "type": "scatter3d",
         "x": [
          0.0060214759999999996
         ],
         "y": [
          0.002947516
         ],
         "z": [
          0.0601926
         ]
        },
        {
         "hovertemplate": "petname=cute-wolf<br>lamella.x=%{x}<br>lamella.y=%{y}<br>lamella.z=%{z}<extra></extra>",
         "legendgroup": "cute-wolf",
         "marker": {
          "color": "#000004",
          "symbol": "circle"
         },
         "mode": "markers",
         "name": "cute-wolf",
         "scene": "scene",
         "showlegend": true,
         "type": "scatter3d",
         "x": [
          0.0060214759999999996
         ],
         "y": [
          0.002947516
         ],
         "z": [
          0.0601926
         ]
        }
       ],
       "layout": {
        "legend": {
         "title": {
          "text": "petname"
         },
         "tracegroupgap": 0
        },
        "margin": {
         "t": 60
        },
        "scene": {
         "domain": {
          "x": [
           0,
           1
          ],
          "y": [
           0,
           1
          ]
         },
         "xaxis": {
          "title": {
           "text": "lamella.x"
          }
         },
         "yaxis": {
          "title": {
           "text": "lamella.y"
          }
         },
         "zaxis": {
          "title": {
           "text": "lamella.z"
          }
         }
        },
        "template": {
         "data": {
          "candlestick": [
           {
            "decreasing": {
             "line": {
              "color": "#000033"
             }
            },
            "increasing": {
             "line": {
              "color": "#000032"
             }
            },
            "type": "candlestick"
           }
          ],
          "contour": [
           {
            "colorscale": [
             [
              0,
              "#000011"
             ],
             [
              0.1111111111111111,
              "#000012"
             ],
             [
              0.2222222222222222,
              "#000013"
             ],
             [
              0.3333333333333333,
              "#000014"
             ],
             [
              0.4444444444444444,
              "#000015"
             ],
             [
              0.5555555555555556,
              "#000016"
             ],
             [
              0.6666666666666666,
              "#000017"
             ],
             [
              0.7777777777777778,
              "#000018"
             ],
             [
              0.8888888888888888,
              "#000019"
             ],
             [
              1,
              "#000020"
             ]
            ],
            "type": "contour"
           }
          ],
          "contourcarpet": [
           {
            "colorscale": [
             [
              0,
              "#000011"
             ],
             [
              0.1111111111111111,
              "#000012"
             ],
             [
              0.2222222222222222,
              "#000013"
             ],
             [
              0.3333333333333333,
              "#000014"
             ],
             [
              0.4444444444444444,
              "#000015"
             ],
             [
              0.5555555555555556,
              "#000016"
             ],
             [
              0.6666666666666666,
              "#000017"
             ],
             [
              0.7777777777777778,
              "#000018"
             ],
             [
              0.8888888888888888,
              "#000019"
             ],
             [
              1,
              "#000020"
             ]
            ],
            "type": "contourcarpet"
           }
          ],
          "heatmap": [
           {
            "colorscale": [
             [
              0,
              "#000011"
             ],
             [
              0.1111111111111111,
              "#000012"
             ],
             [
              0.2222222222222222,
              "#000013"
             ],
             [
              0.3333333333333333,
              "#000014"
             ],
             [
              0.4444444444444444,
              "#000015"
             ],
             [
              0.5555555555555556,
              "#000016"
             ],
             [
              0.6666666666666666,
              "#000017"
             ],
             [
              0.7777777777777778,
              "#000018"
             ],
             [
              0.8888888888888888,
              "#000019"
             ],
             [
              1,
              "#000020"
             ]
            ],
            "type": "heatmap"
           }
          ],
          "histogram2d": [
           {
            "colorscale": [
             [
              0,
              "#000011"
             ],
             [
              0.1111111111111111,
              "#000012"
             ],
             [
              0.2222222222222222,
              "#000013"
             ],
             [
              0.3333333333333333,
              "#000014"
             ],
             [
              0.4444444444444444,
              "#000015"
             ],
             [
              0.5555555555555556,
              "#000016"
             ],
             [
              0.6666666666666666,
              "#000017"
             ],
             [
              0.7777777777777778,
              "#000018"
             ],
             [
              0.8888888888888888,
              "#000019"
             ],
             [
              1,
              "#000020"
             ]
            ],
            "type": "histogram2d"
           }
          ],
          "icicle": [
           {
            "textfont": {
             "color": "white"
            },
            "type": "icicle"
           }
          ],
          "sankey": [
           {
            "textfont": {
             "color": "#000036"
            },
            "type": "sankey"
           }
          ],
          "scatter": [
           {
            "marker": {
             "line": {
              "width": 0
             }
            },
            "type": "scatter"
           }
          ],
          "table": [
           {
            "cells": {
             "fill": {
              "color": "#000038"
             },
             "font": {
              "color": "#000037"
             },
             "line": {
              "color": "#000039"
             }
            },
            "header": {
             "fill": {
              "color": "#000040"
             },
             "font": {
              "color": "#000036"
             },
             "line": {
              "color": "#000039"
             }
            },
            "type": "table"
           }
          ],
          "waterfall": [
           {
            "connector": {
             "line": {
              "color": "#000036",
              "width": 2
             }
            },
            "decreasing": {
             "marker": {
              "color": "#000033"
             }
            },
            "increasing": {
             "marker": {
              "color": "#000032"
             }
            },
            "totals": {
             "marker": {
              "color": "#000034"
             }
            },
            "type": "waterfall"
           }
          ]
         },
         "layout": {
          "coloraxis": {
           "colorscale": [
            [
             0,
             "#000011"
            ],
            [
             0.1111111111111111,
             "#000012"
            ],
            [
             0.2222222222222222,
             "#000013"
            ],
            [
             0.3333333333333333,
             "#000014"
            ],
            [
             0.4444444444444444,
             "#000015"
            ],
            [
             0.5555555555555556,
             "#000016"
            ],
            [
             0.6666666666666666,
             "#000017"
            ],
            [
             0.7777777777777778,
             "#000018"
            ],
            [
             0.8888888888888888,
             "#000019"
            ],
            [
             1,
             "#000020"
            ]
           ]
          },
          "colorscale": {
           "diverging": [
            [
             0,
             "#000021"
            ],
            [
             0.1,
             "#000022"
            ],
            [
             0.2,
             "#000023"
            ],
            [
             0.3,
             "#000024"
            ],
            [
             0.4,
             "#000025"
            ],
            [
             0.5,
             "#000026"
            ],
            [
             0.6,
             "#000027"
            ],
            [
             0.7,
             "#000028"
            ],
            [
             0.8,
             "#000029"
            ],
            [
             0.9,
             "#000030"
            ],
            [
             1,
             "#000031"
            ]
           ],
           "sequential": [
            [
             0,
             "#000011"
            ],
            [
             0.1111111111111111,
             "#000012"
            ],
            [
             0.2222222222222222,
             "#000013"
            ],
            [
             0.3333333333333333,
             "#000014"
            ],
            [
             0.4444444444444444,
             "#000015"
            ],
            [
             0.5555555555555556,
             "#000016"
            ],
            [
             0.6666666666666666,
             "#000017"
            ],
            [
             0.7777777777777778,
             "#000018"
            ],
            [
             0.8888888888888888,
             "#000019"
            ],
            [
             1,
             "#000020"
            ]
           ],
           "sequentialminus": [
            [
             0,
             "#000011"
            ],
            [
             0.1111111111111111,
             "#000012"
            ],
            [
             0.2222222222222222,
             "#000013"
            ],
            [
             0.3333333333333333,
             "#000014"
            ],
            [
             0.4444444444444444,
             "#000015"
            ],
            [
             0.5555555555555556,
             "#000016"
            ],
            [
             0.6666666666666666,
             "#000017"
            ],
            [
             0.7777777777777778,
             "#000018"
            ],
            [
             0.8888888888888888,
             "#000019"
            ],
            [
             1,
             "#000020"
            ]
           ]
          },
          "colorway": [
           "#000001",
           "#000002",
           "#000003",
           "#000004",
           "#000005",
           "#000006",
           "#000007",
           "#000008",
           "#000009",
           "#000010"
          ]
         }
        }
       }
      }
     },
     "metadata": {},
     "output_type": "display_data"
    }
   ],
   "source": [
    "df_sample[\"petname\"] = df_history[\"petname\"].unique()\n",
    "fig = px.scatter_3d(df_sample, x=\"lamella.x\", y='lamella.y', z='lamella.z', color=\"petname\")\n",
    "fig.show()"
   ]
  }
 ],
 "metadata": {
  "kernelspec": {
   "display_name": "Python 3",
   "language": "python",
   "name": "python3"
  },
  "language_info": {
   "codemirror_mode": {
    "name": "ipython",
    "version": 3
   },
   "file_extension": ".py",
   "mimetype": "text/x-python",
   "name": "python",
   "nbconvert_exporter": "python",
   "pygments_lexer": "ipython3",
   "version": "3.9.16"
  },
  "orig_nbformat": 4
 },
 "nbformat": 4,
 "nbformat_minor": 2
}
