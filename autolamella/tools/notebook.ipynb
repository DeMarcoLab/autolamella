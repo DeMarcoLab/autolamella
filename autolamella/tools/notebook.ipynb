{
 "cells": [
  {
   "cell_type": "code",
   "execution_count": 1,
   "metadata": {},
   "outputs": [],
   "source": [
    "%load_ext autoreload\n",
    "%autoreload 2\n",
    "\n",
    "import os\n",
    "import sys\n",
    "import stats\n",
    "import plotly.express as px\n"
   ]
  },
  {
   "cell_type": "code",
   "execution_count": 4,
   "metadata": {},
   "outputs": [
    {
     "name": "stdout",
     "output_type": "stream",
     "text": [
      "--------------------------------------------------------------------------------\n",
      "STATUS | 01-brief-lark | Setup | LAMELLA_ADDED\n",
      "{'lamella': '01-brief-lark', 'stage': 'Setup', 'step': 'LAMELLA_ADDED', 'timestamp': 1683601721.0, 'step_n': 0}\n",
      "STATUS | 01-brief-lark | Setup | MILLING_FIDUCIAL\n",
      "{'lamella': '01-brief-lark', 'stage': 'Setup', 'step': 'MILLING_FIDUCIAL', 'timestamp': 1683601723.0, 'step_n': 1}\n",
      "STATUS | 01-brief-lark | FiducialMilled | FIDUCIAL_MILLED_SUCCESSFULLY\n",
      "{'lamella': '01-brief-lark', 'stage': 'FiducialMilled', 'step': 'FIDUCIAL_MILLED_SUCCESSFULLY', 'timestamp': 1683601744.0, 'step_n': 2}\n",
      "STATUS | 02-grand-mouse | Setup | LAMELLA_ADDED\n",
      "{'lamella': '02-grand-mouse', 'stage': 'Setup', 'step': 'LAMELLA_ADDED', 'timestamp': 1683601777.0, 'step_n': 3}\n",
      "STATUS | 02-grand-mouse | Setup | MILLING_FIDUCIAL\n",
      "{'lamella': '02-grand-mouse', 'stage': 'Setup', 'step': 'MILLING_FIDUCIAL', 'timestamp': 1683601779.0, 'step_n': 4}\n",
      "STATUS | 02-grand-mouse | FiducialMilled | FIDUCIAL_MILLED_SUCCESSFULLY\n",
      "{'lamella': '02-grand-mouse', 'stage': 'FiducialMilled', 'step': 'FIDUCIAL_MILLED_SUCCESSFULLY', 'timestamp': 1683601800.0, 'step_n': 5}\n",
      "STATUS | 03-firm-bobcat | Setup | LAMELLA_ADDED\n",
      "{'lamella': '03-firm-bobcat', 'stage': 'Setup', 'step': 'LAMELLA_ADDED', 'timestamp': 1683601936.0, 'step_n': 6}\n",
      "STATUS | 03-firm-bobcat | Setup | MILLING_FIDUCIAL\n",
      "{'lamella': '03-firm-bobcat', 'stage': 'Setup', 'step': 'MILLING_FIDUCIAL', 'timestamp': 1683601939.0, 'step_n': 7}\n",
      "STATUS | 03-firm-bobcat | FiducialMilled | FIDUCIAL_MILLED_SUCCESSFULLY\n",
      "{'lamella': '03-firm-bobcat', 'stage': 'FiducialMilled', 'step': 'FIDUCIAL_MILLED_SUCCESSFULLY', 'timestamp': 1683601960.0, 'step_n': 8}\n",
      "STATUS | 04-fair-bison | Setup | LAMELLA_ADDED\n",
      "{'lamella': '04-fair-bison', 'stage': 'Setup', 'step': 'LAMELLA_ADDED', 'timestamp': 1683601983.0, 'step_n': 9}\n",
      "STATUS | 04-fair-bison | Setup | MILLING_FIDUCIAL\n",
      "{'lamella': '04-fair-bison', 'stage': 'Setup', 'step': 'MILLING_FIDUCIAL', 'timestamp': 1683601985.0, 'step_n': 10}\n",
      "STATUS | 04-fair-bison | FiducialMilled | FIDUCIAL_MILLED_SUCCESSFULLY\n",
      "{'lamella': '04-fair-bison', 'stage': 'FiducialMilled', 'step': 'FIDUCIAL_MILLED_SUCCESSFULLY', 'timestamp': 1683602006.0, 'step_n': 11}\n",
      "STATUS | 05-alert-prawn | Setup | LAMELLA_ADDED\n",
      "{'lamella': '05-alert-prawn', 'stage': 'Setup', 'step': 'LAMELLA_ADDED', 'timestamp': 1683602083.0, 'step_n': 12}\n",
      "STATUS | 05-alert-prawn | Setup | MILLING_FIDUCIAL\n",
      "{'lamella': '05-alert-prawn', 'stage': 'Setup', 'step': 'MILLING_FIDUCIAL', 'timestamp': 1683602086.0, 'step_n': 13}\n",
      "STATUS | 05-alert-prawn | FiducialMilled | FIDUCIAL_MILLED_SUCCESSFULLY\n",
      "{'lamella': '05-alert-prawn', 'stage': 'FiducialMilled', 'step': 'FIDUCIAL_MILLED_SUCCESSFULLY', 'timestamp': 1683602107.0, 'step_n': 14}\n",
      "STATUS | 01-brief-lark | FiducialMilled | MOVING_TO_POSITION\n",
      "{'lamella': '01-brief-lark', 'stage': 'FiducialMilled', 'step': 'MOVING_TO_POSITION', 'timestamp': 1683604945.0, 'step_n': 15}\n",
      "STATUS | 01-brief-lark | FiducialMilled | BEAM_ALIGNMENT\n",
      "{'lamella': '01-brief-lark', 'stage': 'FiducialMilled', 'step': 'BEAM_ALIGNMENT', 'timestamp': 1683604945.0, 'step_n': 16}\n",
      "STATUS | 01-brief-lark | FiducialMilled | BEAM_ALIGNMENT\n",
      "{'lamella': '01-brief-lark', 'stage': 'FiducialMilled', 'step': 'BEAM_ALIGNMENT', 'timestamp': 1683604946.0, 'step_n': 17}\n",
      "STATUS | 01-brief-lark | FiducialMilled | BEAM_ALIGNMENT\n",
      "{'lamella': '01-brief-lark', 'stage': 'FiducialMilled', 'step': 'BEAM_ALIGNMENT', 'timestamp': 1683604946.0, 'step_n': 18}\n",
      "STATUS | 01-brief-lark | FiducialMilled | MILLING_TRENCH RoughCut\n",
      "{'lamella': '01-brief-lark', 'stage': 'FiducialMilled', 'step': 'MILLING_TRENCH RoughCut', 'timestamp': 1683604946.0, 'step_n': 19}\n",
      "STATUS | 01-brief-lark | FiducialMilled | RoughCut_COMPLETED_SUCCESSFULLY\n",
      "{'lamella': '01-brief-lark', 'stage': 'FiducialMilled', 'step': 'RoughCut_COMPLETED_SUCCESSFULLY', 'timestamp': 1683604967.0, 'step_n': 20}\n",
      "STATUS | 02-grand-mouse | FiducialMilled | MOVING_TO_POSITION\n",
      "{'lamella': '02-grand-mouse', 'stage': 'FiducialMilled', 'step': 'MOVING_TO_POSITION', 'timestamp': 1683604967.0, 'step_n': 21}\n",
      "STATUS | 02-grand-mouse | FiducialMilled | BEAM_ALIGNMENT\n",
      "{'lamella': '02-grand-mouse', 'stage': 'FiducialMilled', 'step': 'BEAM_ALIGNMENT', 'timestamp': 1683604968.0, 'step_n': 22}\n",
      "STATUS | 02-grand-mouse | FiducialMilled | BEAM_ALIGNMENT\n",
      "{'lamella': '02-grand-mouse', 'stage': 'FiducialMilled', 'step': 'BEAM_ALIGNMENT', 'timestamp': 1683604968.0, 'step_n': 23}\n",
      "STATUS | 02-grand-mouse | FiducialMilled | BEAM_ALIGNMENT\n",
      "{'lamella': '02-grand-mouse', 'stage': 'FiducialMilled', 'step': 'BEAM_ALIGNMENT', 'timestamp': 1683604968.0, 'step_n': 24}\n",
      "STATUS | 02-grand-mouse | FiducialMilled | MILLING_TRENCH RoughCut\n",
      "{'lamella': '02-grand-mouse', 'stage': 'FiducialMilled', 'step': 'MILLING_TRENCH RoughCut', 'timestamp': 1683604968.0, 'step_n': 25}\n",
      "STATUS | 02-grand-mouse | FiducialMilled | RoughCut_COMPLETED_SUCCESSFULLY\n",
      "{'lamella': '02-grand-mouse', 'stage': 'FiducialMilled', 'step': 'RoughCut_COMPLETED_SUCCESSFULLY', 'timestamp': 1683604989.0, 'step_n': 26}\n",
      "STATUS | 03-firm-bobcat | FiducialMilled | MOVING_TO_POSITION\n",
      "{'lamella': '03-firm-bobcat', 'stage': 'FiducialMilled', 'step': 'MOVING_TO_POSITION', 'timestamp': 1683604990.0, 'step_n': 27}\n",
      "STATUS | 03-firm-bobcat | FiducialMilled | BEAM_ALIGNMENT\n",
      "{'lamella': '03-firm-bobcat', 'stage': 'FiducialMilled', 'step': 'BEAM_ALIGNMENT', 'timestamp': 1683604990.0, 'step_n': 28}\n",
      "STATUS | 03-firm-bobcat | FiducialMilled | BEAM_ALIGNMENT\n",
      "{'lamella': '03-firm-bobcat', 'stage': 'FiducialMilled', 'step': 'BEAM_ALIGNMENT', 'timestamp': 1683604990.0, 'step_n': 29}\n",
      "STATUS | 03-firm-bobcat | FiducialMilled | BEAM_ALIGNMENT\n",
      "{'lamella': '03-firm-bobcat', 'stage': 'FiducialMilled', 'step': 'BEAM_ALIGNMENT', 'timestamp': 1683604990.0, 'step_n': 30}\n",
      "STATUS | 03-firm-bobcat | FiducialMilled | MILLING_TRENCH RoughCut\n",
      "{'lamella': '03-firm-bobcat', 'stage': 'FiducialMilled', 'step': 'MILLING_TRENCH RoughCut', 'timestamp': 1683604991.0, 'step_n': 31}\n",
      "STATUS | 03-firm-bobcat | FiducialMilled | RoughCut_COMPLETED_SUCCESSFULLY\n",
      "{'lamella': '03-firm-bobcat', 'stage': 'FiducialMilled', 'step': 'RoughCut_COMPLETED_SUCCESSFULLY', 'timestamp': 1683605012.0, 'step_n': 32}\n",
      "STATUS | 04-fair-bison | FiducialMilled | MOVING_TO_POSITION\n",
      "{'lamella': '04-fair-bison', 'stage': 'FiducialMilled', 'step': 'MOVING_TO_POSITION', 'timestamp': 1683605012.0, 'step_n': 33}\n",
      "STATUS | 04-fair-bison | FiducialMilled | BEAM_ALIGNMENT\n",
      "{'lamella': '04-fair-bison', 'stage': 'FiducialMilled', 'step': 'BEAM_ALIGNMENT', 'timestamp': 1683605012.0, 'step_n': 34}\n",
      "STATUS | 04-fair-bison | FiducialMilled | BEAM_ALIGNMENT\n",
      "{'lamella': '04-fair-bison', 'stage': 'FiducialMilled', 'step': 'BEAM_ALIGNMENT', 'timestamp': 1683605012.0, 'step_n': 35}\n",
      "STATUS | 04-fair-bison | FiducialMilled | BEAM_ALIGNMENT\n",
      "{'lamella': '04-fair-bison', 'stage': 'FiducialMilled', 'step': 'BEAM_ALIGNMENT', 'timestamp': 1683605013.0, 'step_n': 36}\n",
      "STATUS | 04-fair-bison | FiducialMilled | MILLING_TRENCH RoughCut\n",
      "{'lamella': '04-fair-bison', 'stage': 'FiducialMilled', 'step': 'MILLING_TRENCH RoughCut', 'timestamp': 1683605013.0, 'step_n': 37}\n",
      "STATUS | 04-fair-bison | FiducialMilled | RoughCut_COMPLETED_SUCCESSFULLY\n",
      "{'lamella': '04-fair-bison', 'stage': 'FiducialMilled', 'step': 'RoughCut_COMPLETED_SUCCESSFULLY', 'timestamp': 1683605034.0, 'step_n': 38}\n",
      "STATUS | 05-alert-prawn | FiducialMilled | MOVING_TO_POSITION\n",
      "{'lamella': '05-alert-prawn', 'stage': 'FiducialMilled', 'step': 'MOVING_TO_POSITION', 'timestamp': 1683605034.0, 'step_n': 39}\n",
      "STATUS | 05-alert-prawn | FiducialMilled | BEAM_ALIGNMENT\n",
      "{'lamella': '05-alert-prawn', 'stage': 'FiducialMilled', 'step': 'BEAM_ALIGNMENT', 'timestamp': 1683605035.0, 'step_n': 40}\n",
      "STATUS | 05-alert-prawn | FiducialMilled | BEAM_ALIGNMENT\n",
      "{'lamella': '05-alert-prawn', 'stage': 'FiducialMilled', 'step': 'BEAM_ALIGNMENT', 'timestamp': 1683605035.0, 'step_n': 41}\n",
      "STATUS | 05-alert-prawn | FiducialMilled | BEAM_ALIGNMENT\n",
      "{'lamella': '05-alert-prawn', 'stage': 'FiducialMilled', 'step': 'BEAM_ALIGNMENT', 'timestamp': 1683605035.0, 'step_n': 42}\n",
      "STATUS | 05-alert-prawn | FiducialMilled | MILLING_TRENCH RoughCut\n",
      "{'lamella': '05-alert-prawn', 'stage': 'FiducialMilled', 'step': 'MILLING_TRENCH RoughCut', 'timestamp': 1683605035.0, 'step_n': 43}\n",
      "STATUS | 05-alert-prawn | FiducialMilled | RoughCut_COMPLETED_SUCCESSFULLY\n",
      "{'lamella': '05-alert-prawn', 'stage': 'FiducialMilled', 'step': 'RoughCut_COMPLETED_SUCCESSFULLY', 'timestamp': 1683605056.0, 'step_n': 44}\n",
      "STATUS | 01-brief-lark | RoughCut | MOVING_TO_POSITION\n",
      "{'lamella': '01-brief-lark', 'stage': 'RoughCut', 'step': 'MOVING_TO_POSITION', 'timestamp': 1683605057.0, 'step_n': 45}\n",
      "STATUS | 01-brief-lark | RoughCut | BEAM_ALIGNMENT\n",
      "{'lamella': '01-brief-lark', 'stage': 'RoughCut', 'step': 'BEAM_ALIGNMENT', 'timestamp': 1683605057.0, 'step_n': 46}\n",
      "STATUS | 01-brief-lark | RoughCut | BEAM_ALIGNMENT\n",
      "{'lamella': '01-brief-lark', 'stage': 'RoughCut', 'step': 'BEAM_ALIGNMENT', 'timestamp': 1683605057.0, 'step_n': 47}\n",
      "STATUS | 01-brief-lark | RoughCut | BEAM_ALIGNMENT\n",
      "{'lamella': '01-brief-lark', 'stage': 'RoughCut', 'step': 'BEAM_ALIGNMENT', 'timestamp': 1683605057.0, 'step_n': 48}\n",
      "STATUS | 01-brief-lark | RoughCut | MILLING_TRENCH RegularCut\n",
      "{'lamella': '01-brief-lark', 'stage': 'RoughCut', 'step': 'MILLING_TRENCH RegularCut', 'timestamp': 1683605057.0, 'step_n': 49}\n",
      "STATUS | 01-brief-lark | RoughCut | RegularCut_COMPLETED_SUCCESSFULLY\n",
      "{'lamella': '01-brief-lark', 'stage': 'RoughCut', 'step': 'RegularCut_COMPLETED_SUCCESSFULLY', 'timestamp': 1683605078.0, 'step_n': 50}\n",
      "STATUS | 02-grand-mouse | RoughCut | MOVING_TO_POSITION\n",
      "{'lamella': '02-grand-mouse', 'stage': 'RoughCut', 'step': 'MOVING_TO_POSITION', 'timestamp': 1683605079.0, 'step_n': 51}\n",
      "STATUS | 02-grand-mouse | RoughCut | BEAM_ALIGNMENT\n",
      "{'lamella': '02-grand-mouse', 'stage': 'RoughCut', 'step': 'BEAM_ALIGNMENT', 'timestamp': 1683605079.0, 'step_n': 52}\n",
      "STATUS | 02-grand-mouse | RoughCut | BEAM_ALIGNMENT\n",
      "{'lamella': '02-grand-mouse', 'stage': 'RoughCut', 'step': 'BEAM_ALIGNMENT', 'timestamp': 1683605079.0, 'step_n': 53}\n",
      "STATUS | 02-grand-mouse | RoughCut | BEAM_ALIGNMENT\n",
      "{'lamella': '02-grand-mouse', 'stage': 'RoughCut', 'step': 'BEAM_ALIGNMENT', 'timestamp': 1683605080.0, 'step_n': 54}\n",
      "STATUS | 02-grand-mouse | RoughCut | MILLING_TRENCH RegularCut\n",
      "{'lamella': '02-grand-mouse', 'stage': 'RoughCut', 'step': 'MILLING_TRENCH RegularCut', 'timestamp': 1683605080.0, 'step_n': 55}\n",
      "STATUS | 02-grand-mouse | RoughCut | RegularCut_COMPLETED_SUCCESSFULLY\n",
      "{'lamella': '02-grand-mouse', 'stage': 'RoughCut', 'step': 'RegularCut_COMPLETED_SUCCESSFULLY', 'timestamp': 1683605101.0, 'step_n': 56}\n",
      "STATUS | 03-firm-bobcat | RoughCut | MOVING_TO_POSITION\n",
      "{'lamella': '03-firm-bobcat', 'stage': 'RoughCut', 'step': 'MOVING_TO_POSITION', 'timestamp': 1683605101.0, 'step_n': 57}\n",
      "STATUS | 03-firm-bobcat | RoughCut | BEAM_ALIGNMENT\n",
      "{'lamella': '03-firm-bobcat', 'stage': 'RoughCut', 'step': 'BEAM_ALIGNMENT', 'timestamp': 1683605101.0, 'step_n': 58}\n",
      "STATUS | 03-firm-bobcat | RoughCut | BEAM_ALIGNMENT\n",
      "{'lamella': '03-firm-bobcat', 'stage': 'RoughCut', 'step': 'BEAM_ALIGNMENT', 'timestamp': 1683605102.0, 'step_n': 59}\n",
      "STATUS | 03-firm-bobcat | RoughCut | BEAM_ALIGNMENT\n",
      "{'lamella': '03-firm-bobcat', 'stage': 'RoughCut', 'step': 'BEAM_ALIGNMENT', 'timestamp': 1683605102.0, 'step_n': 60}\n",
      "STATUS | 03-firm-bobcat | RoughCut | MILLING_TRENCH RegularCut\n",
      "{'lamella': '03-firm-bobcat', 'stage': 'RoughCut', 'step': 'MILLING_TRENCH RegularCut', 'timestamp': 1683605102.0, 'step_n': 61}\n",
      "STATUS | 03-firm-bobcat | RoughCut | RegularCut_COMPLETED_SUCCESSFULLY\n",
      "{'lamella': '03-firm-bobcat', 'stage': 'RoughCut', 'step': 'RegularCut_COMPLETED_SUCCESSFULLY', 'timestamp': 1683605123.0, 'step_n': 62}\n",
      "STATUS | 04-fair-bison | RoughCut | MOVING_TO_POSITION\n",
      "{'lamella': '04-fair-bison', 'stage': 'RoughCut', 'step': 'MOVING_TO_POSITION', 'timestamp': 1683605123.0, 'step_n': 63}\n",
      "STATUS | 04-fair-bison | RoughCut | BEAM_ALIGNMENT\n",
      "{'lamella': '04-fair-bison', 'stage': 'RoughCut', 'step': 'BEAM_ALIGNMENT', 'timestamp': 1683605124.0, 'step_n': 64}\n",
      "STATUS | 04-fair-bison | RoughCut | BEAM_ALIGNMENT\n",
      "{'lamella': '04-fair-bison', 'stage': 'RoughCut', 'step': 'BEAM_ALIGNMENT', 'timestamp': 1683605124.0, 'step_n': 65}\n",
      "STATUS | 04-fair-bison | RoughCut | BEAM_ALIGNMENT\n",
      "{'lamella': '04-fair-bison', 'stage': 'RoughCut', 'step': 'BEAM_ALIGNMENT', 'timestamp': 1683605124.0, 'step_n': 66}\n",
      "STATUS | 04-fair-bison | RoughCut | MILLING_TRENCH RegularCut\n",
      "{'lamella': '04-fair-bison', 'stage': 'RoughCut', 'step': 'MILLING_TRENCH RegularCut', 'timestamp': 1683605124.0, 'step_n': 67}\n",
      "STATUS | 04-fair-bison | RoughCut | RegularCut_COMPLETED_SUCCESSFULLY\n",
      "{'lamella': '04-fair-bison', 'stage': 'RoughCut', 'step': 'RegularCut_COMPLETED_SUCCESSFULLY', 'timestamp': 1683605145.0, 'step_n': 68}\n",
      "STATUS | 05-alert-prawn | RoughCut | MOVING_TO_POSITION\n",
      "{'lamella': '05-alert-prawn', 'stage': 'RoughCut', 'step': 'MOVING_TO_POSITION', 'timestamp': 1683605146.0, 'step_n': 69}\n",
      "STATUS | 05-alert-prawn | RoughCut | BEAM_ALIGNMENT\n",
      "{'lamella': '05-alert-prawn', 'stage': 'RoughCut', 'step': 'BEAM_ALIGNMENT', 'timestamp': 1683605146.0, 'step_n': 70}\n",
      "STATUS | 05-alert-prawn | RoughCut | BEAM_ALIGNMENT\n",
      "{'lamella': '05-alert-prawn', 'stage': 'RoughCut', 'step': 'BEAM_ALIGNMENT', 'timestamp': 1683605146.0, 'step_n': 71}\n",
      "STATUS | 05-alert-prawn | RoughCut | BEAM_ALIGNMENT\n",
      "{'lamella': '05-alert-prawn', 'stage': 'RoughCut', 'step': 'BEAM_ALIGNMENT', 'timestamp': 1683605146.0, 'step_n': 72}\n",
      "STATUS | 05-alert-prawn | RoughCut | MILLING_TRENCH RegularCut\n",
      "{'lamella': '05-alert-prawn', 'stage': 'RoughCut', 'step': 'MILLING_TRENCH RegularCut', 'timestamp': 1683605147.0, 'step_n': 73}\n",
      "STATUS | 05-alert-prawn | RoughCut | RegularCut_COMPLETED_SUCCESSFULLY\n",
      "{'lamella': '05-alert-prawn', 'stage': 'RoughCut', 'step': 'RegularCut_COMPLETED_SUCCESSFULLY', 'timestamp': 1683605168.0, 'step_n': 74}\n",
      "STATUS | 01-brief-lark | RegularCut | MOVING_TO_POSITION\n",
      "{'lamella': '01-brief-lark', 'stage': 'RegularCut', 'step': 'MOVING_TO_POSITION', 'timestamp': 1683605168.0, 'step_n': 75}\n",
      "STATUS | 01-brief-lark | RegularCut | BEAM_ALIGNMENT\n",
      "{'lamella': '01-brief-lark', 'stage': 'RegularCut', 'step': 'BEAM_ALIGNMENT', 'timestamp': 1683605168.0, 'step_n': 76}\n",
      "STATUS | 01-brief-lark | RegularCut | BEAM_ALIGNMENT\n",
      "{'lamella': '01-brief-lark', 'stage': 'RegularCut', 'step': 'BEAM_ALIGNMENT', 'timestamp': 1683605169.0, 'step_n': 77}\n",
      "STATUS | 01-brief-lark | RegularCut | BEAM_ALIGNMENT\n",
      "{'lamella': '01-brief-lark', 'stage': 'RegularCut', 'step': 'BEAM_ALIGNMENT', 'timestamp': 1683605169.0, 'step_n': 78}\n",
      "STATUS | 01-brief-lark | RegularCut | MILLING_TRENCH PolishingCut\n",
      "{'lamella': '01-brief-lark', 'stage': 'RegularCut', 'step': 'MILLING_TRENCH PolishingCut', 'timestamp': 1683605169.0, 'step_n': 79}\n",
      "STATUS | 01-brief-lark | RegularCut | PolishingCut_COMPLETED_SUCCESSFULLY\n",
      "{'lamella': '01-brief-lark', 'stage': 'RegularCut', 'step': 'PolishingCut_COMPLETED_SUCCESSFULLY', 'timestamp': 1683605190.0, 'step_n': 80}\n",
      "STATUS | 02-grand-mouse | RegularCut | MOVING_TO_POSITION\n",
      "{'lamella': '02-grand-mouse', 'stage': 'RegularCut', 'step': 'MOVING_TO_POSITION', 'timestamp': 1683605190.0, 'step_n': 81}\n",
      "STATUS | 02-grand-mouse | RegularCut | BEAM_ALIGNMENT\n",
      "{'lamella': '02-grand-mouse', 'stage': 'RegularCut', 'step': 'BEAM_ALIGNMENT', 'timestamp': 1683605191.0, 'step_n': 82}\n",
      "STATUS | 02-grand-mouse | RegularCut | BEAM_ALIGNMENT\n",
      "{'lamella': '02-grand-mouse', 'stage': 'RegularCut', 'step': 'BEAM_ALIGNMENT', 'timestamp': 1683605191.0, 'step_n': 83}\n",
      "STATUS | 02-grand-mouse | RegularCut | BEAM_ALIGNMENT\n",
      "{'lamella': '02-grand-mouse', 'stage': 'RegularCut', 'step': 'BEAM_ALIGNMENT', 'timestamp': 1683605191.0, 'step_n': 84}\n",
      "STATUS | 02-grand-mouse | RegularCut | MILLING_TRENCH PolishingCut\n",
      "{'lamella': '02-grand-mouse', 'stage': 'RegularCut', 'step': 'MILLING_TRENCH PolishingCut', 'timestamp': 1683605191.0, 'step_n': 85}\n",
      "STATUS | 02-grand-mouse | RegularCut | PolishingCut_COMPLETED_SUCCESSFULLY\n",
      "{'lamella': '02-grand-mouse', 'stage': 'RegularCut', 'step': 'PolishingCut_COMPLETED_SUCCESSFULLY', 'timestamp': 1683605212.0, 'step_n': 86}\n",
      "STATUS | 03-firm-bobcat | RegularCut | MOVING_TO_POSITION\n",
      "{'lamella': '03-firm-bobcat', 'stage': 'RegularCut', 'step': 'MOVING_TO_POSITION', 'timestamp': 1683605213.0, 'step_n': 87}\n",
      "STATUS | 03-firm-bobcat | RegularCut | BEAM_ALIGNMENT\n",
      "{'lamella': '03-firm-bobcat', 'stage': 'RegularCut', 'step': 'BEAM_ALIGNMENT', 'timestamp': 1683605213.0, 'step_n': 88}\n",
      "STATUS | 03-firm-bobcat | RegularCut | BEAM_ALIGNMENT\n",
      "{'lamella': '03-firm-bobcat', 'stage': 'RegularCut', 'step': 'BEAM_ALIGNMENT', 'timestamp': 1683605213.0, 'step_n': 89}\n",
      "STATUS | 03-firm-bobcat | RegularCut | BEAM_ALIGNMENT\n",
      "{'lamella': '03-firm-bobcat', 'stage': 'RegularCut', 'step': 'BEAM_ALIGNMENT', 'timestamp': 1683605214.0, 'step_n': 90}\n",
      "STATUS | 03-firm-bobcat | RegularCut | MILLING_TRENCH PolishingCut\n",
      "{'lamella': '03-firm-bobcat', 'stage': 'RegularCut', 'step': 'MILLING_TRENCH PolishingCut', 'timestamp': 1683605214.0, 'step_n': 91}\n",
      "STATUS | 03-firm-bobcat | RegularCut | PolishingCut_COMPLETED_SUCCESSFULLY\n",
      "{'lamella': '03-firm-bobcat', 'stage': 'RegularCut', 'step': 'PolishingCut_COMPLETED_SUCCESSFULLY', 'timestamp': 1683605235.0, 'step_n': 92}\n",
      "STATUS | 04-fair-bison | RegularCut | MOVING_TO_POSITION\n",
      "{'lamella': '04-fair-bison', 'stage': 'RegularCut', 'step': 'MOVING_TO_POSITION', 'timestamp': 1683605235.0, 'step_n': 93}\n",
      "STATUS | 04-fair-bison | RegularCut | BEAM_ALIGNMENT\n",
      "{'lamella': '04-fair-bison', 'stage': 'RegularCut', 'step': 'BEAM_ALIGNMENT', 'timestamp': 1683605236.0, 'step_n': 94}\n",
      "STATUS | 04-fair-bison | RegularCut | BEAM_ALIGNMENT\n",
      "{'lamella': '04-fair-bison', 'stage': 'RegularCut', 'step': 'BEAM_ALIGNMENT', 'timestamp': 1683605236.0, 'step_n': 95}\n",
      "STATUS | 04-fair-bison | RegularCut | BEAM_ALIGNMENT\n",
      "{'lamella': '04-fair-bison', 'stage': 'RegularCut', 'step': 'BEAM_ALIGNMENT', 'timestamp': 1683605236.0, 'step_n': 96}\n",
      "STATUS | 04-fair-bison | RegularCut | MILLING_TRENCH PolishingCut\n",
      "{'lamella': '04-fair-bison', 'stage': 'RegularCut', 'step': 'MILLING_TRENCH PolishingCut', 'timestamp': 1683605236.0, 'step_n': 97}\n",
      "STATUS | 04-fair-bison | RegularCut | PolishingCut_COMPLETED_SUCCESSFULLY\n",
      "{'lamella': '04-fair-bison', 'stage': 'RegularCut', 'step': 'PolishingCut_COMPLETED_SUCCESSFULLY', 'timestamp': 1683605257.0, 'step_n': 98}\n",
      "STATUS | 05-alert-prawn | RegularCut | MOVING_TO_POSITION\n",
      "{'lamella': '05-alert-prawn', 'stage': 'RegularCut', 'step': 'MOVING_TO_POSITION', 'timestamp': 1683605258.0, 'step_n': 99}\n",
      "STATUS | 05-alert-prawn | RegularCut | BEAM_ALIGNMENT\n",
      "{'lamella': '05-alert-prawn', 'stage': 'RegularCut', 'step': 'BEAM_ALIGNMENT', 'timestamp': 1683605258.0, 'step_n': 100}\n",
      "STATUS | 05-alert-prawn | RegularCut | BEAM_ALIGNMENT\n",
      "{'lamella': '05-alert-prawn', 'stage': 'RegularCut', 'step': 'BEAM_ALIGNMENT', 'timestamp': 1683605258.0, 'step_n': 101}\n",
      "STATUS | 05-alert-prawn | RegularCut | BEAM_ALIGNMENT\n",
      "{'lamella': '05-alert-prawn', 'stage': 'RegularCut', 'step': 'BEAM_ALIGNMENT', 'timestamp': 1683605258.0, 'step_n': 102}\n",
      "STATUS | 05-alert-prawn | RegularCut | MILLING_TRENCH PolishingCut\n",
      "{'lamella': '05-alert-prawn', 'stage': 'RegularCut', 'step': 'MILLING_TRENCH PolishingCut', 'timestamp': 1683605258.0, 'step_n': 103}\n",
      "STATUS | 05-alert-prawn | RegularCut | PolishingCut_COMPLETED_SUCCESSFULLY\n",
      "{'lamella': '05-alert-prawn', 'stage': 'RegularCut', 'step': 'PolishingCut_COMPLETED_SUCCESSFULLY', 'timestamp': 1683605279.0, 'step_n': 104}\n"
     ]
    }
   ],
   "source": [
    "path = r\"C:\\Users\\lnae0002\\Desktop\\autolamella\\autolamella\\log\\g\"\n",
    "\n",
    "df_sample, df_history, df_shift, df_steps  = stats.calculate_statistics_dataframe(path)\n"
   ]
  },
  {
   "cell_type": "code",
   "execution_count": 8,
   "metadata": {},
   "outputs": [
    {
     "data": {
      "text/html": [
       "<div>\n",
       "<style scoped>\n",
       "    .dataframe tbody tr th:only-of-type {\n",
       "        vertical-align: middle;\n",
       "    }\n",
       "\n",
       "    .dataframe tbody tr th {\n",
       "        vertical-align: top;\n",
       "    }\n",
       "\n",
       "    .dataframe thead th {\n",
       "        text-align: right;\n",
       "    }\n",
       "</style>\n",
       "<table border=\"1\" class=\"dataframe\">\n",
       "  <thead>\n",
       "    <tr style=\"text-align: right;\">\n",
       "      <th></th>\n",
       "      <th>lamella</th>\n",
       "      <th>stage</th>\n",
       "      <th>step</th>\n",
       "      <th>timestamp</th>\n",
       "      <th>step_n</th>\n",
       "    </tr>\n",
       "  </thead>\n",
       "  <tbody>\n",
       "    <tr>\n",
       "      <th>0</th>\n",
       "      <td>01-brief-lark</td>\n",
       "      <td>Setup</td>\n",
       "      <td>LAMELLA_ADDED</td>\n",
       "      <td>1.683602e+09</td>\n",
       "      <td>0</td>\n",
       "    </tr>\n",
       "    <tr>\n",
       "      <th>1</th>\n",
       "      <td>01-brief-lark</td>\n",
       "      <td>Setup</td>\n",
       "      <td>MILLING_FIDUCIAL</td>\n",
       "      <td>1.683602e+09</td>\n",
       "      <td>1</td>\n",
       "    </tr>\n",
       "    <tr>\n",
       "      <th>2</th>\n",
       "      <td>01-brief-lark</td>\n",
       "      <td>FiducialMilled</td>\n",
       "      <td>FIDUCIAL_MILLED_SUCCESSFULLY</td>\n",
       "      <td>1.683602e+09</td>\n",
       "      <td>2</td>\n",
       "    </tr>\n",
       "    <tr>\n",
       "      <th>3</th>\n",
       "      <td>02-grand-mouse</td>\n",
       "      <td>Setup</td>\n",
       "      <td>LAMELLA_ADDED</td>\n",
       "      <td>1.683602e+09</td>\n",
       "      <td>3</td>\n",
       "    </tr>\n",
       "    <tr>\n",
       "      <th>4</th>\n",
       "      <td>02-grand-mouse</td>\n",
       "      <td>Setup</td>\n",
       "      <td>MILLING_FIDUCIAL</td>\n",
       "      <td>1.683602e+09</td>\n",
       "      <td>4</td>\n",
       "    </tr>\n",
       "    <tr>\n",
       "      <th>...</th>\n",
       "      <td>...</td>\n",
       "      <td>...</td>\n",
       "      <td>...</td>\n",
       "      <td>...</td>\n",
       "      <td>...</td>\n",
       "    </tr>\n",
       "    <tr>\n",
       "      <th>100</th>\n",
       "      <td>05-alert-prawn</td>\n",
       "      <td>RegularCut</td>\n",
       "      <td>BEAM_ALIGNMENT</td>\n",
       "      <td>1.683605e+09</td>\n",
       "      <td>100</td>\n",
       "    </tr>\n",
       "    <tr>\n",
       "      <th>101</th>\n",
       "      <td>05-alert-prawn</td>\n",
       "      <td>RegularCut</td>\n",
       "      <td>BEAM_ALIGNMENT</td>\n",
       "      <td>1.683605e+09</td>\n",
       "      <td>101</td>\n",
       "    </tr>\n",
       "    <tr>\n",
       "      <th>102</th>\n",
       "      <td>05-alert-prawn</td>\n",
       "      <td>RegularCut</td>\n",
       "      <td>BEAM_ALIGNMENT</td>\n",
       "      <td>1.683605e+09</td>\n",
       "      <td>102</td>\n",
       "    </tr>\n",
       "    <tr>\n",
       "      <th>103</th>\n",
       "      <td>05-alert-prawn</td>\n",
       "      <td>RegularCut</td>\n",
       "      <td>MILLING_TRENCH PolishingCut</td>\n",
       "      <td>1.683605e+09</td>\n",
       "      <td>103</td>\n",
       "    </tr>\n",
       "    <tr>\n",
       "      <th>104</th>\n",
       "      <td>05-alert-prawn</td>\n",
       "      <td>RegularCut</td>\n",
       "      <td>PolishingCut_COMPLETED_SUCCESSFULLY</td>\n",
       "      <td>1.683605e+09</td>\n",
       "      <td>104</td>\n",
       "    </tr>\n",
       "  </tbody>\n",
       "</table>\n",
       "<p>105 rows × 5 columns</p>\n",
       "</div>"
      ],
      "text/plain": [
       "            lamella           stage                                 step  \\\n",
       "0     01-brief-lark           Setup                        LAMELLA_ADDED   \n",
       "1     01-brief-lark           Setup                     MILLING_FIDUCIAL   \n",
       "2     01-brief-lark  FiducialMilled         FIDUCIAL_MILLED_SUCCESSFULLY   \n",
       "3    02-grand-mouse           Setup                        LAMELLA_ADDED   \n",
       "4    02-grand-mouse           Setup                     MILLING_FIDUCIAL   \n",
       "..              ...             ...                                  ...   \n",
       "100  05-alert-prawn      RegularCut                       BEAM_ALIGNMENT   \n",
       "101  05-alert-prawn      RegularCut                       BEAM_ALIGNMENT   \n",
       "102  05-alert-prawn      RegularCut                       BEAM_ALIGNMENT   \n",
       "103  05-alert-prawn      RegularCut          MILLING_TRENCH PolishingCut   \n",
       "104  05-alert-prawn      RegularCut  PolishingCut_COMPLETED_SUCCESSFULLY   \n",
       "\n",
       "        timestamp  step_n  \n",
       "0    1.683602e+09       0  \n",
       "1    1.683602e+09       1  \n",
       "2    1.683602e+09       2  \n",
       "3    1.683602e+09       3  \n",
       "4    1.683602e+09       4  \n",
       "..            ...     ...  \n",
       "100  1.683605e+09     100  \n",
       "101  1.683605e+09     101  \n",
       "102  1.683605e+09     102  \n",
       "103  1.683605e+09     103  \n",
       "104  1.683605e+09     104  \n",
       "\n",
       "[105 rows x 5 columns]"
      ]
     },
     "metadata": {},
     "output_type": "display_data"
    },
    {
     "data": {
      "application/vnd.plotly.v1+json": {
       "config": {
        "plotlyServerURL": "https://plot.ly"
       },
       "data": [
        {
         "hovertemplate": "stage=Setup<br>lamella=01-brief-lark<br>step_n=%{x}<br>timestamp=%{y}<extra></extra>",
         "legendgroup": "Setup, 01-brief-lark",
         "marker": {
          "color": "#636efa",
          "symbol": "circle"
         },
         "mode": "markers",
         "name": "Setup, 01-brief-lark",
         "orientation": "v",
         "showlegend": true,
         "type": "scatter",
         "x": [
          0,
          1
         ],
         "xaxis": "x",
         "y": [
          1683601721,
          1683601723
         ],
         "yaxis": "y"
        },
        {
         "hovertemplate": "stage=Setup<br>lamella=02-grand-mouse<br>step_n=%{x}<br>timestamp=%{y}<extra></extra>",
         "legendgroup": "Setup, 02-grand-mouse",
         "marker": {
          "color": "#636efa",
          "symbol": "diamond"
         },
         "mode": "markers",
         "name": "Setup, 02-grand-mouse",
         "orientation": "v",
         "showlegend": true,
         "type": "scatter",
         "x": [
          3,
          4
         ],
         "xaxis": "x",
         "y": [
          1683601777,
          1683601779
         ],
         "yaxis": "y"
        },
        {
         "hovertemplate": "stage=Setup<br>lamella=03-firm-bobcat<br>step_n=%{x}<br>timestamp=%{y}<extra></extra>",
         "legendgroup": "Setup, 03-firm-bobcat",
         "marker": {
          "color": "#636efa",
          "symbol": "square"
         },
         "mode": "markers",
         "name": "Setup, 03-firm-bobcat",
         "orientation": "v",
         "showlegend": true,
         "type": "scatter",
         "x": [
          6,
          7
         ],
         "xaxis": "x",
         "y": [
          1683601936,
          1683601939
         ],
         "yaxis": "y"
        },
        {
         "hovertemplate": "stage=Setup<br>lamella=04-fair-bison<br>step_n=%{x}<br>timestamp=%{y}<extra></extra>",
         "legendgroup": "Setup, 04-fair-bison",
         "marker": {
          "color": "#636efa",
          "symbol": "x"
         },
         "mode": "markers",
         "name": "Setup, 04-fair-bison",
         "orientation": "v",
         "showlegend": true,
         "type": "scatter",
         "x": [
          9,
          10
         ],
         "xaxis": "x",
         "y": [
          1683601983,
          1683601985
         ],
         "yaxis": "y"
        },
        {
         "hovertemplate": "stage=Setup<br>lamella=05-alert-prawn<br>step_n=%{x}<br>timestamp=%{y}<extra></extra>",
         "legendgroup": "Setup, 05-alert-prawn",
         "marker": {
          "color": "#636efa",
          "symbol": "cross"
         },
         "mode": "markers",
         "name": "Setup, 05-alert-prawn",
         "orientation": "v",
         "showlegend": true,
         "type": "scatter",
         "x": [
          12,
          13
         ],
         "xaxis": "x",
         "y": [
          1683602083,
          1683602086
         ],
         "yaxis": "y"
        },
        {
         "hovertemplate": "stage=FiducialMilled<br>lamella=01-brief-lark<br>step_n=%{x}<br>timestamp=%{y}<extra></extra>",
         "legendgroup": "FiducialMilled, 01-brief-lark",
         "marker": {
          "color": "#EF553B",
          "symbol": "circle"
         },
         "mode": "markers",
         "name": "FiducialMilled, 01-brief-lark",
         "orientation": "v",
         "showlegend": true,
         "type": "scatter",
         "x": [
          2,
          15,
          16,
          17,
          18,
          19,
          20
         ],
         "xaxis": "x",
         "y": [
          1683601744,
          1683604945,
          1683604945,
          1683604946,
          1683604946,
          1683604946,
          1683604967
         ],
         "yaxis": "y"
        },
        {
         "hovertemplate": "stage=FiducialMilled<br>lamella=02-grand-mouse<br>step_n=%{x}<br>timestamp=%{y}<extra></extra>",
         "legendgroup": "FiducialMilled, 02-grand-mouse",
         "marker": {
          "color": "#EF553B",
          "symbol": "diamond"
         },
         "mode": "markers",
         "name": "FiducialMilled, 02-grand-mouse",
         "orientation": "v",
         "showlegend": true,
         "type": "scatter",
         "x": [
          5,
          21,
          22,
          23,
          24,
          25,
          26
         ],
         "xaxis": "x",
         "y": [
          1683601800,
          1683604967,
          1683604968,
          1683604968,
          1683604968,
          1683604968,
          1683604989
         ],
         "yaxis": "y"
        },
        {
         "hovertemplate": "stage=FiducialMilled<br>lamella=03-firm-bobcat<br>step_n=%{x}<br>timestamp=%{y}<extra></extra>",
         "legendgroup": "FiducialMilled, 03-firm-bobcat",
         "marker": {
          "color": "#EF553B",
          "symbol": "square"
         },
         "mode": "markers",
         "name": "FiducialMilled, 03-firm-bobcat",
         "orientation": "v",
         "showlegend": true,
         "type": "scatter",
         "x": [
          8,
          27,
          28,
          29,
          30,
          31,
          32
         ],
         "xaxis": "x",
         "y": [
          1683601960,
          1683604990,
          1683604990,
          1683604990,
          1683604990,
          1683604991,
          1683605012
         ],
         "yaxis": "y"
        },
        {
         "hovertemplate": "stage=FiducialMilled<br>lamella=04-fair-bison<br>step_n=%{x}<br>timestamp=%{y}<extra></extra>",
         "legendgroup": "FiducialMilled, 04-fair-bison",
         "marker": {
          "color": "#EF553B",
          "symbol": "x"
         },
         "mode": "markers",
         "name": "FiducialMilled, 04-fair-bison",
         "orientation": "v",
         "showlegend": true,
         "type": "scatter",
         "x": [
          11,
          33,
          34,
          35,
          36,
          37,
          38
         ],
         "xaxis": "x",
         "y": [
          1683602006,
          1683605012,
          1683605012,
          1683605012,
          1683605013,
          1683605013,
          1683605034
         ],
         "yaxis": "y"
        },
        {
         "hovertemplate": "stage=FiducialMilled<br>lamella=05-alert-prawn<br>step_n=%{x}<br>timestamp=%{y}<extra></extra>",
         "legendgroup": "FiducialMilled, 05-alert-prawn",
         "marker": {
          "color": "#EF553B",
          "symbol": "cross"
         },
         "mode": "markers",
         "name": "FiducialMilled, 05-alert-prawn",
         "orientation": "v",
         "showlegend": true,
         "type": "scatter",
         "x": [
          14,
          39,
          40,
          41,
          42,
          43,
          44
         ],
         "xaxis": "x",
         "y": [
          1683602107,
          1683605034,
          1683605035,
          1683605035,
          1683605035,
          1683605035,
          1683605056
         ],
         "yaxis": "y"
        },
        {
         "hovertemplate": "stage=RoughCut<br>lamella=01-brief-lark<br>step_n=%{x}<br>timestamp=%{y}<extra></extra>",
         "legendgroup": "RoughCut, 01-brief-lark",
         "marker": {
          "color": "#00cc96",
          "symbol": "circle"
         },
         "mode": "markers",
         "name": "RoughCut, 01-brief-lark",
         "orientation": "v",
         "showlegend": true,
         "type": "scatter",
         "x": [
          45,
          46,
          47,
          48,
          49,
          50
         ],
         "xaxis": "x",
         "y": [
          1683605057,
          1683605057,
          1683605057,
          1683605057,
          1683605057,
          1683605078
         ],
         "yaxis": "y"
        },
        {
         "hovertemplate": "stage=RoughCut<br>lamella=02-grand-mouse<br>step_n=%{x}<br>timestamp=%{y}<extra></extra>",
         "legendgroup": "RoughCut, 02-grand-mouse",
         "marker": {
          "color": "#00cc96",
          "symbol": "diamond"
         },
         "mode": "markers",
         "name": "RoughCut, 02-grand-mouse",
         "orientation": "v",
         "showlegend": true,
         "type": "scatter",
         "x": [
          51,
          52,
          53,
          54,
          55,
          56
         ],
         "xaxis": "x",
         "y": [
          1683605079,
          1683605079,
          1683605079,
          1683605080,
          1683605080,
          1683605101
         ],
         "yaxis": "y"
        },
        {
         "hovertemplate": "stage=RoughCut<br>lamella=03-firm-bobcat<br>step_n=%{x}<br>timestamp=%{y}<extra></extra>",
         "legendgroup": "RoughCut, 03-firm-bobcat",
         "marker": {
          "color": "#00cc96",
          "symbol": "square"
         },
         "mode": "markers",
         "name": "RoughCut, 03-firm-bobcat",
         "orientation": "v",
         "showlegend": true,
         "type": "scatter",
         "x": [
          57,
          58,
          59,
          60,
          61,
          62
         ],
         "xaxis": "x",
         "y": [
          1683605101,
          1683605101,
          1683605102,
          1683605102,
          1683605102,
          1683605123
         ],
         "yaxis": "y"
        },
        {
         "hovertemplate": "stage=RoughCut<br>lamella=04-fair-bison<br>step_n=%{x}<br>timestamp=%{y}<extra></extra>",
         "legendgroup": "RoughCut, 04-fair-bison",
         "marker": {
          "color": "#00cc96",
          "symbol": "x"
         },
         "mode": "markers",
         "name": "RoughCut, 04-fair-bison",
         "orientation": "v",
         "showlegend": true,
         "type": "scatter",
         "x": [
          63,
          64,
          65,
          66,
          67,
          68
         ],
         "xaxis": "x",
         "y": [
          1683605123,
          1683605124,
          1683605124,
          1683605124,
          1683605124,
          1683605145
         ],
         "yaxis": "y"
        },
        {
         "hovertemplate": "stage=RoughCut<br>lamella=05-alert-prawn<br>step_n=%{x}<br>timestamp=%{y}<extra></extra>",
         "legendgroup": "RoughCut, 05-alert-prawn",
         "marker": {
          "color": "#00cc96",
          "symbol": "cross"
         },
         "mode": "markers",
         "name": "RoughCut, 05-alert-prawn",
         "orientation": "v",
         "showlegend": true,
         "type": "scatter",
         "x": [
          69,
          70,
          71,
          72,
          73,
          74
         ],
         "xaxis": "x",
         "y": [
          1683605146,
          1683605146,
          1683605146,
          1683605146,
          1683605147,
          1683605168
         ],
         "yaxis": "y"
        },
        {
         "hovertemplate": "stage=RegularCut<br>lamella=01-brief-lark<br>step_n=%{x}<br>timestamp=%{y}<extra></extra>",
         "legendgroup": "RegularCut, 01-brief-lark",
         "marker": {
          "color": "#ab63fa",
          "symbol": "circle"
         },
         "mode": "markers",
         "name": "RegularCut, 01-brief-lark",
         "orientation": "v",
         "showlegend": true,
         "type": "scatter",
         "x": [
          75,
          76,
          77,
          78,
          79,
          80
         ],
         "xaxis": "x",
         "y": [
          1683605168,
          1683605168,
          1683605169,
          1683605169,
          1683605169,
          1683605190
         ],
         "yaxis": "y"
        },
        {
         "hovertemplate": "stage=RegularCut<br>lamella=02-grand-mouse<br>step_n=%{x}<br>timestamp=%{y}<extra></extra>",
         "legendgroup": "RegularCut, 02-grand-mouse",
         "marker": {
          "color": "#ab63fa",
          "symbol": "diamond"
         },
         "mode": "markers",
         "name": "RegularCut, 02-grand-mouse",
         "orientation": "v",
         "showlegend": true,
         "type": "scatter",
         "x": [
          81,
          82,
          83,
          84,
          85,
          86
         ],
         "xaxis": "x",
         "y": [
          1683605190,
          1683605191,
          1683605191,
          1683605191,
          1683605191,
          1683605212
         ],
         "yaxis": "y"
        },
        {
         "hovertemplate": "stage=RegularCut<br>lamella=03-firm-bobcat<br>step_n=%{x}<br>timestamp=%{y}<extra></extra>",
         "legendgroup": "RegularCut, 03-firm-bobcat",
         "marker": {
          "color": "#ab63fa",
          "symbol": "square"
         },
         "mode": "markers",
         "name": "RegularCut, 03-firm-bobcat",
         "orientation": "v",
         "showlegend": true,
         "type": "scatter",
         "x": [
          87,
          88,
          89,
          90,
          91,
          92
         ],
         "xaxis": "x",
         "y": [
          1683605213,
          1683605213,
          1683605213,
          1683605214,
          1683605214,
          1683605235
         ],
         "yaxis": "y"
        },
        {
         "hovertemplate": "stage=RegularCut<br>lamella=04-fair-bison<br>step_n=%{x}<br>timestamp=%{y}<extra></extra>",
         "legendgroup": "RegularCut, 04-fair-bison",
         "marker": {
          "color": "#ab63fa",
          "symbol": "x"
         },
         "mode": "markers",
         "name": "RegularCut, 04-fair-bison",
         "orientation": "v",
         "showlegend": true,
         "type": "scatter",
         "x": [
          93,
          94,
          95,
          96,
          97,
          98
         ],
         "xaxis": "x",
         "y": [
          1683605235,
          1683605236,
          1683605236,
          1683605236,
          1683605236,
          1683605257
         ],
         "yaxis": "y"
        },
        {
         "hovertemplate": "stage=RegularCut<br>lamella=05-alert-prawn<br>step_n=%{x}<br>timestamp=%{y}<extra></extra>",
         "legendgroup": "RegularCut, 05-alert-prawn",
         "marker": {
          "color": "#ab63fa",
          "symbol": "cross"
         },
         "mode": "markers",
         "name": "RegularCut, 05-alert-prawn",
         "orientation": "v",
         "showlegend": true,
         "type": "scatter",
         "x": [
          99,
          100,
          101,
          102,
          103,
          104
         ],
         "xaxis": "x",
         "y": [
          1683605258,
          1683605258,
          1683605258,
          1683605258,
          1683605258,
          1683605279
         ],
         "yaxis": "y"
        }
       ],
       "layout": {
        "legend": {
         "title": {
          "text": "stage, lamella"
         },
         "tracegroupgap": 0
        },
        "margin": {
         "t": 60
        },
        "template": {
         "data": {
          "bar": [
           {
            "error_x": {
             "color": "#2a3f5f"
            },
            "error_y": {
             "color": "#2a3f5f"
            },
            "marker": {
             "line": {
              "color": "#E5ECF6",
              "width": 0.5
             },
             "pattern": {
              "fillmode": "overlay",
              "size": 10,
              "solidity": 0.2
             }
            },
            "type": "bar"
           }
          ],
          "barpolar": [
           {
            "marker": {
             "line": {
              "color": "#E5ECF6",
              "width": 0.5
             },
             "pattern": {
              "fillmode": "overlay",
              "size": 10,
              "solidity": 0.2
             }
            },
            "type": "barpolar"
           }
          ],
          "carpet": [
           {
            "aaxis": {
             "endlinecolor": "#2a3f5f",
             "gridcolor": "white",
             "linecolor": "white",
             "minorgridcolor": "white",
             "startlinecolor": "#2a3f5f"
            },
            "baxis": {
             "endlinecolor": "#2a3f5f",
             "gridcolor": "white",
             "linecolor": "white",
             "minorgridcolor": "white",
             "startlinecolor": "#2a3f5f"
            },
            "type": "carpet"
           }
          ],
          "choropleth": [
           {
            "colorbar": {
             "outlinewidth": 0,
             "ticks": ""
            },
            "type": "choropleth"
           }
          ],
          "contour": [
           {
            "colorbar": {
             "outlinewidth": 0,
             "ticks": ""
            },
            "colorscale": [
             [
              0,
              "#0d0887"
             ],
             [
              0.1111111111111111,
              "#46039f"
             ],
             [
              0.2222222222222222,
              "#7201a8"
             ],
             [
              0.3333333333333333,
              "#9c179e"
             ],
             [
              0.4444444444444444,
              "#bd3786"
             ],
             [
              0.5555555555555556,
              "#d8576b"
             ],
             [
              0.6666666666666666,
              "#ed7953"
             ],
             [
              0.7777777777777778,
              "#fb9f3a"
             ],
             [
              0.8888888888888888,
              "#fdca26"
             ],
             [
              1,
              "#f0f921"
             ]
            ],
            "type": "contour"
           }
          ],
          "contourcarpet": [
           {
            "colorbar": {
             "outlinewidth": 0,
             "ticks": ""
            },
            "type": "contourcarpet"
           }
          ],
          "heatmap": [
           {
            "colorbar": {
             "outlinewidth": 0,
             "ticks": ""
            },
            "colorscale": [
             [
              0,
              "#0d0887"
             ],
             [
              0.1111111111111111,
              "#46039f"
             ],
             [
              0.2222222222222222,
              "#7201a8"
             ],
             [
              0.3333333333333333,
              "#9c179e"
             ],
             [
              0.4444444444444444,
              "#bd3786"
             ],
             [
              0.5555555555555556,
              "#d8576b"
             ],
             [
              0.6666666666666666,
              "#ed7953"
             ],
             [
              0.7777777777777778,
              "#fb9f3a"
             ],
             [
              0.8888888888888888,
              "#fdca26"
             ],
             [
              1,
              "#f0f921"
             ]
            ],
            "type": "heatmap"
           }
          ],
          "heatmapgl": [
           {
            "colorbar": {
             "outlinewidth": 0,
             "ticks": ""
            },
            "colorscale": [
             [
              0,
              "#0d0887"
             ],
             [
              0.1111111111111111,
              "#46039f"
             ],
             [
              0.2222222222222222,
              "#7201a8"
             ],
             [
              0.3333333333333333,
              "#9c179e"
             ],
             [
              0.4444444444444444,
              "#bd3786"
             ],
             [
              0.5555555555555556,
              "#d8576b"
             ],
             [
              0.6666666666666666,
              "#ed7953"
             ],
             [
              0.7777777777777778,
              "#fb9f3a"
             ],
             [
              0.8888888888888888,
              "#fdca26"
             ],
             [
              1,
              "#f0f921"
             ]
            ],
            "type": "heatmapgl"
           }
          ],
          "histogram": [
           {
            "marker": {
             "pattern": {
              "fillmode": "overlay",
              "size": 10,
              "solidity": 0.2
             }
            },
            "type": "histogram"
           }
          ],
          "histogram2d": [
           {
            "colorbar": {
             "outlinewidth": 0,
             "ticks": ""
            },
            "colorscale": [
             [
              0,
              "#0d0887"
             ],
             [
              0.1111111111111111,
              "#46039f"
             ],
             [
              0.2222222222222222,
              "#7201a8"
             ],
             [
              0.3333333333333333,
              "#9c179e"
             ],
             [
              0.4444444444444444,
              "#bd3786"
             ],
             [
              0.5555555555555556,
              "#d8576b"
             ],
             [
              0.6666666666666666,
              "#ed7953"
             ],
             [
              0.7777777777777778,
              "#fb9f3a"
             ],
             [
              0.8888888888888888,
              "#fdca26"
             ],
             [
              1,
              "#f0f921"
             ]
            ],
            "type": "histogram2d"
           }
          ],
          "histogram2dcontour": [
           {
            "colorbar": {
             "outlinewidth": 0,
             "ticks": ""
            },
            "colorscale": [
             [
              0,
              "#0d0887"
             ],
             [
              0.1111111111111111,
              "#46039f"
             ],
             [
              0.2222222222222222,
              "#7201a8"
             ],
             [
              0.3333333333333333,
              "#9c179e"
             ],
             [
              0.4444444444444444,
              "#bd3786"
             ],
             [
              0.5555555555555556,
              "#d8576b"
             ],
             [
              0.6666666666666666,
              "#ed7953"
             ],
             [
              0.7777777777777778,
              "#fb9f3a"
             ],
             [
              0.8888888888888888,
              "#fdca26"
             ],
             [
              1,
              "#f0f921"
             ]
            ],
            "type": "histogram2dcontour"
           }
          ],
          "mesh3d": [
           {
            "colorbar": {
             "outlinewidth": 0,
             "ticks": ""
            },
            "type": "mesh3d"
           }
          ],
          "parcoords": [
           {
            "line": {
             "colorbar": {
              "outlinewidth": 0,
              "ticks": ""
             }
            },
            "type": "parcoords"
           }
          ],
          "pie": [
           {
            "automargin": true,
            "type": "pie"
           }
          ],
          "scatter": [
           {
            "fillpattern": {
             "fillmode": "overlay",
             "size": 10,
             "solidity": 0.2
            },
            "type": "scatter"
           }
          ],
          "scatter3d": [
           {
            "line": {
             "colorbar": {
              "outlinewidth": 0,
              "ticks": ""
             }
            },
            "marker": {
             "colorbar": {
              "outlinewidth": 0,
              "ticks": ""
             }
            },
            "type": "scatter3d"
           }
          ],
          "scattercarpet": [
           {
            "marker": {
             "colorbar": {
              "outlinewidth": 0,
              "ticks": ""
             }
            },
            "type": "scattercarpet"
           }
          ],
          "scattergeo": [
           {
            "marker": {
             "colorbar": {
              "outlinewidth": 0,
              "ticks": ""
             }
            },
            "type": "scattergeo"
           }
          ],
          "scattergl": [
           {
            "marker": {
             "colorbar": {
              "outlinewidth": 0,
              "ticks": ""
             }
            },
            "type": "scattergl"
           }
          ],
          "scattermapbox": [
           {
            "marker": {
             "colorbar": {
              "outlinewidth": 0,
              "ticks": ""
             }
            },
            "type": "scattermapbox"
           }
          ],
          "scatterpolar": [
           {
            "marker": {
             "colorbar": {
              "outlinewidth": 0,
              "ticks": ""
             }
            },
            "type": "scatterpolar"
           }
          ],
          "scatterpolargl": [
           {
            "marker": {
             "colorbar": {
              "outlinewidth": 0,
              "ticks": ""
             }
            },
            "type": "scatterpolargl"
           }
          ],
          "scatterternary": [
           {
            "marker": {
             "colorbar": {
              "outlinewidth": 0,
              "ticks": ""
             }
            },
            "type": "scatterternary"
           }
          ],
          "surface": [
           {
            "colorbar": {
             "outlinewidth": 0,
             "ticks": ""
            },
            "colorscale": [
             [
              0,
              "#0d0887"
             ],
             [
              0.1111111111111111,
              "#46039f"
             ],
             [
              0.2222222222222222,
              "#7201a8"
             ],
             [
              0.3333333333333333,
              "#9c179e"
             ],
             [
              0.4444444444444444,
              "#bd3786"
             ],
             [
              0.5555555555555556,
              "#d8576b"
             ],
             [
              0.6666666666666666,
              "#ed7953"
             ],
             [
              0.7777777777777778,
              "#fb9f3a"
             ],
             [
              0.8888888888888888,
              "#fdca26"
             ],
             [
              1,
              "#f0f921"
             ]
            ],
            "type": "surface"
           }
          ],
          "table": [
           {
            "cells": {
             "fill": {
              "color": "#EBF0F8"
             },
             "line": {
              "color": "white"
             }
            },
            "header": {
             "fill": {
              "color": "#C8D4E3"
             },
             "line": {
              "color": "white"
             }
            },
            "type": "table"
           }
          ]
         },
         "layout": {
          "annotationdefaults": {
           "arrowcolor": "#2a3f5f",
           "arrowhead": 0,
           "arrowwidth": 1
          },
          "autotypenumbers": "strict",
          "coloraxis": {
           "colorbar": {
            "outlinewidth": 0,
            "ticks": ""
           }
          },
          "colorscale": {
           "diverging": [
            [
             0,
             "#8e0152"
            ],
            [
             0.1,
             "#c51b7d"
            ],
            [
             0.2,
             "#de77ae"
            ],
            [
             0.3,
             "#f1b6da"
            ],
            [
             0.4,
             "#fde0ef"
            ],
            [
             0.5,
             "#f7f7f7"
            ],
            [
             0.6,
             "#e6f5d0"
            ],
            [
             0.7,
             "#b8e186"
            ],
            [
             0.8,
             "#7fbc41"
            ],
            [
             0.9,
             "#4d9221"
            ],
            [
             1,
             "#276419"
            ]
           ],
           "sequential": [
            [
             0,
             "#0d0887"
            ],
            [
             0.1111111111111111,
             "#46039f"
            ],
            [
             0.2222222222222222,
             "#7201a8"
            ],
            [
             0.3333333333333333,
             "#9c179e"
            ],
            [
             0.4444444444444444,
             "#bd3786"
            ],
            [
             0.5555555555555556,
             "#d8576b"
            ],
            [
             0.6666666666666666,
             "#ed7953"
            ],
            [
             0.7777777777777778,
             "#fb9f3a"
            ],
            [
             0.8888888888888888,
             "#fdca26"
            ],
            [
             1,
             "#f0f921"
            ]
           ],
           "sequentialminus": [
            [
             0,
             "#0d0887"
            ],
            [
             0.1111111111111111,
             "#46039f"
            ],
            [
             0.2222222222222222,
             "#7201a8"
            ],
            [
             0.3333333333333333,
             "#9c179e"
            ],
            [
             0.4444444444444444,
             "#bd3786"
            ],
            [
             0.5555555555555556,
             "#d8576b"
            ],
            [
             0.6666666666666666,
             "#ed7953"
            ],
            [
             0.7777777777777778,
             "#fb9f3a"
            ],
            [
             0.8888888888888888,
             "#fdca26"
            ],
            [
             1,
             "#f0f921"
            ]
           ]
          },
          "colorway": [
           "#636efa",
           "#EF553B",
           "#00cc96",
           "#ab63fa",
           "#FFA15A",
           "#19d3f3",
           "#FF6692",
           "#B6E880",
           "#FF97FF",
           "#FECB52"
          ],
          "font": {
           "color": "#2a3f5f"
          },
          "geo": {
           "bgcolor": "white",
           "lakecolor": "white",
           "landcolor": "#E5ECF6",
           "showlakes": true,
           "showland": true,
           "subunitcolor": "white"
          },
          "hoverlabel": {
           "align": "left"
          },
          "hovermode": "closest",
          "mapbox": {
           "style": "light"
          },
          "paper_bgcolor": "white",
          "plot_bgcolor": "#E5ECF6",
          "polar": {
           "angularaxis": {
            "gridcolor": "white",
            "linecolor": "white",
            "ticks": ""
           },
           "bgcolor": "#E5ECF6",
           "radialaxis": {
            "gridcolor": "white",
            "linecolor": "white",
            "ticks": ""
           }
          },
          "scene": {
           "xaxis": {
            "backgroundcolor": "#E5ECF6",
            "gridcolor": "white",
            "gridwidth": 2,
            "linecolor": "white",
            "showbackground": true,
            "ticks": "",
            "zerolinecolor": "white"
           },
           "yaxis": {
            "backgroundcolor": "#E5ECF6",
            "gridcolor": "white",
            "gridwidth": 2,
            "linecolor": "white",
            "showbackground": true,
            "ticks": "",
            "zerolinecolor": "white"
           },
           "zaxis": {
            "backgroundcolor": "#E5ECF6",
            "gridcolor": "white",
            "gridwidth": 2,
            "linecolor": "white",
            "showbackground": true,
            "ticks": "",
            "zerolinecolor": "white"
           }
          },
          "shapedefaults": {
           "line": {
            "color": "#2a3f5f"
           }
          },
          "ternary": {
           "aaxis": {
            "gridcolor": "white",
            "linecolor": "white",
            "ticks": ""
           },
           "baxis": {
            "gridcolor": "white",
            "linecolor": "white",
            "ticks": ""
           },
           "bgcolor": "#E5ECF6",
           "caxis": {
            "gridcolor": "white",
            "linecolor": "white",
            "ticks": ""
           }
          },
          "title": {
           "x": 0.05
          },
          "xaxis": {
           "automargin": true,
           "gridcolor": "white",
           "linecolor": "white",
           "ticks": "",
           "title": {
            "standoff": 15
           },
           "zerolinecolor": "white",
           "zerolinewidth": 2
          },
          "yaxis": {
           "automargin": true,
           "gridcolor": "white",
           "linecolor": "white",
           "ticks": "",
           "title": {
            "standoff": 15
           },
           "zerolinecolor": "white",
           "zerolinewidth": 2
          }
         }
        },
        "xaxis": {
         "anchor": "y",
         "domain": [
          0,
          1
         ],
         "title": {
          "text": "step_n"
         }
        },
        "yaxis": {
         "anchor": "x",
         "domain": [
          0,
          1
         ],
         "title": {
          "text": "timestamp"
         }
        }
       }
      }
     },
     "metadata": {},
     "output_type": "display_data"
    },
    {
     "data": {
      "text/html": [
       "<div>\n",
       "<style scoped>\n",
       "    .dataframe tbody tr th:only-of-type {\n",
       "        vertical-align: middle;\n",
       "    }\n",
       "\n",
       "    .dataframe tbody tr th {\n",
       "        vertical-align: top;\n",
       "    }\n",
       "\n",
       "    .dataframe thead th {\n",
       "        text-align: right;\n",
       "    }\n",
       "</style>\n",
       "<table border=\"1\" class=\"dataframe\">\n",
       "  <thead>\n",
       "    <tr style=\"text-align: right;\">\n",
       "      <th></th>\n",
       "      <th>lamella</th>\n",
       "      <th>stage</th>\n",
       "      <th>step</th>\n",
       "      <th>timestamp</th>\n",
       "      <th>step_n</th>\n",
       "      <th>delta</th>\n",
       "    </tr>\n",
       "  </thead>\n",
       "  <tbody>\n",
       "    <tr>\n",
       "      <th>0</th>\n",
       "      <td>01-brief-lark</td>\n",
       "      <td>Setup</td>\n",
       "      <td>LAMELLA_ADDED</td>\n",
       "      <td>1.683602e+09</td>\n",
       "      <td>0</td>\n",
       "      <td>NaN</td>\n",
       "    </tr>\n",
       "    <tr>\n",
       "      <th>1</th>\n",
       "      <td>01-brief-lark</td>\n",
       "      <td>Setup</td>\n",
       "      <td>MILLING_FIDUCIAL</td>\n",
       "      <td>1.683602e+09</td>\n",
       "      <td>1</td>\n",
       "      <td>2.0</td>\n",
       "    </tr>\n",
       "    <tr>\n",
       "      <th>2</th>\n",
       "      <td>01-brief-lark</td>\n",
       "      <td>FiducialMilled</td>\n",
       "      <td>FIDUCIAL_MILLED_SUCCESSFULLY</td>\n",
       "      <td>1.683602e+09</td>\n",
       "      <td>2</td>\n",
       "      <td>21.0</td>\n",
       "    </tr>\n",
       "    <tr>\n",
       "      <th>3</th>\n",
       "      <td>02-grand-mouse</td>\n",
       "      <td>Setup</td>\n",
       "      <td>LAMELLA_ADDED</td>\n",
       "      <td>1.683602e+09</td>\n",
       "      <td>3</td>\n",
       "      <td>33.0</td>\n",
       "    </tr>\n",
       "    <tr>\n",
       "      <th>4</th>\n",
       "      <td>02-grand-mouse</td>\n",
       "      <td>Setup</td>\n",
       "      <td>MILLING_FIDUCIAL</td>\n",
       "      <td>1.683602e+09</td>\n",
       "      <td>4</td>\n",
       "      <td>2.0</td>\n",
       "    </tr>\n",
       "    <tr>\n",
       "      <th>...</th>\n",
       "      <td>...</td>\n",
       "      <td>...</td>\n",
       "      <td>...</td>\n",
       "      <td>...</td>\n",
       "      <td>...</td>\n",
       "      <td>...</td>\n",
       "    </tr>\n",
       "    <tr>\n",
       "      <th>100</th>\n",
       "      <td>05-alert-prawn</td>\n",
       "      <td>RegularCut</td>\n",
       "      <td>BEAM_ALIGNMENT</td>\n",
       "      <td>1.683605e+09</td>\n",
       "      <td>100</td>\n",
       "      <td>0.0</td>\n",
       "    </tr>\n",
       "    <tr>\n",
       "      <th>101</th>\n",
       "      <td>05-alert-prawn</td>\n",
       "      <td>RegularCut</td>\n",
       "      <td>BEAM_ALIGNMENT</td>\n",
       "      <td>1.683605e+09</td>\n",
       "      <td>101</td>\n",
       "      <td>0.0</td>\n",
       "    </tr>\n",
       "    <tr>\n",
       "      <th>102</th>\n",
       "      <td>05-alert-prawn</td>\n",
       "      <td>RegularCut</td>\n",
       "      <td>BEAM_ALIGNMENT</td>\n",
       "      <td>1.683605e+09</td>\n",
       "      <td>102</td>\n",
       "      <td>0.0</td>\n",
       "    </tr>\n",
       "    <tr>\n",
       "      <th>103</th>\n",
       "      <td>05-alert-prawn</td>\n",
       "      <td>RegularCut</td>\n",
       "      <td>MILLING_TRENCH PolishingCut</td>\n",
       "      <td>1.683605e+09</td>\n",
       "      <td>103</td>\n",
       "      <td>0.0</td>\n",
       "    </tr>\n",
       "    <tr>\n",
       "      <th>104</th>\n",
       "      <td>05-alert-prawn</td>\n",
       "      <td>RegularCut</td>\n",
       "      <td>PolishingCut_COMPLETED_SUCCESSFULLY</td>\n",
       "      <td>1.683605e+09</td>\n",
       "      <td>104</td>\n",
       "      <td>21.0</td>\n",
       "    </tr>\n",
       "  </tbody>\n",
       "</table>\n",
       "<p>105 rows × 6 columns</p>\n",
       "</div>"
      ],
      "text/plain": [
       "            lamella           stage                                 step  \\\n",
       "0     01-brief-lark           Setup                        LAMELLA_ADDED   \n",
       "1     01-brief-lark           Setup                     MILLING_FIDUCIAL   \n",
       "2     01-brief-lark  FiducialMilled         FIDUCIAL_MILLED_SUCCESSFULLY   \n",
       "3    02-grand-mouse           Setup                        LAMELLA_ADDED   \n",
       "4    02-grand-mouse           Setup                     MILLING_FIDUCIAL   \n",
       "..              ...             ...                                  ...   \n",
       "100  05-alert-prawn      RegularCut                       BEAM_ALIGNMENT   \n",
       "101  05-alert-prawn      RegularCut                       BEAM_ALIGNMENT   \n",
       "102  05-alert-prawn      RegularCut                       BEAM_ALIGNMENT   \n",
       "103  05-alert-prawn      RegularCut          MILLING_TRENCH PolishingCut   \n",
       "104  05-alert-prawn      RegularCut  PolishingCut_COMPLETED_SUCCESSFULLY   \n",
       "\n",
       "        timestamp  step_n  delta  \n",
       "0    1.683602e+09       0    NaN  \n",
       "1    1.683602e+09       1    2.0  \n",
       "2    1.683602e+09       2   21.0  \n",
       "3    1.683602e+09       3   33.0  \n",
       "4    1.683602e+09       4    2.0  \n",
       "..            ...     ...    ...  \n",
       "100  1.683605e+09     100    0.0  \n",
       "101  1.683605e+09     101    0.0  \n",
       "102  1.683605e+09     102    0.0  \n",
       "103  1.683605e+09     103    0.0  \n",
       "104  1.683605e+09     104   21.0  \n",
       "\n",
       "[105 rows x 6 columns]"
      ]
     },
     "metadata": {},
     "output_type": "display_data"
    }
   ],
   "source": [
    "display(df_steps)\n",
    "fig = px.scatter(df_steps, x=\"step_n\", y=\"timestamp\", color=\"stage\", symbol='lamella')\n",
    "fig.show()\n",
    "\n"
   ]
  },
  {
   "cell_type": "code",
   "execution_count": 12,
   "metadata": {},
   "outputs": [
    {
     "data": {
      "text/html": [
       "<div>\n",
       "<style scoped>\n",
       "    .dataframe tbody tr th:only-of-type {\n",
       "        vertical-align: middle;\n",
       "    }\n",
       "\n",
       "    .dataframe tbody tr th {\n",
       "        vertical-align: top;\n",
       "    }\n",
       "\n",
       "    .dataframe thead th {\n",
       "        text-align: right;\n",
       "    }\n",
       "</style>\n",
       "<table border=\"1\" class=\"dataframe\">\n",
       "  <thead>\n",
       "    <tr style=\"text-align: right;\">\n",
       "      <th></th>\n",
       "      <th>lamella</th>\n",
       "      <th>stage</th>\n",
       "      <th>step</th>\n",
       "      <th>timestamp</th>\n",
       "      <th>step_n</th>\n",
       "      <th>delta</th>\n",
       "    </tr>\n",
       "  </thead>\n",
       "  <tbody>\n",
       "    <tr>\n",
       "      <th>0</th>\n",
       "      <td>01-brief-lark</td>\n",
       "      <td>Setup</td>\n",
       "      <td>LAMELLA_ADDED</td>\n",
       "      <td>1.683602e+09</td>\n",
       "      <td>0</td>\n",
       "      <td>NaN</td>\n",
       "    </tr>\n",
       "    <tr>\n",
       "      <th>1</th>\n",
       "      <td>01-brief-lark</td>\n",
       "      <td>Setup</td>\n",
       "      <td>MILLING_FIDUCIAL</td>\n",
       "      <td>1.683602e+09</td>\n",
       "      <td>1</td>\n",
       "      <td>2.0</td>\n",
       "    </tr>\n",
       "    <tr>\n",
       "      <th>2</th>\n",
       "      <td>01-brief-lark</td>\n",
       "      <td>FiducialMilled</td>\n",
       "      <td>FIDUCIAL_MILLED_SUCCESSFULLY</td>\n",
       "      <td>1.683602e+09</td>\n",
       "      <td>2</td>\n",
       "      <td>21.0</td>\n",
       "    </tr>\n",
       "    <tr>\n",
       "      <th>3</th>\n",
       "      <td>02-grand-mouse</td>\n",
       "      <td>Setup</td>\n",
       "      <td>LAMELLA_ADDED</td>\n",
       "      <td>1.683602e+09</td>\n",
       "      <td>3</td>\n",
       "      <td>33.0</td>\n",
       "    </tr>\n",
       "    <tr>\n",
       "      <th>4</th>\n",
       "      <td>02-grand-mouse</td>\n",
       "      <td>Setup</td>\n",
       "      <td>MILLING_FIDUCIAL</td>\n",
       "      <td>1.683602e+09</td>\n",
       "      <td>4</td>\n",
       "      <td>2.0</td>\n",
       "    </tr>\n",
       "    <tr>\n",
       "      <th>...</th>\n",
       "      <td>...</td>\n",
       "      <td>...</td>\n",
       "      <td>...</td>\n",
       "      <td>...</td>\n",
       "      <td>...</td>\n",
       "      <td>...</td>\n",
       "    </tr>\n",
       "    <tr>\n",
       "      <th>100</th>\n",
       "      <td>05-alert-prawn</td>\n",
       "      <td>RegularCut</td>\n",
       "      <td>BEAM_ALIGNMENT</td>\n",
       "      <td>1.683605e+09</td>\n",
       "      <td>100</td>\n",
       "      <td>0.0</td>\n",
       "    </tr>\n",
       "    <tr>\n",
       "      <th>101</th>\n",
       "      <td>05-alert-prawn</td>\n",
       "      <td>RegularCut</td>\n",
       "      <td>BEAM_ALIGNMENT</td>\n",
       "      <td>1.683605e+09</td>\n",
       "      <td>101</td>\n",
       "      <td>0.0</td>\n",
       "    </tr>\n",
       "    <tr>\n",
       "      <th>102</th>\n",
       "      <td>05-alert-prawn</td>\n",
       "      <td>RegularCut</td>\n",
       "      <td>BEAM_ALIGNMENT</td>\n",
       "      <td>1.683605e+09</td>\n",
       "      <td>102</td>\n",
       "      <td>0.0</td>\n",
       "    </tr>\n",
       "    <tr>\n",
       "      <th>103</th>\n",
       "      <td>05-alert-prawn</td>\n",
       "      <td>RegularCut</td>\n",
       "      <td>MILLING_TRENCH PolishingCut</td>\n",
       "      <td>1.683605e+09</td>\n",
       "      <td>103</td>\n",
       "      <td>0.0</td>\n",
       "    </tr>\n",
       "    <tr>\n",
       "      <th>104</th>\n",
       "      <td>05-alert-prawn</td>\n",
       "      <td>RegularCut</td>\n",
       "      <td>PolishingCut_COMPLETED_SUCCESSFULLY</td>\n",
       "      <td>1.683605e+09</td>\n",
       "      <td>104</td>\n",
       "      <td>21.0</td>\n",
       "    </tr>\n",
       "  </tbody>\n",
       "</table>\n",
       "<p>105 rows × 6 columns</p>\n",
       "</div>"
      ],
      "text/plain": [
       "            lamella           stage                                 step  \\\n",
       "0     01-brief-lark           Setup                        LAMELLA_ADDED   \n",
       "1     01-brief-lark           Setup                     MILLING_FIDUCIAL   \n",
       "2     01-brief-lark  FiducialMilled         FIDUCIAL_MILLED_SUCCESSFULLY   \n",
       "3    02-grand-mouse           Setup                        LAMELLA_ADDED   \n",
       "4    02-grand-mouse           Setup                     MILLING_FIDUCIAL   \n",
       "..              ...             ...                                  ...   \n",
       "100  05-alert-prawn      RegularCut                       BEAM_ALIGNMENT   \n",
       "101  05-alert-prawn      RegularCut                       BEAM_ALIGNMENT   \n",
       "102  05-alert-prawn      RegularCut                       BEAM_ALIGNMENT   \n",
       "103  05-alert-prawn      RegularCut          MILLING_TRENCH PolishingCut   \n",
       "104  05-alert-prawn      RegularCut  PolishingCut_COMPLETED_SUCCESSFULLY   \n",
       "\n",
       "        timestamp  step_n  delta  \n",
       "0    1.683602e+09       0    NaN  \n",
       "1    1.683602e+09       1    2.0  \n",
       "2    1.683602e+09       2   21.0  \n",
       "3    1.683602e+09       3   33.0  \n",
       "4    1.683602e+09       4    2.0  \n",
       "..            ...     ...    ...  \n",
       "100  1.683605e+09     100    0.0  \n",
       "101  1.683605e+09     101    0.0  \n",
       "102  1.683605e+09     102    0.0  \n",
       "103  1.683605e+09     103    0.0  \n",
       "104  1.683605e+09     104   21.0  \n",
       "\n",
       "[105 rows x 6 columns]"
      ]
     },
     "metadata": {},
     "output_type": "display_data"
    },
    {
     "data": {
      "application/vnd.plotly.v1+json": {
       "config": {
        "plotlyServerURL": "https://plot.ly"
       },
       "data": [
        {
         "alignmentgroup": "True",
         "hovertemplate": "step=LAMELLA_ADDED<br>stage=Setup<br>lamella=%{x}<br>delta=%{y}<extra></extra>",
         "legendgroup": "LAMELLA_ADDED",
         "marker": {
          "color": "#636efa",
          "pattern": {
           "shape": ""
          }
         },
         "name": "LAMELLA_ADDED",
         "offsetgroup": "LAMELLA_ADDED",
         "orientation": "v",
         "showlegend": true,
         "textposition": "auto",
         "type": "bar",
         "x": [
          "01-brief-lark",
          "02-grand-mouse",
          "03-firm-bobcat",
          "04-fair-bison",
          "05-alert-prawn"
         ],
         "xaxis": "x",
         "y": [
          null,
          33,
          136,
          23,
          77
         ],
         "yaxis": "y"
        },
        {
         "alignmentgroup": "True",
         "hovertemplate": "step=MILLING_FIDUCIAL<br>stage=Setup<br>lamella=%{x}<br>delta=%{y}<extra></extra>",
         "legendgroup": "MILLING_FIDUCIAL",
         "marker": {
          "color": "#EF553B",
          "pattern": {
           "shape": ""
          }
         },
         "name": "MILLING_FIDUCIAL",
         "offsetgroup": "MILLING_FIDUCIAL",
         "orientation": "v",
         "showlegend": true,
         "textposition": "auto",
         "type": "bar",
         "x": [
          "01-brief-lark",
          "02-grand-mouse",
          "03-firm-bobcat",
          "04-fair-bison",
          "05-alert-prawn"
         ],
         "xaxis": "x",
         "y": [
          2,
          2,
          3,
          2,
          3
         ],
         "yaxis": "y"
        },
        {
         "alignmentgroup": "True",
         "hovertemplate": "step=FIDUCIAL_MILLED_SUCCESSFULLY<br>stage=FiducialMilled<br>lamella=%{x}<br>delta=%{y}<extra></extra>",
         "legendgroup": "FIDUCIAL_MILLED_SUCCESSFULLY",
         "marker": {
          "color": "#00cc96",
          "pattern": {
           "shape": ""
          }
         },
         "name": "FIDUCIAL_MILLED_SUCCESSFULLY",
         "offsetgroup": "FIDUCIAL_MILLED_SUCCESSFULLY",
         "orientation": "v",
         "showlegend": true,
         "textposition": "auto",
         "type": "bar",
         "x": [
          "01-brief-lark",
          "02-grand-mouse",
          "03-firm-bobcat",
          "04-fair-bison",
          "05-alert-prawn"
         ],
         "xaxis": "x2",
         "y": [
          21,
          21,
          21,
          21,
          21
         ],
         "yaxis": "y2"
        },
        {
         "alignmentgroup": "True",
         "hovertemplate": "step=MOVING_TO_POSITION<br>stage=FiducialMilled<br>lamella=%{x}<br>delta=%{y}<extra></extra>",
         "legendgroup": "MOVING_TO_POSITION",
         "marker": {
          "color": "#ab63fa",
          "pattern": {
           "shape": ""
          }
         },
         "name": "MOVING_TO_POSITION",
         "offsetgroup": "MOVING_TO_POSITION",
         "orientation": "v",
         "showlegend": true,
         "textposition": "auto",
         "type": "bar",
         "x": [
          "01-brief-lark",
          "02-grand-mouse",
          "03-firm-bobcat",
          "04-fair-bison",
          "05-alert-prawn"
         ],
         "xaxis": "x2",
         "y": [
          2838,
          0,
          1,
          0,
          0
         ],
         "yaxis": "y2"
        },
        {
         "alignmentgroup": "True",
         "hovertemplate": "step=MOVING_TO_POSITION<br>stage=RoughCut<br>lamella=%{x}<br>delta=%{y}<extra></extra>",
         "legendgroup": "MOVING_TO_POSITION",
         "marker": {
          "color": "#ab63fa",
          "pattern": {
           "shape": ""
          }
         },
         "name": "MOVING_TO_POSITION",
         "offsetgroup": "MOVING_TO_POSITION",
         "orientation": "v",
         "showlegend": false,
         "textposition": "auto",
         "type": "bar",
         "x": [
          "01-brief-lark",
          "02-grand-mouse",
          "03-firm-bobcat",
          "04-fair-bison",
          "05-alert-prawn"
         ],
         "xaxis": "x3",
         "y": [
          1,
          1,
          0,
          0,
          1
         ],
         "yaxis": "y3"
        },
        {
         "alignmentgroup": "True",
         "hovertemplate": "step=MOVING_TO_POSITION<br>stage=RegularCut<br>lamella=%{x}<br>delta=%{y}<extra></extra>",
         "legendgroup": "MOVING_TO_POSITION",
         "marker": {
          "color": "#ab63fa",
          "pattern": {
           "shape": ""
          }
         },
         "name": "MOVING_TO_POSITION",
         "offsetgroup": "MOVING_TO_POSITION",
         "orientation": "v",
         "showlegend": false,
         "textposition": "auto",
         "type": "bar",
         "x": [
          "01-brief-lark",
          "02-grand-mouse",
          "03-firm-bobcat",
          "04-fair-bison",
          "05-alert-prawn"
         ],
         "xaxis": "x4",
         "y": [
          0,
          0,
          1,
          0,
          1
         ],
         "yaxis": "y4"
        },
        {
         "alignmentgroup": "True",
         "hovertemplate": "step=BEAM_ALIGNMENT<br>stage=FiducialMilled<br>lamella=%{x}<br>delta=%{y}<extra></extra>",
         "legendgroup": "BEAM_ALIGNMENT",
         "marker": {
          "color": "#FFA15A",
          "pattern": {
           "shape": ""
          }
         },
         "name": "BEAM_ALIGNMENT",
         "offsetgroup": "BEAM_ALIGNMENT",
         "orientation": "v",
         "showlegend": true,
         "textposition": "auto",
         "type": "bar",
         "x": [
          "01-brief-lark",
          "01-brief-lark",
          "01-brief-lark",
          "02-grand-mouse",
          "02-grand-mouse",
          "02-grand-mouse",
          "03-firm-bobcat",
          "03-firm-bobcat",
          "03-firm-bobcat",
          "04-fair-bison",
          "04-fair-bison",
          "04-fair-bison",
          "05-alert-prawn",
          "05-alert-prawn",
          "05-alert-prawn"
         ],
         "xaxis": "x2",
         "y": [
          0,
          1,
          0,
          1,
          0,
          0,
          0,
          0,
          0,
          0,
          0,
          1,
          1,
          0,
          0
         ],
         "yaxis": "y2"
        },
        {
         "alignmentgroup": "True",
         "hovertemplate": "step=BEAM_ALIGNMENT<br>stage=RoughCut<br>lamella=%{x}<br>delta=%{y}<extra></extra>",
         "legendgroup": "BEAM_ALIGNMENT",
         "marker": {
          "color": "#FFA15A",
          "pattern": {
           "shape": ""
          }
         },
         "name": "BEAM_ALIGNMENT",
         "offsetgroup": "BEAM_ALIGNMENT",
         "orientation": "v",
         "showlegend": false,
         "textposition": "auto",
         "type": "bar",
         "x": [
          "01-brief-lark",
          "01-brief-lark",
          "01-brief-lark",
          "02-grand-mouse",
          "02-grand-mouse",
          "02-grand-mouse",
          "03-firm-bobcat",
          "03-firm-bobcat",
          "03-firm-bobcat",
          "04-fair-bison",
          "04-fair-bison",
          "04-fair-bison",
          "05-alert-prawn",
          "05-alert-prawn",
          "05-alert-prawn"
         ],
         "xaxis": "x3",
         "y": [
          0,
          0,
          0,
          0,
          0,
          1,
          0,
          1,
          0,
          1,
          0,
          0,
          0,
          0,
          0
         ],
         "yaxis": "y3"
        },
        {
         "alignmentgroup": "True",
         "hovertemplate": "step=BEAM_ALIGNMENT<br>stage=RegularCut<br>lamella=%{x}<br>delta=%{y}<extra></extra>",
         "legendgroup": "BEAM_ALIGNMENT",
         "marker": {
          "color": "#FFA15A",
          "pattern": {
           "shape": ""
          }
         },
         "name": "BEAM_ALIGNMENT",
         "offsetgroup": "BEAM_ALIGNMENT",
         "orientation": "v",
         "showlegend": false,
         "textposition": "auto",
         "type": "bar",
         "x": [
          "01-brief-lark",
          "01-brief-lark",
          "01-brief-lark",
          "02-grand-mouse",
          "02-grand-mouse",
          "02-grand-mouse",
          "03-firm-bobcat",
          "03-firm-bobcat",
          "03-firm-bobcat",
          "04-fair-bison",
          "04-fair-bison",
          "04-fair-bison",
          "05-alert-prawn",
          "05-alert-prawn",
          "05-alert-prawn"
         ],
         "xaxis": "x4",
         "y": [
          0,
          1,
          0,
          1,
          0,
          0,
          0,
          0,
          1,
          1,
          0,
          0,
          0,
          0,
          0
         ],
         "yaxis": "y4"
        },
        {
         "alignmentgroup": "True",
         "hovertemplate": "step=MILLING_TRENCH RoughCut<br>stage=FiducialMilled<br>lamella=%{x}<br>delta=%{y}<extra></extra>",
         "legendgroup": "MILLING_TRENCH RoughCut",
         "marker": {
          "color": "#19d3f3",
          "pattern": {
           "shape": ""
          }
         },
         "name": "MILLING_TRENCH RoughCut",
         "offsetgroup": "MILLING_TRENCH RoughCut",
         "orientation": "v",
         "showlegend": true,
         "textposition": "auto",
         "type": "bar",
         "x": [
          "01-brief-lark",
          "02-grand-mouse",
          "03-firm-bobcat",
          "04-fair-bison",
          "05-alert-prawn"
         ],
         "xaxis": "x2",
         "y": [
          0,
          0,
          1,
          0,
          0
         ],
         "yaxis": "y2"
        },
        {
         "alignmentgroup": "True",
         "hovertemplate": "step=RoughCut_COMPLETED_SUCCESSFULLY<br>stage=FiducialMilled<br>lamella=%{x}<br>delta=%{y}<extra></extra>",
         "legendgroup": "RoughCut_COMPLETED_SUCCESSFULLY",
         "marker": {
          "color": "#FF6692",
          "pattern": {
           "shape": ""
          }
         },
         "name": "RoughCut_COMPLETED_SUCCESSFULLY",
         "offsetgroup": "RoughCut_COMPLETED_SUCCESSFULLY",
         "orientation": "v",
         "showlegend": true,
         "textposition": "auto",
         "type": "bar",
         "x": [
          "01-brief-lark",
          "02-grand-mouse",
          "03-firm-bobcat",
          "04-fair-bison",
          "05-alert-prawn"
         ],
         "xaxis": "x2",
         "y": [
          21,
          21,
          21,
          21,
          21
         ],
         "yaxis": "y2"
        },
        {
         "alignmentgroup": "True",
         "hovertemplate": "step=MILLING_TRENCH RegularCut<br>stage=RoughCut<br>lamella=%{x}<br>delta=%{y}<extra></extra>",
         "legendgroup": "MILLING_TRENCH RegularCut",
         "marker": {
          "color": "#B6E880",
          "pattern": {
           "shape": ""
          }
         },
         "name": "MILLING_TRENCH RegularCut",
         "offsetgroup": "MILLING_TRENCH RegularCut",
         "orientation": "v",
         "showlegend": true,
         "textposition": "auto",
         "type": "bar",
         "x": [
          "01-brief-lark",
          "02-grand-mouse",
          "03-firm-bobcat",
          "04-fair-bison",
          "05-alert-prawn"
         ],
         "xaxis": "x3",
         "y": [
          0,
          0,
          0,
          0,
          1
         ],
         "yaxis": "y3"
        },
        {
         "alignmentgroup": "True",
         "hovertemplate": "step=RegularCut_COMPLETED_SUCCESSFULLY<br>stage=RoughCut<br>lamella=%{x}<br>delta=%{y}<extra></extra>",
         "legendgroup": "RegularCut_COMPLETED_SUCCESSFULLY",
         "marker": {
          "color": "#FF97FF",
          "pattern": {
           "shape": ""
          }
         },
         "name": "RegularCut_COMPLETED_SUCCESSFULLY",
         "offsetgroup": "RegularCut_COMPLETED_SUCCESSFULLY",
         "orientation": "v",
         "showlegend": true,
         "textposition": "auto",
         "type": "bar",
         "x": [
          "01-brief-lark",
          "02-grand-mouse",
          "03-firm-bobcat",
          "04-fair-bison",
          "05-alert-prawn"
         ],
         "xaxis": "x3",
         "y": [
          21,
          21,
          21,
          21,
          21
         ],
         "yaxis": "y3"
        },
        {
         "alignmentgroup": "True",
         "hovertemplate": "step=MILLING_TRENCH PolishingCut<br>stage=RegularCut<br>lamella=%{x}<br>delta=%{y}<extra></extra>",
         "legendgroup": "MILLING_TRENCH PolishingCut",
         "marker": {
          "color": "#FECB52",
          "pattern": {
           "shape": ""
          }
         },
         "name": "MILLING_TRENCH PolishingCut",
         "offsetgroup": "MILLING_TRENCH PolishingCut",
         "orientation": "v",
         "showlegend": true,
         "textposition": "auto",
         "type": "bar",
         "x": [
          "01-brief-lark",
          "02-grand-mouse",
          "03-firm-bobcat",
          "04-fair-bison",
          "05-alert-prawn"
         ],
         "xaxis": "x4",
         "y": [
          0,
          0,
          0,
          0,
          0
         ],
         "yaxis": "y4"
        },
        {
         "alignmentgroup": "True",
         "hovertemplate": "step=PolishingCut_COMPLETED_SUCCESSFULLY<br>stage=RegularCut<br>lamella=%{x}<br>delta=%{y}<extra></extra>",
         "legendgroup": "PolishingCut_COMPLETED_SUCCESSFULLY",
         "marker": {
          "color": "#636efa",
          "pattern": {
           "shape": ""
          }
         },
         "name": "PolishingCut_COMPLETED_SUCCESSFULLY",
         "offsetgroup": "PolishingCut_COMPLETED_SUCCESSFULLY",
         "orientation": "v",
         "showlegend": true,
         "textposition": "auto",
         "type": "bar",
         "x": [
          "01-brief-lark",
          "02-grand-mouse",
          "03-firm-bobcat",
          "04-fair-bison",
          "05-alert-prawn"
         ],
         "xaxis": "x4",
         "y": [
          21,
          21,
          21,
          21,
          21
         ],
         "yaxis": "y4"
        }
       ],
       "layout": {
        "annotations": [
         {
          "font": {},
          "showarrow": false,
          "text": "stage=Setup",
          "x": 0.1175,
          "xanchor": "center",
          "xref": "paper",
          "y": 1,
          "yanchor": "bottom",
          "yref": "paper"
         },
         {
          "font": {},
          "showarrow": false,
          "text": "stage=FiducialMilled",
          "x": 0.3725,
          "xanchor": "center",
          "xref": "paper",
          "y": 1,
          "yanchor": "bottom",
          "yref": "paper"
         },
         {
          "font": {},
          "showarrow": false,
          "text": "stage=RoughCut",
          "x": 0.6275,
          "xanchor": "center",
          "xref": "paper",
          "y": 1,
          "yanchor": "bottom",
          "yref": "paper"
         },
         {
          "font": {},
          "showarrow": false,
          "text": "stage=RegularCut",
          "x": 0.8824999999999998,
          "xanchor": "center",
          "xref": "paper",
          "y": 1,
          "yanchor": "bottom",
          "yref": "paper"
         }
        ],
        "barmode": "relative",
        "legend": {
         "title": {
          "text": "step"
         },
         "tracegroupgap": 0
        },
        "margin": {
         "t": 60
        },
        "template": {
         "data": {
          "bar": [
           {
            "error_x": {
             "color": "#2a3f5f"
            },
            "error_y": {
             "color": "#2a3f5f"
            },
            "marker": {
             "line": {
              "color": "#E5ECF6",
              "width": 0.5
             },
             "pattern": {
              "fillmode": "overlay",
              "size": 10,
              "solidity": 0.2
             }
            },
            "type": "bar"
           }
          ],
          "barpolar": [
           {
            "marker": {
             "line": {
              "color": "#E5ECF6",
              "width": 0.5
             },
             "pattern": {
              "fillmode": "overlay",
              "size": 10,
              "solidity": 0.2
             }
            },
            "type": "barpolar"
           }
          ],
          "carpet": [
           {
            "aaxis": {
             "endlinecolor": "#2a3f5f",
             "gridcolor": "white",
             "linecolor": "white",
             "minorgridcolor": "white",
             "startlinecolor": "#2a3f5f"
            },
            "baxis": {
             "endlinecolor": "#2a3f5f",
             "gridcolor": "white",
             "linecolor": "white",
             "minorgridcolor": "white",
             "startlinecolor": "#2a3f5f"
            },
            "type": "carpet"
           }
          ],
          "choropleth": [
           {
            "colorbar": {
             "outlinewidth": 0,
             "ticks": ""
            },
            "type": "choropleth"
           }
          ],
          "contour": [
           {
            "colorbar": {
             "outlinewidth": 0,
             "ticks": ""
            },
            "colorscale": [
             [
              0,
              "#0d0887"
             ],
             [
              0.1111111111111111,
              "#46039f"
             ],
             [
              0.2222222222222222,
              "#7201a8"
             ],
             [
              0.3333333333333333,
              "#9c179e"
             ],
             [
              0.4444444444444444,
              "#bd3786"
             ],
             [
              0.5555555555555556,
              "#d8576b"
             ],
             [
              0.6666666666666666,
              "#ed7953"
             ],
             [
              0.7777777777777778,
              "#fb9f3a"
             ],
             [
              0.8888888888888888,
              "#fdca26"
             ],
             [
              1,
              "#f0f921"
             ]
            ],
            "type": "contour"
           }
          ],
          "contourcarpet": [
           {
            "colorbar": {
             "outlinewidth": 0,
             "ticks": ""
            },
            "type": "contourcarpet"
           }
          ],
          "heatmap": [
           {
            "colorbar": {
             "outlinewidth": 0,
             "ticks": ""
            },
            "colorscale": [
             [
              0,
              "#0d0887"
             ],
             [
              0.1111111111111111,
              "#46039f"
             ],
             [
              0.2222222222222222,
              "#7201a8"
             ],
             [
              0.3333333333333333,
              "#9c179e"
             ],
             [
              0.4444444444444444,
              "#bd3786"
             ],
             [
              0.5555555555555556,
              "#d8576b"
             ],
             [
              0.6666666666666666,
              "#ed7953"
             ],
             [
              0.7777777777777778,
              "#fb9f3a"
             ],
             [
              0.8888888888888888,
              "#fdca26"
             ],
             [
              1,
              "#f0f921"
             ]
            ],
            "type": "heatmap"
           }
          ],
          "heatmapgl": [
           {
            "colorbar": {
             "outlinewidth": 0,
             "ticks": ""
            },
            "colorscale": [
             [
              0,
              "#0d0887"
             ],
             [
              0.1111111111111111,
              "#46039f"
             ],
             [
              0.2222222222222222,
              "#7201a8"
             ],
             [
              0.3333333333333333,
              "#9c179e"
             ],
             [
              0.4444444444444444,
              "#bd3786"
             ],
             [
              0.5555555555555556,
              "#d8576b"
             ],
             [
              0.6666666666666666,
              "#ed7953"
             ],
             [
              0.7777777777777778,
              "#fb9f3a"
             ],
             [
              0.8888888888888888,
              "#fdca26"
             ],
             [
              1,
              "#f0f921"
             ]
            ],
            "type": "heatmapgl"
           }
          ],
          "histogram": [
           {
            "marker": {
             "pattern": {
              "fillmode": "overlay",
              "size": 10,
              "solidity": 0.2
             }
            },
            "type": "histogram"
           }
          ],
          "histogram2d": [
           {
            "colorbar": {
             "outlinewidth": 0,
             "ticks": ""
            },
            "colorscale": [
             [
              0,
              "#0d0887"
             ],
             [
              0.1111111111111111,
              "#46039f"
             ],
             [
              0.2222222222222222,
              "#7201a8"
             ],
             [
              0.3333333333333333,
              "#9c179e"
             ],
             [
              0.4444444444444444,
              "#bd3786"
             ],
             [
              0.5555555555555556,
              "#d8576b"
             ],
             [
              0.6666666666666666,
              "#ed7953"
             ],
             [
              0.7777777777777778,
              "#fb9f3a"
             ],
             [
              0.8888888888888888,
              "#fdca26"
             ],
             [
              1,
              "#f0f921"
             ]
            ],
            "type": "histogram2d"
           }
          ],
          "histogram2dcontour": [
           {
            "colorbar": {
             "outlinewidth": 0,
             "ticks": ""
            },
            "colorscale": [
             [
              0,
              "#0d0887"
             ],
             [
              0.1111111111111111,
              "#46039f"
             ],
             [
              0.2222222222222222,
              "#7201a8"
             ],
             [
              0.3333333333333333,
              "#9c179e"
             ],
             [
              0.4444444444444444,
              "#bd3786"
             ],
             [
              0.5555555555555556,
              "#d8576b"
             ],
             [
              0.6666666666666666,
              "#ed7953"
             ],
             [
              0.7777777777777778,
              "#fb9f3a"
             ],
             [
              0.8888888888888888,
              "#fdca26"
             ],
             [
              1,
              "#f0f921"
             ]
            ],
            "type": "histogram2dcontour"
           }
          ],
          "mesh3d": [
           {
            "colorbar": {
             "outlinewidth": 0,
             "ticks": ""
            },
            "type": "mesh3d"
           }
          ],
          "parcoords": [
           {
            "line": {
             "colorbar": {
              "outlinewidth": 0,
              "ticks": ""
             }
            },
            "type": "parcoords"
           }
          ],
          "pie": [
           {
            "automargin": true,
            "type": "pie"
           }
          ],
          "scatter": [
           {
            "fillpattern": {
             "fillmode": "overlay",
             "size": 10,
             "solidity": 0.2
            },
            "type": "scatter"
           }
          ],
          "scatter3d": [
           {
            "line": {
             "colorbar": {
              "outlinewidth": 0,
              "ticks": ""
             }
            },
            "marker": {
             "colorbar": {
              "outlinewidth": 0,
              "ticks": ""
             }
            },
            "type": "scatter3d"
           }
          ],
          "scattercarpet": [
           {
            "marker": {
             "colorbar": {
              "outlinewidth": 0,
              "ticks": ""
             }
            },
            "type": "scattercarpet"
           }
          ],
          "scattergeo": [
           {
            "marker": {
             "colorbar": {
              "outlinewidth": 0,
              "ticks": ""
             }
            },
            "type": "scattergeo"
           }
          ],
          "scattergl": [
           {
            "marker": {
             "colorbar": {
              "outlinewidth": 0,
              "ticks": ""
             }
            },
            "type": "scattergl"
           }
          ],
          "scattermapbox": [
           {
            "marker": {
             "colorbar": {
              "outlinewidth": 0,
              "ticks": ""
             }
            },
            "type": "scattermapbox"
           }
          ],
          "scatterpolar": [
           {
            "marker": {
             "colorbar": {
              "outlinewidth": 0,
              "ticks": ""
             }
            },
            "type": "scatterpolar"
           }
          ],
          "scatterpolargl": [
           {
            "marker": {
             "colorbar": {
              "outlinewidth": 0,
              "ticks": ""
             }
            },
            "type": "scatterpolargl"
           }
          ],
          "scatterternary": [
           {
            "marker": {
             "colorbar": {
              "outlinewidth": 0,
              "ticks": ""
             }
            },
            "type": "scatterternary"
           }
          ],
          "surface": [
           {
            "colorbar": {
             "outlinewidth": 0,
             "ticks": ""
            },
            "colorscale": [
             [
              0,
              "#0d0887"
             ],
             [
              0.1111111111111111,
              "#46039f"
             ],
             [
              0.2222222222222222,
              "#7201a8"
             ],
             [
              0.3333333333333333,
              "#9c179e"
             ],
             [
              0.4444444444444444,
              "#bd3786"
             ],
             [
              0.5555555555555556,
              "#d8576b"
             ],
             [
              0.6666666666666666,
              "#ed7953"
             ],
             [
              0.7777777777777778,
              "#fb9f3a"
             ],
             [
              0.8888888888888888,
              "#fdca26"
             ],
             [
              1,
              "#f0f921"
             ]
            ],
            "type": "surface"
           }
          ],
          "table": [
           {
            "cells": {
             "fill": {
              "color": "#EBF0F8"
             },
             "line": {
              "color": "white"
             }
            },
            "header": {
             "fill": {
              "color": "#C8D4E3"
             },
             "line": {
              "color": "white"
             }
            },
            "type": "table"
           }
          ]
         },
         "layout": {
          "annotationdefaults": {
           "arrowcolor": "#2a3f5f",
           "arrowhead": 0,
           "arrowwidth": 1
          },
          "autotypenumbers": "strict",
          "coloraxis": {
           "colorbar": {
            "outlinewidth": 0,
            "ticks": ""
           }
          },
          "colorscale": {
           "diverging": [
            [
             0,
             "#8e0152"
            ],
            [
             0.1,
             "#c51b7d"
            ],
            [
             0.2,
             "#de77ae"
            ],
            [
             0.3,
             "#f1b6da"
            ],
            [
             0.4,
             "#fde0ef"
            ],
            [
             0.5,
             "#f7f7f7"
            ],
            [
             0.6,
             "#e6f5d0"
            ],
            [
             0.7,
             "#b8e186"
            ],
            [
             0.8,
             "#7fbc41"
            ],
            [
             0.9,
             "#4d9221"
            ],
            [
             1,
             "#276419"
            ]
           ],
           "sequential": [
            [
             0,
             "#0d0887"
            ],
            [
             0.1111111111111111,
             "#46039f"
            ],
            [
             0.2222222222222222,
             "#7201a8"
            ],
            [
             0.3333333333333333,
             "#9c179e"
            ],
            [
             0.4444444444444444,
             "#bd3786"
            ],
            [
             0.5555555555555556,
             "#d8576b"
            ],
            [
             0.6666666666666666,
             "#ed7953"
            ],
            [
             0.7777777777777778,
             "#fb9f3a"
            ],
            [
             0.8888888888888888,
             "#fdca26"
            ],
            [
             1,
             "#f0f921"
            ]
           ],
           "sequentialminus": [
            [
             0,
             "#0d0887"
            ],
            [
             0.1111111111111111,
             "#46039f"
            ],
            [
             0.2222222222222222,
             "#7201a8"
            ],
            [
             0.3333333333333333,
             "#9c179e"
            ],
            [
             0.4444444444444444,
             "#bd3786"
            ],
            [
             0.5555555555555556,
             "#d8576b"
            ],
            [
             0.6666666666666666,
             "#ed7953"
            ],
            [
             0.7777777777777778,
             "#fb9f3a"
            ],
            [
             0.8888888888888888,
             "#fdca26"
            ],
            [
             1,
             "#f0f921"
            ]
           ]
          },
          "colorway": [
           "#636efa",
           "#EF553B",
           "#00cc96",
           "#ab63fa",
           "#FFA15A",
           "#19d3f3",
           "#FF6692",
           "#B6E880",
           "#FF97FF",
           "#FECB52"
          ],
          "font": {
           "color": "#2a3f5f"
          },
          "geo": {
           "bgcolor": "white",
           "lakecolor": "white",
           "landcolor": "#E5ECF6",
           "showlakes": true,
           "showland": true,
           "subunitcolor": "white"
          },
          "hoverlabel": {
           "align": "left"
          },
          "hovermode": "closest",
          "mapbox": {
           "style": "light"
          },
          "paper_bgcolor": "white",
          "plot_bgcolor": "#E5ECF6",
          "polar": {
           "angularaxis": {
            "gridcolor": "white",
            "linecolor": "white",
            "ticks": ""
           },
           "bgcolor": "#E5ECF6",
           "radialaxis": {
            "gridcolor": "white",
            "linecolor": "white",
            "ticks": ""
           }
          },
          "scene": {
           "xaxis": {
            "backgroundcolor": "#E5ECF6",
            "gridcolor": "white",
            "gridwidth": 2,
            "linecolor": "white",
            "showbackground": true,
            "ticks": "",
            "zerolinecolor": "white"
           },
           "yaxis": {
            "backgroundcolor": "#E5ECF6",
            "gridcolor": "white",
            "gridwidth": 2,
            "linecolor": "white",
            "showbackground": true,
            "ticks": "",
            "zerolinecolor": "white"
           },
           "zaxis": {
            "backgroundcolor": "#E5ECF6",
            "gridcolor": "white",
            "gridwidth": 2,
            "linecolor": "white",
            "showbackground": true,
            "ticks": "",
            "zerolinecolor": "white"
           }
          },
          "shapedefaults": {
           "line": {
            "color": "#2a3f5f"
           }
          },
          "ternary": {
           "aaxis": {
            "gridcolor": "white",
            "linecolor": "white",
            "ticks": ""
           },
           "baxis": {
            "gridcolor": "white",
            "linecolor": "white",
            "ticks": ""
           },
           "bgcolor": "#E5ECF6",
           "caxis": {
            "gridcolor": "white",
            "linecolor": "white",
            "ticks": ""
           }
          },
          "title": {
           "x": 0.05
          },
          "xaxis": {
           "automargin": true,
           "gridcolor": "white",
           "linecolor": "white",
           "ticks": "",
           "title": {
            "standoff": 15
           },
           "zerolinecolor": "white",
           "zerolinewidth": 2
          },
          "yaxis": {
           "automargin": true,
           "gridcolor": "white",
           "linecolor": "white",
           "ticks": "",
           "title": {
            "standoff": 15
           },
           "zerolinecolor": "white",
           "zerolinewidth": 2
          }
         }
        },
        "xaxis": {
         "anchor": "y",
         "domain": [
          0,
          0.235
         ],
         "title": {
          "text": "lamella"
         }
        },
        "xaxis2": {
         "anchor": "y2",
         "domain": [
          0.255,
          0.49
         ],
         "matches": "x",
         "title": {
          "text": "lamella"
         }
        },
        "xaxis3": {
         "anchor": "y3",
         "domain": [
          0.51,
          0.745
         ],
         "matches": "x",
         "title": {
          "text": "lamella"
         }
        },
        "xaxis4": {
         "anchor": "y4",
         "domain": [
          0.7649999999999999,
          0.9999999999999999
         ],
         "matches": "x",
         "title": {
          "text": "lamella"
         }
        },
        "yaxis": {
         "anchor": "x",
         "domain": [
          0,
          1
         ],
         "title": {
          "text": "delta"
         }
        },
        "yaxis2": {
         "anchor": "x2",
         "domain": [
          0,
          1
         ],
         "matches": "y",
         "showticklabels": false
        },
        "yaxis3": {
         "anchor": "x3",
         "domain": [
          0,
          1
         ],
         "matches": "y",
         "showticklabels": false
        },
        "yaxis4": {
         "anchor": "x4",
         "domain": [
          0,
          1
         ],
         "matches": "y",
         "showticklabels": false
        }
       }
      }
     },
     "metadata": {},
     "output_type": "display_data"
    }
   ],
   "source": [
    "# calculate difference in timestamp between rows\n",
    "df_steps['delta'] = df_steps['timestamp'].diff()\n",
    "\n",
    "display(df_steps)\n",
    "\n",
    "px.bar(df_steps, x=\"lamella\", y=\"delta\", color=\"step\", facet_col=\"stage\")"
   ]
  },
  {
   "cell_type": "code",
   "execution_count": 3,
   "metadata": {},
   "outputs": [
    {
     "data": {
      "application/vnd.plotly.v1+json": {
       "config": {
        "plotlyServerURL": "https://plot.ly"
       },
       "data": [
        {
         "alignmentgroup": "True",
         "hovertemplate": "petname=brief-lark<br>stage=%{x}<br>duration=%{y}<extra></extra>",
         "legendgroup": "brief-lark",
         "marker": {
          "color": "#636efa",
          "pattern": {
           "shape": ""
          }
         },
         "name": "brief-lark",
         "offsetgroup": "brief-lark",
         "orientation": "v",
         "showlegend": true,
         "textposition": "auto",
         "type": "bar",
         "x": [
          "Setup",
          "FiducialMilled",
          "RoughCut",
          "RegularCut",
          "PolishingCut"
         ],
         "xaxis": "x",
         "y": [
          21.02111506462097,
          21.853173971176147,
          21.82999587059021,
          21.877053022384644,
          89.9874370098114
         ],
         "yaxis": "y"
        },
        {
         "alignmentgroup": "True",
         "hovertemplate": "petname=grand-mouse<br>stage=%{x}<br>duration=%{y}<extra></extra>",
         "legendgroup": "grand-mouse",
         "marker": {
          "color": "#EF553B",
          "pattern": {
           "shape": ""
          }
         },
         "name": "grand-mouse",
         "offsetgroup": "grand-mouse",
         "orientation": "v",
         "showlegend": true,
         "textposition": "auto",
         "type": "bar",
         "x": [
          "Setup",
          "FiducialMilled",
          "RoughCut",
          "RegularCut",
          "PolishingCut"
         ],
         "xaxis": "x",
         "y": [
          21.016355991363525,
          21.85373091697693,
          21.826575994491577,
          21.8851318359375,
          67.63358306884766
         ],
         "yaxis": "y"
        },
        {
         "alignmentgroup": "True",
         "hovertemplate": "petname=firm-bobcat<br>stage=%{x}<br>duration=%{y}<extra></extra>",
         "legendgroup": "firm-bobcat",
         "marker": {
          "color": "#00cc96",
          "pattern": {
           "shape": ""
          }
         },
         "name": "firm-bobcat",
         "offsetgroup": "firm-bobcat",
         "orientation": "v",
         "showlegend": true,
         "textposition": "auto",
         "type": "bar",
         "x": [
          "Setup",
          "FiducialMilled",
          "RoughCut",
          "RegularCut",
          "PolishingCut"
         ],
         "xaxis": "x",
         "y": [
          21.017917156219482,
          21.847728967666626,
          21.843569040298462,
          21.892093896865845,
          45.2435622215271
         ],
         "yaxis": "y"
        },
        {
         "alignmentgroup": "True",
         "hovertemplate": "petname=fair-bison<br>stage=%{x}<br>duration=%{y}<extra></extra>",
         "legendgroup": "fair-bison",
         "marker": {
          "color": "#ab63fa",
          "pattern": {
           "shape": ""
          }
         },
         "name": "fair-bison",
         "offsetgroup": "fair-bison",
         "orientation": "v",
         "showlegend": true,
         "textposition": "auto",
         "type": "bar",
         "x": [
          "Setup",
          "FiducialMilled",
          "RoughCut",
          "RegularCut",
          "PolishingCut"
         ],
         "xaxis": "x",
         "y": [
          21.018003940582275,
          21.849651098251343,
          21.859820127487183,
          21.877205848693848,
          22.878284215927124
         ],
         "yaxis": "y"
        },
        {
         "alignmentgroup": "True",
         "hovertemplate": "petname=alert-prawn<br>stage=%{x}<br>duration=%{y}<extra></extra>",
         "legendgroup": "alert-prawn",
         "marker": {
          "color": "#FFA15A",
          "pattern": {
           "shape": ""
          }
         },
         "name": "alert-prawn",
         "offsetgroup": "alert-prawn",
         "orientation": "v",
         "showlegend": true,
         "textposition": "auto",
         "type": "bar",
         "x": [
          "Setup",
          "FiducialMilled",
          "RoughCut",
          "RegularCut",
          "PolishingCut"
         ],
         "xaxis": "x",
         "y": [
          21.01931595802307,
          21.845122814178467,
          21.854846000671387,
          21.876808881759644,
          0.5183241367340088
         ],
         "yaxis": "y"
        }
       ],
       "layout": {
        "barmode": "group",
        "legend": {
         "title": {
          "text": "petname"
         },
         "tracegroupgap": 0
        },
        "margin": {
         "t": 60
        },
        "template": {
         "data": {
          "bar": [
           {
            "error_x": {
             "color": "#2a3f5f"
            },
            "error_y": {
             "color": "#2a3f5f"
            },
            "marker": {
             "line": {
              "color": "#E5ECF6",
              "width": 0.5
             },
             "pattern": {
              "fillmode": "overlay",
              "size": 10,
              "solidity": 0.2
             }
            },
            "type": "bar"
           }
          ],
          "barpolar": [
           {
            "marker": {
             "line": {
              "color": "#E5ECF6",
              "width": 0.5
             },
             "pattern": {
              "fillmode": "overlay",
              "size": 10,
              "solidity": 0.2
             }
            },
            "type": "barpolar"
           }
          ],
          "carpet": [
           {
            "aaxis": {
             "endlinecolor": "#2a3f5f",
             "gridcolor": "white",
             "linecolor": "white",
             "minorgridcolor": "white",
             "startlinecolor": "#2a3f5f"
            },
            "baxis": {
             "endlinecolor": "#2a3f5f",
             "gridcolor": "white",
             "linecolor": "white",
             "minorgridcolor": "white",
             "startlinecolor": "#2a3f5f"
            },
            "type": "carpet"
           }
          ],
          "choropleth": [
           {
            "colorbar": {
             "outlinewidth": 0,
             "ticks": ""
            },
            "type": "choropleth"
           }
          ],
          "contour": [
           {
            "colorbar": {
             "outlinewidth": 0,
             "ticks": ""
            },
            "colorscale": [
             [
              0,
              "#0d0887"
             ],
             [
              0.1111111111111111,
              "#46039f"
             ],
             [
              0.2222222222222222,
              "#7201a8"
             ],
             [
              0.3333333333333333,
              "#9c179e"
             ],
             [
              0.4444444444444444,
              "#bd3786"
             ],
             [
              0.5555555555555556,
              "#d8576b"
             ],
             [
              0.6666666666666666,
              "#ed7953"
             ],
             [
              0.7777777777777778,
              "#fb9f3a"
             ],
             [
              0.8888888888888888,
              "#fdca26"
             ],
             [
              1,
              "#f0f921"
             ]
            ],
            "type": "contour"
           }
          ],
          "contourcarpet": [
           {
            "colorbar": {
             "outlinewidth": 0,
             "ticks": ""
            },
            "type": "contourcarpet"
           }
          ],
          "heatmap": [
           {
            "colorbar": {
             "outlinewidth": 0,
             "ticks": ""
            },
            "colorscale": [
             [
              0,
              "#0d0887"
             ],
             [
              0.1111111111111111,
              "#46039f"
             ],
             [
              0.2222222222222222,
              "#7201a8"
             ],
             [
              0.3333333333333333,
              "#9c179e"
             ],
             [
              0.4444444444444444,
              "#bd3786"
             ],
             [
              0.5555555555555556,
              "#d8576b"
             ],
             [
              0.6666666666666666,
              "#ed7953"
             ],
             [
              0.7777777777777778,
              "#fb9f3a"
             ],
             [
              0.8888888888888888,
              "#fdca26"
             ],
             [
              1,
              "#f0f921"
             ]
            ],
            "type": "heatmap"
           }
          ],
          "heatmapgl": [
           {
            "colorbar": {
             "outlinewidth": 0,
             "ticks": ""
            },
            "colorscale": [
             [
              0,
              "#0d0887"
             ],
             [
              0.1111111111111111,
              "#46039f"
             ],
             [
              0.2222222222222222,
              "#7201a8"
             ],
             [
              0.3333333333333333,
              "#9c179e"
             ],
             [
              0.4444444444444444,
              "#bd3786"
             ],
             [
              0.5555555555555556,
              "#d8576b"
             ],
             [
              0.6666666666666666,
              "#ed7953"
             ],
             [
              0.7777777777777778,
              "#fb9f3a"
             ],
             [
              0.8888888888888888,
              "#fdca26"
             ],
             [
              1,
              "#f0f921"
             ]
            ],
            "type": "heatmapgl"
           }
          ],
          "histogram": [
           {
            "marker": {
             "pattern": {
              "fillmode": "overlay",
              "size": 10,
              "solidity": 0.2
             }
            },
            "type": "histogram"
           }
          ],
          "histogram2d": [
           {
            "colorbar": {
             "outlinewidth": 0,
             "ticks": ""
            },
            "colorscale": [
             [
              0,
              "#0d0887"
             ],
             [
              0.1111111111111111,
              "#46039f"
             ],
             [
              0.2222222222222222,
              "#7201a8"
             ],
             [
              0.3333333333333333,
              "#9c179e"
             ],
             [
              0.4444444444444444,
              "#bd3786"
             ],
             [
              0.5555555555555556,
              "#d8576b"
             ],
             [
              0.6666666666666666,
              "#ed7953"
             ],
             [
              0.7777777777777778,
              "#fb9f3a"
             ],
             [
              0.8888888888888888,
              "#fdca26"
             ],
             [
              1,
              "#f0f921"
             ]
            ],
            "type": "histogram2d"
           }
          ],
          "histogram2dcontour": [
           {
            "colorbar": {
             "outlinewidth": 0,
             "ticks": ""
            },
            "colorscale": [
             [
              0,
              "#0d0887"
             ],
             [
              0.1111111111111111,
              "#46039f"
             ],
             [
              0.2222222222222222,
              "#7201a8"
             ],
             [
              0.3333333333333333,
              "#9c179e"
             ],
             [
              0.4444444444444444,
              "#bd3786"
             ],
             [
              0.5555555555555556,
              "#d8576b"
             ],
             [
              0.6666666666666666,
              "#ed7953"
             ],
             [
              0.7777777777777778,
              "#fb9f3a"
             ],
             [
              0.8888888888888888,
              "#fdca26"
             ],
             [
              1,
              "#f0f921"
             ]
            ],
            "type": "histogram2dcontour"
           }
          ],
          "mesh3d": [
           {
            "colorbar": {
             "outlinewidth": 0,
             "ticks": ""
            },
            "type": "mesh3d"
           }
          ],
          "parcoords": [
           {
            "line": {
             "colorbar": {
              "outlinewidth": 0,
              "ticks": ""
             }
            },
            "type": "parcoords"
           }
          ],
          "pie": [
           {
            "automargin": true,
            "type": "pie"
           }
          ],
          "scatter": [
           {
            "fillpattern": {
             "fillmode": "overlay",
             "size": 10,
             "solidity": 0.2
            },
            "type": "scatter"
           }
          ],
          "scatter3d": [
           {
            "line": {
             "colorbar": {
              "outlinewidth": 0,
              "ticks": ""
             }
            },
            "marker": {
             "colorbar": {
              "outlinewidth": 0,
              "ticks": ""
             }
            },
            "type": "scatter3d"
           }
          ],
          "scattercarpet": [
           {
            "marker": {
             "colorbar": {
              "outlinewidth": 0,
              "ticks": ""
             }
            },
            "type": "scattercarpet"
           }
          ],
          "scattergeo": [
           {
            "marker": {
             "colorbar": {
              "outlinewidth": 0,
              "ticks": ""
             }
            },
            "type": "scattergeo"
           }
          ],
          "scattergl": [
           {
            "marker": {
             "colorbar": {
              "outlinewidth": 0,
              "ticks": ""
             }
            },
            "type": "scattergl"
           }
          ],
          "scattermapbox": [
           {
            "marker": {
             "colorbar": {
              "outlinewidth": 0,
              "ticks": ""
             }
            },
            "type": "scattermapbox"
           }
          ],
          "scatterpolar": [
           {
            "marker": {
             "colorbar": {
              "outlinewidth": 0,
              "ticks": ""
             }
            },
            "type": "scatterpolar"
           }
          ],
          "scatterpolargl": [
           {
            "marker": {
             "colorbar": {
              "outlinewidth": 0,
              "ticks": ""
             }
            },
            "type": "scatterpolargl"
           }
          ],
          "scatterternary": [
           {
            "marker": {
             "colorbar": {
              "outlinewidth": 0,
              "ticks": ""
             }
            },
            "type": "scatterternary"
           }
          ],
          "surface": [
           {
            "colorbar": {
             "outlinewidth": 0,
             "ticks": ""
            },
            "colorscale": [
             [
              0,
              "#0d0887"
             ],
             [
              0.1111111111111111,
              "#46039f"
             ],
             [
              0.2222222222222222,
              "#7201a8"
             ],
             [
              0.3333333333333333,
              "#9c179e"
             ],
             [
              0.4444444444444444,
              "#bd3786"
             ],
             [
              0.5555555555555556,
              "#d8576b"
             ],
             [
              0.6666666666666666,
              "#ed7953"
             ],
             [
              0.7777777777777778,
              "#fb9f3a"
             ],
             [
              0.8888888888888888,
              "#fdca26"
             ],
             [
              1,
              "#f0f921"
             ]
            ],
            "type": "surface"
           }
          ],
          "table": [
           {
            "cells": {
             "fill": {
              "color": "#EBF0F8"
             },
             "line": {
              "color": "white"
             }
            },
            "header": {
             "fill": {
              "color": "#C8D4E3"
             },
             "line": {
              "color": "white"
             }
            },
            "type": "table"
           }
          ]
         },
         "layout": {
          "annotationdefaults": {
           "arrowcolor": "#2a3f5f",
           "arrowhead": 0,
           "arrowwidth": 1
          },
          "autotypenumbers": "strict",
          "coloraxis": {
           "colorbar": {
            "outlinewidth": 0,
            "ticks": ""
           }
          },
          "colorscale": {
           "diverging": [
            [
             0,
             "#8e0152"
            ],
            [
             0.1,
             "#c51b7d"
            ],
            [
             0.2,
             "#de77ae"
            ],
            [
             0.3,
             "#f1b6da"
            ],
            [
             0.4,
             "#fde0ef"
            ],
            [
             0.5,
             "#f7f7f7"
            ],
            [
             0.6,
             "#e6f5d0"
            ],
            [
             0.7,
             "#b8e186"
            ],
            [
             0.8,
             "#7fbc41"
            ],
            [
             0.9,
             "#4d9221"
            ],
            [
             1,
             "#276419"
            ]
           ],
           "sequential": [
            [
             0,
             "#0d0887"
            ],
            [
             0.1111111111111111,
             "#46039f"
            ],
            [
             0.2222222222222222,
             "#7201a8"
            ],
            [
             0.3333333333333333,
             "#9c179e"
            ],
            [
             0.4444444444444444,
             "#bd3786"
            ],
            [
             0.5555555555555556,
             "#d8576b"
            ],
            [
             0.6666666666666666,
             "#ed7953"
            ],
            [
             0.7777777777777778,
             "#fb9f3a"
            ],
            [
             0.8888888888888888,
             "#fdca26"
            ],
            [
             1,
             "#f0f921"
            ]
           ],
           "sequentialminus": [
            [
             0,
             "#0d0887"
            ],
            [
             0.1111111111111111,
             "#46039f"
            ],
            [
             0.2222222222222222,
             "#7201a8"
            ],
            [
             0.3333333333333333,
             "#9c179e"
            ],
            [
             0.4444444444444444,
             "#bd3786"
            ],
            [
             0.5555555555555556,
             "#d8576b"
            ],
            [
             0.6666666666666666,
             "#ed7953"
            ],
            [
             0.7777777777777778,
             "#fb9f3a"
            ],
            [
             0.8888888888888888,
             "#fdca26"
            ],
            [
             1,
             "#f0f921"
            ]
           ]
          },
          "colorway": [
           "#636efa",
           "#EF553B",
           "#00cc96",
           "#ab63fa",
           "#FFA15A",
           "#19d3f3",
           "#FF6692",
           "#B6E880",
           "#FF97FF",
           "#FECB52"
          ],
          "font": {
           "color": "#2a3f5f"
          },
          "geo": {
           "bgcolor": "white",
           "lakecolor": "white",
           "landcolor": "#E5ECF6",
           "showlakes": true,
           "showland": true,
           "subunitcolor": "white"
          },
          "hoverlabel": {
           "align": "left"
          },
          "hovermode": "closest",
          "mapbox": {
           "style": "light"
          },
          "paper_bgcolor": "white",
          "plot_bgcolor": "#E5ECF6",
          "polar": {
           "angularaxis": {
            "gridcolor": "white",
            "linecolor": "white",
            "ticks": ""
           },
           "bgcolor": "#E5ECF6",
           "radialaxis": {
            "gridcolor": "white",
            "linecolor": "white",
            "ticks": ""
           }
          },
          "scene": {
           "xaxis": {
            "backgroundcolor": "#E5ECF6",
            "gridcolor": "white",
            "gridwidth": 2,
            "linecolor": "white",
            "showbackground": true,
            "ticks": "",
            "zerolinecolor": "white"
           },
           "yaxis": {
            "backgroundcolor": "#E5ECF6",
            "gridcolor": "white",
            "gridwidth": 2,
            "linecolor": "white",
            "showbackground": true,
            "ticks": "",
            "zerolinecolor": "white"
           },
           "zaxis": {
            "backgroundcolor": "#E5ECF6",
            "gridcolor": "white",
            "gridwidth": 2,
            "linecolor": "white",
            "showbackground": true,
            "ticks": "",
            "zerolinecolor": "white"
           }
          },
          "shapedefaults": {
           "line": {
            "color": "#2a3f5f"
           }
          },
          "ternary": {
           "aaxis": {
            "gridcolor": "white",
            "linecolor": "white",
            "ticks": ""
           },
           "baxis": {
            "gridcolor": "white",
            "linecolor": "white",
            "ticks": ""
           },
           "bgcolor": "#E5ECF6",
           "caxis": {
            "gridcolor": "white",
            "linecolor": "white",
            "ticks": ""
           }
          },
          "title": {
           "x": 0.05
          },
          "xaxis": {
           "automargin": true,
           "gridcolor": "white",
           "linecolor": "white",
           "ticks": "",
           "title": {
            "standoff": 15
           },
           "zerolinecolor": "white",
           "zerolinewidth": 2
          },
          "yaxis": {
           "automargin": true,
           "gridcolor": "white",
           "linecolor": "white",
           "ticks": "",
           "title": {
            "standoff": 15
           },
           "zerolinecolor": "white",
           "zerolinewidth": 2
          }
         }
        },
        "xaxis": {
         "anchor": "y",
         "domain": [
          0,
          1
         ],
         "title": {
          "text": "stage"
         }
        },
        "yaxis": {
         "anchor": "x",
         "domain": [
          0,
          1
         ],
         "title": {
          "text": "duration"
         }
        }
       }
      }
     },
     "metadata": {},
     "output_type": "display_data"
    }
   ],
   "source": [
    "fig = px.bar(df_history, x=\"stage\", y=\"duration\", color=\"petname\", barmode=\"group\")\n",
    "\n",
    "fig.show()"
   ]
  },
  {
   "cell_type": "code",
   "execution_count": 19,
   "metadata": {},
   "outputs": [
    {
     "name": "stderr",
     "output_type": "stream",
     "text": [
      "C:\\Users\\lnae0002\\AppData\\Local\\Temp\\ipykernel_18028\\550369350.py:4: FutureWarning:\n",
      "\n",
      "The default value of numeric_only in DataFrameGroupBy.mean is deprecated. In a future version, numeric_only will default to False. Either specify numeric_only or select only columns which should be valid for the function.\n",
      "\n"
     ]
    },
    {
     "data": {
      "text/html": [
       "<div>\n",
       "<style scoped>\n",
       "    .dataframe tbody tr th:only-of-type {\n",
       "        vertical-align: middle;\n",
       "    }\n",
       "\n",
       "    .dataframe tbody tr th {\n",
       "        vertical-align: top;\n",
       "    }\n",
       "\n",
       "    .dataframe thead th {\n",
       "        text-align: right;\n",
       "    }\n",
       "</style>\n",
       "<table border=\"1\" class=\"dataframe\">\n",
       "  <thead>\n",
       "    <tr style=\"text-align: right;\">\n",
       "      <th></th>\n",
       "      <th>stage</th>\n",
       "      <th>petname</th>\n",
       "      <th>duration</th>\n",
       "    </tr>\n",
       "  </thead>\n",
       "  <tbody>\n",
       "    <tr>\n",
       "      <th>0</th>\n",
       "      <td>FiducialMilled</td>\n",
       "      <td>alert-prawn</td>\n",
       "      <td>21.845123</td>\n",
       "    </tr>\n",
       "    <tr>\n",
       "      <th>1</th>\n",
       "      <td>FiducialMilled</td>\n",
       "      <td>brief-lark</td>\n",
       "      <td>21.853174</td>\n",
       "    </tr>\n",
       "    <tr>\n",
       "      <th>2</th>\n",
       "      <td>FiducialMilled</td>\n",
       "      <td>fair-bison</td>\n",
       "      <td>21.849651</td>\n",
       "    </tr>\n",
       "    <tr>\n",
       "      <th>3</th>\n",
       "      <td>FiducialMilled</td>\n",
       "      <td>firm-bobcat</td>\n",
       "      <td>21.847729</td>\n",
       "    </tr>\n",
       "    <tr>\n",
       "      <th>4</th>\n",
       "      <td>FiducialMilled</td>\n",
       "      <td>grand-mouse</td>\n",
       "      <td>21.853731</td>\n",
       "    </tr>\n",
       "    <tr>\n",
       "      <th>5</th>\n",
       "      <td>PolishingCut</td>\n",
       "      <td>alert-prawn</td>\n",
       "      <td>0.518324</td>\n",
       "    </tr>\n",
       "    <tr>\n",
       "      <th>6</th>\n",
       "      <td>PolishingCut</td>\n",
       "      <td>brief-lark</td>\n",
       "      <td>89.987437</td>\n",
       "    </tr>\n",
       "    <tr>\n",
       "      <th>7</th>\n",
       "      <td>PolishingCut</td>\n",
       "      <td>fair-bison</td>\n",
       "      <td>22.878284</td>\n",
       "    </tr>\n",
       "    <tr>\n",
       "      <th>8</th>\n",
       "      <td>PolishingCut</td>\n",
       "      <td>firm-bobcat</td>\n",
       "      <td>45.243562</td>\n",
       "    </tr>\n",
       "    <tr>\n",
       "      <th>9</th>\n",
       "      <td>PolishingCut</td>\n",
       "      <td>grand-mouse</td>\n",
       "      <td>67.633583</td>\n",
       "    </tr>\n",
       "    <tr>\n",
       "      <th>10</th>\n",
       "      <td>RegularCut</td>\n",
       "      <td>alert-prawn</td>\n",
       "      <td>21.876809</td>\n",
       "    </tr>\n",
       "    <tr>\n",
       "      <th>11</th>\n",
       "      <td>RegularCut</td>\n",
       "      <td>brief-lark</td>\n",
       "      <td>21.877053</td>\n",
       "    </tr>\n",
       "    <tr>\n",
       "      <th>12</th>\n",
       "      <td>RegularCut</td>\n",
       "      <td>fair-bison</td>\n",
       "      <td>21.877206</td>\n",
       "    </tr>\n",
       "    <tr>\n",
       "      <th>13</th>\n",
       "      <td>RegularCut</td>\n",
       "      <td>firm-bobcat</td>\n",
       "      <td>21.892094</td>\n",
       "    </tr>\n",
       "    <tr>\n",
       "      <th>14</th>\n",
       "      <td>RegularCut</td>\n",
       "      <td>grand-mouse</td>\n",
       "      <td>21.885132</td>\n",
       "    </tr>\n",
       "    <tr>\n",
       "      <th>15</th>\n",
       "      <td>RoughCut</td>\n",
       "      <td>alert-prawn</td>\n",
       "      <td>21.854846</td>\n",
       "    </tr>\n",
       "    <tr>\n",
       "      <th>16</th>\n",
       "      <td>RoughCut</td>\n",
       "      <td>brief-lark</td>\n",
       "      <td>21.829996</td>\n",
       "    </tr>\n",
       "    <tr>\n",
       "      <th>17</th>\n",
       "      <td>RoughCut</td>\n",
       "      <td>fair-bison</td>\n",
       "      <td>21.859820</td>\n",
       "    </tr>\n",
       "    <tr>\n",
       "      <th>18</th>\n",
       "      <td>RoughCut</td>\n",
       "      <td>firm-bobcat</td>\n",
       "      <td>21.843569</td>\n",
       "    </tr>\n",
       "    <tr>\n",
       "      <th>19</th>\n",
       "      <td>RoughCut</td>\n",
       "      <td>grand-mouse</td>\n",
       "      <td>21.826576</td>\n",
       "    </tr>\n",
       "    <tr>\n",
       "      <th>20</th>\n",
       "      <td>Setup</td>\n",
       "      <td>alert-prawn</td>\n",
       "      <td>21.019316</td>\n",
       "    </tr>\n",
       "    <tr>\n",
       "      <th>21</th>\n",
       "      <td>Setup</td>\n",
       "      <td>brief-lark</td>\n",
       "      <td>21.021115</td>\n",
       "    </tr>\n",
       "    <tr>\n",
       "      <th>22</th>\n",
       "      <td>Setup</td>\n",
       "      <td>fair-bison</td>\n",
       "      <td>21.018004</td>\n",
       "    </tr>\n",
       "    <tr>\n",
       "      <th>23</th>\n",
       "      <td>Setup</td>\n",
       "      <td>firm-bobcat</td>\n",
       "      <td>21.017917</td>\n",
       "    </tr>\n",
       "    <tr>\n",
       "      <th>24</th>\n",
       "      <td>Setup</td>\n",
       "      <td>grand-mouse</td>\n",
       "      <td>21.016356</td>\n",
       "    </tr>\n",
       "  </tbody>\n",
       "</table>\n",
       "</div>"
      ],
      "text/plain": [
       "             stage      petname   duration\n",
       "0   FiducialMilled  alert-prawn  21.845123\n",
       "1   FiducialMilled   brief-lark  21.853174\n",
       "2   FiducialMilled   fair-bison  21.849651\n",
       "3   FiducialMilled  firm-bobcat  21.847729\n",
       "4   FiducialMilled  grand-mouse  21.853731\n",
       "5     PolishingCut  alert-prawn   0.518324\n",
       "6     PolishingCut   brief-lark  89.987437\n",
       "7     PolishingCut   fair-bison  22.878284\n",
       "8     PolishingCut  firm-bobcat  45.243562\n",
       "9     PolishingCut  grand-mouse  67.633583\n",
       "10      RegularCut  alert-prawn  21.876809\n",
       "11      RegularCut   brief-lark  21.877053\n",
       "12      RegularCut   fair-bison  21.877206\n",
       "13      RegularCut  firm-bobcat  21.892094\n",
       "14      RegularCut  grand-mouse  21.885132\n",
       "15        RoughCut  alert-prawn  21.854846\n",
       "16        RoughCut   brief-lark  21.829996\n",
       "17        RoughCut   fair-bison  21.859820\n",
       "18        RoughCut  firm-bobcat  21.843569\n",
       "19        RoughCut  grand-mouse  21.826576\n",
       "20           Setup  alert-prawn  21.019316\n",
       "21           Setup   brief-lark  21.021115\n",
       "22           Setup   fair-bison  21.018004\n",
       "23           Setup  firm-bobcat  21.017917\n",
       "24           Setup  grand-mouse  21.016356"
      ]
     },
     "metadata": {},
     "output_type": "display_data"
    }
   ],
   "source": [
    "# display(df_history)\n",
    "df_history[\"duration\"].mean()\n",
    "\n",
    "df_sorted = df_history.groupby([\"stage\", \"petname\"]).mean()\n",
    "df_sorted.drop(columns=[\"start\", \"end\"], inplace=True)\n",
    "df_sorted.reset_index(inplace=True)\n",
    "display(df_sorted)\n"
   ]
  }
 ],
 "metadata": {
  "kernelspec": {
   "display_name": "Python 3",
   "language": "python",
   "name": "python3"
  },
  "language_info": {
   "codemirror_mode": {
    "name": "ipython",
    "version": 3
   },
   "file_extension": ".py",
   "mimetype": "text/x-python",
   "name": "python",
   "nbconvert_exporter": "python",
   "pygments_lexer": "ipython3",
   "version": "3.9.16"
  },
  "orig_nbformat": 4
 },
 "nbformat": 4,
 "nbformat_minor": 2
}
