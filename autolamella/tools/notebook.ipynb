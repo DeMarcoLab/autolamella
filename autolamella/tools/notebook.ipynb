{
 "cells": [
  {
   "cell_type": "markdown",
   "metadata": {},
   "source": [
    "## AutoLamella Exports\n",
    "Exportable statistics for each experiment, including milling parameters, timing, and success rates."
   ]
  },
  {
   "cell_type": "code",
   "execution_count": null,
   "metadata": {},
   "outputs": [],
   "source": [
    "%load_ext autoreload\n",
    "%autoreload 2\n",
    "\n",
    "import glob\n",
    "import os\n",
    "from pprint import pprint\n",
    "import matplotlib.pyplot as plt\n",
    "import pandas as pd\n",
    "\n",
    "from fibsem.patterns.ui import draw_milling_patterns\n",
    "from fibsem import patterning\n",
    "from fibsem.structures import FibsemImage, Point\n",
    "\n",
    "from autolamella.structures import Experiment\n",
    "from autolamella.tools.data import calculate_statistics_dataframe\n",
    "\n",
    "\n",
    "pd.set_option(\"display.max_rows\", 50)\n"
   ]
  },
  {
   "cell_type": "code",
   "execution_count": null,
   "metadata": {},
   "outputs": [],
   "source": [
    "PATH = \"/home/patrick/data/monash-cryo-em/AutoLamella-Exports\" \n",
    "\n",
    "filenames = glob.glob(os.path.join(PATH, \"**/experiment.yaml\"), recursive=True)\n",
    "\n",
    "pprint(filenames)\n"
   ]
  },
  {
   "cell_type": "code",
   "execution_count": null,
   "metadata": {},
   "outputs": [],
   "source": [
    "from autolamella.structures import AutoLamellaStage\n",
    "\n",
    "for filename in filenames:\n",
    "    experiment_path = os.path.dirname(filename)\n",
    "    print(f\"Experiment: {experiment_path}\")\n",
    "\n",
    "    try:\n",
    "        exp = Experiment.load(os.path.join(experiment_path, \"experiment.yaml\"))\n",
    "\n",
    "\n",
    "        # (df_experiment, df_history, _, df_steps, df_stage, df_det, df_click) = calculate_statistics_dataframe(experiment_path, encoding=\"cp1252\")\n",
    "        # display(df_history)\n",
    "\n",
    "        print(f\"Total Lamella: {len(exp.positions)}, Finished Lamella: {len(exp.at_stage(AutoLamellaStage.Finished))})\")\n",
    "        failed_lamella = exp.at_failure()\n",
    "        print(f\"Failed Lamella: {[l.name for l in failed_lamella]}\")\n",
    "\n",
    "        df = exp._create_protocol_dataframe()\n",
    "        # drop spacing, rate, preset, spot_size #Tescan only\n",
    "        TESCAN_PARAMS = [\"spacing\", \"rate\", \"preset\", \"spot_size\"]\n",
    "        df = df.drop(columns=TESCAN_PARAMS)\n",
    "\n",
    "        # filter to WorkflowStage == \"MillRoughCut\", \"MillPolishingCut\", fiducial\n",
    "        milling_workflows = [\"MillRoughCut\", \"MillPolishingCut\", \"microexpansion\", \"fiducial\"]\n",
    "        df = df[df[\"WorkflowStage\"].isin(milling_workflows)]\n",
    "\n",
    "        # filter to only milling_current, voltage, depth\n",
    "        df = df[[\"Experiment\", \"Lamella\", \"WorkflowStage\", \"MillingStage\", \"type\", \"milling_current\", \"milling_voltage\", \"depth\", \"lamella_height\", \"lamella_width\", \"height\", \"width\"]]\n",
    "        display(df)\n",
    "\n",
    "        # save to csv at exp.path \"milling.csv\"\n",
    "        df.to_csv(os.path.join(exp.path, \"milling.csv\"), index=False)\n",
    "\n",
    "        # continue\n",
    "        for pos in exp.positions:\n",
    "            \n",
    "            if not pos.is_failure:\n",
    "                continue\n",
    "            print(f\"{pos.name}: {pos.failure_note}\")\n",
    "            \n",
    "            # load milling stages\n",
    "            protocol = pos.protocol\n",
    "            milling_stages = []\n",
    "            for mw in milling_workflows:\n",
    "                stages = patterning.get_milling_stages(key=mw, protocol=protocol, point=Point.from_dict(protocol[mw][\"point\"]))\n",
    "                milling_stages.extend(stages)\n",
    "                \n",
    "            # TODO: lamella path is not correct when re-loaded on another machine\n",
    "            fib_image = FibsemImage.load(os.path.join(exp.path, pos.name, \"ref_MillPolishingCut_final_high_res_ib.tif\"))\n",
    "            sem_image = FibsemImage.load(os.path.join(exp.path, pos.name, \"ref_MillPolishingCut_final_high_res_eb.tif\"))\n",
    "\n",
    "            fig, ax1 = draw_milling_patterns(fib_image, milling_stages)\n",
    "            plt.title(pos.name)\n",
    "            plt.show()\n",
    "\n",
    "            fig, ax = plt.subplots(1, 2, figsize=(10, 5))\n",
    "            ax[0].imshow(sem_image.data, cmap=\"gray\")\n",
    "            ax[1].imshow(fib_image.data, cmap=\"gray\")\n",
    "\n",
    "            plt.show()\n",
    "\n",
    "            print(\"-\"*80)\n",
    "            continue\n",
    "    except Exception as e:\n",
    "        print(e)\n",
    "        continue\n",
    "    "
   ]
  }
 ],
 "metadata": {
  "kernelspec": {
   "display_name": "fibsem",
   "language": "python",
   "name": "python3"
  },
  "language_info": {
   "codemirror_mode": {
    "name": "ipython",
    "version": 3
   },
   "file_extension": ".py",
   "mimetype": "text/x-python",
   "name": "python",
   "nbconvert_exporter": "python",
   "pygments_lexer": "ipython3",
   "version": "3.9.18"
  },
  "orig_nbformat": 4
 },
 "nbformat": 4,
 "nbformat_minor": 2
}
