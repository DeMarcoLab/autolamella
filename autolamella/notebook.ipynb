{
 "cells": [
  {
   "cell_type": "code",
   "execution_count": 7,
   "metadata": {},
   "outputs": [
    {
     "name": "stdout",
     "output_type": "stream",
     "text": [
      "The autoreload extension is already loaded. To reload it, use:\n",
      "  %reload_ext autoreload\n"
     ]
    }
   ],
   "source": [
    "%load_ext autoreload\n",
    "%autoreload 2\n",
    "\n",
    "from fibsem import utils, acquire, milling, conversions, structures\n",
    "\n",
    "from fibsem.structures import BeamType, Point, FibsemRectangle\n"
   ]
  },
  {
   "cell_type": "code",
   "execution_count": 2,
   "metadata": {},
   "outputs": [
    {
     "name": "stdout",
     "output_type": "stream",
     "text": [
      "2023-03-10 12:16:57,381 — root — INFO — connect_to_microscope:366 — Microscope client connecting to [10.0.0.1:7520]\n",
      "Client connecting to [10.0.0.1:7520]...\n",
      "Client connected to [10.0.0.1:7520]\n",
      "2023-03-10 12:16:57,387 — root — INFO — connect_to_microscope:368 — Microscope client connected to [10.0.0.1:7520]\n",
      "2023-03-10 12:16:57,388 — root — INFO — setup_session:227 — Finished setup for session: demo_2023-03-10-12-16-57PM\n"
     ]
    }
   ],
   "source": [
    "microscope, settings = utils.setup_session(config_path=r\"C:\\Users\\Admin\\Github\\autolamella\\autolamella\")"
   ]
  },
  {
   "cell_type": "code",
   "execution_count": 4,
   "metadata": {},
   "outputs": [
    {
     "name": "stdout",
     "output_type": "stream",
     "text": [
      "2023-03-10 12:17:55,544 — root — INFO — autocontrast:473 — Running autocontrast on ION.\n",
      "2023-03-10 12:17:56,151 — root — INFO — acquire_image:412 — acquiring new ION image.\n"
     ]
    }
   ],
   "source": [
    "\n",
    "settings.image.beam_type = BeamType.ION\n",
    "ref_image = acquire.new_image(microscope, settings.image)\n"
   ]
  },
  {
   "cell_type": "code",
   "execution_count": 35,
   "metadata": {},
   "outputs": [
    {
     "name": "stdout",
     "output_type": "stream",
     "text": [
      "RESOLUTION:  [1536, 1024]\n",
      "CENTRE: Point(x=-5e-05, y=-1e-05) Point(x=-512, y=-102)\n",
      "LENGTH: 3e-05 460.5\n",
      "LEFT:  0.02 TOP: 0.18\n",
      "WIDTH: 0.30 HEIGHT: 0.45\n",
      "FibsemRectangle(left=0.016764322916666685, top=0.175537109375, width=0.2998046875, height=0.44970703125)\n",
      "2023-03-10 12:37:50,579 — root — INFO — autocontrast:473 — Running autocontrast on ION.\n",
      "2023-03-10 12:37:51,246 — root — INFO — acquire_image:412 — acquiring new ION image.\n",
      "FibsemRectangle(left=0.016764322916666685, top=0.175537109375, width=0.2998046875, height=0.44970703125)\n"
     ]
    }
   ],
   "source": [
    "\n",
    "\n",
    "\n",
    "\n",
    "pixelsize = ref_image.metadata.pixel_size.x\n",
    "fiducial_centre = Point(-50e-6, -10e-6)\n",
    "fiducial_length = 30e-6 # microscope_settings.protocol[\"fiducial\"][\"length\"] \n",
    "fiducial_area = calculate_fiducial_area(settings, fiducial_centre, fiducial_length, pixelsize)\n",
    "\n",
    "print(fiducial_area)\n",
    "\n",
    "settings.image.reduced_area = fiducial_area\n",
    "image = acquire.new_image(microscope, settings.image)\n",
    "print(image.metadata.image_settings.reduced_area)\n"
   ]
  },
  {
   "cell_type": "code",
   "execution_count": null,
   "metadata": {},
   "outputs": [],
   "source": []
  }
 ],
 "metadata": {
  "kernelspec": {
   "display_name": "fibsem",
   "language": "python",
   "name": "python3"
  },
  "language_info": {
   "codemirror_mode": {
    "name": "ipython",
    "version": 3
   },
   "file_extension": ".py",
   "mimetype": "text/x-python",
   "name": "python",
   "nbconvert_exporter": "python",
   "pygments_lexer": "ipython3",
   "version": "3.6.7"
  },
  "orig_nbformat": 4
 },
 "nbformat": 4,
 "nbformat_minor": 2
}
