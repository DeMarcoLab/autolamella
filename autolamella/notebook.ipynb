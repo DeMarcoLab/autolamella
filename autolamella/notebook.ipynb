{
 "cells": [
  {
   "cell_type": "code",
   "execution_count": null,
   "metadata": {},
   "outputs": [],
   "source": [
    "%load_ext autoreload\n",
    "%autoreload 2\n",
    "\n",
    "from fibsem import utils, acquire, milling, conversions, structures\n",
    "\n",
    "from fibsem.structures import BeamType, Point, FibsemRectangle\n"
   ]
  },
  {
   "cell_type": "code",
   "execution_count": null,
   "metadata": {},
   "outputs": [],
   "source": [
    "microscope, settings = utils.setup_session(config_path=r\"C:\\Users\\Admin\\Github\\autolamella\\autolamella\")"
   ]
  },
  {
   "cell_type": "code",
   "execution_count": null,
   "metadata": {},
   "outputs": [],
   "source": [
    "\n",
    "settings.image.beam_type = BeamType.ION\n",
    "ref_image = acquire.new_image(microscope, settings.image)\n"
   ]
  },
  {
   "cell_type": "code",
   "execution_count": null,
   "metadata": {},
   "outputs": [],
   "source": [
    "\n",
    "\n",
    "\n",
    "\n",
    "pixelsize = ref_image.metadata.pixel_size.x\n",
    "fiducial_centre = Point(-50e-6, -10e-6)\n",
    "fiducial_length = 30e-6 # microscope_settings.protocol[\"fiducial\"][\"length\"] \n",
    "fiducial_area = calculate_fiducial_area(settings, fiducial_centre, fiducial_length, pixelsize)\n",
    "\n",
    "print(fiducial_area)\n",
    "\n",
    "settings.image.reduced_area = fiducial_area\n",
    "image = acquire.new_image(microscope, settings.image)\n",
    "print(image.metadata.image_settings.reduced_area)\n"
   ]
  },
  {
   "cell_type": "code",
   "execution_count": null,
   "metadata": {},
   "outputs": [],
   "source": []
  },
  {
   "cell_type": "markdown",
   "metadata": {},
   "source": [
    "## Minimap\n",
    "Position Display"
   ]
  },
  {
   "cell_type": "code",
   "execution_count": null,
   "metadata": {},
   "outputs": [],
   "source": [
    "%load_ext autoreload\n",
    "%autoreload 2\n",
    "\n",
    "from fibsem import utils, acquire, milling, conversions, structures\n",
    "from fibsem.structures import FibsemImage, BeamType\n",
    "import os\n",
    "from fibsem.imaging import _tile\n",
    "\n",
    "import matplotlib.pyplot as plt\n",
    "from autolamella.structures import Experiment\n",
    "\n",
    "# microscope, settings = utils.setup_session()\n"
   ]
  },
  {
   "cell_type": "code",
   "execution_count": null,
   "metadata": {},
   "outputs": [],
   "source": [
    "\n",
    "PATH = r\"C:\\Users\\Admin\\Github\\autolamella\\autolamella\\log\\TEST_DEV_01\"\n",
    "# EXP_PATH = r\"C:\\Users\\Admin\\Github\\autolamella\\autolamella\\log\\HANNAH-WAFFLE-26072023\\experiment.yaml\"\n",
    "exp = Experiment.load(os.path.join(PATH, \"experiment.yaml\"))\n",
    "# image = FibsemImage.load(os.path.join(PATH, \"overview-image-ion-auto-gamma.tif\"))\n",
    "ion_image = FibsemImage.load(os.path.join(PATH, \"overview-ion-start.tif\"))\n",
    "# ion_image = FibsemImage.load(os.path.join(PATH, \"overview-ion-trench.tif\"))\n",
    "\n",
    "plt.imshow(ion_image.data, cmap=\"gray\")\n",
    "plt.show()"
   ]
  },
  {
   "cell_type": "code",
   "execution_count": null,
   "metadata": {},
   "outputs": [],
   "source": [
    "from autolamella.tools.data import create_history_dataframe, calculate_statistics_dataframe\n",
    "import plotly.express as px\n",
    "import pandas as pd\n",
    "\n",
    "\n",
    "pd.set_option('display.max_rows', 300)\n",
    "\n",
    "df_experiment, df_history, df_beam_shift, df_steps, df_stage = calculate_statistics_dataframe(PATH)\n",
    "\n",
    "# display(df_steps)\n"
   ]
  },
  {
   "cell_type": "code",
   "execution_count": null,
   "metadata": {},
   "outputs": [],
   "source": [
    "fig = px.bar(df_history, x=\"stage\", y=\"duration\", color=\"petname\", barmode=\"group\", hover_data=df.columns)\n",
    "fig.show()"
   ]
  },
  {
   "cell_type": "code",
   "execution_count": null,
   "metadata": {},
   "outputs": [],
   "source": [
    "# display(df_stage)\n",
    "\n",
    "df_stage_filter = df_stage[df_stage[\"stage\"] != \"Setup\"]\n",
    "# drop relative moves \n",
    "df_stage_filter = df_stage_filter[df_stage_filter[\"type\"] != \"relative\"]\n",
    "\n",
    "# drop x=0, y=0\n",
    "df_stage_filter = df_stage_filter[df_stage_filter[\"x\"] != 0]\n",
    "df_stage_filter = df_stage_filter[df_stage_filter[\"y\"] != 0]\n",
    "\n",
    "\n",
    "px.line(df_stage_filter, x=\"x\", y=\"y\", color=\"stage\",symbol=\"lamella\",  title=\"Stage History\")\n"
   ]
  },
  {
   "cell_type": "code",
   "execution_count": null,
   "metadata": {},
   "outputs": [],
   "source": [
    "# display(df_steps)\n",
    "\n",
    "fig = px.bar(df_steps, x=\"lamella\", y=\"duration\", color=\"step\", title=\"Step Duration\", barmode=\"stack\", facet_col=\"stage\")\n",
    "\n",
    "fig.show()\n",
    "# plot time series with x= step_n and y = timestamp with step  as hover text\n",
    "df_steps.dropna(inplace=True)\n",
    "df_steps.duration =df_steps.duration.astype(int)\n",
    "\n",
    "# convert timestamp to datetime, aus timezone \n",
    "df_steps.timestamp = pd.to_datetime(df_steps.timestamp, unit=\"s\")\n",
    "\n",
    "# convert timestamp to australian timezone\n",
    "df_steps.timestamp = df_steps.timestamp.dt.tz_localize(\"UTC\").dt.tz_convert(\"Australia/Sydney\")\n",
    "\n",
    "fig = px.scatter(df_steps, x=\"step_n\", y=\"timestamp\", color=\"stage\", symbol=\"lamella\",\n",
    "    title=\"AutoLamella Timeline\", \n",
    "    hover_name=\"stage\", hover_data=[\"lamella\", \"step_n\", \"step\"],)\n",
    "    # size = \"duration\", size_max=20)\n",
    "\n",
    "fig.show()"
   ]
  },
  {
   "cell_type": "code",
   "execution_count": null,
   "metadata": {},
   "outputs": [],
   "source": []
  },
  {
   "cell_type": "code",
   "execution_count": null,
   "metadata": {},
   "outputs": [],
   "source": []
  },
  {
   "cell_type": "code",
   "execution_count": null,
   "metadata": {},
   "outputs": [],
   "source": [
    "\n"
   ]
  },
  {
   "cell_type": "code",
   "execution_count": null,
   "metadata": {},
   "outputs": [],
   "source": [
    "\n",
    "from autolamella.tools.data import create_history_dataframe\n",
    "df = create_history_dataframe(exp)\n",
    "display(df)\n",
    "\n",
    "import plotly.express as px\n",
    "\n",
    "fig = px.bar(df, x=\"petname\", y=\"duration\", color=\"stage\", barmode=\"group\", hover_data=df.columns)\n",
    "fig.show()"
   ]
  },
  {
   "cell_type": "code",
   "execution_count": null,
   "metadata": {},
   "outputs": [],
   "source": [
    "\n",
    "positions = {\n",
    "    \"MillTrench\": [],\n",
    "    \"MillUndercut\": [],\n",
    "    \"ReadyLamella\": [],\n",
    "}\n",
    "for lamella in exp.positions:\n",
    "    for state in lamella.history:\n",
    "        \n",
    "        if state.stage.name in positions.keys():\n",
    "            positions[state.stage.name].append(state.microscope_state.absolute_position)\n",
    "            positions[state.stage.name][-1].name = f\"{lamella._petname}\"# [{state.stage.name}]\"\n",
    "\n",
    "# pprint(positions)"
   ]
  },
  {
   "cell_type": "code",
   "execution_count": null,
   "metadata": {},
   "outputs": [],
   "source": [
    "\n",
    "key = \"MillTrench\"\n",
    "fig = _tile._plot_positions(ion_image, positions[key], show=True)\n",
    "fig.savefig(os.path.join(PATH, f\"overview-positions-{key.lower()}.png\"), dpi=300, bbox_inches='tight')"
   ]
  },
  {
   "cell_type": "code",
   "execution_count": null,
   "metadata": {},
   "outputs": [],
   "source": [
    "fig = _tile._plot_positions(eb_image, positions[\"MillUndercut\"], show=True)\n",
    "fig.savefig(os.path.join(PATH, \"overview-positions-mill-undercut.png\"), dpi=300, bbox_inches='tight')\n"
   ]
  },
  {
   "cell_type": "code",
   "execution_count": null,
   "metadata": {},
   "outputs": [],
   "source": [
    "fig = _tile._plot_positions(eb_image, positions[\"ReadyLamella\"], show=True)\n",
    "fig.savefig(os.path.join(PATH, \"overview-positions-mill-lamella.png\"), dpi=300, bbox_inches='tight')"
   ]
  },
  {
   "cell_type": "code",
   "execution_count": null,
   "metadata": {},
   "outputs": [],
   "source": [
    "_n"
   ]
  },
  {
   "cell_type": "code",
   "execution_count": null,
   "metadata": {},
   "outputs": [],
   "source": [
    "%load_ext autoreload\n",
    "%autoreload 2\n",
    "\n",
    "\n",
    "from fibsem import utils, acquire\n",
    "from fibsem.structures import FibsemRectangle, MicroscopeState, Point, BeamType, FibsemImage\n",
    "from autolamella import waffle as wfl\n",
    "from autolamella.structures import Experiment, Lamella\n",
    "import os\n",
    "import glob\n",
    "\n",
    "from fibsem.imaging import _tile\n",
    "from pprint import pprint \n"
   ]
  },
  {
   "cell_type": "code",
   "execution_count": null,
   "metadata": {},
   "outputs": [],
   "source": [
    "PATH = r\"C:\\Users\\Admin\\Github\\autolamella\\autolamella\\log\\HANNAH-WAFFLE-02-02082023\"\n",
    "\n",
    "TILE_PATH = \"overview-ion-grid01\"\n",
    "\n",
    "\n",
    "\n",
    "filenames0 = sorted(glob.glob(os.path.join(PATH, TILE_PATH, \"tile_0*.tif\")))\n",
    "filenames1 = sorted(glob.glob(os.path.join(PATH, TILE_PATH, \"tile_1*.tif\")))\n",
    "filenames2 = sorted(glob.glob(os.path.join(PATH, TILE_PATH, \"tile_2*.tif\")))\n",
    "filenames3 = sorted(glob.glob(os.path.join(PATH, TILE_PATH, \"tile_3*.tif\")))\n",
    "\n",
    "\n",
    "\n",
    "images= [[FibsemImage.load(fname) for fname in filenames0], \n",
    "         [FibsemImage.load(fname) for fname in filenames1],\n",
    "            [FibsemImage.load(fname) for fname in filenames2],\n",
    "            [FibsemImage.load(fname) for fname in filenames3]]\n",
    "# big_image = FibsemImage.load(os.path.join(PATH, TILE_PATH, f\"big_image_ib.tif\"))\n",
    "\n",
    "\n",
    "\n",
    "# plot all images as a grid\n",
    "\n",
    "fig, ax = plt.subplots(4,4, figsize=(10,10))\n",
    "\n",
    "for i in range(4):\n",
    "    for j in range(4):\n",
    "        ax[i,j].imshow(images[i][j].data, cmap=\"gray\")\n",
    "        ax[i,j].axis(\"off\")\n",
    "\n",
    "plt.subplots_adjust(wspace=0, hspace=0)\n",
    "plt.show()\n",
    "\n",
    "# ddict = utils.load_yaml(os.path.join(PATH, TILE_PATH, f\"{TILE_PATH}.yaml\"))\n",
    "# ddict[\"images\"] = images\n",
    "# ddict[\"big_image\"] = big_image\n",
    "# ddict[\"prev-label\"] = \"overivew-ion-grid02-clahe\"\n",
    "\n",
    "# from fibsem.structures import ImageSettings\n",
    "\n",
    "# ddict[\"image_settings\"] = ImageSettings.__from_dict__(ddict[\"image_settings\"])\n",
    "# ddict[\"start_state\"] = MicroscopeState.__from_dict__(ddict[\"start_state\"])\n",
    "# pprint(ddict)"
   ]
  },
  {
   "cell_type": "code",
   "execution_count": null,
   "metadata": {},
   "outputs": [],
   "source": [
    "image = _tile._stitch_images(ddict[\"images\"], ddict, overlap=0)\n",
    "\n",
    "\n",
    "tile_image = FibsemImage.load(os.path.join(PATH, f\"{TILE_PATH}.tif\"))\n",
    "\n",
    "# plot\n",
    "import matplotlib.pyplot as plt\n",
    "fig, ax = plt.subplots(1, 2, figsize=(30, 15))\n",
    "ax[0].imshow(image.data, cmap=\"gray\")\n",
    "ax[1].imshow(tile_image.data, cmap=\"gray\")\n",
    "plt.show()\n"
   ]
  },
  {
   "cell_type": "code",
   "execution_count": null,
   "metadata": {},
   "outputs": [],
   "source": [
    "import numpy as np\n",
    "import matplotlib.pyplot as plt\n",
    "\n",
    "\n",
    "# create a grid of lines on a blank image\n",
    "\n",
    "grid_shape = (4*1024, 4*1024)\n",
    "arr = np.zeros(shape=grid_shape, dtype=np.uint8)\n",
    "\n",
    "\n",
    "# create grid, grid bars thickness = 10px\n",
    "BAR_THICKNESS_PX = 50\n",
    "BAR_SPACING_PX = 170\n",
    "for i in range(0, arr.shape[0], BAR_SPACING_PX ):\n",
    "    arr[i:i+BAR_THICKNESS_PX, :] = 255\n",
    "    arr[:, i:i+BAR_THICKNESS_PX] = 255\n",
    "\n",
    "import tifffile as tff\n",
    "PATH = r\"C:\\Users\\Admin\\Github\\autolamella\\autolamella\\log\\HANNAH-WAFFLE-02-02082023\"\n",
    "\n",
    "tff.imwrite(os.path.join(PATH, \"grid-bar.tif\"), arr)\n",
    "\n",
    "fig = plt.figure(figsize=(15, 15))\n",
    "plt.imshow(arr, cmap=\"gray\")\n",
    "plt.axis(\"off\")\n",
    "plt.show()\n"
   ]
  },
  {
   "cell_type": "code",
   "execution_count": null,
   "metadata": {},
   "outputs": [],
   "source": []
  },
  {
   "cell_type": "markdown",
   "metadata": {},
   "source": [
    "### DETECTION LOGGING RE-IMPLEMENTATION"
   ]
  },
  {
   "cell_type": "code",
   "execution_count": 1,
   "metadata": {},
   "outputs": [
    {
     "name": "stdout",
     "output_type": "stream",
     "text": [
      "--------------------------------------------------------------------------------\n"
     ]
    },
    {
     "data": {
      "text/html": [
       "<div>\n",
       "<style scoped>\n",
       "    .dataframe tbody tr th:only-of-type {\n",
       "        vertical-align: middle;\n",
       "    }\n",
       "\n",
       "    .dataframe tbody tr th {\n",
       "        vertical-align: top;\n",
       "    }\n",
       "\n",
       "    .dataframe thead th {\n",
       "        text-align: right;\n",
       "    }\n",
       "</style>\n",
       "<table border=\"1\" class=\"dataframe\">\n",
       "  <thead>\n",
       "    <tr style=\"text-align: right;\">\n",
       "      <th></th>\n",
       "      <th>experiment_name</th>\n",
       "      <th>experiment_path</th>\n",
       "      <th>experiment_created_at</th>\n",
       "      <th>experiment_id</th>\n",
       "      <th>number</th>\n",
       "      <th>petname</th>\n",
       "      <th>path</th>\n",
       "      <th>lamella.x</th>\n",
       "      <th>lamella.y</th>\n",
       "      <th>lamella.z</th>\n",
       "      <th>lamella.r</th>\n",
       "      <th>lamella.t</th>\n",
       "      <th>last_timestamp</th>\n",
       "      <th>name</th>\n",
       "    </tr>\n",
       "  </thead>\n",
       "  <tbody>\n",
       "    <tr>\n",
       "      <th>0</th>\n",
       "      <td>DEV_DET_LOGGING</td>\n",
       "      <td>/home/patrick/github/autolamella/autolamella/l...</td>\n",
       "      <td>1.691405e+09</td>\n",
       "      <td>None</td>\n",
       "      <td>1</td>\n",
       "      <td>01-nice-finch</td>\n",
       "      <td>/home/patrick/github/autolamella/autolamella/l...</td>\n",
       "      <td>-0.000028</td>\n",
       "      <td>0.000026</td>\n",
       "      <td>-0.000037</td>\n",
       "      <td>0.0</td>\n",
       "      <td>-0.785398</td>\n",
       "      <td>1.691405e+09</td>\n",
       "      <td>DEV_DET_LOGGING</td>\n",
       "    </tr>\n",
       "    <tr>\n",
       "      <th>1</th>\n",
       "      <td>DEV_DET_LOGGING</td>\n",
       "      <td>/home/patrick/github/autolamella/autolamella/l...</td>\n",
       "      <td>1.691405e+09</td>\n",
       "      <td>None</td>\n",
       "      <td>2</td>\n",
       "      <td>02-hardy-panda</td>\n",
       "      <td>/home/patrick/github/autolamella/autolamella/l...</td>\n",
       "      <td>-0.000121</td>\n",
       "      <td>0.000031</td>\n",
       "      <td>-0.000018</td>\n",
       "      <td>0.0</td>\n",
       "      <td>-0.785398</td>\n",
       "      <td>1.691405e+09</td>\n",
       "      <td>DEV_DET_LOGGING</td>\n",
       "    </tr>\n",
       "  </tbody>\n",
       "</table>\n",
       "</div>"
      ],
      "text/plain": [
       "   experiment_name                                    experiment_path  \\\n",
       "0  DEV_DET_LOGGING  /home/patrick/github/autolamella/autolamella/l...   \n",
       "1  DEV_DET_LOGGING  /home/patrick/github/autolamella/autolamella/l...   \n",
       "\n",
       "   experiment_created_at experiment_id  number         petname  \\\n",
       "0           1.691405e+09          None       1   01-nice-finch   \n",
       "1           1.691405e+09          None       2  02-hardy-panda   \n",
       "\n",
       "                                                path  lamella.x  lamella.y  \\\n",
       "0  /home/patrick/github/autolamella/autolamella/l...  -0.000028   0.000026   \n",
       "1  /home/patrick/github/autolamella/autolamella/l...  -0.000121   0.000031   \n",
       "\n",
       "   lamella.z  lamella.r  lamella.t  last_timestamp             name  \n",
       "0  -0.000037        0.0  -0.785398    1.691405e+09  DEV_DET_LOGGING  \n",
       "1  -0.000018        0.0  -0.785398    1.691405e+09  DEV_DET_LOGGING  "
      ]
     },
     "metadata": {},
     "output_type": "display_data"
    }
   ],
   "source": [
    "%load_ext autoreload\n",
    "%autoreload 2\n",
    "\n",
    "from fibsem import utils, acquire, milling, conversions, structures\n",
    "from fibsem.structures import FibsemImage, BeamType\n",
    "import os\n",
    "from fibsem.imaging import _tile\n",
    "\n",
    "import matplotlib.pyplot as plt\n",
    "from autolamella.structures import Experiment\n",
    "\n",
    "\n",
    "from autolamella.tools.data import create_history_dataframe, calculate_statistics_dataframe\n",
    "import plotly.express as px\n",
    "import pandas as pd\n",
    "\n",
    "\n",
    "pd.set_option('display.max_rows', 300)\n",
    "\n",
    "PATH = \"/home/patrick/github/autolamella/autolamella/log/DEV_DET_LOGGING\"\n",
    "df_experiment, df_history, df_beam_shift, df_steps, df_stage, df_det = calculate_statistics_dataframe(PATH)\n",
    "\n",
    "\n",
    "display(df_experiment)\n"
   ]
  },
  {
   "cell_type": "code",
   "execution_count": null,
   "metadata": {},
   "outputs": [],
   "source": [
    "\n",
    "\n",
    "# plot scatter with plotly\n",
    "import plotly.express as px\n",
    "\n",
    "fig = px.scatter(df_det, x=\"dpx_x\", y=\"dpx_y\", \n",
    "    color=\"stage\", symbol=\"feature\", hover_data=[\"lamella\", \"step\", \"is_correct\"])\n",
    "\n",
    "fig.show()"
   ]
  },
  {
   "cell_type": "code",
   "execution_count": null,
   "metadata": {},
   "outputs": [],
   "source": [
    "# calculate percentage correct per feature\n",
    "\n",
    "df_group = df_det.groupby([\"feature\", \"is_correct\"]).count().reset_index() \n",
    "\n",
    "df_group = df_group.pivot(index=\"feature\", columns=\"is_correct\", values=\"lamella\")\n",
    "display(df_group)\n",
    "\n",
    "df_group[\"total\"] = df_group[\"True\"] + df_group[\"False\"]\n",
    "df_group[\"percent_correct\"] = df_group[\"True\"] / df_group[\"total\"]\n",
    "df_group[\"percent_correct\"] = df_group[\"percent_correct\"].round(2)\n",
    "df_group = df_group.sort_values(by=\"percent_correct\", ascending=False)\n",
    "df_group.reset_index(inplace=True)\n",
    "display(df_group)\n"
   ]
  },
  {
   "cell_type": "code",
   "execution_count": null,
   "metadata": {},
   "outputs": [],
   "source": []
  }
 ],
 "metadata": {
  "kernelspec": {
   "display_name": "fibsem",
   "language": "python",
   "name": "python3"
  },
  "language_info": {
   "codemirror_mode": {
    "name": "ipython",
    "version": 3
   },
   "file_extension": ".py",
   "mimetype": "text/x-python",
   "name": "python",
   "nbconvert_exporter": "python",
   "pygments_lexer": "ipython3",
   "version": "3.9.16"
  },
  "orig_nbformat": 4
 },
 "nbformat": 4,
 "nbformat_minor": 2
}
