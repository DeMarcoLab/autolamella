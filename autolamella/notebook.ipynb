{
 "cells": [
  {
   "cell_type": "code",
   "execution_count": null,
   "metadata": {},
   "outputs": [],
   "source": [
    "%load_ext autoreload\n",
    "%autoreload 2\n",
    "\n",
    "from fibsem import utils, acquire, milling, conversions, structures\n",
    "\n",
    "from fibsem.structures import BeamType, Point, FibsemRectangle\n"
   ]
  },
  {
   "cell_type": "code",
   "execution_count": null,
   "metadata": {},
   "outputs": [],
   "source": [
    "microscope, settings = utils.setup_session(config_path=r\"C:\\Users\\Admin\\Github\\autolamella\\autolamella\")"
   ]
  },
  {
   "cell_type": "code",
   "execution_count": null,
   "metadata": {},
   "outputs": [],
   "source": [
    "\n",
    "settings.image.beam_type = BeamType.ION\n",
    "ref_image = acquire.new_image(microscope, settings.image)\n"
   ]
  },
  {
   "cell_type": "code",
   "execution_count": null,
   "metadata": {},
   "outputs": [],
   "source": [
    "\n",
    "\n",
    "\n",
    "\n",
    "pixelsize = ref_image.metadata.pixel_size.x\n",
    "fiducial_centre = Point(-50e-6, -10e-6)\n",
    "fiducial_length = 30e-6 # microscope_settings.protocol[\"fiducial\"][\"length\"] \n",
    "fiducial_area = calculate_fiducial_area(settings, fiducial_centre, fiducial_length, pixelsize)\n",
    "\n",
    "print(fiducial_area)\n",
    "\n",
    "settings.image.reduced_area = fiducial_area\n",
    "image = acquire.new_image(microscope, settings.image)\n",
    "print(image.metadata.image_settings.reduced_area)\n"
   ]
  },
  {
   "cell_type": "code",
   "execution_count": null,
   "metadata": {},
   "outputs": [],
   "source": []
  },
  {
   "cell_type": "markdown",
   "metadata": {},
   "source": [
    "## Minimap\n",
    "Position Display"
   ]
  },
  {
   "cell_type": "code",
   "execution_count": null,
   "metadata": {},
   "outputs": [],
   "source": [
    "%load_ext autoreload\n",
    "%autoreload 2\n",
    "\n",
    "from fibsem import utils, acquire, milling, conversions, structures\n",
    "from fibsem.structures import FibsemImage, BeamType\n",
    "import os\n",
    "from fibsem.imaging import _tile\n",
    "\n",
    "import matplotlib.pyplot as plt\n",
    "from autolamella.structures import Experiment\n",
    "\n",
    "# microscope, settings = utils.setup_session()\n"
   ]
  },
  {
   "cell_type": "code",
   "execution_count": null,
   "metadata": {},
   "outputs": [],
   "source": [
    "\n",
    "PATH = r\"C:\\Users\\Admin\\Github\\autolamella\\autolamella\\log\\TEST_DEV_01\"\n",
    "# EXP_PATH = r\"C:\\Users\\Admin\\Github\\autolamella\\autolamella\\log\\HANNAH-WAFFLE-26072023\\experiment.yaml\"\n",
    "exp = Experiment.load(os.path.join(PATH, \"experiment.yaml\"))\n",
    "# image = FibsemImage.load(os.path.join(PATH, \"overview-image-ion-auto-gamma.tif\"))\n",
    "ion_image = FibsemImage.load(os.path.join(PATH, \"overview-ion-start.tif\"))\n",
    "# ion_image = FibsemImage.load(os.path.join(PATH, \"overview-ion-trench.tif\"))\n",
    "\n",
    "plt.imshow(ion_image.data, cmap=\"gray\")\n",
    "plt.show()"
   ]
  },
  {
   "cell_type": "code",
   "execution_count": null,
   "metadata": {},
   "outputs": [],
   "source": [
    "from autolamella.tools.data import create_history_dataframe, calculate_statistics_dataframe\n",
    "import plotly.express as px\n",
    "import pandas as pd\n",
    "\n",
    "\n",
    "pd.set_option('display.max_rows', 300)\n",
    "\n",
    "df_experiment, df_history, df_beam_shift, df_steps, df_stage = calculate_statistics_dataframe(PATH)\n",
    "\n",
    "# display(df_steps)\n"
   ]
  },
  {
   "cell_type": "code",
   "execution_count": null,
   "metadata": {},
   "outputs": [],
   "source": [
    "fig = px.bar(df_history, x=\"stage\", y=\"duration\", color=\"petname\", barmode=\"group\", hover_data=df.columns)\n",
    "fig.show()"
   ]
  },
  {
   "cell_type": "code",
   "execution_count": null,
   "metadata": {},
   "outputs": [],
   "source": [
    "# display(df_stage)\n",
    "\n",
    "df_stage_filter = df_stage[df_stage[\"stage\"] != \"Setup\"]\n",
    "# drop relative moves \n",
    "df_stage_filter = df_stage_filter[df_stage_filter[\"type\"] != \"relative\"]\n",
    "\n",
    "# drop x=0, y=0\n",
    "df_stage_filter = df_stage_filter[df_stage_filter[\"x\"] != 0]\n",
    "df_stage_filter = df_stage_filter[df_stage_filter[\"y\"] != 0]\n",
    "\n",
    "\n",
    "px.line(df_stage_filter, x=\"x\", y=\"y\", color=\"stage\",symbol=\"lamella\",  title=\"Stage History\")\n"
   ]
  },
  {
   "cell_type": "code",
   "execution_count": null,
   "metadata": {},
   "outputs": [],
   "source": [
    "# display(df_steps)\n",
    "\n",
    "fig = px.bar(df_steps, x=\"lamella\", y=\"duration\", color=\"step\", title=\"Step Duration\", barmode=\"stack\", facet_col=\"stage\")\n",
    "\n",
    "fig.show()\n",
    "# plot time series with x= step_n and y = timestamp with step  as hover text\n",
    "df_steps.dropna(inplace=True)\n",
    "df_steps.duration =df_steps.duration.astype(int)\n",
    "\n",
    "# convert timestamp to datetime, aus timezone \n",
    "df_steps.timestamp = pd.to_datetime(df_steps.timestamp, unit=\"s\")\n",
    "\n",
    "# convert timestamp to australian timezone\n",
    "df_steps.timestamp = df_steps.timestamp.dt.tz_localize(\"UTC\").dt.tz_convert(\"Australia/Sydney\")\n",
    "\n",
    "fig = px.scatter(df_steps, x=\"step_n\", y=\"timestamp\", color=\"stage\", symbol=\"lamella\",\n",
    "    title=\"AutoLamella Timeline\", \n",
    "    hover_name=\"stage\", hover_data=[\"lamella\", \"step_n\", \"step\"],)\n",
    "    # size = \"duration\", size_max=20)\n",
    "\n",
    "fig.show()"
   ]
  },
  {
   "cell_type": "code",
   "execution_count": null,
   "metadata": {},
   "outputs": [],
   "source": []
  },
  {
   "cell_type": "code",
   "execution_count": null,
   "metadata": {},
   "outputs": [],
   "source": []
  },
  {
   "cell_type": "code",
   "execution_count": null,
   "metadata": {},
   "outputs": [],
   "source": [
    "\n"
   ]
  },
  {
   "cell_type": "code",
   "execution_count": null,
   "metadata": {},
   "outputs": [],
   "source": [
    "\n",
    "from autolamella.tools.data import create_history_dataframe\n",
    "df = create_history_dataframe(exp)\n",
    "display(df)\n",
    "\n",
    "import plotly.express as px\n",
    "\n",
    "fig = px.bar(df, x=\"petname\", y=\"duration\", color=\"stage\", barmode=\"group\", hover_data=df.columns)\n",
    "fig.show()"
   ]
  },
  {
   "cell_type": "code",
   "execution_count": null,
   "metadata": {},
   "outputs": [],
   "source": [
    "\n",
    "positions = {\n",
    "    \"MillTrench\": [],\n",
    "    \"MillUndercut\": [],\n",
    "    \"SetupLamella\": [],\n",
    "}\n",
    "for lamella in exp.positions:\n",
    "    for state in lamella.history:\n",
    "        \n",
    "        if state.stage.name in positions.keys():\n",
    "            positions[state.stage.name].append(state.microscope_state.absolute_position)\n",
    "            positions[state.stage.name][-1].name = f\"{lamella._petname}\"# [{state.stage.name}]\"\n",
    "\n",
    "# pprint(positions)"
   ]
  },
  {
   "cell_type": "code",
   "execution_count": null,
   "metadata": {},
   "outputs": [],
   "source": [
    "\n",
    "key = \"MillTrench\"\n",
    "fig = _tile._plot_positions(ion_image, positions[key], show=True)\n",
    "fig.savefig(os.path.join(PATH, f\"overview-positions-{key.lower()}.png\"), dpi=300, bbox_inches='tight')"
   ]
  },
  {
   "cell_type": "code",
   "execution_count": null,
   "metadata": {},
   "outputs": [],
   "source": [
    "fig = _tile._plot_positions(eb_image, positions[\"MillUndercut\"], show=True)\n",
    "fig.savefig(os.path.join(PATH, \"overview-positions-mill-undercut.png\"), dpi=300, bbox_inches='tight')\n"
   ]
  },
  {
   "cell_type": "code",
   "execution_count": null,
   "metadata": {},
   "outputs": [],
   "source": [
    "fig = _tile._plot_positions(eb_image, positions[\"SetupLamella\"], show=True)\n",
    "fig.savefig(os.path.join(PATH, \"overview-positions-mill-lamella.png\"), dpi=300, bbox_inches='tight')"
   ]
  },
  {
   "cell_type": "code",
   "execution_count": null,
   "metadata": {},
   "outputs": [],
   "source": [
    "_n"
   ]
  },
  {
   "cell_type": "code",
   "execution_count": null,
   "metadata": {},
   "outputs": [],
   "source": [
    "%load_ext autoreload\n",
    "%autoreload 2\n",
    "\n",
    "\n",
    "from fibsem import utils, acquire\n",
    "from fibsem.structures import FibsemRectangle, MicroscopeState, Point, BeamType\n",
    "from autolamella import waffle as wfl\n",
    "\n",
    "microscope, settings = utils.setup_session()\n",
    "reduced_area=FibsemRectangle(left=0.82080078125, top=0.480224609375, width=0.1865234375, height=0.27978515625)"
   ]
  },
  {
   "cell_type": "code",
   "execution_count": null,
   "metadata": {},
   "outputs": [],
   "source": [
    "# settings.image.beam_type = BeamType.ION\n",
    "# settings.image.reduced_area = None\n",
    "# image = acquire.new_image(microscope, settings.image)\n",
    "\n",
    "fiducial_centre=Point(x=3.315e-05, y=6.4199999999999995e-06)\n",
    "fiducial_area, _ = wfl._calculate_fiducial_area_v2(image, fiducial_centre, 1e-05)\n",
    "print(fiducial_area)\n",
    "settings.image.beam_type = BeamType.ION\n",
    "settings.image.reduced_area = fiducial_area\n",
    "image = acquire.new_image(microscope, settings.image)\n",
    "\n",
    "\n",
    "\n",
    "import matplotlib.pyplot as plt\n",
    "plt.imshow(image.data, cmap=\"gray\")\n",
    "# plt.plot(1100, 400, \"r+\")\n",
    "plt.show()"
   ]
  },
  {
   "cell_type": "code",
   "execution_count": null,
   "metadata": {},
   "outputs": [],
   "source": [
    "fiducial_centre=Point(x=3.315e-05, y=6.4199999999999995e-06)\n",
    "\n",
    "\n",
    "\n",
    "fiducial_area = wfl._calculate_fiducial_area_v2(image, fiducial_centre, 1e-05)\n",
    "\n",
    "print(fiducial_area)\n",
    "\n",
    "reduced_area=FibsemRectangle(left=0.82080078125, top=0.480224609375, width=0.1865234375, height=0.27978515625)\n",
    "print(reduced_area)"
   ]
  },
  {
   "cell_type": "code",
   "execution_count": null,
   "metadata": {},
   "outputs": [],
   "source": []
  }
 ],
 "metadata": {
  "kernelspec": {
   "display_name": "fibsem",
   "language": "python",
   "name": "python3"
  },
  "language_info": {
   "codemirror_mode": {
    "name": "ipython",
    "version": 3
   },
   "file_extension": ".py",
   "mimetype": "text/x-python",
   "name": "python",
   "nbconvert_exporter": "python",
   "pygments_lexer": "ipython3",
   "version": "3.9.12"
  },
  "orig_nbformat": 4
 },
 "nbformat": 4,
 "nbformat_minor": 2
}
