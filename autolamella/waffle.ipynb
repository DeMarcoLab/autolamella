{
 "cells": [
  {
   "attachments": {},
   "cell_type": "markdown",
   "metadata": {},
   "source": [
    "## Waffle Method Integration\n",
    "\n"
   ]
  },
  {
   "cell_type": "code",
   "execution_count": null,
   "metadata": {},
   "outputs": [],
   "source": [
    "%load_ext autoreload\n",
    "%autoreload 2\n",
    "\n",
    "from fibsem import utils, acquire, patterning, milling\n",
    "from fibsem.structures import BeamType, FibsemStagePosition, Point\n",
    "from fibsem.patterning import FibsemMillingStage\n",
    "\n",
    "from pprint import pprint\n",
    "import numpy as np\n",
    "import matplotlib.pyplot as plt\n",
    "\n",
    "\n",
    "from fibsem.microscope import FibsemMicroscope\n",
    "from fibsem.structures import MicroscopeSettings\n",
    "from autolamella.structures import Lamella, Experiment, AutoLamellaStage\n",
    "\n",
    "from copy import deepcopy\n",
    "import os\n",
    "\n"
   ]
  },
  {
   "cell_type": "code",
   "execution_count": null,
   "metadata": {},
   "outputs": [],
   "source": []
  },
  {
   "attachments": {},
   "cell_type": "markdown",
   "metadata": {},
   "source": [
    "### Method\n",
    "\n",
    "1. Select Lamella Position\n",
    "2. Move Flat to Ion Beam\n",
    "3. Mill Trench \n",
    "4. Take Reference Images\n",
    "5. Move Flat to Electron Beam\n",
    "6. Align to Reference Images\n",
    "7. Take Reference Images\n",
    "9. Tilt Stage to Milling Angle (18deg)?\n",
    "10. Align to Tilted Reference Images\n",
    "11. Mill Fiducial?\n",
    "12. Mill Lamella (Mill trench -> Align -> Repeat)"
   ]
  },
  {
   "attachments": {},
   "cell_type": "markdown",
   "metadata": {},
   "source": [
    "### Experiment\n"
   ]
  },
  {
   "cell_type": "code",
   "execution_count": null,
   "metadata": {},
   "outputs": [],
   "source": [
    "\n"
   ]
  },
  {
   "attachments": {},
   "cell_type": "markdown",
   "metadata": {},
   "source": [
    "#### Setup \n",
    "Select Lamella Positions"
   ]
  },
  {
   "cell_type": "code",
   "execution_count": 13,
   "metadata": {},
   "outputs": [
    {
     "name": "stdout",
     "output_type": "stream",
     "text": [
      "The autoreload extension is already loaded. To reload it, use:\n",
      "  %reload_ext autoreload\n",
      "2023-06-20 16:38:07,768 — root — INFO — connect_to_microscope:4026 — Connected to Demo Microscope\n",
      "2023-06-20 16:38:07,773 — root — INFO — connect_to_microscope:4027 — Microscope client connected to model Demo with serial number 123456 and software version 0.1\n",
      "2023-06-20 16:38:07,776 — root — INFO — setup_session:229 — Finished setup for session: autolamella_demo_2023-06-20-04-38-07PM\n",
      "Experiment: \n",
      "        Path: c:\\Users\\pcle0002\\Documents\\repos\\autolamella\\autolamella\\waffle\\waffle-demo-2023-06-20-04-38-07PM\n",
      "        Positions: 0\n",
      "        \n",
      "2023-06-20 16:38:07,786 — root — INFO — move_flat_to_beam:4140 — Moving stage: Flat to ION beam, r=52.00, t=52.00)\n",
      "2023-06-20 16:38:13,931 — root — INFO — get_current_microscope_state:4090 — Getting microscope state\n",
      "2023-06-20 16:38:13,935 — root — INFO — autocontrast:4061 — Autocontrast: BeamType.ELECTRON\n",
      "2023-06-20 16:38:13,938 — root — INFO — acquire_image:4039 — Acquiring image: BeamType.ELECTRON\n",
      "2023-06-20 16:38:13,961 — root — INFO — autocontrast:4061 — Autocontrast: BeamType.ION\n",
      "2023-06-20 16:38:13,964 — root — INFO — acquire_image:4039 — Acquiring image: BeamType.ION\n",
      "2023-06-20 16:38:13,985 — root — INFO — autocontrast:4061 — Autocontrast: BeamType.ELECTRON\n",
      "2023-06-20 16:38:13,990 — root — INFO — acquire_image:4039 — Acquiring image: BeamType.ELECTRON\n",
      "2023-06-20 16:38:14,023 — root — INFO — autocontrast:4061 — Autocontrast: BeamType.ION\n",
      "2023-06-20 16:38:14,026 — root — INFO — acquire_image:4039 — Acquiring image: BeamType.ION\n",
      "2023-06-20 16:38:15,189 — root — INFO — get_current_microscope_state:4090 — Getting microscope state\n",
      "2023-06-20 16:38:15,192 — root — INFO — autocontrast:4061 — Autocontrast: BeamType.ELECTRON\n",
      "2023-06-20 16:38:15,195 — root — INFO — acquire_image:4039 — Acquiring image: BeamType.ELECTRON\n",
      "2023-06-20 16:38:15,220 — root — INFO — autocontrast:4061 — Autocontrast: BeamType.ION\n",
      "2023-06-20 16:38:15,222 — root — INFO — acquire_image:4039 — Acquiring image: BeamType.ION\n",
      "2023-06-20 16:38:15,251 — root — INFO — autocontrast:4061 — Autocontrast: BeamType.ELECTRON\n",
      "2023-06-20 16:38:15,255 — root — INFO — acquire_image:4039 — Acquiring image: BeamType.ELECTRON\n",
      "2023-06-20 16:38:15,288 — root — INFO — autocontrast:4061 — Autocontrast: BeamType.ION\n",
      "2023-06-20 16:38:15,291 — root — INFO — acquire_image:4039 — Acquiring image: BeamType.ION\n"
     ]
    }
   ],
   "source": [
    "%load_ext autoreload\n",
    "%autoreload 2\n",
    "\n",
    "from fibsem import utils, acquire, patterning, milling\n",
    "from fibsem.structures import BeamType, FibsemStagePosition, Point\n",
    "from fibsem.patterning import FibsemMillingStage\n",
    "\n",
    "from pprint import pprint\n",
    "import numpy as np\n",
    "import matplotlib.pyplot as plt\n",
    "\n",
    "\n",
    "from fibsem.microscope import FibsemMicroscope\n",
    "from fibsem.structures import MicroscopeSettings\n",
    "from autolamella.structures import Lamella, Experiment, AutoLamellaStage\n",
    "\n",
    "from copy import deepcopy\n",
    "import os\n",
    "\n",
    "from autolamella import waffle as wfl\n",
    "\n",
    "PROTOCOL_PATH = r\"C:\\Users\\pcle0002\\Documents\\repos\\autolamella\\autolamella\\protocol_waffle.yaml\"\n",
    "microscope, settings = utils.setup_session(manufacturer=\"Demo\", protocol_path=PROTOCOL_PATH)\n",
    "\n",
    "PATH = os.path.join(os.getcwd(), \"waffle\")\n",
    "\n",
    "experiment = Experiment(path=PATH, name=f\"waffle-demo-{utils.current_timestamp()}\")\n",
    "\n",
    "print(experiment)\n",
    "\n",
    "experiment = wfl.select_positions(microscope, settings, experiment)\n",
    "\n",
    "# print(experiment)\n",
    "experiment.save()"
   ]
  },
  {
   "cell_type": "code",
   "execution_count": 14,
   "metadata": {},
   "outputs": [
    {
     "name": "stdout",
     "output_type": "stream",
     "text": [
      "2023-06-20 16:39:23,574 — root — INFO — start_of_stage_update:106 — tidy-crow restarting from end of stage: Setup\n",
      "2023-06-20 16:39:23,576 — root — INFO — move_stage_absolute:4095 — Moving stage: FibsemStagePosition(x=0, y=0, z=0, r=0.9075712110370514, t=0.9075712110370514, coordinate_system=None) (Absolute)\n",
      "2023-06-20 16:39:23,584 — root — INFO — set_microscope_state:4329 — Setting microscope state\n",
      "2023-06-20 16:39:23,588 — root — INFO — start_of_stage_update:114 — STATUS | tidy-crow | AutoLamellaWaffleStage.MillTrench | STARTED\n",
      "FibsemMillingStage(name='Trench 01', num=0, milling=FibsemMillingSettings(milling_current=2e-09, spot_size=5e-08, rate=0.003, dwell_time=1e-06, hfw=0.00015, patterning_mode='Serial', application_file='Si', preset='30 keV; UHR imaging'), pattern=TrenchPattern(name='Trench', required_keys=('lamella_width', 'lamella_height', 'trench_height', 'size_ratio', 'offset', 'depth'), point=Point(x=0.0, y=0.0)))\n",
      "2023-06-20 16:39:23,589 — root — INFO — setup_milling:4197 — Setting up milling: Serial, FibsemMillingSettings(milling_current=2e-09, spot_size=5e-08, rate=0.003, dwell_time=1e-06, hfw=0.00015, patterning_mode='Serial', application_file='Si', preset='30 keV; UHR imaging')\n",
      "2023-06-20 16:39:23,594 — root — INFO — draw_rectangle:4210 — Drawing rectangle: FibsemPatternSettings(pattern=FibsemPattern.Rectangle, width=1e-05, height=1e-05, depth=1e-06, rotation=0.0, centre_x=0.0, centre_y=-7.500000000000001e-06, scan_direction=BottomToTop, cleaning_cross_section=True)\n",
      "2023-06-20 16:39:23,600 — root — INFO — draw_rectangle:4210 — Drawing rectangle: FibsemPatternSettings(pattern=FibsemPattern.Rectangle, width=1e-05, height=1e-05, depth=1e-06, rotation=0.0, centre_x=0.0, centre_y=7.500000000000001e-06, scan_direction=TopToBottom, cleaning_cross_section=True)\n",
      "2023-06-20 16:39:23,606 — root — INFO — run_milling:4201 — Running milling: 2.00e-09, False\n",
      "2023-06-20 16:39:24,607 — root — INFO — finish_milling:75 — Changing to Imaging Settings\n",
      "2023-06-20 16:39:24,610 — root — INFO — finish_milling:4207 — Finishing milling: 2.00e-11\n",
      "2023-06-20 16:39:24,614 — root — INFO — finish_milling:77 — Finished Ion Beam Milling.\n",
      "--------------------------------------------------------------------------------\n",
      "2023-06-20 16:39:24,618 — root — INFO — autocontrast:4061 — Autocontrast: BeamType.ELECTRON\n",
      "2023-06-20 16:39:24,622 — root — INFO — acquire_image:4039 — Acquiring image: BeamType.ELECTRON\n",
      "2023-06-20 16:39:24,681 — root — INFO — autocontrast:4061 — Autocontrast: BeamType.ION\n",
      "2023-06-20 16:39:24,683 — root — INFO — acquire_image:4039 — Acquiring image: BeamType.ION\n",
      "2023-06-20 16:39:24,718 — root — INFO — get_current_microscope_state:4090 — Getting microscope state\n",
      "2023-06-20 16:39:24,761 — root — INFO — end_of_stage_update:92 — STATUS | tidy-crow | AutoLamellaWaffleStage.MillTrench | FINISHED\n",
      "2023-06-20 16:39:24,765 — root — INFO — start_of_stage_update:106 — fluent-jennet restarting from end of stage: Setup\n",
      "2023-06-20 16:39:24,770 — root — INFO — move_stage_absolute:4095 — Moving stage: FibsemStagePosition(x=0, y=0, z=0, r=0.9075712110370514, t=0.9075712110370514, coordinate_system=None) (Absolute)\n",
      "2023-06-20 16:39:24,772 — root — INFO — set_microscope_state:4329 — Setting microscope state\n",
      "2023-06-20 16:39:24,775 — root — INFO — start_of_stage_update:114 — STATUS | fluent-jennet | AutoLamellaWaffleStage.MillTrench | STARTED\n",
      "FibsemMillingStage(name='Trench 01', num=0, milling=FibsemMillingSettings(milling_current=2e-09, spot_size=5e-08, rate=0.003, dwell_time=1e-06, hfw=0.00015, patterning_mode='Serial', application_file='Si', preset='30 keV; UHR imaging'), pattern=TrenchPattern(name='Trench', required_keys=('lamella_width', 'lamella_height', 'trench_height', 'size_ratio', 'offset', 'depth'), point=Point(x=0.0, y=0.0)))\n",
      "2023-06-20 16:39:24,781 — root — INFO — setup_milling:4197 — Setting up milling: Serial, FibsemMillingSettings(milling_current=2e-09, spot_size=5e-08, rate=0.003, dwell_time=1e-06, hfw=0.00015, patterning_mode='Serial', application_file='Si', preset='30 keV; UHR imaging')\n",
      "2023-06-20 16:39:24,785 — root — INFO — draw_rectangle:4210 — Drawing rectangle: FibsemPatternSettings(pattern=FibsemPattern.Rectangle, width=1e-05, height=1e-05, depth=1e-06, rotation=0.0, centre_x=0.0, centre_y=-7.500000000000001e-06, scan_direction=BottomToTop, cleaning_cross_section=True)\n",
      "2023-06-20 16:39:24,787 — root — INFO — draw_rectangle:4210 — Drawing rectangle: FibsemPatternSettings(pattern=FibsemPattern.Rectangle, width=1e-05, height=1e-05, depth=1e-06, rotation=0.0, centre_x=0.0, centre_y=7.500000000000001e-06, scan_direction=TopToBottom, cleaning_cross_section=True)\n",
      "2023-06-20 16:39:24,791 — root — INFO — run_milling:4201 — Running milling: 2.00e-09, False\n",
      "2023-06-20 16:39:28,801 — root — INFO — finish_milling:75 — Changing to Imaging Settings\n",
      "2023-06-20 16:39:28,803 — root — INFO — finish_milling:4207 — Finishing milling: 2.00e-11\n",
      "2023-06-20 16:39:28,804 — root — INFO — finish_milling:77 — Finished Ion Beam Milling.\n",
      "--------------------------------------------------------------------------------\n",
      "2023-06-20 16:39:28,806 — root — INFO — autocontrast:4061 — Autocontrast: BeamType.ELECTRON\n",
      "2023-06-20 16:39:28,808 — root — INFO — acquire_image:4039 — Acquiring image: BeamType.ELECTRON\n",
      "2023-06-20 16:39:28,866 — root — INFO — autocontrast:4061 — Autocontrast: BeamType.ION\n",
      "2023-06-20 16:39:28,871 — root — INFO — acquire_image:4039 — Acquiring image: BeamType.ION\n",
      "2023-06-20 16:39:28,902 — root — INFO — get_current_microscope_state:4090 — Getting microscope state\n",
      "2023-06-20 16:39:28,959 — root — INFO — end_of_stage_update:92 — STATUS | fluent-jennet | AutoLamellaWaffleStage.MillTrench | FINISHED\n"
     ]
    }
   ],
   "source": [
    "experiment = wfl.run_trench_milling(microscope, settings, experiment)"
   ]
  },
  {
   "cell_type": "code",
   "execution_count": 9,
   "metadata": {},
   "outputs": [
    {
     "name": "stdout",
     "output_type": "stream",
     "text": [
      "Experiment: \n",
      "        Path: c:\\Users\\pcle0002\\Documents\\repos\\autolamella\\autolamella\\waffle\\waffle-demo-2023-06-20-04-29-39PM\n",
      "        Positions: 3\n",
      "        \n",
      "Experiment: \n",
      "        Path: c:\\Users\\pcle0002\\Documents\\repos\\autolamella\\autolamella\\waffle\\waffle-demo-2023-06-20-04-29-39PM\n",
      "        Positions: 3\n",
      "        \n"
     ]
    }
   ],
   "source": [
    "# EXP_PATH = r\"C:\\Users\\pcle0002\\Documents\\repos\\autolamella\\autolamella\\waffle\\waffle-demo-2023-06-20-04-29-39PM\"\n",
    "\n",
    "# exp = Experiment.load(os.path.join(EXP_PATH, \"experiment.yaml\"))\n",
    "\n",
    "# print(exp)\n",
    "# print(experiment)"
   ]
  },
  {
   "cell_type": "code",
   "execution_count": 11,
   "metadata": {},
   "outputs": [
    {
     "name": "stdout",
     "output_type": "stream",
     "text": [
      "crack-drake AutoLamellaWaffleStage.MillTrench\n",
      "awake-bear AutoLamellaWaffleStage.MillTrench\n",
      "amazed-marlin AutoLamellaWaffleStage.MillTrench\n"
     ]
    }
   ],
   "source": []
  },
  {
   "cell_type": "code",
   "execution_count": null,
   "metadata": {},
   "outputs": [],
   "source": []
  },
  {
   "attachments": {},
   "cell_type": "markdown",
   "metadata": {},
   "source": [
    "## Serialisation / Positions\n",
    "\n"
   ]
  },
  {
   "cell_type": "code",
   "execution_count": 7,
   "metadata": {},
   "outputs": [
    {
     "name": "stdout",
     "output_type": "stream",
     "text": [
      "The autoreload extension is already loaded. To reload it, use:\n",
      "  %reload_ext autoreload\n"
     ]
    }
   ],
   "source": [
    "%load_ext autoreload\n",
    "%autoreload 2\n",
    "\n",
    "from fibsem import utils, acquire, patterning, milling\n",
    "from fibsem.structures import BeamType, FibsemStagePosition, Point\n",
    "from fibsem.patterning import FibsemMillingStage\n",
    "\n",
    "from pprint import pprint\n",
    "import numpy as np\n",
    "import matplotlib.pyplot as plt\n",
    "\n"
   ]
  },
  {
   "cell_type": "code",
   "execution_count": 9,
   "metadata": {},
   "outputs": [
    {
     "name": "stdout",
     "output_type": "stream",
     "text": [
      "2023-06-21 13:06:33,011 — root — INFO — connect_to_microscope:4026 — Connected to Demo Microscope\n",
      "2023-06-21 13:06:33,013 — root — INFO — connect_to_microscope:4027 — Microscope client connected to model Demo with serial number 123456 and software version 0.1\n",
      "2023-06-21 13:06:33,019 — root — INFO — setup_session:229 — Finished setup for session: autolamella_demo_2023-06-21-01-06-33PM\n",
      "--------------------------------------------------------------------------------\n",
      "[FibsemMillingStage(name='Autolamella 01', num=0, milling=FibsemMillingSettings(milling_current=2e-09, spot_size=5e-08, rate=0.003, dwell_time=1e-06, hfw=8e-05, patterning_mode='Serial', application_file='Si', preset='30 keV; UHR imaging'), pattern=TrenchPattern(name='Trench', required_keys=('lamella_width', 'lamella_height', 'trench_height', 'size_ratio', 'offset', 'depth'), point=Point(x=0.0, y=0.0))),\n",
      " FibsemMillingStage(name='Autolamella 02', num=1, milling=FibsemMillingSettings(milling_current=7.4e-10, spot_size=5e-08, rate=0.003, dwell_time=1e-06, hfw=8e-05, patterning_mode='Serial', application_file='Si', preset='30 keV; UHR imaging'), pattern=TrenchPattern(name='Trench', required_keys=('lamella_width', 'lamella_height', 'trench_height', 'size_ratio', 'offset', 'depth'), point=Point(x=0.0, y=0.0))),\n",
      " FibsemMillingStage(name='Autolamella 03', num=2, milling=FibsemMillingSettings(milling_current=6e-11, spot_size=5e-08, rate=0.003, dwell_time=1e-06, hfw=8e-05, patterning_mode='Serial', application_file='Si', preset='30 keV; UHR imaging'), pattern=TrenchPattern(name='Trench', required_keys=('lamella_width', 'lamella_height', 'trench_height', 'size_ratio', 'offset', 'depth'), point=Point(x=0.0, y=0.0)))]\n",
      "--------------------------------------------------------------------------------\n",
      "[FibsemMillingStage(name='Notch 01', num=0, milling=FibsemMillingSettings(milling_current=2e-09, spot_size=5e-08, rate=0.003, dwell_time=1e-06, hfw=8e-05, patterning_mode='Serial', application_file='Si', preset='30 keV; UHR imaging'), pattern=WaffleNotchPattern(name='WaffleNotch', required_keys=('vheight', 'vwidth', 'hheight', 'hwidth', 'depth', 'distance'), point=Point(x=0.0, y=0.0)))]\n",
      "--------------------------------------------------------------------------------\n",
      "[FibsemMillingStage(name='Trench 01', num=0, milling=FibsemMillingSettings(milling_current=2e-09, spot_size=5e-08, rate=0.003, dwell_time=1e-06, hfw=8e-05, patterning_mode='Serial', application_file='Si', preset='30 keV; UHR imaging'), pattern=TrenchPattern(name='Trench', required_keys=('lamella_width', 'lamella_height', 'trench_height', 'size_ratio', 'offset', 'depth'), point=Point(x=3e-06, y=5e-06)))]\n",
      "--------------------------------------------------------------------------------\n",
      "[FibsemMillingStage(name='Notch 01', num=0, milling=FibsemMillingSettings(milling_current=2e-09, spot_size=5e-08, rate=0.003, dwell_time=1e-06, hfw=8e-05, patterning_mode='Serial', application_file='Si', preset='30 keV; UHR imaging'), pattern=WaffleNotchPattern(name='WaffleNotch', required_keys=('vheight', 'vwidth', 'hheight', 'hwidth', 'depth', 'distance'), point=Point(x=0.0, y=0.0))),\n",
      " FibsemMillingStage(name='Autolamella 01', num=0, milling=FibsemMillingSettings(milling_current=2e-09, spot_size=5e-08, rate=0.003, dwell_time=1e-06, hfw=8e-05, patterning_mode='Serial', application_file='Si', preset='30 keV; UHR imaging'), pattern=TrenchPattern(name='Trench', required_keys=('lamella_width', 'lamella_height', 'trench_height', 'size_ratio', 'offset', 'depth'), point=Point(x=0.0, y=0.0))),\n",
      " FibsemMillingStage(name='Autolamella 02', num=1, milling=FibsemMillingSettings(milling_current=7.4e-10, spot_size=5e-08, rate=0.003, dwell_time=1e-06, hfw=8e-05, patterning_mode='Serial', application_file='Si', preset='30 keV; UHR imaging'), pattern=TrenchPattern(name='Trench', required_keys=('lamella_width', 'lamella_height', 'trench_height', 'size_ratio', 'offset', 'depth'), point=Point(x=0.0, y=0.0))),\n",
      " FibsemMillingStage(name='Autolamella 03', num=2, milling=FibsemMillingSettings(milling_current=6e-11, spot_size=5e-08, rate=0.003, dwell_time=1e-06, hfw=8e-05, patterning_mode='Serial', application_file='Si', preset='30 keV; UHR imaging'), pattern=TrenchPattern(name='Trench', required_keys=('lamella_width', 'lamella_height', 'trench_height', 'size_ratio', 'offset', 'depth'), point=Point(x=0.0, y=0.0)))]\n"
     ]
    }
   ],
   "source": [
    "# TODO: plot patterns on image\n",
    "PROTOCOL_PATH = r\"C:\\Users\\pcle0002\\Documents\\repos\\autolamella\\autolamella\\protocol_waffle.yaml\"\n",
    "microscope, settings = utils.setup_session(manufacturer=\"Demo\", protocol_path=PROTOCOL_PATH)\n",
    "\n",
    "# pprint(settings.protocol)\n",
    "print('-'*80)\n",
    "autolamella_stages = patterning._get_milling_stages(\"autolamella\", settings.protocol)\n",
    "\n",
    "pprint(autolamella_stages)\n",
    "\n",
    "print('-'*80)\n",
    "\n",
    "notch_stages = patterning._get_milling_stages(\"notch\", settings.protocol)\n",
    "\n",
    "pprint(notch_stages)\n",
    "\n",
    "print('-'*80)\n",
    "\n",
    "trench_stages = patterning._get_milling_stages(\"trench\", settings.protocol, Point(3e-6, 5e-6))\n",
    "\n",
    "pprint(trench_stages)\n",
    "\n",
    "print('-'*80)\n",
    "\n",
    "pprint(notch_stages + autolamella_stages)\n"
   ]
  },
  {
   "cell_type": "code",
   "execution_count": 4,
   "metadata": {},
   "outputs": [
    {
     "name": "stdout",
     "output_type": "stream",
     "text": [
      "AutoLamellaWaffleStage.Setup AutoLamellaWaffleStage.ReadyTrench\n"
     ]
    }
   ],
   "source": [
    "from autolamella.structures import AutoLamellaWaffleStage\n",
    "\n",
    "stage = AutoLamellaWaffleStage.Setup\n",
    "\n",
    "\n",
    "next_stage = AutoLamellaWaffleStage(stage.value + 1)\n",
    "\n",
    "print(stage, next_stage)"
   ]
  },
  {
   "cell_type": "code",
   "execution_count": 1,
   "metadata": {},
   "outputs": [
    {
     "name": "stdout",
     "output_type": "stream",
     "text": [
      "--------------------------------------------------------------------------------\n"
     ]
    }
   ],
   "source": [
    "%load_ext autoreload\n",
    "%autoreload 2\n",
    "\n",
    "from autolamella.tools.data import calculate_statistics_dataframe\n",
    "\n",
    "PATH = r\"C:\\Users\\pcle0002\\Documents\\repos\\autolamella\\autolamella\\log\\Autolamella-2023-06-22-17-28\"\n",
    "df_sample, df_history, beam_shift_info, df_steps = calculate_statistics_dataframe(PATH)\n",
    "\n"
   ]
  },
  {
   "cell_type": "code",
   "execution_count": 2,
   "metadata": {},
   "outputs": [
    {
     "data": {
      "text/html": [
       "<div>\n",
       "<style scoped>\n",
       "    .dataframe tbody tr th:only-of-type {\n",
       "        vertical-align: middle;\n",
       "    }\n",
       "\n",
       "    .dataframe tbody tr th {\n",
       "        vertical-align: top;\n",
       "    }\n",
       "\n",
       "    .dataframe thead th {\n",
       "        text-align: right;\n",
       "    }\n",
       "</style>\n",
       "<table border=\"1\" class=\"dataframe\">\n",
       "  <thead>\n",
       "    <tr style=\"text-align: right;\">\n",
       "      <th></th>\n",
       "      <th>experiment_name</th>\n",
       "      <th>experiment_path</th>\n",
       "      <th>experiment_created_at</th>\n",
       "      <th>number</th>\n",
       "      <th>petname</th>\n",
       "      <th>name</th>\n",
       "      <th>path</th>\n",
       "      <th>lamella.x</th>\n",
       "      <th>lamella.y</th>\n",
       "      <th>lamella.z</th>\n",
       "      <th>...</th>\n",
       "      <th>lamella.centre.x</th>\n",
       "      <th>lamella.centre.y</th>\n",
       "      <th>trench.centre.x</th>\n",
       "      <th>trench.centre.y</th>\n",
       "      <th>notch.centre.x</th>\n",
       "      <th>notch.centre.y</th>\n",
       "      <th>lamella.history</th>\n",
       "      <th>fiducial.centre.x</th>\n",
       "      <th>fiducial.centre.y</th>\n",
       "      <th>last_timestamp</th>\n",
       "    </tr>\n",
       "  </thead>\n",
       "  <tbody>\n",
       "    <tr>\n",
       "      <th>0</th>\n",
       "      <td>Autolamella-2023-06-22-17-28</td>\n",
       "      <td>C:/Users/pcle0002/Documents/repos/autolamella/...</td>\n",
       "      <td>1.687469e+09</td>\n",
       "      <td>1</td>\n",
       "      <td>big-mutt</td>\n",
       "      <td>Autolamella-2023-06-22-17-28</td>\n",
       "      <td>C:/Users/pcle0002/Documents/repos/autolamella/...</td>\n",
       "      <td>0.0</td>\n",
       "      <td>0.0</td>\n",
       "      <td>0.0</td>\n",
       "      <td>...</td>\n",
       "      <td>-1.273120e-07</td>\n",
       "      <td>2.893519e-07</td>\n",
       "      <td>0.000049</td>\n",
       "      <td>9.765625e-06</td>\n",
       "      <td>4.997397e-05</td>\n",
       "      <td>3.515625e-06</td>\n",
       "      <td>[LamellaState(microscope_state=MicroscopeState...</td>\n",
       "      <td>-0.000022</td>\n",
       "      <td>-5.787037e-08</td>\n",
       "      <td>1.687473e+09</td>\n",
       "    </tr>\n",
       "    <tr>\n",
       "      <th>1</th>\n",
       "      <td>Autolamella-2023-06-22-17-28</td>\n",
       "      <td>C:/Users/pcle0002/Documents/repos/autolamella/...</td>\n",
       "      <td>1.687469e+09</td>\n",
       "      <td>2</td>\n",
       "      <td>unique-mouse</td>\n",
       "      <td>Autolamella-2023-06-22-17-28</td>\n",
       "      <td>C:/Users/pcle0002/Documents/repos/autolamella/...</td>\n",
       "      <td>0.0</td>\n",
       "      <td>0.0</td>\n",
       "      <td>0.0</td>\n",
       "      <td>...</td>\n",
       "      <td>0.000000e+00</td>\n",
       "      <td>0.000000e+00</td>\n",
       "      <td>0.000039</td>\n",
       "      <td>1.953125e-06</td>\n",
       "      <td>3.681330e-05</td>\n",
       "      <td>-7.707852e-07</td>\n",
       "      <td>[LamellaState(microscope_state=MicroscopeState...</td>\n",
       "      <td>-0.000023</td>\n",
       "      <td>-8.680556e-07</td>\n",
       "      <td>1.687473e+09</td>\n",
       "    </tr>\n",
       "    <tr>\n",
       "      <th>2</th>\n",
       "      <td>Autolamella-2023-06-22-17-28</td>\n",
       "      <td>C:/Users/pcle0002/Documents/repos/autolamella/...</td>\n",
       "      <td>1.687469e+09</td>\n",
       "      <td>3</td>\n",
       "      <td>tender-mule</td>\n",
       "      <td>Autolamella-2023-06-22-17-28</td>\n",
       "      <td>C:/Users/pcle0002/Documents/repos/autolamella/...</td>\n",
       "      <td>0.0</td>\n",
       "      <td>0.0</td>\n",
       "      <td>0.0</td>\n",
       "      <td>...</td>\n",
       "      <td>0.000000e+00</td>\n",
       "      <td>0.000000e+00</td>\n",
       "      <td>0.000033</td>\n",
       "      <td>-8.173386e-08</td>\n",
       "      <td>-4.585937e-05</td>\n",
       "      <td>3.515625e-06</td>\n",
       "      <td>[LamellaState(microscope_state=MicroscopeState...</td>\n",
       "      <td>-0.000018</td>\n",
       "      <td>-6.365741e-07</td>\n",
       "      <td>1.687473e+09</td>\n",
       "    </tr>\n",
       "    <tr>\n",
       "      <th>3</th>\n",
       "      <td>Autolamella-2023-06-22-17-28</td>\n",
       "      <td>C:/Users/pcle0002/Documents/repos/autolamella/...</td>\n",
       "      <td>1.687469e+09</td>\n",
       "      <td>4</td>\n",
       "      <td>cosmic-krill</td>\n",
       "      <td>Autolamella-2023-06-22-17-28</td>\n",
       "      <td>C:/Users/pcle0002/Documents/repos/autolamella/...</td>\n",
       "      <td>0.0</td>\n",
       "      <td>0.0</td>\n",
       "      <td>0.0</td>\n",
       "      <td>...</td>\n",
       "      <td>0.000000e+00</td>\n",
       "      <td>0.000000e+00</td>\n",
       "      <td>0.000000</td>\n",
       "      <td>0.000000e+00</td>\n",
       "      <td>-1.460937e-05</td>\n",
       "      <td>-2.565104e-05</td>\n",
       "      <td>[LamellaState(microscope_state=MicroscopeState...</td>\n",
       "      <td>-0.000022</td>\n",
       "      <td>2.893519e-07</td>\n",
       "      <td>1.687473e+09</td>\n",
       "    </tr>\n",
       "    <tr>\n",
       "      <th>4</th>\n",
       "      <td>Autolamella-2023-06-22-17-28</td>\n",
       "      <td>C:/Users/pcle0002/Documents/repos/autolamella/...</td>\n",
       "      <td>1.687469e+09</td>\n",
       "      <td>5</td>\n",
       "      <td>vital-foal</td>\n",
       "      <td>Autolamella-2023-06-22-17-28</td>\n",
       "      <td>C:/Users/pcle0002/Documents/repos/autolamella/...</td>\n",
       "      <td>0.0</td>\n",
       "      <td>0.0</td>\n",
       "      <td>0.0</td>\n",
       "      <td>...</td>\n",
       "      <td>0.000000e+00</td>\n",
       "      <td>0.000000e+00</td>\n",
       "      <td>0.000000</td>\n",
       "      <td>0.000000e+00</td>\n",
       "      <td>-2.184397e-08</td>\n",
       "      <td>2.022184e-07</td>\n",
       "      <td>[LamellaState(microscope_state=MicroscopeState...</td>\n",
       "      <td>-0.000019</td>\n",
       "      <td>-2.893519e-07</td>\n",
       "      <td>1.687470e+09</td>\n",
       "    </tr>\n",
       "  </tbody>\n",
       "</table>\n",
       "<p>5 rows × 22 columns</p>\n",
       "</div>"
      ],
      "text/plain": [
       "                experiment_name   \n",
       "0  Autolamella-2023-06-22-17-28  \\\n",
       "1  Autolamella-2023-06-22-17-28   \n",
       "2  Autolamella-2023-06-22-17-28   \n",
       "3  Autolamella-2023-06-22-17-28   \n",
       "4  Autolamella-2023-06-22-17-28   \n",
       "\n",
       "                                     experiment_path  experiment_created_at   \n",
       "0  C:/Users/pcle0002/Documents/repos/autolamella/...           1.687469e+09  \\\n",
       "1  C:/Users/pcle0002/Documents/repos/autolamella/...           1.687469e+09   \n",
       "2  C:/Users/pcle0002/Documents/repos/autolamella/...           1.687469e+09   \n",
       "3  C:/Users/pcle0002/Documents/repos/autolamella/...           1.687469e+09   \n",
       "4  C:/Users/pcle0002/Documents/repos/autolamella/...           1.687469e+09   \n",
       "\n",
       "   number       petname                          name   \n",
       "0       1      big-mutt  Autolamella-2023-06-22-17-28  \\\n",
       "1       2  unique-mouse  Autolamella-2023-06-22-17-28   \n",
       "2       3   tender-mule  Autolamella-2023-06-22-17-28   \n",
       "3       4  cosmic-krill  Autolamella-2023-06-22-17-28   \n",
       "4       5    vital-foal  Autolamella-2023-06-22-17-28   \n",
       "\n",
       "                                                path  lamella.x  lamella.y   \n",
       "0  C:/Users/pcle0002/Documents/repos/autolamella/...        0.0        0.0  \\\n",
       "1  C:/Users/pcle0002/Documents/repos/autolamella/...        0.0        0.0   \n",
       "2  C:/Users/pcle0002/Documents/repos/autolamella/...        0.0        0.0   \n",
       "3  C:/Users/pcle0002/Documents/repos/autolamella/...        0.0        0.0   \n",
       "4  C:/Users/pcle0002/Documents/repos/autolamella/...        0.0        0.0   \n",
       "\n",
       "   lamella.z  ...  lamella.centre.x  lamella.centre.y  trench.centre.x   \n",
       "0        0.0  ...     -1.273120e-07      2.893519e-07         0.000049  \\\n",
       "1        0.0  ...      0.000000e+00      0.000000e+00         0.000039   \n",
       "2        0.0  ...      0.000000e+00      0.000000e+00         0.000033   \n",
       "3        0.0  ...      0.000000e+00      0.000000e+00         0.000000   \n",
       "4        0.0  ...      0.000000e+00      0.000000e+00         0.000000   \n",
       "\n",
       "   trench.centre.y  notch.centre.x  notch.centre.y   \n",
       "0     9.765625e-06    4.997397e-05    3.515625e-06  \\\n",
       "1     1.953125e-06    3.681330e-05   -7.707852e-07   \n",
       "2    -8.173386e-08   -4.585937e-05    3.515625e-06   \n",
       "3     0.000000e+00   -1.460937e-05   -2.565104e-05   \n",
       "4     0.000000e+00   -2.184397e-08    2.022184e-07   \n",
       "\n",
       "                                     lamella.history  fiducial.centre.x   \n",
       "0  [LamellaState(microscope_state=MicroscopeState...          -0.000022  \\\n",
       "1  [LamellaState(microscope_state=MicroscopeState...          -0.000023   \n",
       "2  [LamellaState(microscope_state=MicroscopeState...          -0.000018   \n",
       "3  [LamellaState(microscope_state=MicroscopeState...          -0.000022   \n",
       "4  [LamellaState(microscope_state=MicroscopeState...          -0.000019   \n",
       "\n",
       "  fiducial.centre.y  last_timestamp  \n",
       "0     -5.787037e-08    1.687473e+09  \n",
       "1     -8.680556e-07    1.687473e+09  \n",
       "2     -6.365741e-07    1.687473e+09  \n",
       "3      2.893519e-07    1.687473e+09  \n",
       "4     -2.893519e-07    1.687470e+09  \n",
       "\n",
       "[5 rows x 22 columns]"
      ]
     },
     "execution_count": 2,
     "metadata": {},
     "output_type": "execute_result"
    }
   ],
   "source": [
    "df_sample"
   ]
  },
  {
   "cell_type": "code",
   "execution_count": 10,
   "metadata": {},
   "outputs": [
    {
     "data": {
      "text/html": [
       "<div>\n",
       "<style scoped>\n",
       "    .dataframe tbody tr th:only-of-type {\n",
       "        vertical-align: middle;\n",
       "    }\n",
       "\n",
       "    .dataframe tbody tr th {\n",
       "        vertical-align: top;\n",
       "    }\n",
       "\n",
       "    .dataframe thead th {\n",
       "        text-align: right;\n",
       "    }\n",
       "</style>\n",
       "<table border=\"1\" class=\"dataframe\">\n",
       "  <thead>\n",
       "    <tr style=\"text-align: right;\">\n",
       "      <th></th>\n",
       "      <th>petname</th>\n",
       "      <th>stage</th>\n",
       "      <th>start</th>\n",
       "      <th>end</th>\n",
       "      <th>duration</th>\n",
       "      <th>name</th>\n",
       "    </tr>\n",
       "  </thead>\n",
       "  <tbody>\n",
       "    <tr>\n",
       "      <th>0</th>\n",
       "      <td>big-mutt</td>\n",
       "      <td>MillTrench</td>\n",
       "      <td>1.687470e+09</td>\n",
       "      <td>1.687470e+09</td>\n",
       "      <td>2.787155</td>\n",
       "      <td>Autolamella-2023-06-22-17-28</td>\n",
       "    </tr>\n",
       "    <tr>\n",
       "      <th>1</th>\n",
       "      <td>big-mutt</td>\n",
       "      <td>MillFeatures</td>\n",
       "      <td>1.687472e+09</td>\n",
       "      <td>1.687472e+09</td>\n",
       "      <td>6.520452</td>\n",
       "      <td>Autolamella-2023-06-22-17-28</td>\n",
       "    </tr>\n",
       "    <tr>\n",
       "      <th>2</th>\n",
       "      <td>big-mutt</td>\n",
       "      <td>MillRoughCut</td>\n",
       "      <td>1.687473e+09</td>\n",
       "      <td>1.687473e+09</td>\n",
       "      <td>7.449603</td>\n",
       "      <td>Autolamella-2023-06-22-17-28</td>\n",
       "    </tr>\n",
       "    <tr>\n",
       "      <th>3</th>\n",
       "      <td>big-mutt</td>\n",
       "      <td>MillRegularCut</td>\n",
       "      <td>1.687473e+09</td>\n",
       "      <td>1.687473e+09</td>\n",
       "      <td>3.075805</td>\n",
       "      <td>Autolamella-2023-06-22-17-28</td>\n",
       "    </tr>\n",
       "    <tr>\n",
       "      <th>4</th>\n",
       "      <td>big-mutt</td>\n",
       "      <td>MillPolishingCut</td>\n",
       "      <td>1.687473e+09</td>\n",
       "      <td>1.687473e+09</td>\n",
       "      <td>3.102259</td>\n",
       "      <td>Autolamella-2023-06-22-17-28</td>\n",
       "    </tr>\n",
       "    <tr>\n",
       "      <th>5</th>\n",
       "      <td>unique-mouse</td>\n",
       "      <td>MillTrench</td>\n",
       "      <td>1.687470e+09</td>\n",
       "      <td>1.687470e+09</td>\n",
       "      <td>5.753934</td>\n",
       "      <td>Autolamella-2023-06-22-17-28</td>\n",
       "    </tr>\n",
       "    <tr>\n",
       "      <th>6</th>\n",
       "      <td>unique-mouse</td>\n",
       "      <td>MillFeatures</td>\n",
       "      <td>1.687472e+09</td>\n",
       "      <td>1.687472e+09</td>\n",
       "      <td>3.962133</td>\n",
       "      <td>Autolamella-2023-06-22-17-28</td>\n",
       "    </tr>\n",
       "    <tr>\n",
       "      <th>7</th>\n",
       "      <td>unique-mouse</td>\n",
       "      <td>MillRoughCut</td>\n",
       "      <td>1.687473e+09</td>\n",
       "      <td>1.687473e+09</td>\n",
       "      <td>3.086150</td>\n",
       "      <td>Autolamella-2023-06-22-17-28</td>\n",
       "    </tr>\n",
       "    <tr>\n",
       "      <th>8</th>\n",
       "      <td>unique-mouse</td>\n",
       "      <td>MillRegularCut</td>\n",
       "      <td>1.687473e+09</td>\n",
       "      <td>1.687473e+09</td>\n",
       "      <td>5.138873</td>\n",
       "      <td>Autolamella-2023-06-22-17-28</td>\n",
       "    </tr>\n",
       "    <tr>\n",
       "      <th>9</th>\n",
       "      <td>unique-mouse</td>\n",
       "      <td>MillPolishingCut</td>\n",
       "      <td>1.687473e+09</td>\n",
       "      <td>1.687473e+09</td>\n",
       "      <td>3.098066</td>\n",
       "      <td>Autolamella-2023-06-22-17-28</td>\n",
       "    </tr>\n",
       "    <tr>\n",
       "      <th>10</th>\n",
       "      <td>tender-mule</td>\n",
       "      <td>MillTrench</td>\n",
       "      <td>1.687470e+09</td>\n",
       "      <td>1.687470e+09</td>\n",
       "      <td>5.041100</td>\n",
       "      <td>Autolamella-2023-06-22-17-28</td>\n",
       "    </tr>\n",
       "    <tr>\n",
       "      <th>11</th>\n",
       "      <td>tender-mule</td>\n",
       "      <td>MillFeatures</td>\n",
       "      <td>1.687472e+09</td>\n",
       "      <td>1.687472e+09</td>\n",
       "      <td>3.013999</td>\n",
       "      <td>Autolamella-2023-06-22-17-28</td>\n",
       "    </tr>\n",
       "    <tr>\n",
       "      <th>12</th>\n",
       "      <td>tender-mule</td>\n",
       "      <td>MillRoughCut</td>\n",
       "      <td>1.687473e+09</td>\n",
       "      <td>1.687473e+09</td>\n",
       "      <td>3.173472</td>\n",
       "      <td>Autolamella-2023-06-22-17-28</td>\n",
       "    </tr>\n",
       "    <tr>\n",
       "      <th>13</th>\n",
       "      <td>tender-mule</td>\n",
       "      <td>MillRegularCut</td>\n",
       "      <td>1.687473e+09</td>\n",
       "      <td>1.687473e+09</td>\n",
       "      <td>5.080458</td>\n",
       "      <td>Autolamella-2023-06-22-17-28</td>\n",
       "    </tr>\n",
       "    <tr>\n",
       "      <th>14</th>\n",
       "      <td>tender-mule</td>\n",
       "      <td>MillPolishingCut</td>\n",
       "      <td>1.687473e+09</td>\n",
       "      <td>1.687473e+09</td>\n",
       "      <td>2.955360</td>\n",
       "      <td>Autolamella-2023-06-22-17-28</td>\n",
       "    </tr>\n",
       "    <tr>\n",
       "      <th>15</th>\n",
       "      <td>cosmic-krill</td>\n",
       "      <td>MillTrench</td>\n",
       "      <td>1.687470e+09</td>\n",
       "      <td>1.687470e+09</td>\n",
       "      <td>4.955196</td>\n",
       "      <td>Autolamella-2023-06-22-17-28</td>\n",
       "    </tr>\n",
       "    <tr>\n",
       "      <th>16</th>\n",
       "      <td>cosmic-krill</td>\n",
       "      <td>MillFeatures</td>\n",
       "      <td>1.687472e+09</td>\n",
       "      <td>1.687472e+09</td>\n",
       "      <td>3.071326</td>\n",
       "      <td>Autolamella-2023-06-22-17-28</td>\n",
       "    </tr>\n",
       "    <tr>\n",
       "      <th>17</th>\n",
       "      <td>cosmic-krill</td>\n",
       "      <td>MillRoughCut</td>\n",
       "      <td>1.687473e+09</td>\n",
       "      <td>1.687473e+09</td>\n",
       "      <td>1.926493</td>\n",
       "      <td>Autolamella-2023-06-22-17-28</td>\n",
       "    </tr>\n",
       "    <tr>\n",
       "      <th>18</th>\n",
       "      <td>cosmic-krill</td>\n",
       "      <td>MillRegularCut</td>\n",
       "      <td>1.687473e+09</td>\n",
       "      <td>1.687473e+09</td>\n",
       "      <td>2.005451</td>\n",
       "      <td>Autolamella-2023-06-22-17-28</td>\n",
       "    </tr>\n",
       "    <tr>\n",
       "      <th>19</th>\n",
       "      <td>cosmic-krill</td>\n",
       "      <td>MillPolishingCut</td>\n",
       "      <td>1.687473e+09</td>\n",
       "      <td>1.687473e+09</td>\n",
       "      <td>2.920907</td>\n",
       "      <td>Autolamella-2023-06-22-17-28</td>\n",
       "    </tr>\n",
       "    <tr>\n",
       "      <th>20</th>\n",
       "      <td>vital-foal</td>\n",
       "      <td>MillTrench</td>\n",
       "      <td>1.687470e+09</td>\n",
       "      <td>1.687470e+09</td>\n",
       "      <td>2.007632</td>\n",
       "      <td>Autolamella-2023-06-22-17-28</td>\n",
       "    </tr>\n",
       "  </tbody>\n",
       "</table>\n",
       "</div>"
      ],
      "text/plain": [
       "         petname             stage         start           end  duration   \n",
       "0       big-mutt        MillTrench  1.687470e+09  1.687470e+09  2.787155  \\\n",
       "1       big-mutt      MillFeatures  1.687472e+09  1.687472e+09  6.520452   \n",
       "2       big-mutt      MillRoughCut  1.687473e+09  1.687473e+09  7.449603   \n",
       "3       big-mutt    MillRegularCut  1.687473e+09  1.687473e+09  3.075805   \n",
       "4       big-mutt  MillPolishingCut  1.687473e+09  1.687473e+09  3.102259   \n",
       "5   unique-mouse        MillTrench  1.687470e+09  1.687470e+09  5.753934   \n",
       "6   unique-mouse      MillFeatures  1.687472e+09  1.687472e+09  3.962133   \n",
       "7   unique-mouse      MillRoughCut  1.687473e+09  1.687473e+09  3.086150   \n",
       "8   unique-mouse    MillRegularCut  1.687473e+09  1.687473e+09  5.138873   \n",
       "9   unique-mouse  MillPolishingCut  1.687473e+09  1.687473e+09  3.098066   \n",
       "10   tender-mule        MillTrench  1.687470e+09  1.687470e+09  5.041100   \n",
       "11   tender-mule      MillFeatures  1.687472e+09  1.687472e+09  3.013999   \n",
       "12   tender-mule      MillRoughCut  1.687473e+09  1.687473e+09  3.173472   \n",
       "13   tender-mule    MillRegularCut  1.687473e+09  1.687473e+09  5.080458   \n",
       "14   tender-mule  MillPolishingCut  1.687473e+09  1.687473e+09  2.955360   \n",
       "15  cosmic-krill        MillTrench  1.687470e+09  1.687470e+09  4.955196   \n",
       "16  cosmic-krill      MillFeatures  1.687472e+09  1.687472e+09  3.071326   \n",
       "17  cosmic-krill      MillRoughCut  1.687473e+09  1.687473e+09  1.926493   \n",
       "18  cosmic-krill    MillRegularCut  1.687473e+09  1.687473e+09  2.005451   \n",
       "19  cosmic-krill  MillPolishingCut  1.687473e+09  1.687473e+09  2.920907   \n",
       "20    vital-foal        MillTrench  1.687470e+09  1.687470e+09  2.007632   \n",
       "\n",
       "                            name  \n",
       "0   Autolamella-2023-06-22-17-28  \n",
       "1   Autolamella-2023-06-22-17-28  \n",
       "2   Autolamella-2023-06-22-17-28  \n",
       "3   Autolamella-2023-06-22-17-28  \n",
       "4   Autolamella-2023-06-22-17-28  \n",
       "5   Autolamella-2023-06-22-17-28  \n",
       "6   Autolamella-2023-06-22-17-28  \n",
       "7   Autolamella-2023-06-22-17-28  \n",
       "8   Autolamella-2023-06-22-17-28  \n",
       "9   Autolamella-2023-06-22-17-28  \n",
       "10  Autolamella-2023-06-22-17-28  \n",
       "11  Autolamella-2023-06-22-17-28  \n",
       "12  Autolamella-2023-06-22-17-28  \n",
       "13  Autolamella-2023-06-22-17-28  \n",
       "14  Autolamella-2023-06-22-17-28  \n",
       "15  Autolamella-2023-06-22-17-28  \n",
       "16  Autolamella-2023-06-22-17-28  \n",
       "17  Autolamella-2023-06-22-17-28  \n",
       "18  Autolamella-2023-06-22-17-28  \n",
       "19  Autolamella-2023-06-22-17-28  \n",
       "20  Autolamella-2023-06-22-17-28  "
      ]
     },
     "metadata": {},
     "output_type": "display_data"
    },
    {
     "data": {
      "application/vnd.plotly.v1+json": {
       "config": {
        "plotlyServerURL": "https://plot.ly"
       },
       "data": [
        {
         "alignmentgroup": "True",
         "hovertemplate": "stage=MillTrench<br>petname=%{x}<br>duration=%{y}<extra></extra>",
         "legendgroup": "MillTrench",
         "marker": {
          "color": "#636efa",
          "pattern": {
           "shape": ""
          }
         },
         "name": "MillTrench",
         "offsetgroup": "MillTrench",
         "orientation": "v",
         "showlegend": true,
         "textposition": "auto",
         "type": "bar",
         "x": [
          "big-mutt",
          "unique-mouse",
          "tender-mule",
          "cosmic-krill",
          "vital-foal"
         ],
         "xaxis": "x",
         "y": [
          2.7871549129486084,
          5.753933906555176,
          5.041100025177002,
          4.955195903778076,
          2.00763201713562
         ],
         "yaxis": "y"
        },
        {
         "alignmentgroup": "True",
         "hovertemplate": "stage=MillFeatures<br>petname=%{x}<br>duration=%{y}<extra></extra>",
         "legendgroup": "MillFeatures",
         "marker": {
          "color": "#EF553B",
          "pattern": {
           "shape": ""
          }
         },
         "name": "MillFeatures",
         "offsetgroup": "MillFeatures",
         "orientation": "v",
         "showlegend": true,
         "textposition": "auto",
         "type": "bar",
         "x": [
          "big-mutt",
          "unique-mouse",
          "tender-mule",
          "cosmic-krill"
         ],
         "xaxis": "x",
         "y": [
          6.52045202255249,
          3.9621331691741943,
          3.0139989852905273,
          3.0713260173797607
         ],
         "yaxis": "y"
        },
        {
         "alignmentgroup": "True",
         "hovertemplate": "stage=MillRoughCut<br>petname=%{x}<br>duration=%{y}<extra></extra>",
         "legendgroup": "MillRoughCut",
         "marker": {
          "color": "#00cc96",
          "pattern": {
           "shape": ""
          }
         },
         "name": "MillRoughCut",
         "offsetgroup": "MillRoughCut",
         "orientation": "v",
         "showlegend": true,
         "textposition": "auto",
         "type": "bar",
         "x": [
          "big-mutt",
          "unique-mouse",
          "tender-mule",
          "cosmic-krill"
         ],
         "xaxis": "x",
         "y": [
          7.449602842330933,
          3.0861499309539795,
          3.1734721660614014,
          1.9264931678771973
         ],
         "yaxis": "y"
        },
        {
         "alignmentgroup": "True",
         "hovertemplate": "stage=MillRegularCut<br>petname=%{x}<br>duration=%{y}<extra></extra>",
         "legendgroup": "MillRegularCut",
         "marker": {
          "color": "#ab63fa",
          "pattern": {
           "shape": ""
          }
         },
         "name": "MillRegularCut",
         "offsetgroup": "MillRegularCut",
         "orientation": "v",
         "showlegend": true,
         "textposition": "auto",
         "type": "bar",
         "x": [
          "big-mutt",
          "unique-mouse",
          "tender-mule",
          "cosmic-krill"
         ],
         "xaxis": "x",
         "y": [
          3.075805187225342,
          5.138872861862183,
          5.080457925796509,
          2.005450963973999
         ],
         "yaxis": "y"
        },
        {
         "alignmentgroup": "True",
         "hovertemplate": "stage=MillPolishingCut<br>petname=%{x}<br>duration=%{y}<extra></extra>",
         "legendgroup": "MillPolishingCut",
         "marker": {
          "color": "#FFA15A",
          "pattern": {
           "shape": ""
          }
         },
         "name": "MillPolishingCut",
         "offsetgroup": "MillPolishingCut",
         "orientation": "v",
         "showlegend": true,
         "textposition": "auto",
         "type": "bar",
         "x": [
          "big-mutt",
          "unique-mouse",
          "tender-mule",
          "cosmic-krill"
         ],
         "xaxis": "x",
         "y": [
          3.1022591590881348,
          3.0980660915374756,
          2.955359935760498,
          2.9209070205688477
         ],
         "yaxis": "y"
        }
       ],
       "layout": {
        "barmode": "group",
        "legend": {
         "title": {
          "text": "stage"
         },
         "tracegroupgap": 0
        },
        "template": {
         "data": {
          "bar": [
           {
            "error_x": {
             "color": "#2a3f5f"
            },
            "error_y": {
             "color": "#2a3f5f"
            },
            "marker": {
             "line": {
              "color": "#E5ECF6",
              "width": 0.5
             },
             "pattern": {
              "fillmode": "overlay",
              "size": 10,
              "solidity": 0.2
             }
            },
            "type": "bar"
           }
          ],
          "barpolar": [
           {
            "marker": {
             "line": {
              "color": "#E5ECF6",
              "width": 0.5
             },
             "pattern": {
              "fillmode": "overlay",
              "size": 10,
              "solidity": 0.2
             }
            },
            "type": "barpolar"
           }
          ],
          "carpet": [
           {
            "aaxis": {
             "endlinecolor": "#2a3f5f",
             "gridcolor": "white",
             "linecolor": "white",
             "minorgridcolor": "white",
             "startlinecolor": "#2a3f5f"
            },
            "baxis": {
             "endlinecolor": "#2a3f5f",
             "gridcolor": "white",
             "linecolor": "white",
             "minorgridcolor": "white",
             "startlinecolor": "#2a3f5f"
            },
            "type": "carpet"
           }
          ],
          "choropleth": [
           {
            "colorbar": {
             "outlinewidth": 0,
             "ticks": ""
            },
            "type": "choropleth"
           }
          ],
          "contour": [
           {
            "colorbar": {
             "outlinewidth": 0,
             "ticks": ""
            },
            "colorscale": [
             [
              0,
              "#0d0887"
             ],
             [
              0.1111111111111111,
              "#46039f"
             ],
             [
              0.2222222222222222,
              "#7201a8"
             ],
             [
              0.3333333333333333,
              "#9c179e"
             ],
             [
              0.4444444444444444,
              "#bd3786"
             ],
             [
              0.5555555555555556,
              "#d8576b"
             ],
             [
              0.6666666666666666,
              "#ed7953"
             ],
             [
              0.7777777777777778,
              "#fb9f3a"
             ],
             [
              0.8888888888888888,
              "#fdca26"
             ],
             [
              1,
              "#f0f921"
             ]
            ],
            "type": "contour"
           }
          ],
          "contourcarpet": [
           {
            "colorbar": {
             "outlinewidth": 0,
             "ticks": ""
            },
            "type": "contourcarpet"
           }
          ],
          "heatmap": [
           {
            "colorbar": {
             "outlinewidth": 0,
             "ticks": ""
            },
            "colorscale": [
             [
              0,
              "#0d0887"
             ],
             [
              0.1111111111111111,
              "#46039f"
             ],
             [
              0.2222222222222222,
              "#7201a8"
             ],
             [
              0.3333333333333333,
              "#9c179e"
             ],
             [
              0.4444444444444444,
              "#bd3786"
             ],
             [
              0.5555555555555556,
              "#d8576b"
             ],
             [
              0.6666666666666666,
              "#ed7953"
             ],
             [
              0.7777777777777778,
              "#fb9f3a"
             ],
             [
              0.8888888888888888,
              "#fdca26"
             ],
             [
              1,
              "#f0f921"
             ]
            ],
            "type": "heatmap"
           }
          ],
          "heatmapgl": [
           {
            "colorbar": {
             "outlinewidth": 0,
             "ticks": ""
            },
            "colorscale": [
             [
              0,
              "#0d0887"
             ],
             [
              0.1111111111111111,
              "#46039f"
             ],
             [
              0.2222222222222222,
              "#7201a8"
             ],
             [
              0.3333333333333333,
              "#9c179e"
             ],
             [
              0.4444444444444444,
              "#bd3786"
             ],
             [
              0.5555555555555556,
              "#d8576b"
             ],
             [
              0.6666666666666666,
              "#ed7953"
             ],
             [
              0.7777777777777778,
              "#fb9f3a"
             ],
             [
              0.8888888888888888,
              "#fdca26"
             ],
             [
              1,
              "#f0f921"
             ]
            ],
            "type": "heatmapgl"
           }
          ],
          "histogram": [
           {
            "marker": {
             "pattern": {
              "fillmode": "overlay",
              "size": 10,
              "solidity": 0.2
             }
            },
            "type": "histogram"
           }
          ],
          "histogram2d": [
           {
            "colorbar": {
             "outlinewidth": 0,
             "ticks": ""
            },
            "colorscale": [
             [
              0,
              "#0d0887"
             ],
             [
              0.1111111111111111,
              "#46039f"
             ],
             [
              0.2222222222222222,
              "#7201a8"
             ],
             [
              0.3333333333333333,
              "#9c179e"
             ],
             [
              0.4444444444444444,
              "#bd3786"
             ],
             [
              0.5555555555555556,
              "#d8576b"
             ],
             [
              0.6666666666666666,
              "#ed7953"
             ],
             [
              0.7777777777777778,
              "#fb9f3a"
             ],
             [
              0.8888888888888888,
              "#fdca26"
             ],
             [
              1,
              "#f0f921"
             ]
            ],
            "type": "histogram2d"
           }
          ],
          "histogram2dcontour": [
           {
            "colorbar": {
             "outlinewidth": 0,
             "ticks": ""
            },
            "colorscale": [
             [
              0,
              "#0d0887"
             ],
             [
              0.1111111111111111,
              "#46039f"
             ],
             [
              0.2222222222222222,
              "#7201a8"
             ],
             [
              0.3333333333333333,
              "#9c179e"
             ],
             [
              0.4444444444444444,
              "#bd3786"
             ],
             [
              0.5555555555555556,
              "#d8576b"
             ],
             [
              0.6666666666666666,
              "#ed7953"
             ],
             [
              0.7777777777777778,
              "#fb9f3a"
             ],
             [
              0.8888888888888888,
              "#fdca26"
             ],
             [
              1,
              "#f0f921"
             ]
            ],
            "type": "histogram2dcontour"
           }
          ],
          "mesh3d": [
           {
            "colorbar": {
             "outlinewidth": 0,
             "ticks": ""
            },
            "type": "mesh3d"
           }
          ],
          "parcoords": [
           {
            "line": {
             "colorbar": {
              "outlinewidth": 0,
              "ticks": ""
             }
            },
            "type": "parcoords"
           }
          ],
          "pie": [
           {
            "automargin": true,
            "type": "pie"
           }
          ],
          "scatter": [
           {
            "fillpattern": {
             "fillmode": "overlay",
             "size": 10,
             "solidity": 0.2
            },
            "type": "scatter"
           }
          ],
          "scatter3d": [
           {
            "line": {
             "colorbar": {
              "outlinewidth": 0,
              "ticks": ""
             }
            },
            "marker": {
             "colorbar": {
              "outlinewidth": 0,
              "ticks": ""
             }
            },
            "type": "scatter3d"
           }
          ],
          "scattercarpet": [
           {
            "marker": {
             "colorbar": {
              "outlinewidth": 0,
              "ticks": ""
             }
            },
            "type": "scattercarpet"
           }
          ],
          "scattergeo": [
           {
            "marker": {
             "colorbar": {
              "outlinewidth": 0,
              "ticks": ""
             }
            },
            "type": "scattergeo"
           }
          ],
          "scattergl": [
           {
            "marker": {
             "colorbar": {
              "outlinewidth": 0,
              "ticks": ""
             }
            },
            "type": "scattergl"
           }
          ],
          "scattermapbox": [
           {
            "marker": {
             "colorbar": {
              "outlinewidth": 0,
              "ticks": ""
             }
            },
            "type": "scattermapbox"
           }
          ],
          "scatterpolar": [
           {
            "marker": {
             "colorbar": {
              "outlinewidth": 0,
              "ticks": ""
             }
            },
            "type": "scatterpolar"
           }
          ],
          "scatterpolargl": [
           {
            "marker": {
             "colorbar": {
              "outlinewidth": 0,
              "ticks": ""
             }
            },
            "type": "scatterpolargl"
           }
          ],
          "scatterternary": [
           {
            "marker": {
             "colorbar": {
              "outlinewidth": 0,
              "ticks": ""
             }
            },
            "type": "scatterternary"
           }
          ],
          "surface": [
           {
            "colorbar": {
             "outlinewidth": 0,
             "ticks": ""
            },
            "colorscale": [
             [
              0,
              "#0d0887"
             ],
             [
              0.1111111111111111,
              "#46039f"
             ],
             [
              0.2222222222222222,
              "#7201a8"
             ],
             [
              0.3333333333333333,
              "#9c179e"
             ],
             [
              0.4444444444444444,
              "#bd3786"
             ],
             [
              0.5555555555555556,
              "#d8576b"
             ],
             [
              0.6666666666666666,
              "#ed7953"
             ],
             [
              0.7777777777777778,
              "#fb9f3a"
             ],
             [
              0.8888888888888888,
              "#fdca26"
             ],
             [
              1,
              "#f0f921"
             ]
            ],
            "type": "surface"
           }
          ],
          "table": [
           {
            "cells": {
             "fill": {
              "color": "#EBF0F8"
             },
             "line": {
              "color": "white"
             }
            },
            "header": {
             "fill": {
              "color": "#C8D4E3"
             },
             "line": {
              "color": "white"
             }
            },
            "type": "table"
           }
          ]
         },
         "layout": {
          "annotationdefaults": {
           "arrowcolor": "#2a3f5f",
           "arrowhead": 0,
           "arrowwidth": 1
          },
          "autotypenumbers": "strict",
          "coloraxis": {
           "colorbar": {
            "outlinewidth": 0,
            "ticks": ""
           }
          },
          "colorscale": {
           "diverging": [
            [
             0,
             "#8e0152"
            ],
            [
             0.1,
             "#c51b7d"
            ],
            [
             0.2,
             "#de77ae"
            ],
            [
             0.3,
             "#f1b6da"
            ],
            [
             0.4,
             "#fde0ef"
            ],
            [
             0.5,
             "#f7f7f7"
            ],
            [
             0.6,
             "#e6f5d0"
            ],
            [
             0.7,
             "#b8e186"
            ],
            [
             0.8,
             "#7fbc41"
            ],
            [
             0.9,
             "#4d9221"
            ],
            [
             1,
             "#276419"
            ]
           ],
           "sequential": [
            [
             0,
             "#0d0887"
            ],
            [
             0.1111111111111111,
             "#46039f"
            ],
            [
             0.2222222222222222,
             "#7201a8"
            ],
            [
             0.3333333333333333,
             "#9c179e"
            ],
            [
             0.4444444444444444,
             "#bd3786"
            ],
            [
             0.5555555555555556,
             "#d8576b"
            ],
            [
             0.6666666666666666,
             "#ed7953"
            ],
            [
             0.7777777777777778,
             "#fb9f3a"
            ],
            [
             0.8888888888888888,
             "#fdca26"
            ],
            [
             1,
             "#f0f921"
            ]
           ],
           "sequentialminus": [
            [
             0,
             "#0d0887"
            ],
            [
             0.1111111111111111,
             "#46039f"
            ],
            [
             0.2222222222222222,
             "#7201a8"
            ],
            [
             0.3333333333333333,
             "#9c179e"
            ],
            [
             0.4444444444444444,
             "#bd3786"
            ],
            [
             0.5555555555555556,
             "#d8576b"
            ],
            [
             0.6666666666666666,
             "#ed7953"
            ],
            [
             0.7777777777777778,
             "#fb9f3a"
            ],
            [
             0.8888888888888888,
             "#fdca26"
            ],
            [
             1,
             "#f0f921"
            ]
           ]
          },
          "colorway": [
           "#636efa",
           "#EF553B",
           "#00cc96",
           "#ab63fa",
           "#FFA15A",
           "#19d3f3",
           "#FF6692",
           "#B6E880",
           "#FF97FF",
           "#FECB52"
          ],
          "font": {
           "color": "#2a3f5f"
          },
          "geo": {
           "bgcolor": "white",
           "lakecolor": "white",
           "landcolor": "#E5ECF6",
           "showlakes": true,
           "showland": true,
           "subunitcolor": "white"
          },
          "hoverlabel": {
           "align": "left"
          },
          "hovermode": "closest",
          "mapbox": {
           "style": "light"
          },
          "paper_bgcolor": "white",
          "plot_bgcolor": "#E5ECF6",
          "polar": {
           "angularaxis": {
            "gridcolor": "white",
            "linecolor": "white",
            "ticks": ""
           },
           "bgcolor": "#E5ECF6",
           "radialaxis": {
            "gridcolor": "white",
            "linecolor": "white",
            "ticks": ""
           }
          },
          "scene": {
           "xaxis": {
            "backgroundcolor": "#E5ECF6",
            "gridcolor": "white",
            "gridwidth": 2,
            "linecolor": "white",
            "showbackground": true,
            "ticks": "",
            "zerolinecolor": "white"
           },
           "yaxis": {
            "backgroundcolor": "#E5ECF6",
            "gridcolor": "white",
            "gridwidth": 2,
            "linecolor": "white",
            "showbackground": true,
            "ticks": "",
            "zerolinecolor": "white"
           },
           "zaxis": {
            "backgroundcolor": "#E5ECF6",
            "gridcolor": "white",
            "gridwidth": 2,
            "linecolor": "white",
            "showbackground": true,
            "ticks": "",
            "zerolinecolor": "white"
           }
          },
          "shapedefaults": {
           "line": {
            "color": "#2a3f5f"
           }
          },
          "ternary": {
           "aaxis": {
            "gridcolor": "white",
            "linecolor": "white",
            "ticks": ""
           },
           "baxis": {
            "gridcolor": "white",
            "linecolor": "white",
            "ticks": ""
           },
           "bgcolor": "#E5ECF6",
           "caxis": {
            "gridcolor": "white",
            "linecolor": "white",
            "ticks": ""
           }
          },
          "title": {
           "x": 0.05
          },
          "xaxis": {
           "automargin": true,
           "gridcolor": "white",
           "linecolor": "white",
           "ticks": "",
           "title": {
            "standoff": 15
           },
           "zerolinecolor": "white",
           "zerolinewidth": 2
          },
          "yaxis": {
           "automargin": true,
           "gridcolor": "white",
           "linecolor": "white",
           "ticks": "",
           "title": {
            "standoff": 15
           },
           "zerolinecolor": "white",
           "zerolinewidth": 2
          }
         }
        },
        "title": {
         "text": "Stage Duration"
        },
        "xaxis": {
         "anchor": "y",
         "domain": [
          0,
          1
         ],
         "title": {
          "text": "petname"
         }
        },
        "yaxis": {
         "anchor": "x",
         "domain": [
          0,
          1
         ],
         "title": {
          "text": "duration"
         }
        }
       }
      }
     },
     "metadata": {},
     "output_type": "display_data"
    }
   ],
   "source": [
    "display(df_history)\n",
    "\n",
    "import plotly.express as px\n",
    "\n",
    "\n",
    "fig = px.bar(df_history, x=\"petname\", y=\"duration\", color=\"stage\", barmode=\"group\", title=\"Stage Duration\")\n",
    "fig.show()"
   ]
  },
  {
   "cell_type": "code",
   "execution_count": null,
   "metadata": {},
   "outputs": [],
   "source": []
  }
 ],
 "metadata": {
  "kernelspec": {
   "display_name": "fibsem",
   "language": "python",
   "name": "python3"
  },
  "language_info": {
   "codemirror_mode": {
    "name": "ipython",
    "version": 3
   },
   "file_extension": ".py",
   "mimetype": "text/x-python",
   "name": "python",
   "nbconvert_exporter": "python",
   "pygments_lexer": "ipython3",
   "version": "3.9.16"
  },
  "orig_nbformat": 4
 },
 "nbformat": 4,
 "nbformat_minor": 2
}
