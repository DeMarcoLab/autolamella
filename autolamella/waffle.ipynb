{
 "cells": [
  {
   "attachments": {},
   "cell_type": "markdown",
   "metadata": {},
   "source": [
    "## Waffle Method Integration\n",
    "\n"
   ]
  },
  {
   "cell_type": "code",
   "execution_count": 1,
   "metadata": {},
   "outputs": [],
   "source": [
    "%load_ext autoreload\n",
    "%autoreload 2\n",
    "\n",
    "from fibsem import utils, acquire, patterning, milling\n",
    "from fibsem.structures import BeamType, FibsemStagePosition, Point\n",
    "from fibsem.patterning import FibsemMillingStage\n",
    "\n",
    "from pprint import pprint\n",
    "import numpy as np\n",
    "import matplotlib.pyplot as plt\n",
    "\n",
    "\n",
    "from fibsem.microscope import FibsemMicroscope\n",
    "from fibsem.structures import MicroscopeSettings\n",
    "from autolamella.structures import Lamella, Experiment, AutoLamellaStage\n",
    "\n",
    "from copy import deepcopy\n",
    "import os\n",
    "\n"
   ]
  },
  {
   "cell_type": "code",
   "execution_count": null,
   "metadata": {},
   "outputs": [],
   "source": []
  },
  {
   "attachments": {},
   "cell_type": "markdown",
   "metadata": {},
   "source": [
    "### Method\n",
    "\n",
    "1. Select Lamella Position\n",
    "2. Move Flat to Ion Beam\n",
    "3. Mill Trench \n",
    "4. Take Reference Images\n",
    "5. Move Flat to Electron Beam\n",
    "6. Align to Reference Images\n",
    "7. Take Reference Images\n",
    "9. Tilt Stage to Milling Angle (18deg)?\n",
    "10. Align to Tilted Reference Images\n",
    "11. Mill Fiducial?\n",
    "12. Mill Lamella (Mill trench -> Align -> Repeat)"
   ]
  },
  {
   "attachments": {},
   "cell_type": "markdown",
   "metadata": {},
   "source": [
    "### Experiment\n"
   ]
  },
  {
   "cell_type": "code",
   "execution_count": 3,
   "metadata": {},
   "outputs": [
    {
     "name": "stdout",
     "output_type": "stream",
     "text": [
      "2023-06-20 15:56:49,915 — root — INFO — connect_to_microscope:4026 — Connected to Demo Microscope\n",
      "2023-06-20 15:56:49,921 — root — INFO — connect_to_microscope:4027 — Microscope client connected to model Demo with serial number 123456 and software version 0.1\n",
      "2023-06-20 15:56:49,923 — root — INFO — setup_session:229 — Finished setup for session: autolamella_demo_2023-06-20-03-56-49PM\n"
     ]
    }
   ],
   "source": [
    "\n",
    "PROTOCOL_PATH = r\"C:\\Users\\pcle0002\\Documents\\repos\\autolamella\\autolamella\\protocol_waffle.yaml\"\n",
    "microscope, settings = utils.setup_session(manufacturer=\"Demo\", protocol_path=PROTOCOL_PATH)\n",
    "\n"
   ]
  },
  {
   "attachments": {},
   "cell_type": "markdown",
   "metadata": {},
   "source": [
    "#### Setup \n",
    "Select Lamella Positions"
   ]
  },
  {
   "cell_type": "code",
   "execution_count": 4,
   "metadata": {},
   "outputs": [
    {
     "name": "stdout",
     "output_type": "stream",
     "text": [
      "Experiment: \n",
      "        Path: c:\\Users\\pcle0002\\Documents\\repos\\autolamella\\autolamella\\waffle\\waffle-demo-2023-06-20-03-56-51PM\n",
      "        Positions: 0\n",
      "        \n",
      "2023-06-20 15:56:51,689 — root — INFO — move_flat_to_beam:4140 — Moving stage: Flat to ION beam, r=52.00, t=52.00)\n",
      "2023-06-20 15:56:53,612 — root — INFO — get_current_microscope_state:4090 — Getting microscope state\n",
      "2023-06-20 15:56:53,615 — root — INFO — autocontrast:4061 — Autocontrast: BeamType.ELECTRON\n",
      "2023-06-20 15:56:53,619 — root — INFO — acquire_image:4039 — Acquiring image: BeamType.ELECTRON\n",
      "2023-06-20 15:56:53,662 — root — INFO — autocontrast:4061 — Autocontrast: BeamType.ION\n",
      "2023-06-20 15:56:53,667 — root — INFO — acquire_image:4039 — Acquiring image: BeamType.ION\n",
      "2023-06-20 15:56:53,694 — root — INFO — autocontrast:4061 — Autocontrast: BeamType.ELECTRON\n",
      "2023-06-20 15:56:53,697 — root — INFO — acquire_image:4039 — Acquiring image: BeamType.ELECTRON\n",
      "2023-06-20 15:56:53,713 — root — INFO — autocontrast:4061 — Autocontrast: BeamType.ION\n",
      "2023-06-20 15:56:53,716 — root — INFO — acquire_image:4039 — Acquiring image: BeamType.ION\n",
      "2023-06-20 15:56:54,255 — root — INFO — get_current_microscope_state:4090 — Getting microscope state\n",
      "2023-06-20 15:56:54,257 — root — INFO — autocontrast:4061 — Autocontrast: BeamType.ELECTRON\n",
      "2023-06-20 15:56:54,260 — root — INFO — acquire_image:4039 — Acquiring image: BeamType.ELECTRON\n",
      "2023-06-20 15:56:54,281 — root — INFO — autocontrast:4061 — Autocontrast: BeamType.ION\n",
      "2023-06-20 15:56:54,283 — root — INFO — acquire_image:4039 — Acquiring image: BeamType.ION\n",
      "2023-06-20 15:56:54,305 — root — INFO — autocontrast:4061 — Autocontrast: BeamType.ELECTRON\n",
      "2023-06-20 15:56:54,308 — root — INFO — acquire_image:4039 — Acquiring image: BeamType.ELECTRON\n",
      "2023-06-20 15:56:54,344 — root — INFO — autocontrast:4061 — Autocontrast: BeamType.ION\n",
      "2023-06-20 15:56:54,348 — root — INFO — acquire_image:4039 — Acquiring image: BeamType.ION\n",
      "2023-06-20 15:56:54,946 — root — INFO — get_current_microscope_state:4090 — Getting microscope state\n",
      "2023-06-20 15:56:54,950 — root — INFO — autocontrast:4061 — Autocontrast: BeamType.ELECTRON\n",
      "2023-06-20 15:56:54,954 — root — INFO — acquire_image:4039 — Acquiring image: BeamType.ELECTRON\n",
      "2023-06-20 15:56:54,979 — root — INFO — autocontrast:4061 — Autocontrast: BeamType.ION\n",
      "2023-06-20 15:56:54,981 — root — INFO — acquire_image:4039 — Acquiring image: BeamType.ION\n",
      "2023-06-20 15:56:55,001 — root — INFO — autocontrast:4061 — Autocontrast: BeamType.ELECTRON\n",
      "2023-06-20 15:56:55,006 — root — INFO — acquire_image:4039 — Acquiring image: BeamType.ELECTRON\n",
      "2023-06-20 15:56:55,028 — root — INFO — autocontrast:4061 — Autocontrast: BeamType.ION\n",
      "2023-06-20 15:56:55,030 — root — INFO — acquire_image:4039 — Acquiring image: BeamType.ION\n"
     ]
    }
   ],
   "source": [
    "from autolamella import waffle as wfl\n",
    "\n",
    "PATH = os.path.join(os.getcwd(), \"waffle\")\n",
    "\n",
    "experiment = Experiment(path=PATH, name=f\"waffle-demo-{utils.current_timestamp()}\")\n",
    "\n",
    "print(experiment)\n",
    "\n",
    "experiment = wfl.select_positions(microscope, settings, experiment)"
   ]
  },
  {
   "cell_type": "code",
   "execution_count": 8,
   "metadata": {},
   "outputs": [
    {
     "name": "stdout",
     "output_type": "stream",
     "text": [
      "Experiment: \n",
      "        Path: c:\\Users\\pcle0002\\Documents\\repos\\autolamella\\autolamella\\waffle\\waffle-demo-2023-06-20-03-56-51PM\n",
      "        Positions: 3\n",
      "        \n"
     ]
    }
   ],
   "source": [
    "print(experiment)\n",
    "experiment.save()"
   ]
  },
  {
   "cell_type": "code",
   "execution_count": null,
   "metadata": {},
   "outputs": [],
   "source": [
    "print(experiment.positions)"
   ]
  },
  {
   "cell_type": "code",
   "execution_count": null,
   "metadata": {},
   "outputs": [],
   "source": []
  }
 ],
 "metadata": {
  "kernelspec": {
   "display_name": "fibsem",
   "language": "python",
   "name": "python3"
  },
  "language_info": {
   "codemirror_mode": {
    "name": "ipython",
    "version": 3
   },
   "file_extension": ".py",
   "mimetype": "text/x-python",
   "name": "python",
   "nbconvert_exporter": "python",
   "pygments_lexer": "ipython3",
   "version": "3.9.16"
  },
  "orig_nbformat": 4
 },
 "nbformat": 4,
 "nbformat_minor": 2
}
