{
 "cells": [
  {
   "attachments": {},
   "cell_type": "markdown",
   "metadata": {},
   "source": [
    "## Waffle Method Integration\n",
    "\n"
   ]
  },
  {
   "cell_type": "code",
   "execution_count": null,
   "metadata": {},
   "outputs": [],
   "source": [
    "%load_ext autoreload\n",
    "%autoreload 2\n",
    "\n",
    "from fibsem import utils, acquire, patterning, milling\n",
    "from fibsem.structures import BeamType, FibsemStagePosition, Point\n",
    "from fibsem.patterning import FibsemMillingStage\n",
    "\n",
    "from pprint import pprint\n",
    "import numpy as np\n",
    "import matplotlib.pyplot as plt\n",
    "\n",
    "\n",
    "from fibsem.microscope import FibsemMicroscope\n",
    "from fibsem.structures import MicroscopeSettings\n",
    "from autolamella.structures import Lamella, Experiment, AutoLamellaStage\n",
    "\n",
    "from copy import deepcopy\n",
    "import os\n",
    "\n"
   ]
  },
  {
   "cell_type": "code",
   "execution_count": null,
   "metadata": {},
   "outputs": [],
   "source": []
  },
  {
   "attachments": {},
   "cell_type": "markdown",
   "metadata": {},
   "source": [
    "### Method\n",
    "\n",
    "1. Select Lamella Position\n",
    "2. Move Flat to Ion Beam\n",
    "3. Mill Trench \n",
    "4. Take Reference Images\n",
    "5. Move Flat to Electron Beam\n",
    "6. Align to Reference Images\n",
    "7. Take Reference Images\n",
    "9. Tilt Stage to Milling Angle (18deg)?\n",
    "10. Align to Tilted Reference Images\n",
    "11. Mill Fiducial?\n",
    "12. Mill Lamella (Mill trench -> Align -> Repeat)"
   ]
  },
  {
   "attachments": {},
   "cell_type": "markdown",
   "metadata": {},
   "source": [
    "### Experiment\n"
   ]
  },
  {
   "cell_type": "code",
   "execution_count": null,
   "metadata": {},
   "outputs": [],
   "source": [
    "\n"
   ]
  },
  {
   "attachments": {},
   "cell_type": "markdown",
   "metadata": {},
   "source": [
    "#### Setup \n",
    "Select Lamella Positions"
   ]
  },
  {
   "cell_type": "code",
   "execution_count": 1,
   "metadata": {},
   "outputs": [
    {
     "name": "stdout",
     "output_type": "stream",
     "text": [
      "2023-06-20 16:29:39,190 — root — INFO — connect_to_microscope:4026 — Connected to Demo Microscope\n",
      "2023-06-20 16:29:39,193 — root — INFO — connect_to_microscope:4027 — Microscope client connected to model Demo with serial number 123456 and software version 0.1\n",
      "2023-06-20 16:29:39,196 — root — INFO — setup_session:229 — Finished setup for session: autolamella_demo_2023-06-20-04-29-39PM\n",
      "Experiment: \n",
      "        Path: c:\\Users\\pcle0002\\Documents\\repos\\autolamella\\autolamella\\waffle\\waffle-demo-2023-06-20-04-29-39PM\n",
      "        Positions: 0\n",
      "        \n",
      "2023-06-20 16:29:39,204 — root — INFO — move_flat_to_beam:4140 — Moving stage: Flat to ION beam, r=52.00, t=52.00)\n",
      "2023-06-20 16:29:43,231 — root — INFO — get_current_microscope_state:4090 — Getting microscope state\n",
      "2023-06-20 16:29:43,234 — root — INFO — autocontrast:4061 — Autocontrast: BeamType.ELECTRON\n",
      "2023-06-20 16:29:43,236 — root — INFO — acquire_image:4039 — Acquiring image: BeamType.ELECTRON\n",
      "2023-06-20 16:29:43,283 — root — INFO — autocontrast:4061 — Autocontrast: BeamType.ION\n",
      "2023-06-20 16:29:43,286 — root — INFO — acquire_image:4039 — Acquiring image: BeamType.ION\n",
      "2023-06-20 16:29:43,303 — root — INFO — autocontrast:4061 — Autocontrast: BeamType.ELECTRON\n",
      "2023-06-20 16:29:43,307 — root — INFO — acquire_image:4039 — Acquiring image: BeamType.ELECTRON\n",
      "2023-06-20 16:29:43,324 — root — INFO — autocontrast:4061 — Autocontrast: BeamType.ION\n",
      "2023-06-20 16:29:43,326 — root — INFO — acquire_image:4039 — Acquiring image: BeamType.ION\n",
      "2023-06-20 16:29:43,773 — root — INFO — get_current_microscope_state:4090 — Getting microscope state\n",
      "2023-06-20 16:29:43,778 — root — INFO — autocontrast:4061 — Autocontrast: BeamType.ELECTRON\n",
      "2023-06-20 16:29:43,781 — root — INFO — acquire_image:4039 — Acquiring image: BeamType.ELECTRON\n",
      "2023-06-20 16:29:43,833 — root — INFO — autocontrast:4061 — Autocontrast: BeamType.ION\n",
      "2023-06-20 16:29:43,836 — root — INFO — acquire_image:4039 — Acquiring image: BeamType.ION\n",
      "2023-06-20 16:29:43,858 — root — INFO — autocontrast:4061 — Autocontrast: BeamType.ELECTRON\n",
      "2023-06-20 16:29:43,863 — root — INFO — acquire_image:4039 — Acquiring image: BeamType.ELECTRON\n",
      "2023-06-20 16:29:43,886 — root — INFO — autocontrast:4061 — Autocontrast: BeamType.ION\n",
      "2023-06-20 16:29:43,890 — root — INFO — acquire_image:4039 — Acquiring image: BeamType.ION\n",
      "2023-06-20 16:29:44,204 — root — INFO — get_current_microscope_state:4090 — Getting microscope state\n",
      "2023-06-20 16:29:44,208 — root — INFO — autocontrast:4061 — Autocontrast: BeamType.ELECTRON\n",
      "2023-06-20 16:29:44,210 — root — INFO — acquire_image:4039 — Acquiring image: BeamType.ELECTRON\n",
      "2023-06-20 16:29:44,264 — root — INFO — autocontrast:4061 — Autocontrast: BeamType.ION\n",
      "2023-06-20 16:29:44,267 — root — INFO — acquire_image:4039 — Acquiring image: BeamType.ION\n",
      "2023-06-20 16:29:44,290 — root — INFO — autocontrast:4061 — Autocontrast: BeamType.ELECTRON\n",
      "2023-06-20 16:29:44,293 — root — INFO — acquire_image:4039 — Acquiring image: BeamType.ELECTRON\n",
      "2023-06-20 16:29:44,316 — root — INFO — autocontrast:4061 — Autocontrast: BeamType.ION\n",
      "2023-06-20 16:29:44,319 — root — INFO — acquire_image:4039 — Acquiring image: BeamType.ION\n"
     ]
    }
   ],
   "source": [
    "%load_ext autoreload\n",
    "%autoreload 2\n",
    "\n",
    "from fibsem import utils, acquire, patterning, milling\n",
    "from fibsem.structures import BeamType, FibsemStagePosition, Point\n",
    "from fibsem.patterning import FibsemMillingStage\n",
    "\n",
    "from pprint import pprint\n",
    "import numpy as np\n",
    "import matplotlib.pyplot as plt\n",
    "\n",
    "\n",
    "from fibsem.microscope import FibsemMicroscope\n",
    "from fibsem.structures import MicroscopeSettings\n",
    "from autolamella.structures import Lamella, Experiment, AutoLamellaStage\n",
    "\n",
    "from copy import deepcopy\n",
    "import os\n",
    "\n",
    "\n",
    "\n",
    "from autolamella import waffle as wfl\n",
    "\n",
    "PROTOCOL_PATH = r\"C:\\Users\\pcle0002\\Documents\\repos\\autolamella\\autolamella\\protocol_waffle.yaml\"\n",
    "microscope, settings = utils.setup_session(manufacturer=\"Demo\", protocol_path=PROTOCOL_PATH)\n",
    "\n",
    "PATH = os.path.join(os.getcwd(), \"waffle\")\n",
    "\n",
    "experiment = Experiment(path=PATH, name=f\"waffle-demo-{utils.current_timestamp()}\")\n",
    "\n",
    "print(experiment)\n",
    "\n",
    "experiment = wfl.select_positions(microscope, settings, experiment)\n",
    "\n",
    "# print(experiment)\n",
    "experiment.save()"
   ]
  },
  {
   "cell_type": "code",
   "execution_count": null,
   "metadata": {},
   "outputs": [],
   "source": []
  },
  {
   "cell_type": "code",
   "execution_count": 12,
   "metadata": {},
   "outputs": [
    {
     "name": "stdout",
     "output_type": "stream",
     "text": [
      "crack-drake AutoLamellaWaffleStage.MillTrench\n",
      "2023-06-20 16:33:27,458 — root — INFO — start_of_stage_update:114 — STATUS | crack-drake | AutoLamellaWaffleStage.MillTrench | STARTED\n",
      "FibsemMillingStage(name='Trench 01', num=0, milling=FibsemMillingSettings(milling_current=2e-09, spot_size=5e-08, rate=0.003, dwell_time=1e-06, hfw=0.00015, patterning_mode='Serial', application_file='Si', preset='30 keV; UHR imaging'), pattern=TrenchPattern(name='Trench', required_keys=('lamella_width', 'lamella_height', 'trench_height', 'size_ratio', 'offset', 'depth'), point=Point(x=0.0, y=0.0)))\n",
      "2023-06-20 16:33:27,466 — root — INFO — setup_milling:4197 — Setting up milling: Serial, FibsemMillingSettings(milling_current=2e-09, spot_size=5e-08, rate=0.003, dwell_time=1e-06, hfw=0.00015, patterning_mode='Serial', application_file='Si', preset='30 keV; UHR imaging')\n",
      "2023-06-20 16:33:27,471 — root — INFO — draw_rectangle:4210 — Drawing rectangle: FibsemPatternSettings(pattern=FibsemPattern.Rectangle, width=1e-05, height=1e-05, depth=1e-06, rotation=0.0, centre_x=0.0, centre_y=-7.500000000000001e-06, scan_direction=BottomToTop, cleaning_cross_section=True)\n",
      "2023-06-20 16:33:27,473 — root — INFO — draw_rectangle:4210 — Drawing rectangle: FibsemPatternSettings(pattern=FibsemPattern.Rectangle, width=1e-05, height=1e-05, depth=1e-06, rotation=0.0, centre_x=0.0, centre_y=7.500000000000001e-06, scan_direction=TopToBottom, cleaning_cross_section=True)\n",
      "2023-06-20 16:33:27,478 — root — INFO — run_milling:4201 — Running milling: 2.00e-09, False\n",
      "2023-06-20 16:33:32,488 — root — INFO — finish_milling:75 — Changing to Imaging Settings\n",
      "2023-06-20 16:33:32,491 — root — INFO — finish_milling:4207 — Finishing milling: 2.00e-11\n",
      "2023-06-20 16:33:32,494 — root — INFO — finish_milling:77 — Finished Ion Beam Milling.\n",
      "--------------------------------------------------------------------------------\n",
      "2023-06-20 16:33:32,497 — root — INFO — autocontrast:4061 — Autocontrast: BeamType.ELECTRON\n",
      "2023-06-20 16:33:32,500 — root — INFO — acquire_image:4039 — Acquiring image: BeamType.ELECTRON\n",
      "2023-06-20 16:33:32,549 — root — INFO — autocontrast:4061 — Autocontrast: BeamType.ION\n",
      "2023-06-20 16:33:32,552 — root — INFO — acquire_image:4039 — Acquiring image: BeamType.ION\n",
      "2023-06-20 16:33:32,575 — root — INFO — get_current_microscope_state:4090 — Getting microscope state\n",
      "2023-06-20 16:33:32,655 — root — INFO — end_of_stage_update:92 — STATUS | crack-drake | AutoLamellaWaffleStage.MillTrench | FINISHED\n",
      "AutoLamellaWaffleStage.MillTrench\n",
      "--------------------------------------------------------------------------------\n",
      "awake-bear AutoLamellaWaffleStage.MillTrench\n",
      "2023-06-20 16:33:32,659 — root — INFO — start_of_stage_update:114 — STATUS | awake-bear | AutoLamellaWaffleStage.MillTrench | STARTED\n",
      "FibsemMillingStage(name='Trench 01', num=0, milling=FibsemMillingSettings(milling_current=2e-09, spot_size=5e-08, rate=0.003, dwell_time=1e-06, hfw=0.00015, patterning_mode='Serial', application_file='Si', preset='30 keV; UHR imaging'), pattern=TrenchPattern(name='Trench', required_keys=('lamella_width', 'lamella_height', 'trench_height', 'size_ratio', 'offset', 'depth'), point=Point(x=0.0, y=0.0)))\n",
      "2023-06-20 16:33:32,664 — root — INFO — setup_milling:4197 — Setting up milling: Serial, FibsemMillingSettings(milling_current=2e-09, spot_size=5e-08, rate=0.003, dwell_time=1e-06, hfw=0.00015, patterning_mode='Serial', application_file='Si', preset='30 keV; UHR imaging')\n",
      "2023-06-20 16:33:32,667 — root — INFO — draw_rectangle:4210 — Drawing rectangle: FibsemPatternSettings(pattern=FibsemPattern.Rectangle, width=1e-05, height=1e-05, depth=1e-06, rotation=0.0, centre_x=0.0, centre_y=-7.500000000000001e-06, scan_direction=BottomToTop, cleaning_cross_section=True)\n",
      "2023-06-20 16:33:32,671 — root — INFO — draw_rectangle:4210 — Drawing rectangle: FibsemPatternSettings(pattern=FibsemPattern.Rectangle, width=1e-05, height=1e-05, depth=1e-06, rotation=0.0, centre_x=0.0, centre_y=7.500000000000001e-06, scan_direction=TopToBottom, cleaning_cross_section=True)\n",
      "2023-06-20 16:33:32,674 — root — INFO — run_milling:4201 — Running milling: 2.00e-09, False\n",
      "2023-06-20 16:33:34,687 — root — INFO — finish_milling:75 — Changing to Imaging Settings\n",
      "2023-06-20 16:33:34,689 — root — INFO — finish_milling:4207 — Finishing milling: 2.00e-11\n",
      "2023-06-20 16:33:34,692 — root — INFO — finish_milling:77 — Finished Ion Beam Milling.\n",
      "--------------------------------------------------------------------------------\n",
      "2023-06-20 16:33:34,697 — root — INFO — autocontrast:4061 — Autocontrast: BeamType.ELECTRON\n",
      "2023-06-20 16:33:34,699 — root — INFO — acquire_image:4039 — Acquiring image: BeamType.ELECTRON\n",
      "2023-06-20 16:33:34,750 — root — INFO — autocontrast:4061 — Autocontrast: BeamType.ION\n",
      "2023-06-20 16:33:34,753 — root — INFO — acquire_image:4039 — Acquiring image: BeamType.ION\n",
      "2023-06-20 16:33:34,776 — root — INFO — get_current_microscope_state:4090 — Getting microscope state\n",
      "2023-06-20 16:33:34,855 — root — INFO — end_of_stage_update:92 — STATUS | awake-bear | AutoLamellaWaffleStage.MillTrench | FINISHED\n",
      "AutoLamellaWaffleStage.MillTrench\n",
      "--------------------------------------------------------------------------------\n",
      "amazed-marlin AutoLamellaWaffleStage.MillTrench\n",
      "2023-06-20 16:33:34,863 — root — INFO — start_of_stage_update:114 — STATUS | amazed-marlin | AutoLamellaWaffleStage.MillTrench | STARTED\n",
      "FibsemMillingStage(name='Trench 01', num=0, milling=FibsemMillingSettings(milling_current=2e-09, spot_size=5e-08, rate=0.003, dwell_time=1e-06, hfw=0.00015, patterning_mode='Serial', application_file='Si', preset='30 keV; UHR imaging'), pattern=TrenchPattern(name='Trench', required_keys=('lamella_width', 'lamella_height', 'trench_height', 'size_ratio', 'offset', 'depth'), point=Point(x=0.0, y=0.0)))\n",
      "2023-06-20 16:33:34,867 — root — INFO — setup_milling:4197 — Setting up milling: Serial, FibsemMillingSettings(milling_current=2e-09, spot_size=5e-08, rate=0.003, dwell_time=1e-06, hfw=0.00015, patterning_mode='Serial', application_file='Si', preset='30 keV; UHR imaging')\n",
      "2023-06-20 16:33:34,869 — root — INFO — draw_rectangle:4210 — Drawing rectangle: FibsemPatternSettings(pattern=FibsemPattern.Rectangle, width=1e-05, height=1e-05, depth=1e-06, rotation=0.0, centre_x=0.0, centre_y=-7.500000000000001e-06, scan_direction=BottomToTop, cleaning_cross_section=True)\n",
      "2023-06-20 16:33:34,871 — root — INFO — draw_rectangle:4210 — Drawing rectangle: FibsemPatternSettings(pattern=FibsemPattern.Rectangle, width=1e-05, height=1e-05, depth=1e-06, rotation=0.0, centre_x=0.0, centre_y=7.500000000000001e-06, scan_direction=TopToBottom, cleaning_cross_section=True)\n",
      "2023-06-20 16:33:34,872 — root — INFO — run_milling:4201 — Running milling: 2.00e-09, False\n",
      "2023-06-20 16:33:38,878 — root — INFO — finish_milling:75 — Changing to Imaging Settings\n",
      "2023-06-20 16:33:38,882 — root — INFO — finish_milling:4207 — Finishing milling: 2.00e-11\n",
      "2023-06-20 16:33:38,887 — root — INFO — finish_milling:77 — Finished Ion Beam Milling.\n",
      "--------------------------------------------------------------------------------\n",
      "2023-06-20 16:33:38,893 — root — INFO — autocontrast:4061 — Autocontrast: BeamType.ELECTRON\n",
      "2023-06-20 16:33:38,899 — root — INFO — acquire_image:4039 — Acquiring image: BeamType.ELECTRON\n",
      "2023-06-20 16:33:38,955 — root — INFO — autocontrast:4061 — Autocontrast: BeamType.ION\n",
      "2023-06-20 16:33:38,960 — root — INFO — acquire_image:4039 — Acquiring image: BeamType.ION\n",
      "2023-06-20 16:33:38,988 — root — INFO — get_current_microscope_state:4090 — Getting microscope state\n",
      "2023-06-20 16:33:39,083 — root — INFO — end_of_stage_update:92 — STATUS | amazed-marlin | AutoLamellaWaffleStage.MillTrench | FINISHED\n",
      "AutoLamellaWaffleStage.MillTrench\n",
      "--------------------------------------------------------------------------------\n"
     ]
    }
   ],
   "source": [
    "from autolamella.structures import AutoLamellaWaffleStage\n",
    "\n",
    "\n",
    "for lamella in experiment.positions:\n",
    "\n",
    "    print(lamella._petname, lamella.state.stage)\n",
    "\n",
    "    lamella = wfl.start_of_stage_update(microscope, lamella, AutoLamellaWaffleStage.MillTrench)\n",
    "\n",
    "    lamella = wfl.mill_trench(microscope, settings, lamella)\n",
    "\n",
    "    experiment = wfl.end_of_stage_update(microscope, experiment, lamella)\n",
    "    print(experiment.positions[0].state.stage)\n",
    "\n",
    "    print(\"-\"*80)\n",
    "\n",
    "\n"
   ]
  },
  {
   "cell_type": "code",
   "execution_count": 9,
   "metadata": {},
   "outputs": [
    {
     "name": "stdout",
     "output_type": "stream",
     "text": [
      "Experiment: \n",
      "        Path: c:\\Users\\pcle0002\\Documents\\repos\\autolamella\\autolamella\\waffle\\waffle-demo-2023-06-20-04-29-39PM\n",
      "        Positions: 3\n",
      "        \n",
      "Experiment: \n",
      "        Path: c:\\Users\\pcle0002\\Documents\\repos\\autolamella\\autolamella\\waffle\\waffle-demo-2023-06-20-04-29-39PM\n",
      "        Positions: 3\n",
      "        \n"
     ]
    }
   ],
   "source": [
    "EXP_PATH = r\"C:\\Users\\pcle0002\\Documents\\repos\\autolamella\\autolamella\\waffle\\waffle-demo-2023-06-20-04-29-39PM\"\n",
    "\n",
    "exp = Experiment.load(os.path.join(EXP_PATH, \"experiment.yaml\"))\n",
    "\n",
    "print(exp)\n",
    "print(experiment)"
   ]
  },
  {
   "cell_type": "code",
   "execution_count": 11,
   "metadata": {},
   "outputs": [
    {
     "name": "stdout",
     "output_type": "stream",
     "text": [
      "crack-drake AutoLamellaWaffleStage.MillTrench\n",
      "awake-bear AutoLamellaWaffleStage.MillTrench\n",
      "amazed-marlin AutoLamellaWaffleStage.MillTrench\n"
     ]
    }
   ],
   "source": [
    "for lamella in experiment.positions:\n",
    "    print(lamella._petname, lamella.state.stage)"
   ]
  },
  {
   "cell_type": "code",
   "execution_count": null,
   "metadata": {},
   "outputs": [],
   "source": []
  }
 ],
 "metadata": {
  "kernelspec": {
   "display_name": "fibsem",
   "language": "python",
   "name": "python3"
  },
  "language_info": {
   "codemirror_mode": {
    "name": "ipython",
    "version": 3
   },
   "file_extension": ".py",
   "mimetype": "text/x-python",
   "name": "python",
   "nbconvert_exporter": "python",
   "pygments_lexer": "ipython3",
   "version": "3.9.16"
  },
  "orig_nbformat": 4
 },
 "nbformat": 4,
 "nbformat_minor": 2
}
