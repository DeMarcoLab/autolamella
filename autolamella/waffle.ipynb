{
 "cells": [
  {
   "attachments": {},
   "cell_type": "markdown",
   "metadata": {},
   "source": [
    "## Waffle Method Integration\n",
    "\n"
   ]
  },
  {
   "cell_type": "code",
   "execution_count": null,
   "metadata": {},
   "outputs": [],
   "source": [
    "%load_ext autoreload\n",
    "%autoreload 2\n",
    "\n",
    "from fibsem import utils, acquire, patterning, milling\n",
    "from fibsem.structures import BeamType, FibsemStagePosition, Point\n",
    "from fibsem.patterning import FibsemMillingStage\n",
    "\n",
    "from pprint import pprint\n",
    "import numpy as np\n",
    "import matplotlib.pyplot as plt\n",
    "\n",
    "\n",
    "from fibsem.microscope import FibsemMicroscope\n",
    "from fibsem.structures import MicroscopeSettings\n",
    "from autolamella.structures import Lamella, Experiment, AutoLamellaStage\n",
    "\n",
    "from copy import deepcopy\n",
    "import os\n",
    "\n"
   ]
  },
  {
   "cell_type": "code",
   "execution_count": null,
   "metadata": {},
   "outputs": [],
   "source": []
  },
  {
   "attachments": {},
   "cell_type": "markdown",
   "metadata": {},
   "source": [
    "### Method\n",
    "\n",
    "1. Select Lamella Position\n",
    "2. Move Flat to Ion Beam\n",
    "3. Mill Trench \n",
    "4. Take Reference Images\n",
    "5. Move Flat to Electron Beam\n",
    "6. Align to Reference Images\n",
    "7. Take Reference Images\n",
    "9. Tilt Stage to Milling Angle (18deg)?\n",
    "10. Align to Tilted Reference Images\n",
    "11. Mill Fiducial?\n",
    "12. Mill Lamella (Mill trench -> Align -> Repeat)"
   ]
  },
  {
   "attachments": {},
   "cell_type": "markdown",
   "metadata": {},
   "source": [
    "### Experiment\n"
   ]
  },
  {
   "cell_type": "code",
   "execution_count": null,
   "metadata": {},
   "outputs": [],
   "source": [
    "\n"
   ]
  },
  {
   "attachments": {},
   "cell_type": "markdown",
   "metadata": {},
   "source": [
    "#### Setup \n",
    "Select Lamella Positions"
   ]
  },
  {
   "cell_type": "code",
   "execution_count": 13,
   "metadata": {},
   "outputs": [
    {
     "name": "stdout",
     "output_type": "stream",
     "text": [
      "The autoreload extension is already loaded. To reload it, use:\n",
      "  %reload_ext autoreload\n",
      "2023-06-20 16:38:07,768 — root — INFO — connect_to_microscope:4026 — Connected to Demo Microscope\n",
      "2023-06-20 16:38:07,773 — root — INFO — connect_to_microscope:4027 — Microscope client connected to model Demo with serial number 123456 and software version 0.1\n",
      "2023-06-20 16:38:07,776 — root — INFO — setup_session:229 — Finished setup for session: autolamella_demo_2023-06-20-04-38-07PM\n",
      "Experiment: \n",
      "        Path: c:\\Users\\pcle0002\\Documents\\repos\\autolamella\\autolamella\\waffle\\waffle-demo-2023-06-20-04-38-07PM\n",
      "        Positions: 0\n",
      "        \n",
      "2023-06-20 16:38:07,786 — root — INFO — move_flat_to_beam:4140 — Moving stage: Flat to ION beam, r=52.00, t=52.00)\n",
      "2023-06-20 16:38:13,931 — root — INFO — get_current_microscope_state:4090 — Getting microscope state\n",
      "2023-06-20 16:38:13,935 — root — INFO — autocontrast:4061 — Autocontrast: BeamType.ELECTRON\n",
      "2023-06-20 16:38:13,938 — root — INFO — acquire_image:4039 — Acquiring image: BeamType.ELECTRON\n",
      "2023-06-20 16:38:13,961 — root — INFO — autocontrast:4061 — Autocontrast: BeamType.ION\n",
      "2023-06-20 16:38:13,964 — root — INFO — acquire_image:4039 — Acquiring image: BeamType.ION\n",
      "2023-06-20 16:38:13,985 — root — INFO — autocontrast:4061 — Autocontrast: BeamType.ELECTRON\n",
      "2023-06-20 16:38:13,990 — root — INFO — acquire_image:4039 — Acquiring image: BeamType.ELECTRON\n",
      "2023-06-20 16:38:14,023 — root — INFO — autocontrast:4061 — Autocontrast: BeamType.ION\n",
      "2023-06-20 16:38:14,026 — root — INFO — acquire_image:4039 — Acquiring image: BeamType.ION\n",
      "2023-06-20 16:38:15,189 — root — INFO — get_current_microscope_state:4090 — Getting microscope state\n",
      "2023-06-20 16:38:15,192 — root — INFO — autocontrast:4061 — Autocontrast: BeamType.ELECTRON\n",
      "2023-06-20 16:38:15,195 — root — INFO — acquire_image:4039 — Acquiring image: BeamType.ELECTRON\n",
      "2023-06-20 16:38:15,220 — root — INFO — autocontrast:4061 — Autocontrast: BeamType.ION\n",
      "2023-06-20 16:38:15,222 — root — INFO — acquire_image:4039 — Acquiring image: BeamType.ION\n",
      "2023-06-20 16:38:15,251 — root — INFO — autocontrast:4061 — Autocontrast: BeamType.ELECTRON\n",
      "2023-06-20 16:38:15,255 — root — INFO — acquire_image:4039 — Acquiring image: BeamType.ELECTRON\n",
      "2023-06-20 16:38:15,288 — root — INFO — autocontrast:4061 — Autocontrast: BeamType.ION\n",
      "2023-06-20 16:38:15,291 — root — INFO — acquire_image:4039 — Acquiring image: BeamType.ION\n"
     ]
    }
   ],
   "source": [
    "%load_ext autoreload\n",
    "%autoreload 2\n",
    "\n",
    "from fibsem import utils, acquire, patterning, milling\n",
    "from fibsem.structures import BeamType, FibsemStagePosition, Point\n",
    "from fibsem.patterning import FibsemMillingStage\n",
    "\n",
    "from pprint import pprint\n",
    "import numpy as np\n",
    "import matplotlib.pyplot as plt\n",
    "\n",
    "\n",
    "from fibsem.microscope import FibsemMicroscope\n",
    "from fibsem.structures import MicroscopeSettings\n",
    "from autolamella.structures import Lamella, Experiment, AutoLamellaStage\n",
    "\n",
    "from copy import deepcopy\n",
    "import os\n",
    "\n",
    "from autolamella import waffle as wfl\n",
    "\n",
    "PROTOCOL_PATH = r\"C:\\Users\\pcle0002\\Documents\\repos\\autolamella\\autolamella\\protocol_waffle.yaml\"\n",
    "microscope, settings = utils.setup_session(manufacturer=\"Demo\", protocol_path=PROTOCOL_PATH)\n",
    "\n",
    "PATH = os.path.join(os.getcwd(), \"waffle\")\n",
    "\n",
    "experiment = Experiment(path=PATH, name=f\"waffle-demo-{utils.current_timestamp()}\")\n",
    "\n",
    "print(experiment)\n",
    "\n",
    "experiment = wfl.select_positions(microscope, settings, experiment)\n",
    "\n",
    "# print(experiment)\n",
    "experiment.save()"
   ]
  },
  {
   "cell_type": "code",
   "execution_count": 14,
   "metadata": {},
   "outputs": [
    {
     "name": "stdout",
     "output_type": "stream",
     "text": [
      "2023-06-20 16:39:23,574 — root — INFO — start_of_stage_update:106 — tidy-crow restarting from end of stage: Setup\n",
      "2023-06-20 16:39:23,576 — root — INFO — move_stage_absolute:4095 — Moving stage: FibsemStagePosition(x=0, y=0, z=0, r=0.9075712110370514, t=0.9075712110370514, coordinate_system=None) (Absolute)\n",
      "2023-06-20 16:39:23,584 — root — INFO — set_microscope_state:4329 — Setting microscope state\n",
      "2023-06-20 16:39:23,588 — root — INFO — start_of_stage_update:114 — STATUS | tidy-crow | AutoLamellaWaffleStage.MillTrench | STARTED\n",
      "FibsemMillingStage(name='Trench 01', num=0, milling=FibsemMillingSettings(milling_current=2e-09, spot_size=5e-08, rate=0.003, dwell_time=1e-06, hfw=0.00015, patterning_mode='Serial', application_file='Si', preset='30 keV; UHR imaging'), pattern=TrenchPattern(name='Trench', required_keys=('lamella_width', 'lamella_height', 'trench_height', 'size_ratio', 'offset', 'depth'), point=Point(x=0.0, y=0.0)))\n",
      "2023-06-20 16:39:23,589 — root — INFO — setup_milling:4197 — Setting up milling: Serial, FibsemMillingSettings(milling_current=2e-09, spot_size=5e-08, rate=0.003, dwell_time=1e-06, hfw=0.00015, patterning_mode='Serial', application_file='Si', preset='30 keV; UHR imaging')\n",
      "2023-06-20 16:39:23,594 — root — INFO — draw_rectangle:4210 — Drawing rectangle: FibsemPatternSettings(pattern=FibsemPattern.Rectangle, width=1e-05, height=1e-05, depth=1e-06, rotation=0.0, centre_x=0.0, centre_y=-7.500000000000001e-06, scan_direction=BottomToTop, cleaning_cross_section=True)\n",
      "2023-06-20 16:39:23,600 — root — INFO — draw_rectangle:4210 — Drawing rectangle: FibsemPatternSettings(pattern=FibsemPattern.Rectangle, width=1e-05, height=1e-05, depth=1e-06, rotation=0.0, centre_x=0.0, centre_y=7.500000000000001e-06, scan_direction=TopToBottom, cleaning_cross_section=True)\n",
      "2023-06-20 16:39:23,606 — root — INFO — run_milling:4201 — Running milling: 2.00e-09, False\n",
      "2023-06-20 16:39:24,607 — root — INFO — finish_milling:75 — Changing to Imaging Settings\n",
      "2023-06-20 16:39:24,610 — root — INFO — finish_milling:4207 — Finishing milling: 2.00e-11\n",
      "2023-06-20 16:39:24,614 — root — INFO — finish_milling:77 — Finished Ion Beam Milling.\n",
      "--------------------------------------------------------------------------------\n",
      "2023-06-20 16:39:24,618 — root — INFO — autocontrast:4061 — Autocontrast: BeamType.ELECTRON\n",
      "2023-06-20 16:39:24,622 — root — INFO — acquire_image:4039 — Acquiring image: BeamType.ELECTRON\n",
      "2023-06-20 16:39:24,681 — root — INFO — autocontrast:4061 — Autocontrast: BeamType.ION\n",
      "2023-06-20 16:39:24,683 — root — INFO — acquire_image:4039 — Acquiring image: BeamType.ION\n",
      "2023-06-20 16:39:24,718 — root — INFO — get_current_microscope_state:4090 — Getting microscope state\n",
      "2023-06-20 16:39:24,761 — root — INFO — end_of_stage_update:92 — STATUS | tidy-crow | AutoLamellaWaffleStage.MillTrench | FINISHED\n",
      "2023-06-20 16:39:24,765 — root — INFO — start_of_stage_update:106 — fluent-jennet restarting from end of stage: Setup\n",
      "2023-06-20 16:39:24,770 — root — INFO — move_stage_absolute:4095 — Moving stage: FibsemStagePosition(x=0, y=0, z=0, r=0.9075712110370514, t=0.9075712110370514, coordinate_system=None) (Absolute)\n",
      "2023-06-20 16:39:24,772 — root — INFO — set_microscope_state:4329 — Setting microscope state\n",
      "2023-06-20 16:39:24,775 — root — INFO — start_of_stage_update:114 — STATUS | fluent-jennet | AutoLamellaWaffleStage.MillTrench | STARTED\n",
      "FibsemMillingStage(name='Trench 01', num=0, milling=FibsemMillingSettings(milling_current=2e-09, spot_size=5e-08, rate=0.003, dwell_time=1e-06, hfw=0.00015, patterning_mode='Serial', application_file='Si', preset='30 keV; UHR imaging'), pattern=TrenchPattern(name='Trench', required_keys=('lamella_width', 'lamella_height', 'trench_height', 'size_ratio', 'offset', 'depth'), point=Point(x=0.0, y=0.0)))\n",
      "2023-06-20 16:39:24,781 — root — INFO — setup_milling:4197 — Setting up milling: Serial, FibsemMillingSettings(milling_current=2e-09, spot_size=5e-08, rate=0.003, dwell_time=1e-06, hfw=0.00015, patterning_mode='Serial', application_file='Si', preset='30 keV; UHR imaging')\n",
      "2023-06-20 16:39:24,785 — root — INFO — draw_rectangle:4210 — Drawing rectangle: FibsemPatternSettings(pattern=FibsemPattern.Rectangle, width=1e-05, height=1e-05, depth=1e-06, rotation=0.0, centre_x=0.0, centre_y=-7.500000000000001e-06, scan_direction=BottomToTop, cleaning_cross_section=True)\n",
      "2023-06-20 16:39:24,787 — root — INFO — draw_rectangle:4210 — Drawing rectangle: FibsemPatternSettings(pattern=FibsemPattern.Rectangle, width=1e-05, height=1e-05, depth=1e-06, rotation=0.0, centre_x=0.0, centre_y=7.500000000000001e-06, scan_direction=TopToBottom, cleaning_cross_section=True)\n",
      "2023-06-20 16:39:24,791 — root — INFO — run_milling:4201 — Running milling: 2.00e-09, False\n",
      "2023-06-20 16:39:28,801 — root — INFO — finish_milling:75 — Changing to Imaging Settings\n",
      "2023-06-20 16:39:28,803 — root — INFO — finish_milling:4207 — Finishing milling: 2.00e-11\n",
      "2023-06-20 16:39:28,804 — root — INFO — finish_milling:77 — Finished Ion Beam Milling.\n",
      "--------------------------------------------------------------------------------\n",
      "2023-06-20 16:39:28,806 — root — INFO — autocontrast:4061 — Autocontrast: BeamType.ELECTRON\n",
      "2023-06-20 16:39:28,808 — root — INFO — acquire_image:4039 — Acquiring image: BeamType.ELECTRON\n",
      "2023-06-20 16:39:28,866 — root — INFO — autocontrast:4061 — Autocontrast: BeamType.ION\n",
      "2023-06-20 16:39:28,871 — root — INFO — acquire_image:4039 — Acquiring image: BeamType.ION\n",
      "2023-06-20 16:39:28,902 — root — INFO — get_current_microscope_state:4090 — Getting microscope state\n",
      "2023-06-20 16:39:28,959 — root — INFO — end_of_stage_update:92 — STATUS | fluent-jennet | AutoLamellaWaffleStage.MillTrench | FINISHED\n"
     ]
    }
   ],
   "source": [
    "experiment = wfl.run_trench_milling(microscope, settings, experiment)"
   ]
  },
  {
   "cell_type": "code",
   "execution_count": 9,
   "metadata": {},
   "outputs": [
    {
     "name": "stdout",
     "output_type": "stream",
     "text": [
      "Experiment: \n",
      "        Path: c:\\Users\\pcle0002\\Documents\\repos\\autolamella\\autolamella\\waffle\\waffle-demo-2023-06-20-04-29-39PM\n",
      "        Positions: 3\n",
      "        \n",
      "Experiment: \n",
      "        Path: c:\\Users\\pcle0002\\Documents\\repos\\autolamella\\autolamella\\waffle\\waffle-demo-2023-06-20-04-29-39PM\n",
      "        Positions: 3\n",
      "        \n"
     ]
    }
   ],
   "source": [
    "# EXP_PATH = r\"C:\\Users\\pcle0002\\Documents\\repos\\autolamella\\autolamella\\waffle\\waffle-demo-2023-06-20-04-29-39PM\"\n",
    "\n",
    "# exp = Experiment.load(os.path.join(EXP_PATH, \"experiment.yaml\"))\n",
    "\n",
    "# print(exp)\n",
    "# print(experiment)"
   ]
  },
  {
   "cell_type": "code",
   "execution_count": 11,
   "metadata": {},
   "outputs": [
    {
     "name": "stdout",
     "output_type": "stream",
     "text": [
      "crack-drake AutoLamellaWaffleStage.MillTrench\n",
      "awake-bear AutoLamellaWaffleStage.MillTrench\n",
      "amazed-marlin AutoLamellaWaffleStage.MillTrench\n"
     ]
    }
   ],
   "source": []
  },
  {
   "cell_type": "code",
   "execution_count": null,
   "metadata": {},
   "outputs": [],
   "source": []
  },
  {
   "attachments": {},
   "cell_type": "markdown",
   "metadata": {},
   "source": [
    "## Serialisation / Positions\n",
    "\n"
   ]
  },
  {
   "cell_type": "code",
   "execution_count": 25,
   "metadata": {},
   "outputs": [
    {
     "name": "stdout",
     "output_type": "stream",
     "text": [
      "The autoreload extension is already loaded. To reload it, use:\n",
      "  %reload_ext autoreload\n",
      "2023-06-20 17:19:51,623 — root — INFO — connect_to_microscope:4026 — Connected to Demo Microscope\n",
      "2023-06-20 17:19:51,624 — root — INFO — connect_to_microscope:4027 — Microscope client connected to model Demo with serial number 123456 and software version 0.1\n",
      "2023-06-20 17:19:51,625 — root — INFO — setup_session:229 — Finished setup for session: autolamella_demo_2023-06-20-05-19-51PM\n"
     ]
    }
   ],
   "source": [
    "%load_ext autoreload\n",
    "%autoreload 2\n",
    "\n",
    "from fibsem import utils, acquire, patterning, milling\n",
    "from fibsem.structures import BeamType, FibsemStagePosition, Point\n",
    "from fibsem.patterning import FibsemMillingStage\n",
    "\n",
    "from pprint import pprint\n",
    "import numpy as np\n",
    "import matplotlib.pyplot as plt\n",
    "\n"
   ]
  },
  {
   "cell_type": "code",
   "execution_count": 29,
   "metadata": {},
   "outputs": [
    {
     "name": "stdout",
     "output_type": "stream",
     "text": [
      "2023-06-21 09:41:35,460 — root — INFO — connect_to_microscope:4026 — Connected to Demo Microscope\n",
      "2023-06-21 09:41:35,461 — root — INFO — connect_to_microscope:4027 — Microscope client connected to model Demo with serial number 123456 and software version 0.1\n",
      "2023-06-21 09:41:35,462 — root — INFO — setup_session:229 — Finished setup for session: autolamella_demo_2023-06-21-09-41-35AM\n",
      "--------------------------------------------------------------------------------\n",
      "[FibsemMillingStage(name='Autolamella 01', num=0, milling=FibsemMillingSettings(milling_current=2e-09, spot_size=5e-08, rate=0.003, dwell_time=1e-06, hfw=0.00015, patterning_mode='Serial', application_file='Si', preset='30 keV; UHR imaging'), pattern=TrenchPattern(name='Trench', required_keys=('lamella_width', 'lamella_height', 'trench_height', 'size_ratio', 'offset', 'depth'), point=Point(x=0.0, y=0.0))),\n",
      " FibsemMillingStage(name='Autolamella 02', num=1, milling=FibsemMillingSettings(milling_current=7.4e-10, spot_size=5e-08, rate=0.003, dwell_time=1e-06, hfw=0.00015, patterning_mode='Serial', application_file='Si', preset='30 keV; UHR imaging'), pattern=TrenchPattern(name='Trench', required_keys=('lamella_width', 'lamella_height', 'trench_height', 'size_ratio', 'offset', 'depth'), point=Point(x=0.0, y=0.0))),\n",
      " FibsemMillingStage(name='Autolamella 03', num=2, milling=FibsemMillingSettings(milling_current=6e-11, spot_size=5e-08, rate=0.003, dwell_time=1e-06, hfw=0.00015, patterning_mode='Serial', application_file='Si', preset='30 keV; UHR imaging'), pattern=TrenchPattern(name='Trench', required_keys=('lamella_width', 'lamella_height', 'trench_height', 'size_ratio', 'offset', 'depth'), point=Point(x=0.0, y=0.0)))]\n",
      "--------------------------------------------------------------------------------\n",
      "[FibsemMillingStage(name='Notch 01', num=0, milling=FibsemMillingSettings(milling_current=2e-09, spot_size=5e-08, rate=0.003, dwell_time=1e-06, hfw=0.00015, patterning_mode='Serial', application_file='Si', preset='30 keV; UHR imaging'), pattern=WaffleNotchPattern(name='WaffleNotch', required_keys=('vheight', 'vwidth', 'hheight', 'hwidth', 'depth', 'distance'), point=Point(x=0.0, y=0.0)))]\n",
      "--------------------------------------------------------------------------------\n",
      "[FibsemMillingStage(name='Trench 01', num=0, milling=FibsemMillingSettings(milling_current=2e-09, spot_size=5e-08, rate=0.003, dwell_time=1e-06, hfw=0.00015, patterning_mode='Serial', application_file='Si', preset='30 keV; UHR imaging'), pattern=TrenchPattern(name='Trench', required_keys=('lamella_width', 'lamella_height', 'trench_height', 'size_ratio', 'offset', 'depth'), point=Point(x=0.0, y=0.0)))]\n",
      "--------------------------------------------------------------------------------\n",
      "[FibsemMillingStage(name='Notch 01', num=0, milling=FibsemMillingSettings(milling_current=2e-09, spot_size=5e-08, rate=0.003, dwell_time=1e-06, hfw=0.00015, patterning_mode='Serial', application_file='Si', preset='30 keV; UHR imaging'), pattern=WaffleNotchPattern(name='WaffleNotch', required_keys=('vheight', 'vwidth', 'hheight', 'hwidth', 'depth', 'distance'), point=Point(x=0.0, y=0.0))),\n",
      " FibsemMillingStage(name='Autolamella 01', num=0, milling=FibsemMillingSettings(milling_current=2e-09, spot_size=5e-08, rate=0.003, dwell_time=1e-06, hfw=0.00015, patterning_mode='Serial', application_file='Si', preset='30 keV; UHR imaging'), pattern=TrenchPattern(name='Trench', required_keys=('lamella_width', 'lamella_height', 'trench_height', 'size_ratio', 'offset', 'depth'), point=Point(x=0.0, y=0.0))),\n",
      " FibsemMillingStage(name='Autolamella 02', num=1, milling=FibsemMillingSettings(milling_current=7.4e-10, spot_size=5e-08, rate=0.003, dwell_time=1e-06, hfw=0.00015, patterning_mode='Serial', application_file='Si', preset='30 keV; UHR imaging'), pattern=TrenchPattern(name='Trench', required_keys=('lamella_width', 'lamella_height', 'trench_height', 'size_ratio', 'offset', 'depth'), point=Point(x=0.0, y=0.0))),\n",
      " FibsemMillingStage(name='Autolamella 03', num=2, milling=FibsemMillingSettings(milling_current=6e-11, spot_size=5e-08, rate=0.003, dwell_time=1e-06, hfw=0.00015, patterning_mode='Serial', application_file='Si', preset='30 keV; UHR imaging'), pattern=TrenchPattern(name='Trench', required_keys=('lamella_width', 'lamella_height', 'trench_height', 'size_ratio', 'offset', 'depth'), point=Point(x=0.0, y=0.0)))]\n"
     ]
    }
   ],
   "source": [
    "# TODO: plot patterns on image\n",
    "PROTOCOL_PATH = r\"C:\\Users\\pcle0002\\Documents\\repos\\autolamella\\autolamella\\protocol_waffle.yaml\"\n",
    "microscope, settings = utils.setup_session(manufacturer=\"Demo\", protocol_path=PROTOCOL_PATH)\n",
    "\n",
    "# pprint(settings.protocol)\n",
    "print('-'*80)\n",
    "autolamella_stages = patterning._get_milling_stages(\"autolamella\", settings.protocol)\n",
    "\n",
    "pprint(autolamella_stages)\n",
    "\n",
    "print('-'*80)\n",
    "\n",
    "notch_stages = patterning._get_milling_stages(\"notch\", settings.protocol)\n",
    "\n",
    "pprint(notch_stages)\n",
    "\n",
    "print('-'*80)\n",
    "\n",
    "trench_stages = patterning._get_milling_stages(\"trench\", settings.protocol)\n",
    "\n",
    "pprint(trench_stages)\n",
    "\n",
    "print('-'*80)\n",
    "\n",
    "pprint(notch_stages + autolamella_stages)\n"
   ]
  },
  {
   "cell_type": "code",
   "execution_count": null,
   "metadata": {},
   "outputs": [],
   "source": []
  }
 ],
 "metadata": {
  "kernelspec": {
   "display_name": "fibsem",
   "language": "python",
   "name": "python3"
  },
  "language_info": {
   "codemirror_mode": {
    "name": "ipython",
    "version": 3
   },
   "file_extension": ".py",
   "mimetype": "text/x-python",
   "name": "python",
   "nbconvert_exporter": "python",
   "pygments_lexer": "ipython3",
   "version": "3.9.16"
  },
  "orig_nbformat": 4
 },
 "nbformat": 4,
 "nbformat_minor": 2
}
