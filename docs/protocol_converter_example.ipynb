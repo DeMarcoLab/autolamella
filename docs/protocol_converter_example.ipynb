{
 "cells": [
  {
   "attachments": {},
   "cell_type": "markdown",
   "metadata": {},
   "source": [
    "# Protocol Converter Example\n",
    "The new AutoLamella program utilises the OpenFIBSEM code package to build a more streamlined and robust automated lamella workflow that includes a new user interface. This updated AutoLamella program also includes a more intuitive system for the lamella protocol. AutoLamella protocol's should now be easier to make, without requiring any calculations. \n",
    "\n",
    "## The new protocol format\n",
    "![New Protocol Format](img/NewProtocolFormat.bmp)\n",
    "\n",
    "Each of the colours indicates a different protocol stage. In this case there are three: Rough Cut in yellow, Regular Cut in blue, and Polishing Cut in magenta. Additionally the optional microexpansion joints are indicated in yellow as they are milled during the Rough Cut stage if the user opts to use them. \n",
    "\n",
    "The Lamella width and height are indicated at the centre, and must be input for each protocol stage. The placement of each trench is based on two factors: the offset, and the trench height. For example, the Polishing Cut (magenta) has an offset of 0 as it is situated directly above and below the Lamella, and in our default protocol example, has a trench height of 1e-6m. The Regular Cut (blue) has an offset of 1e-6m, and a trench height of 2e-6m. Finally, the offset of the Rough Cut (yellow) is the cumulative trench height of the previous stages, 3e-6m; and has a trench height of 10e-6m. It should be mentioned that in practice the order of the protocol stages would be the reverse, as the stages are milled sequentially, it is just easier to explain in this manner. Additionally, if you would like overlap between stages, the offset of the stage simply needs to be less than the cumulative trench heights of the other stages.\n",
    "\n",
    "As previously mentioned the microexpansion joints are optional and can be enabled/disabled in within the UI. If they are enabled they must have the height, width, and distance from the Lamella within the protocol. The distance does NOT include the Lamella width itself, and is accounted for when milling.\n",
    "\n",
    "The fiducial requires the width and height of a rectangle, which will then be rotated +/- 45 degrees to create the 'X'. Currently the fiducial is hard coded to be milled approximately one fifth of way through the view from the left. A visual of a completed protocol working within the UI might look like so: \n",
    "\n",
    "![Protocol visual](img/ui.png)\n",
    "\n",
    "All milling operations for the fiducial and trenches must also contain the milling depth and current for each stage. The depth and current for the microexpansion joint is assumed to be the same as that of the first stage. Additionally, the number of attempts the program should make when attempting to align the imaging beam to the fiducial should be stored within the Lamella section of the protocol.\n",
    "\n",
    "Finally, here is what a completed protocol in the new format might look like as a .yaml file:\n",
    "\n",
    "![Protocol yaml file](img/protocol.png)\n",
    "\n",
    "## How to convert to the new protocol format\n",
    "A tool has been created to automatically convert an old protocol file to the new format. \n",
    "\n",
    "Simply navigate to the autolamella folder that contains protocol_converter.py in a terminal and write the following:"
   ]
  },
  {
   "attachments": {},
   "cell_type": "markdown",
   "metadata": {},
   "source": [
    "```shellscript\n",
    "python protocol_converter.py(\"path/old_protocol.yaml\", \"path/new_protocol.yaml\")\n",
    "```"
   ]
  },
  {
   "attachments": {},
   "cell_type": "markdown",
   "metadata": {},
   "source": [
    "The first argument refers to the curent file path of the old protocol yaml file. The second location indicates the file location you would like the converted protocol yaml file saved to."
   ]
  },
  {
   "cell_type": "markdown",
   "metadata": {},
   "source": []
  }
 ],
 "metadata": {
  "kernelspec": {
   "display_name": "fibsem",
   "language": "python",
   "name": "python3"
  },
  "language_info": {
   "codemirror_mode": {
    "name": "ipython",
    "version": 3
   },
   "file_extension": ".py",
   "mimetype": "text/x-python",
   "name": "python",
   "nbconvert_exporter": "python",
   "pygments_lexer": "ipython3",
   "version": "3.9.13"
  },
  "orig_nbformat": 4,
  "vscode": {
   "interpreter": {
    "hash": "0a2a3e79b4f176c2e070ce876a1bd3ff6703a5f7b6def63010d7eaaf622b9192"
   }
  }
 },
 "nbformat": 4,
 "nbformat_minor": 2
}
